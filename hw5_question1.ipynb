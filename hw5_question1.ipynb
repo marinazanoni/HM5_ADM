{
 "cells": [
  {
   "cell_type": "code",
   "execution_count": 1,
   "metadata": {},
   "outputs": [],
   "source": [
    "import os\n",
    "import pandas as pd\n",
    "import numpy as np\n",
    "import ijson\n",
    "import time\n",
    "from tqdm.notebook import tqdm\n",
    "import csv"
   ]
  },
  {
   "cell_type": "code",
   "execution_count": 2,
   "metadata": {},
   "outputs": [],
   "source": [
    "os.chdir('C:\\\\Users\\\\Jacopo\\\\Downloads\\\\ADM\\\\Homework 5')\n",
    "file_path = 'dblp.v12.json'"
   ]
  },
  {
   "cell_type": "code",
   "execution_count": 3,
   "metadata": {},
   "outputs": [],
   "source": [
    "PAPERS = []\n",
    "\n",
    "with open(file_path, \"rb\") as f:\n",
    "    for i, element in enumerate(ijson.items(f, \"item\")):\n",
    "        paper = {}\n",
    "        paper['id'] = element['id']\n",
    "        paper['title'] = element['title']\n",
    "\n",
    "        authors = element.get('authors')\n",
    "        if authors:\n",
    "            paper['num_authors'] = len(authors)\n",
    "            # joining all authors in a list\n",
    "            paper['authors'] = [auth for auth in authors]\n",
    "        \n",
    "        year = element.get('year')\n",
    "        if year:\n",
    "            paper['year'] = year\n",
    "        else:\n",
    "            paper['year'] = np.nan\n",
    "        \n",
    "        n_citation = element.get('n_citation')\n",
    "        if n_citation:\n",
    "             paper['n_citation'] = element['n_citation']\n",
    "        else:\n",
    "            paper['n_citation'] = 0\n",
    "        \n",
    "        doc_type = element.get('doc_type') \n",
    "        if doc_type:\n",
    "            paper['doc_type'] = element['doc_type']\n",
    "        else:\n",
    "            paper['doc_type'] = np.nan      \n",
    "\n",
    "        references = element.get('references')\n",
    "        if references:\n",
    "            paper['reference_count'] = len(references)\n",
    "            # joining all refs id in a `;` separated string  \n",
    "            paper['references'] = ';'.join([str(int(r)) for r in references])\n",
    "        else:\n",
    "            paper['reference_count'] = np.nan \n",
    "            paper['references'] = np.nan\n",
    "        \n",
    "        doi = element.get('doi')\n",
    "        if doi:\n",
    "            paper['doi'] = f\"https://doi.org/{element['doi']}\"\n",
    "        else:\n",
    "            paper['doi'] = np.nan               \n",
    "        \n",
    "        PAPERS.append(paper)\n",
    "\n",
    "data = pd.DataFrame(PAPERS)\n",
    "data.to_csv(\"citations_dataset.csv\", index=False)"
   ]
  }
 ],
 "metadata": {
  "kernelspec": {
   "display_name": "Python 3",
   "language": "python",
   "name": "python3"
  },
  "language_info": {
   "codemirror_mode": {
    "name": "ipython",
    "version": 3
   },
   "file_extension": ".py",
   "mimetype": "text/x-python",
   "name": "python",
   "nbconvert_exporter": "python",
   "pygments_lexer": "ipython3",
   "version": "3.10.7"
  }
 },
 "nbformat": 4,
 "nbformat_minor": 2
}
