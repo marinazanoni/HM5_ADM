{
  "cells": [
    {
      "cell_type": "markdown",
      "metadata": {
        "id": "pLfqJ1YEKoVj"
      },
      "source": [
        "# Question 1 Homework 5 ADM"
      ]
    },
    {
      "cell_type": "markdown",
      "metadata": {
        "id": "H1Q8UlyqKoVk"
      },
      "source": [
        "## Prelimiar activities"
      ]
    },
    {
      "cell_type": "code",
      "execution_count": 86,
      "metadata": {
        "id": "5stN5XVBKoVl"
      },
      "outputs": [],
      "source": [
        "import os\n",
        "import pandas as pd\n",
        "import numpy as np\n",
        "#import ijson   #uncomment before deliver\n",
        "import time\n",
        "from tqdm.notebook import tqdm\n",
        "import csv\n",
        "import json\n",
        "import random\n",
        "import networkx as nx\n",
        "import numpy as np\n",
        "import matplotlib.pyplot as plt\n",
        "import heapq\n",
        "from sortedcontainers import SortedList\n",
        "import itertools\n",
        "import networkx as nx\n",
        "import matplotlib.pyplot as plt\n",
        "import ast\n",
        "from collections import defaultdict\n",
        "import ast\n",
        "from itertools import combinations\n",
        "from tabulate import tabulate\n",
        "\n"
      ]
    },
    {
      "cell_type": "code",
      "execution_count": 4,
      "metadata": {
        "id": "47X3DKJ7KoVl"
      },
      "outputs": [],
      "source": [
        "os.chdir('/home/laura/Data_Science/ADM/HMW5')\n",
        "#file_path = 'dblp.v12.json'"
      ]
    },
    {
      "cell_type": "code",
      "execution_count": null,
      "metadata": {
        "colab": {
          "base_uri": "https://localhost:8080/"
        },
        "id": "OgcDerOJOY6s",
        "outputId": "eb7ac7bc-1487-4487-8b5c-ccb0ec89feeb"
      },
      "outputs": [],
      "source": [
        "from google.colab import drive\n",
        "drive.mount('/content/drive')"
      ]
    },
    {
      "cell_type": "markdown",
      "metadata": {
        "id": "VfwgXrAYKoVm"
      },
      "source": [
        "primo metodo per leggere il dataset"
      ]
    },
    {
      "cell_type": "code",
      "execution_count": null,
      "metadata": {
        "id": "Un_KBpmkKoVm"
      },
      "outputs": [],
      "source": [
        "BATCH_SIZE = 10000  # Adjust the batch size as needed\n",
        "TOTAL_PAPERS = 3000000  # Update with the total number of papers\n",
        "\n",
        "# Initialize DataFrame columns\n",
        "columns = ['id', 'num_authors', 'authors', 'n_citation', 'reference_count', 'references']\n",
        "data_part1 = pd.DataFrame(columns=columns)\n",
        "data_part2 = pd.DataFrame(columns=columns)\n",
        "\n",
        "with open(file_path, \"rb\") as f:\n",
        "    batch = []\n",
        "\n",
        "    for i, element in tqdm(enumerate(ijson.items(f, \"item\")), desc=\"Processing Papers\", unit=\" papers\", total=TOTAL_PAPERS):\n",
        "        paper = {}\n",
        "        paper['id'] = element['id']\n",
        "\n",
        "        authors = element.get('authors')\n",
        "        if authors:\n",
        "            paper['num_authors'] = len(authors)\n",
        "            paper['authors'] = [auth for auth in authors]\n",
        "\n",
        "        n_citation = element.get('n_citation')\n",
        "        paper['n_citation'] = n_citation if n_citation else 0\n",
        "\n",
        "        references = element.get('references')\n",
        "        paper['reference_count'] = len(references) if references else np.nan\n",
        "        paper['references'] = references if references else np.nan\n",
        "\n",
        "        batch.append(paper)\n",
        "\n",
        "        if len(batch) == BATCH_SIZE:\n",
        "            if i < TOTAL_PAPERS / 2:\n",
        "                data_part1 = pd.concat([data_part1, pd.DataFrame(batch)], ignore_index=True)\n",
        "            else:\n",
        "                data_part2 = pd.concat([data_part2, pd.DataFrame(batch)], ignore_index=True)\n",
        "\n",
        "            batch = []\n",
        "\n",
        "    # Add the remaining papers in the last batch\n",
        "    if i < TOTAL_PAPERS / 2:\n",
        "        data_part1 = pd.concat([data_part1, pd.DataFrame(batch)], ignore_index=True)\n",
        "    else:\n",
        "        data_part2 = pd.concat([data_part2, pd.DataFrame(batch)], ignore_index=True)\n",
        "\n",
        "# Save the intermediate DataFrames to CSV files\n",
        "data_part1.to_csv(\"citations_dataset_part1.csv\", index=False)\n",
        "data_part2.to_csv(\"citations_dataset_part2.csv\", index=False)"
      ]
    },
    {
      "cell_type": "code",
      "execution_count": null,
      "metadata": {
        "id": "iqU0HEYeKoVn"
      },
      "outputs": [],
      "source": [
        "# Load the intermediate datasets\n",
        "data_part1 = pd.read_csv(\"citations_dataset_part1.csv\")\n",
        "data_part2 = pd.read_csv(\"citations_dataset_part2.csv\")\n",
        "\n",
        "# Merge the datasets\n",
        "final_data = pd.concat([data_part1, data_part2], ignore_index=True)\n",
        "\n",
        "# Save the final DataFrame to a CSV file\n",
        "final_data.to_csv(\"citations_dataset_final.csv\", index=False)"
      ]
    },
    {
      "cell_type": "markdown",
      "metadata": {
        "id": "D6QE_rPTKoVo"
      },
      "source": [
        "secondo metodo per leggere il dataset"
      ]
    },
    {
      "cell_type": "code",
      "execution_count": null,
      "metadata": {
        "id": "42tT1GulKoVp"
      },
      "outputs": [],
      "source": [
        "PAPERS = []\n",
        "BATCH_SIZE = 100000  # Adjust the batch size as needed\n",
        "\n",
        "with open(file_path, \"rb\") as f:\n",
        "    batch = []\n",
        "\n",
        "    # Wrap the loop with tqdm for a progress bar\n",
        "    for i, element in tqdm(enumerate(ijson.items(f, \"item\")), desc=\"Processing Papers\", unit=\" papers\"):\n",
        "        paper = {}\n",
        "        paper['id'] = element['id']\n",
        "\n",
        "        authors = element.get('authors')\n",
        "        if authors:\n",
        "            paper['num_authors'] = len(authors)\n",
        "            # joining all authors in a list\n",
        "            paper['authors'] = [auth for auth in authors]\n",
        "\n",
        "        n_citation = element.get('n_citation')\n",
        "        paper['n_citation'] = n_citation if n_citation else 0\n",
        "\n",
        "        references = element.get('references')\n",
        "        paper['reference_count'] = len(references) if references else np.nan\n",
        "        paper['references'] = references if references else np.nan\n",
        "\n",
        "        batch.append(paper)\n",
        "\n",
        "        if len(batch) == BATCH_SIZE:\n",
        "            PAPERS.extend(batch)\n",
        "            batch = []\n",
        "\n",
        "    # Add the remaining papers in the last batch\n",
        "    PAPERS.extend(batch)"
      ]
    },
    {
      "cell_type": "markdown",
      "metadata": {
        "id": "GMYX2rrFKoVq"
      },
      "source": [
        "da qui in poi codice valido per entrambi i metodi"
      ]
    },
    {
      "cell_type": "code",
      "execution_count": 5,
      "metadata": {
        "colab": {
          "base_uri": "https://localhost:8080/",
          "height": 424
        },
        "id": "MseWH5twHLKT",
        "outputId": "a8a9035b-2349-440d-ceea-379b4bb877e2"
      },
      "outputs": [
        {
          "data": {
            "text/html": [
              "<div>\n",
              "<style scoped>\n",
              "    .dataframe tbody tr th:only-of-type {\n",
              "        vertical-align: middle;\n",
              "    }\n",
              "\n",
              "    .dataframe tbody tr th {\n",
              "        vertical-align: top;\n",
              "    }\n",
              "\n",
              "    .dataframe thead th {\n",
              "        text-align: right;\n",
              "    }\n",
              "</style>\n",
              "<table border=\"1\" class=\"dataframe\">\n",
              "  <thead>\n",
              "    <tr style=\"text-align: right;\">\n",
              "      <th></th>\n",
              "      <th>id</th>\n",
              "      <th>num_authors</th>\n",
              "      <th>authors</th>\n",
              "      <th>n_citation</th>\n",
              "      <th>reference_count</th>\n",
              "      <th>references</th>\n",
              "    </tr>\n",
              "  </thead>\n",
              "  <tbody>\n",
              "    <tr>\n",
              "      <th>0</th>\n",
              "      <td>1091</td>\n",
              "      <td>8.0</td>\n",
              "      <td>[{'name': 'Makoto Satoh', 'org': 'Shinshu Univ...</td>\n",
              "      <td>1</td>\n",
              "      <td>2.0</td>\n",
              "      <td>[2005687710, 2018037215]</td>\n",
              "    </tr>\n",
              "    <tr>\n",
              "      <th>1</th>\n",
              "      <td>1388</td>\n",
              "      <td>1.0</td>\n",
              "      <td>[{'name': 'Pranava K. Jha', 'id': 2718958994}]</td>\n",
              "      <td>1</td>\n",
              "      <td>NaN</td>\n",
              "      <td>NaN</td>\n",
              "    </tr>\n",
              "    <tr>\n",
              "      <th>2</th>\n",
              "      <td>1674</td>\n",
              "      <td>2.0</td>\n",
              "      <td>[{'name': 'G. Beale', 'org': 'Archaeological C...</td>\n",
              "      <td>1</td>\n",
              "      <td>15.0</td>\n",
              "      <td>[1535888970, 1992876689, 1993710814, 203565334...</td>\n",
              "    </tr>\n",
              "    <tr>\n",
              "      <th>3</th>\n",
              "      <td>1688</td>\n",
              "      <td>4.0</td>\n",
              "      <td>[{'name': 'Altaf Hossain', 'org': 'Department ...</td>\n",
              "      <td>6</td>\n",
              "      <td>3.0</td>\n",
              "      <td>[1560724230, 1986968751, 2156909104]</td>\n",
              "    </tr>\n",
              "    <tr>\n",
              "      <th>4</th>\n",
              "      <td>5411</td>\n",
              "      <td>4.0</td>\n",
              "      <td>[{'name': 'Rafael Álvarez', 'id': 2125293936},...</td>\n",
              "      <td>0</td>\n",
              "      <td>NaN</td>\n",
              "      <td>NaN</td>\n",
              "    </tr>\n",
              "    <tr>\n",
              "      <th>...</th>\n",
              "      <td>...</td>\n",
              "      <td>...</td>\n",
              "      <td>...</td>\n",
              "      <td>...</td>\n",
              "      <td>...</td>\n",
              "      <td>...</td>\n",
              "    </tr>\n",
              "    <tr>\n",
              "      <th>4894076</th>\n",
              "      <td>99905544</td>\n",
              "      <td>5.0</td>\n",
              "      <td>[{'name': 'S. Nandagopalan', 'org': 'Dept. of ...</td>\n",
              "      <td>2</td>\n",
              "      <td>8.0</td>\n",
              "      <td>[1562217771, 1625504505, 2015022770, 210875170...</td>\n",
              "    </tr>\n",
              "    <tr>\n",
              "      <th>4894077</th>\n",
              "      <td>99884553</td>\n",
              "      <td>1.0</td>\n",
              "      <td>[{'name': 'Koen Cornelis Hubertus Blom', 'org'...</td>\n",
              "      <td>0</td>\n",
              "      <td>NaN</td>\n",
              "      <td>NaN</td>\n",
              "    </tr>\n",
              "    <tr>\n",
              "      <th>4894078</th>\n",
              "      <td>999847014</td>\n",
              "      <td>11.0</td>\n",
              "      <td>[{'name': 'Gert Læssøe Mikkelsen', 'org': 'Ale...</td>\n",
              "      <td>1</td>\n",
              "      <td>6.0</td>\n",
              "      <td>[1940933138, 1975620021, 1978183200, 209759592...</td>\n",
              "    </tr>\n",
              "    <tr>\n",
              "      <th>4894079</th>\n",
              "      <td>9990887</td>\n",
              "      <td>2.0</td>\n",
              "      <td>[{'name': 'Rajesh Natarajan', 'org': 'Indian I...</td>\n",
              "      <td>0</td>\n",
              "      <td>NaN</td>\n",
              "      <td>NaN</td>\n",
              "    </tr>\n",
              "    <tr>\n",
              "      <th>4894080</th>\n",
              "      <td>99956490</td>\n",
              "      <td>1.0</td>\n",
              "      <td>[{'name': 'Egon Börger', 'org': 'Institut für ...</td>\n",
              "      <td>0</td>\n",
              "      <td>3.0</td>\n",
              "      <td>[2032457623, 2094542439, 2114368612]</td>\n",
              "    </tr>\n",
              "  </tbody>\n",
              "</table>\n",
              "<p>4894081 rows × 6 columns</p>\n",
              "</div>"
            ],
            "text/plain": [
              "                id  num_authors  \\\n",
              "0             1091          8.0   \n",
              "1             1388          1.0   \n",
              "2             1674          2.0   \n",
              "3             1688          4.0   \n",
              "4             5411          4.0   \n",
              "...            ...          ...   \n",
              "4894076   99905544          5.0   \n",
              "4894077   99884553          1.0   \n",
              "4894078  999847014         11.0   \n",
              "4894079    9990887          2.0   \n",
              "4894080   99956490          1.0   \n",
              "\n",
              "                                                   authors  n_citation  \\\n",
              "0        [{'name': 'Makoto Satoh', 'org': 'Shinshu Univ...           1   \n",
              "1           [{'name': 'Pranava K. Jha', 'id': 2718958994}]           1   \n",
              "2        [{'name': 'G. Beale', 'org': 'Archaeological C...           1   \n",
              "3        [{'name': 'Altaf Hossain', 'org': 'Department ...           6   \n",
              "4        [{'name': 'Rafael Álvarez', 'id': 2125293936},...           0   \n",
              "...                                                    ...         ...   \n",
              "4894076  [{'name': 'S. Nandagopalan', 'org': 'Dept. of ...           2   \n",
              "4894077  [{'name': 'Koen Cornelis Hubertus Blom', 'org'...           0   \n",
              "4894078  [{'name': 'Gert Læssøe Mikkelsen', 'org': 'Ale...           1   \n",
              "4894079  [{'name': 'Rajesh Natarajan', 'org': 'Indian I...           0   \n",
              "4894080  [{'name': 'Egon Börger', 'org': 'Institut für ...           0   \n",
              "\n",
              "         reference_count                                         references  \n",
              "0                    2.0                           [2005687710, 2018037215]  \n",
              "1                    NaN                                                NaN  \n",
              "2                   15.0  [1535888970, 1992876689, 1993710814, 203565334...  \n",
              "3                    3.0               [1560724230, 1986968751, 2156909104]  \n",
              "4                    NaN                                                NaN  \n",
              "...                  ...                                                ...  \n",
              "4894076              8.0  [1562217771, 1625504505, 2015022770, 210875170...  \n",
              "4894077              NaN                                                NaN  \n",
              "4894078              6.0  [1940933138, 1975620021, 1978183200, 209759592...  \n",
              "4894079              NaN                                                NaN  \n",
              "4894080              3.0               [2032457623, 2094542439, 2114368612]  \n",
              "\n",
              "[4894081 rows x 6 columns]"
            ]
          },
          "execution_count": 5,
          "metadata": {},
          "output_type": "execute_result"
        }
      ],
      "source": [
        "dataset = pd.read_csv('citations_dataset_final.csv')\n",
        "dataset"
      ]
    },
    {
      "cell_type": "code",
      "execution_count": null,
      "metadata": {
        "id": "78J_sdUeKoVr"
      },
      "outputs": [],
      "source": [
        "dataset = pd.read_csv('/content/drive/MyDrive/HM5/citations_dataset_final.csv')\n",
        "dataset"
      ]
    },
    {
      "cell_type": "code",
      "execution_count": 6,
      "metadata": {
        "colab": {
          "base_uri": "https://localhost:8080/",
          "height": 424
        },
        "id": "S11dLmHLKoVr",
        "outputId": "f2c45316-7000-4a87-db3b-36349e126b18"
      },
      "outputs": [
        {
          "data": {
            "text/html": [
              "<div>\n",
              "<style scoped>\n",
              "    .dataframe tbody tr th:only-of-type {\n",
              "        vertical-align: middle;\n",
              "    }\n",
              "\n",
              "    .dataframe tbody tr th {\n",
              "        vertical-align: top;\n",
              "    }\n",
              "\n",
              "    .dataframe thead th {\n",
              "        text-align: right;\n",
              "    }\n",
              "</style>\n",
              "<table border=\"1\" class=\"dataframe\">\n",
              "  <thead>\n",
              "    <tr style=\"text-align: right;\">\n",
              "      <th></th>\n",
              "      <th>id</th>\n",
              "      <th>num_authors</th>\n",
              "      <th>authors</th>\n",
              "      <th>n_citation</th>\n",
              "      <th>reference_count</th>\n",
              "      <th>references</th>\n",
              "    </tr>\n",
              "  </thead>\n",
              "  <tbody>\n",
              "    <tr>\n",
              "      <th>0</th>\n",
              "      <td>2151103935</td>\n",
              "      <td>1.0</td>\n",
              "      <td>[{'name': 'David G. Lowe', 'org': 'Computer Sc...</td>\n",
              "      <td>35541</td>\n",
              "      <td>33.0</td>\n",
              "      <td>[19720318, 1541642243, 1560959218, 1676552347,...</td>\n",
              "    </tr>\n",
              "    <tr>\n",
              "      <th>1</th>\n",
              "      <td>2911964244</td>\n",
              "      <td>1.0</td>\n",
              "      <td>[{'name': 'Leo Breiman', 'org': 'Statistics De...</td>\n",
              "      <td>34741</td>\n",
              "      <td>11.0</td>\n",
              "      <td>[1507255258, 1580948147, 1605688901, 197584664...</td>\n",
              "    </tr>\n",
              "    <tr>\n",
              "      <th>2</th>\n",
              "      <td>2153635508</td>\n",
              "      <td>2.0</td>\n",
              "      <td>[{'name': 'Chih-Chung Chang', 'org': 'National...</td>\n",
              "      <td>31047</td>\n",
              "      <td>34.0</td>\n",
              "      <td>[1510526001, 1543810117, 1556115774, 156879334...</td>\n",
              "    </tr>\n",
              "    <tr>\n",
              "      <th>3</th>\n",
              "      <td>1791587663</td>\n",
              "      <td>1.0</td>\n",
              "      <td>[{'name': 'Fred D. Davis', 'org': 'Computer an...</td>\n",
              "      <td>25855</td>\n",
              "      <td>22.0</td>\n",
              "      <td>[157213131, 1520103841, 1778357938, 1972888601...</td>\n",
              "    </tr>\n",
              "    <tr>\n",
              "      <th>4</th>\n",
              "      <td>2119821739</td>\n",
              "      <td>2.0</td>\n",
              "      <td>[{'name': 'Corinna Cortes', 'org': 'AT&amp;T Bell ...</td>\n",
              "      <td>22276</td>\n",
              "      <td>3.0</td>\n",
              "      <td>[2087347434, 2154579312, 2168228682]</td>\n",
              "    </tr>\n",
              "    <tr>\n",
              "      <th>...</th>\n",
              "      <td>...</td>\n",
              "      <td>...</td>\n",
              "      <td>...</td>\n",
              "      <td>...</td>\n",
              "      <td>...</td>\n",
              "      <td>...</td>\n",
              "    </tr>\n",
              "    <tr>\n",
              "      <th>9995</th>\n",
              "      <td>2124827397</td>\n",
              "      <td>3.0</td>\n",
              "      <td>[{'name': 'Pawan Goyal', 'org': 'Distributed M...</td>\n",
              "      <td>551</td>\n",
              "      <td>27.0</td>\n",
              "      <td>[1588883745, 1941732106, 1973544909, 199548424...</td>\n",
              "    </tr>\n",
              "    <tr>\n",
              "      <th>9996</th>\n",
              "      <td>2120894402</td>\n",
              "      <td>4.0</td>\n",
              "      <td>[{'name': 'Jessica K. Hodgins', 'org': 'Colleg...</td>\n",
              "      <td>551</td>\n",
              "      <td>22.0</td>\n",
              "      <td>[1798187755, 1967934102, 1987574258, 198770668...</td>\n",
              "    </tr>\n",
              "    <tr>\n",
              "      <th>9997</th>\n",
              "      <td>1982180670</td>\n",
              "      <td>2.0</td>\n",
              "      <td>[{'name': 'Richard J. Lipton', 'id': 277112432...</td>\n",
              "      <td>551</td>\n",
              "      <td>12.0</td>\n",
              "      <td>[1530008367, 1980572240, 2026191634, 203462313...</td>\n",
              "    </tr>\n",
              "    <tr>\n",
              "      <th>9998</th>\n",
              "      <td>1559983024</td>\n",
              "      <td>1.0</td>\n",
              "      <td>[{'name': 'Claudio S. Pinhanez', 'org': 'IBM T...</td>\n",
              "      <td>551</td>\n",
              "      <td>14.0</td>\n",
              "      <td>[74179108, 137024741, 1987928129, 2007760386, ...</td>\n",
              "    </tr>\n",
              "    <tr>\n",
              "      <th>9999</th>\n",
              "      <td>2138165844</td>\n",
              "      <td>3.0</td>\n",
              "      <td>[{'name': 'Michael Nelson', 'org': 'VMWare, In...</td>\n",
              "      <td>551</td>\n",
              "      <td>5.0</td>\n",
              "      <td>[1989326485, 2050765519, 2121542813, 212589560...</td>\n",
              "    </tr>\n",
              "  </tbody>\n",
              "</table>\n",
              "<p>10000 rows × 6 columns</p>\n",
              "</div>"
            ],
            "text/plain": [
              "              id  num_authors  \\\n",
              "0     2151103935          1.0   \n",
              "1     2911964244          1.0   \n",
              "2     2153635508          2.0   \n",
              "3     1791587663          1.0   \n",
              "4     2119821739          2.0   \n",
              "...          ...          ...   \n",
              "9995  2124827397          3.0   \n",
              "9996  2120894402          4.0   \n",
              "9997  1982180670          2.0   \n",
              "9998  1559983024          1.0   \n",
              "9999  2138165844          3.0   \n",
              "\n",
              "                                                authors  n_citation  \\\n",
              "0     [{'name': 'David G. Lowe', 'org': 'Computer Sc...       35541   \n",
              "1     [{'name': 'Leo Breiman', 'org': 'Statistics De...       34741   \n",
              "2     [{'name': 'Chih-Chung Chang', 'org': 'National...       31047   \n",
              "3     [{'name': 'Fred D. Davis', 'org': 'Computer an...       25855   \n",
              "4     [{'name': 'Corinna Cortes', 'org': 'AT&T Bell ...       22276   \n",
              "...                                                 ...         ...   \n",
              "9995  [{'name': 'Pawan Goyal', 'org': 'Distributed M...         551   \n",
              "9996  [{'name': 'Jessica K. Hodgins', 'org': 'Colleg...         551   \n",
              "9997  [{'name': 'Richard J. Lipton', 'id': 277112432...         551   \n",
              "9998  [{'name': 'Claudio S. Pinhanez', 'org': 'IBM T...         551   \n",
              "9999  [{'name': 'Michael Nelson', 'org': 'VMWare, In...         551   \n",
              "\n",
              "      reference_count                                         references  \n",
              "0                33.0  [19720318, 1541642243, 1560959218, 1676552347,...  \n",
              "1                11.0  [1507255258, 1580948147, 1605688901, 197584664...  \n",
              "2                34.0  [1510526001, 1543810117, 1556115774, 156879334...  \n",
              "3                22.0  [157213131, 1520103841, 1778357938, 1972888601...  \n",
              "4                 3.0               [2087347434, 2154579312, 2168228682]  \n",
              "...               ...                                                ...  \n",
              "9995             27.0  [1588883745, 1941732106, 1973544909, 199548424...  \n",
              "9996             22.0  [1798187755, 1967934102, 1987574258, 198770668...  \n",
              "9997             12.0  [1530008367, 1980572240, 2026191634, 203462313...  \n",
              "9998             14.0  [74179108, 137024741, 1987928129, 2007760386, ...  \n",
              "9999              5.0  [1989326485, 2050765519, 2121542813, 212589560...  \n",
              "\n",
              "[10000 rows x 6 columns]"
            ]
          },
          "execution_count": 6,
          "metadata": {},
          "output_type": "execute_result"
        }
      ],
      "source": [
        "column_to_drop_nan_values = 'references'\n",
        "dataset = dataset.sort_values(by='n_citation', ascending=False)\n",
        "dataset = dataset.dropna(subset=[column_to_drop_nan_values])\n",
        "dataset_top_citation = dataset.head(10000)\n",
        "dataset_top_citation = dataset_top_citation.reset_index(drop=True)\n",
        "dataset_top_citation"
      ]
    },
    {
      "cell_type": "markdown",
      "metadata": {
        "id": "n3RQn1w6KoVt"
      },
      "source": [
        "## Citation graph"
      ]
    },
    {
      "cell_type": "code",
      "execution_count": 7,
      "metadata": {
        "colab": {
          "base_uri": "https://localhost:8080/",
          "height": 424
        },
        "id": "WWcUqFDQKoVt",
        "outputId": "e32eca2c-1fd3-41b2-dfe1-e6b7224a39e1"
      },
      "outputs": [
        {
          "data": {
            "text/html": [
              "<div>\n",
              "<style scoped>\n",
              "    .dataframe tbody tr th:only-of-type {\n",
              "        vertical-align: middle;\n",
              "    }\n",
              "\n",
              "    .dataframe tbody tr th {\n",
              "        vertical-align: top;\n",
              "    }\n",
              "\n",
              "    .dataframe thead th {\n",
              "        text-align: right;\n",
              "    }\n",
              "</style>\n",
              "<table border=\"1\" class=\"dataframe\">\n",
              "  <thead>\n",
              "    <tr style=\"text-align: right;\">\n",
              "      <th></th>\n",
              "      <th>id</th>\n",
              "      <th>references</th>\n",
              "    </tr>\n",
              "  </thead>\n",
              "  <tbody>\n",
              "    <tr>\n",
              "      <th>0</th>\n",
              "      <td>2151103935</td>\n",
              "      <td>[19720318, 1541642243, 1560959218, 1676552347,...</td>\n",
              "    </tr>\n",
              "    <tr>\n",
              "      <th>1</th>\n",
              "      <td>2911964244</td>\n",
              "      <td>[1507255258, 1580948147, 1605688901, 197584664...</td>\n",
              "    </tr>\n",
              "    <tr>\n",
              "      <th>2</th>\n",
              "      <td>2153635508</td>\n",
              "      <td>[1510526001, 1543810117, 1556115774, 156879334...</td>\n",
              "    </tr>\n",
              "    <tr>\n",
              "      <th>3</th>\n",
              "      <td>1791587663</td>\n",
              "      <td>[157213131, 1520103841, 1778357938, 1972888601...</td>\n",
              "    </tr>\n",
              "    <tr>\n",
              "      <th>4</th>\n",
              "      <td>2119821739</td>\n",
              "      <td>[2087347434, 2154579312, 2168228682]</td>\n",
              "    </tr>\n",
              "    <tr>\n",
              "      <th>...</th>\n",
              "      <td>...</td>\n",
              "      <td>...</td>\n",
              "    </tr>\n",
              "    <tr>\n",
              "      <th>9995</th>\n",
              "      <td>2124827397</td>\n",
              "      <td>[1588883745, 1941732106, 1973544909, 199548424...</td>\n",
              "    </tr>\n",
              "    <tr>\n",
              "      <th>9996</th>\n",
              "      <td>2120894402</td>\n",
              "      <td>[1798187755, 1967934102, 1987574258, 198770668...</td>\n",
              "    </tr>\n",
              "    <tr>\n",
              "      <th>9997</th>\n",
              "      <td>1982180670</td>\n",
              "      <td>[1530008367, 1980572240, 2026191634, 203462313...</td>\n",
              "    </tr>\n",
              "    <tr>\n",
              "      <th>9998</th>\n",
              "      <td>1559983024</td>\n",
              "      <td>[74179108, 137024741, 1987928129, 2007760386, ...</td>\n",
              "    </tr>\n",
              "    <tr>\n",
              "      <th>9999</th>\n",
              "      <td>2138165844</td>\n",
              "      <td>[1989326485, 2050765519, 2121542813, 212589560...</td>\n",
              "    </tr>\n",
              "  </tbody>\n",
              "</table>\n",
              "<p>10000 rows × 2 columns</p>\n",
              "</div>"
            ],
            "text/plain": [
              "              id                                         references\n",
              "0     2151103935  [19720318, 1541642243, 1560959218, 1676552347,...\n",
              "1     2911964244  [1507255258, 1580948147, 1605688901, 197584664...\n",
              "2     2153635508  [1510526001, 1543810117, 1556115774, 156879334...\n",
              "3     1791587663  [157213131, 1520103841, 1778357938, 1972888601...\n",
              "4     2119821739               [2087347434, 2154579312, 2168228682]\n",
              "...          ...                                                ...\n",
              "9995  2124827397  [1588883745, 1941732106, 1973544909, 199548424...\n",
              "9996  2120894402  [1798187755, 1967934102, 1987574258, 198770668...\n",
              "9997  1982180670  [1530008367, 1980572240, 2026191634, 203462313...\n",
              "9998  1559983024  [74179108, 137024741, 1987928129, 2007760386, ...\n",
              "9999  2138165844  [1989326485, 2050765519, 2121542813, 212589560...\n",
              "\n",
              "[10000 rows x 2 columns]"
            ]
          },
          "execution_count": 7,
          "metadata": {},
          "output_type": "execute_result"
        }
      ],
      "source": [
        "dataset_top_citation_citation_graph = dataset_top_citation[['id','references']]\n",
        "dataset_top_citation_citation_graph"
      ]
    },
    {
      "cell_type": "code",
      "execution_count": 8,
      "metadata": {
        "id": "KLKD4scLKoVu"
      },
      "outputs": [
        {
          "name": "stderr",
          "output_type": "stream",
          "text": [
            "/home/laura/anaconda3/lib/python3.7/site-packages/ipykernel_launcher.py:1: SettingWithCopyWarning: \n",
            "A value is trying to be set on a copy of a slice from a DataFrame.\n",
            "Try using .loc[row_indexer,col_indexer] = value instead\n",
            "\n",
            "See the caveats in the documentation: https://pandas.pydata.org/pandas-docs/stable/user_guide/indexing.html#returning-a-view-versus-a-copy\n",
            "  \"\"\"Entry point for launching an IPython kernel.\n",
            "/home/laura/anaconda3/lib/python3.7/site-packages/ipykernel_launcher.py:2: SettingWithCopyWarning: \n",
            "A value is trying to be set on a copy of a slice from a DataFrame.\n",
            "Try using .loc[row_indexer,col_indexer] = value instead\n",
            "\n",
            "See the caveats in the documentation: https://pandas.pydata.org/pandas-docs/stable/user_guide/indexing.html#returning-a-view-versus-a-copy\n",
            "  \n",
            "/home/laura/anaconda3/lib/python3.7/site-packages/ipykernel_launcher.py:3: SettingWithCopyWarning: \n",
            "A value is trying to be set on a copy of a slice from a DataFrame.\n",
            "Try using .loc[row_indexer,col_indexer] = value instead\n",
            "\n",
            "See the caveats in the documentation: https://pandas.pydata.org/pandas-docs/stable/user_guide/indexing.html#returning-a-view-versus-a-copy\n",
            "  This is separate from the ipykernel package so we can avoid doing imports until\n"
          ]
        }
      ],
      "source": [
        "dataset_top_citation_citation_graph['references'] = dataset_top_citation_citation_graph['references'].apply(lambda x: x.replace('[', '').replace(']', '')).copy()\n",
        "dataset_top_citation_citation_graph['references'] = dataset_top_citation_citation_graph['references'].apply(lambda x: x.split(','))\n",
        "dataset_top_citation_citation_graph['id'] = dataset_top_citation_citation_graph['id'].astype(str)"
      ]
    },
    {
      "cell_type": "code",
      "execution_count": 9,
      "metadata": {
        "colab": {
          "base_uri": "https://localhost:8080/",
          "height": 528
        },
        "id": "NE1BV8r3KoVu",
        "outputId": "e796a55d-3282-4bc1-e799-77c6e3b360b6"
      },
      "outputs": [
        {
          "name": "stderr",
          "output_type": "stream",
          "text": [
            "/home/laura/anaconda3/lib/python3.7/site-packages/ipykernel_launcher.py:5: SettingWithCopyWarning: \n",
            "A value is trying to be set on a copy of a slice from a DataFrame.\n",
            "Try using .loc[row_indexer,col_indexer] = value instead\n",
            "\n",
            "See the caveats in the documentation: https://pandas.pydata.org/pandas-docs/stable/user_guide/indexing.html#returning-a-view-versus-a-copy\n",
            "  \"\"\"\n"
          ]
        },
        {
          "data": {
            "text/html": [
              "<div>\n",
              "<style scoped>\n",
              "    .dataframe tbody tr th:only-of-type {\n",
              "        vertical-align: middle;\n",
              "    }\n",
              "\n",
              "    .dataframe tbody tr th {\n",
              "        vertical-align: top;\n",
              "    }\n",
              "\n",
              "    .dataframe thead th {\n",
              "        text-align: right;\n",
              "    }\n",
              "</style>\n",
              "<table border=\"1\" class=\"dataframe\">\n",
              "  <thead>\n",
              "    <tr style=\"text-align: right;\">\n",
              "      <th></th>\n",
              "      <th>id</th>\n",
              "      <th>references</th>\n",
              "      <th>references_under_id</th>\n",
              "    </tr>\n",
              "  </thead>\n",
              "  <tbody>\n",
              "    <tr>\n",
              "      <th>0</th>\n",
              "      <td>2151103935</td>\n",
              "      <td>[19720318,  1541642243,  1560959218,  16765523...</td>\n",
              "      <td>[1676552347, 1949116567, 2011891945, 202466829...</td>\n",
              "    </tr>\n",
              "    <tr>\n",
              "      <th>1</th>\n",
              "      <td>2911964244</td>\n",
              "      <td>[1507255258,  1580948147,  1605688901,  197584...</td>\n",
              "      <td>[1605688901, 1975846642, 2112076978, 211324281...</td>\n",
              "    </tr>\n",
              "    <tr>\n",
              "      <th>2</th>\n",
              "      <td>2153635508</td>\n",
              "      <td>[1510526001,  1543810117,  1556115774,  156879...</td>\n",
              "      <td>[1510526001, 1568793342, 1621799579, 205698353...</td>\n",
              "    </tr>\n",
              "    <tr>\n",
              "      <th>3</th>\n",
              "      <td>1791587663</td>\n",
              "      <td>[157213131,  1520103841,  1778357938,  1972888...</td>\n",
              "      <td>[1972888601, 1988410705, 2037021532, 209248890...</td>\n",
              "    </tr>\n",
              "    <tr>\n",
              "      <th>4</th>\n",
              "      <td>2119821739</td>\n",
              "      <td>[2087347434,  2154579312,  2168228682]</td>\n",
              "      <td>[2087347434, 2154579312]</td>\n",
              "    </tr>\n",
              "    <tr>\n",
              "      <th>...</th>\n",
              "      <td>...</td>\n",
              "      <td>...</td>\n",
              "      <td>...</td>\n",
              "    </tr>\n",
              "    <tr>\n",
              "      <th>9995</th>\n",
              "      <td>2124827397</td>\n",
              "      <td>[1588883745,  1941732106,  1973544909,  199548...</td>\n",
              "      <td>[2073440460, 2098289156, 2098375698, 209944078...</td>\n",
              "    </tr>\n",
              "    <tr>\n",
              "      <th>9996</th>\n",
              "      <td>2120894402</td>\n",
              "      <td>[1798187755,  1967934102,  1987574258,  198770...</td>\n",
              "      <td>[2117085697, 2127197749, 2150312211, 2293545866]</td>\n",
              "    </tr>\n",
              "    <tr>\n",
              "      <th>9997</th>\n",
              "      <td>1982180670</td>\n",
              "      <td>[1530008367,  1980572240,  2026191634,  203462...</td>\n",
              "      <td>[]</td>\n",
              "    </tr>\n",
              "    <tr>\n",
              "      <th>9998</th>\n",
              "      <td>1559983024</td>\n",
              "      <td>[74179108,  137024741,  1987928129,  200776038...</td>\n",
              "      <td>[2140235142, 2149891956, 2158683916, 2237155658]</td>\n",
              "    </tr>\n",
              "    <tr>\n",
              "      <th>9999</th>\n",
              "      <td>2138165844</td>\n",
              "      <td>[1989326485,  2050765519,  2121542813,  212589...</td>\n",
              "      <td>[2121542813, 2125895608]</td>\n",
              "    </tr>\n",
              "  </tbody>\n",
              "</table>\n",
              "<p>10000 rows × 3 columns</p>\n",
              "</div>"
            ],
            "text/plain": [
              "              id                                         references  \\\n",
              "0     2151103935  [19720318,  1541642243,  1560959218,  16765523...   \n",
              "1     2911964244  [1507255258,  1580948147,  1605688901,  197584...   \n",
              "2     2153635508  [1510526001,  1543810117,  1556115774,  156879...   \n",
              "3     1791587663  [157213131,  1520103841,  1778357938,  1972888...   \n",
              "4     2119821739             [2087347434,  2154579312,  2168228682]   \n",
              "...          ...                                                ...   \n",
              "9995  2124827397  [1588883745,  1941732106,  1973544909,  199548...   \n",
              "9996  2120894402  [1798187755,  1967934102,  1987574258,  198770...   \n",
              "9997  1982180670  [1530008367,  1980572240,  2026191634,  203462...   \n",
              "9998  1559983024  [74179108,  137024741,  1987928129,  200776038...   \n",
              "9999  2138165844  [1989326485,  2050765519,  2121542813,  212589...   \n",
              "\n",
              "                                    references_under_id  \n",
              "0     [1676552347, 1949116567, 2011891945, 202466829...  \n",
              "1     [1605688901, 1975846642, 2112076978, 211324281...  \n",
              "2     [1510526001, 1568793342, 1621799579, 205698353...  \n",
              "3     [1972888601, 1988410705, 2037021532, 209248890...  \n",
              "4                              [2087347434, 2154579312]  \n",
              "...                                                 ...  \n",
              "9995  [2073440460, 2098289156, 2098375698, 209944078...  \n",
              "9996   [2117085697, 2127197749, 2150312211, 2293545866]  \n",
              "9997                                                 []  \n",
              "9998   [2140235142, 2149891956, 2158683916, 2237155658]  \n",
              "9999                           [2121542813, 2125895608]  \n",
              "\n",
              "[10000 rows x 3 columns]"
            ]
          },
          "execution_count": 9,
          "metadata": {},
          "output_type": "execute_result"
        }
      ],
      "source": [
        "all_ids = dataset_top_citation_citation_graph['id'].tolist()\n",
        "all_ids = [id_.strip() for id_ in all_ids]\n",
        "def references_under_id(ids_list):\n",
        "    return [id_.strip() for id_ in ids_list if id_.strip() in all_ids]\n",
        "dataset_top_citation_citation_graph['references_under_id'] = dataset_top_citation_citation_graph['references'].apply(references_under_id)\n",
        "dataset_top_citation_citation_graph = dataset_top_citation_citation_graph.copy()\n",
        "dataset_top_citation_citation_graph"
      ]
    },
    {
      "cell_type": "code",
      "execution_count": 10,
      "metadata": {
        "id": "mTTNcV41KoVv"
      },
      "outputs": [],
      "source": [
        "G = nx.DiGraph()\n",
        "G.add_nodes_from(dataset_top_citation_citation_graph['id'])\n",
        "for _, row in dataset_top_citation_citation_graph.iterrows():\n",
        "    source_node = row['id']\n",
        "    target_node = row['references_under_id']\n",
        "    G.add_edges_from([(source_node, target_node) for target_node in target_node])"
      ]
    },
    {
      "cell_type": "code",
      "execution_count": 11,
      "metadata": {},
      "outputs": [],
      "source": [
        "graph_data = nx.node_link_data(G)\n"
      ]
    },
    {
      "cell_type": "code",
      "execution_count": null,
      "metadata": {
        "id": "Ok-5xEBDyWgb"
      },
      "outputs": [],
      "source": [
        "graph_data = nx.node_link_data(G)\n",
        "\n",
        "# Store as json file for the Command Line purpose\n",
        "with open('/content/drive/MyDrive/HM5/grafo1.json', 'w') as json_file:\n",
        "    json.dump(graph_data, json_file)"
      ]
    },
    {
      "cell_type": "code",
      "execution_count": 12,
      "metadata": {
        "colab": {
          "base_uri": "https://localhost:8080/"
        },
        "id": "wfCAFD2uyxkO",
        "outputId": "090a586a-0b1a-41f1-ea62-090b50279283"
      },
      "outputs": [
        {
          "name": "stdout",
          "output_type": "stream",
          "text": [
            "Original graph: 55150\n",
            "Loaded graph: 55150\n"
          ]
        }
      ],
      "source": [
        "with open('/content/drive/MyDrive/HM5/grafo1.json', 'r') as json_file:\n",
        "    loaded_graph_data = json.load(json_file)\n",
        "\n",
        "# Loading the graph to be used\n",
        "loaded_G = nx.node_link_graph(loaded_graph_data)\n",
        "\n",
        "# Verify that two graphs have same attributes\n",
        "print(\"Original graph:\", G.number_of_edges())\n",
        "print(\"Loaded graph:\", loaded_G.number_of_edges())"
      ]
    },
    {
      "cell_type": "code",
      "execution_count": 12,
      "metadata": {},
      "outputs": [
        {
          "name": "stdout",
          "output_type": "stream",
          "text": [
            "Original graph: 55150\n",
            "Loaded graph: 55150\n"
          ]
        }
      ],
      "source": [
        "loaded_G = nx.node_link_graph(graph_data)\n",
        "\n",
        "# Verify that two graphs have same attributes\n",
        "print(\"Original graph:\", G.number_of_edges())\n",
        "print(\"Loaded graph:\", loaded_G.number_of_edges())"
      ]
    },
    {
      "cell_type": "code",
      "execution_count": 14,
      "metadata": {
        "colab": {
          "base_uri": "https://localhost:8080/",
          "height": 516
        },
        "id": "7d3gEDESKoVv",
        "outputId": "57cbdee7-8442-4d11-9acd-23e42e268f39"
      },
      "outputs": [
        {
          "data": {
            "image/png": "[encoded data removed]",
            "text/plain": [
              "<Figure size 432x288 with 1 Axes>"
            ]
          },
          "metadata": {},
          "output_type": "display_data"
        }
      ],
      "source": [
        "first_node_to_show = dataset_top_citation_citation_graph.iloc[0]\n",
        "source_node = first_node_to_show['id']\n",
        "target_node = first_node_to_show['references_under_id']\n",
        "subgraph_nodes = [source_node] + target_node\n",
        "subgraph = G.subgraph(subgraph_nodes)\n",
        "pos = nx.spring_layout(subgraph)\n",
        "nx.draw(subgraph, pos, with_labels=True, arrowsize=10)\n",
        "plt.show()"
      ]
    },
    {
      "cell_type": "markdown",
      "metadata": {
        "id": "rOMZRm-SKoVv"
      },
      "source": [
        "## Collaboration graph"
      ]
    },
    {
      "cell_type": "code",
      "execution_count": 15,
      "metadata": {
        "colab": {
          "base_uri": "https://localhost:8080/",
          "height": 424
        },
        "id": "U3By6bCKKoVv",
        "outputId": "da8182e8-2dd0-4486-a0c6-b1f8f95d0f46"
      },
      "outputs": [
        {
          "data": {
            "text/html": [
              "<div>\n",
              "<style scoped>\n",
              "    .dataframe tbody tr th:only-of-type {\n",
              "        vertical-align: middle;\n",
              "    }\n",
              "\n",
              "    .dataframe tbody tr th {\n",
              "        vertical-align: top;\n",
              "    }\n",
              "\n",
              "    .dataframe thead th {\n",
              "        text-align: right;\n",
              "    }\n",
              "</style>\n",
              "<table border=\"1\" class=\"dataframe\">\n",
              "  <thead>\n",
              "    <tr style=\"text-align: right;\">\n",
              "      <th></th>\n",
              "      <th>authors</th>\n",
              "    </tr>\n",
              "  </thead>\n",
              "  <tbody>\n",
              "    <tr>\n",
              "      <th>0</th>\n",
              "      <td>[{'name': 'David G. Lowe', 'org': 'Computer Sc...</td>\n",
              "    </tr>\n",
              "    <tr>\n",
              "      <th>1</th>\n",
              "      <td>[{'name': 'Leo Breiman', 'org': 'Statistics De...</td>\n",
              "    </tr>\n",
              "    <tr>\n",
              "      <th>2</th>\n",
              "      <td>[{'name': 'Chih-Chung Chang', 'org': 'National...</td>\n",
              "    </tr>\n",
              "    <tr>\n",
              "      <th>3</th>\n",
              "      <td>[{'name': 'Fred D. Davis', 'org': 'Computer an...</td>\n",
              "    </tr>\n",
              "    <tr>\n",
              "      <th>4</th>\n",
              "      <td>[{'name': 'Corinna Cortes', 'org': 'AT&amp;T Bell ...</td>\n",
              "    </tr>\n",
              "    <tr>\n",
              "      <th>...</th>\n",
              "      <td>...</td>\n",
              "    </tr>\n",
              "    <tr>\n",
              "      <th>9995</th>\n",
              "      <td>[{'name': 'Pawan Goyal', 'org': 'Distributed M...</td>\n",
              "    </tr>\n",
              "    <tr>\n",
              "      <th>9996</th>\n",
              "      <td>[{'name': 'Jessica K. Hodgins', 'org': 'Colleg...</td>\n",
              "    </tr>\n",
              "    <tr>\n",
              "      <th>9997</th>\n",
              "      <td>[{'name': 'Richard J. Lipton', 'id': 277112432...</td>\n",
              "    </tr>\n",
              "    <tr>\n",
              "      <th>9998</th>\n",
              "      <td>[{'name': 'Claudio S. Pinhanez', 'org': 'IBM T...</td>\n",
              "    </tr>\n",
              "    <tr>\n",
              "      <th>9999</th>\n",
              "      <td>[{'name': 'Michael Nelson', 'org': 'VMWare, In...</td>\n",
              "    </tr>\n",
              "  </tbody>\n",
              "</table>\n",
              "<p>10000 rows × 1 columns</p>\n",
              "</div>"
            ],
            "text/plain": [
              "                                                authors\n",
              "0     [{'name': 'David G. Lowe', 'org': 'Computer Sc...\n",
              "1     [{'name': 'Leo Breiman', 'org': 'Statistics De...\n",
              "2     [{'name': 'Chih-Chung Chang', 'org': 'National...\n",
              "3     [{'name': 'Fred D. Davis', 'org': 'Computer an...\n",
              "4     [{'name': 'Corinna Cortes', 'org': 'AT&T Bell ...\n",
              "...                                                 ...\n",
              "9995  [{'name': 'Pawan Goyal', 'org': 'Distributed M...\n",
              "9996  [{'name': 'Jessica K. Hodgins', 'org': 'Colleg...\n",
              "9997  [{'name': 'Richard J. Lipton', 'id': 277112432...\n",
              "9998  [{'name': 'Claudio S. Pinhanez', 'org': 'IBM T...\n",
              "9999  [{'name': 'Michael Nelson', 'org': 'VMWare, In...\n",
              "\n",
              "[10000 rows x 1 columns]"
            ]
          },
          "execution_count": 15,
          "metadata": {},
          "output_type": "execute_result"
        }
      ],
      "source": [
        "dataset_top_citation_collaboration_graph = dataset_top_citation[['authors']]\n",
        "dataset_top_citation_collaboration_graph"
      ]
    },
    {
      "cell_type": "code",
      "execution_count": 16,
      "metadata": {
        "colab": {
          "base_uri": "https://localhost:8080/",
          "height": 1000
        },
        "id": "_2KAxjSGKoVw",
        "outputId": "b9199e49-ee1d-4a88-cef0-4d13cf1dad40"
      },
      "outputs": [
        {
          "name": "stderr",
          "output_type": "stream",
          "text": [
            "/home/laura/anaconda3/lib/python3.7/site-packages/ipykernel_launcher.py:1: SettingWithCopyWarning: \n",
            "A value is trying to be set on a copy of a slice from a DataFrame.\n",
            "Try using .loc[row_indexer,col_indexer] = value instead\n",
            "\n",
            "See the caveats in the documentation: https://pandas.pydata.org/pandas-docs/stable/user_guide/indexing.html#returning-a-view-versus-a-copy\n",
            "  \"\"\"Entry point for launching an IPython kernel.\n",
            "/home/laura/anaconda3/lib/python3.7/site-packages/ipykernel_launcher.py:2: SettingWithCopyWarning: \n",
            "A value is trying to be set on a copy of a slice from a DataFrame.\n",
            "Try using .loc[row_indexer,col_indexer] = value instead\n",
            "\n",
            "See the caveats in the documentation: https://pandas.pydata.org/pandas-docs/stable/user_guide/indexing.html#returning-a-view-versus-a-copy\n",
            "  \n",
            "/home/laura/anaconda3/lib/python3.7/site-packages/ipykernel_launcher.py:3: SettingWithCopyWarning: \n",
            "A value is trying to be set on a copy of a slice from a DataFrame.\n",
            "Try using .loc[row_indexer,col_indexer] = value instead\n",
            "\n",
            "See the caveats in the documentation: https://pandas.pydata.org/pandas-docs/stable/user_guide/indexing.html#returning-a-view-versus-a-copy\n",
            "  This is separate from the ipykernel package so we can avoid doing imports until\n",
            "/home/laura/anaconda3/lib/python3.7/site-packages/ipykernel_launcher.py:4: SettingWithCopyWarning: \n",
            "A value is trying to be set on a copy of a slice from a DataFrame.\n",
            "Try using .loc[row_indexer,col_indexer] = value instead\n",
            "\n",
            "See the caveats in the documentation: https://pandas.pydata.org/pandas-docs/stable/user_guide/indexing.html#returning-a-view-versus-a-copy\n",
            "  after removing the cwd from sys.path.\n",
            "/home/laura/anaconda3/lib/python3.7/site-packages/ipykernel_launcher.py:5: SettingWithCopyWarning: \n",
            "A value is trying to be set on a copy of a slice from a DataFrame.\n",
            "Try using .loc[row_indexer,col_indexer] = value instead\n",
            "\n",
            "See the caveats in the documentation: https://pandas.pydata.org/pandas-docs/stable/user_guide/indexing.html#returning-a-view-versus-a-copy\n",
            "  \"\"\"\n",
            "/home/laura/anaconda3/lib/python3.7/site-packages/ipykernel_launcher.py:6: SettingWithCopyWarning: \n",
            "A value is trying to be set on a copy of a slice from a DataFrame.\n",
            "Try using .loc[row_indexer,col_indexer] = value instead\n",
            "\n",
            "See the caveats in the documentation: https://pandas.pydata.org/pandas-docs/stable/user_guide/indexing.html#returning-a-view-versus-a-copy\n",
            "  \n"
          ]
        },
        {
          "data": {
            "text/html": [
              "<div>\n",
              "<style scoped>\n",
              "    .dataframe tbody tr th:only-of-type {\n",
              "        vertical-align: middle;\n",
              "    }\n",
              "\n",
              "    .dataframe tbody tr th {\n",
              "        vertical-align: top;\n",
              "    }\n",
              "\n",
              "    .dataframe thead th {\n",
              "        text-align: right;\n",
              "    }\n",
              "</style>\n",
              "<table border=\"1\" class=\"dataframe\">\n",
              "  <thead>\n",
              "    <tr style=\"text-align: right;\">\n",
              "      <th></th>\n",
              "      <th>authors</th>\n",
              "    </tr>\n",
              "  </thead>\n",
              "  <tbody>\n",
              "    <tr>\n",
              "      <th>0</th>\n",
              "      <td>[ 'id' 2104328312]</td>\n",
              "    </tr>\n",
              "    <tr>\n",
              "      <th>1</th>\n",
              "      <td>[ 'id' 2569376642]</td>\n",
              "    </tr>\n",
              "    <tr>\n",
              "      <th>2</th>\n",
              "      <td>[ 'id' 2895256545,  'id' 2168176072]</td>\n",
              "    </tr>\n",
              "    <tr>\n",
              "      <th>3</th>\n",
              "      <td>[ 'id' 2427477170]</td>\n",
              "    </tr>\n",
              "    <tr>\n",
              "      <th>4</th>\n",
              "      <td>[ 'id' 2134830209,  'id' 2022407533]</td>\n",
              "    </tr>\n",
              "    <tr>\n",
              "      <th>...</th>\n",
              "      <td>...</td>\n",
              "    </tr>\n",
              "    <tr>\n",
              "      <th>9995</th>\n",
              "      <td>[ 'id' 2152918269,  'id' 2020627909,  'id' 266...</td>\n",
              "    </tr>\n",
              "    <tr>\n",
              "      <th>9996</th>\n",
              "      <td>[ 'id' 601642093,  'id' 1980379243,  'id' 2030...</td>\n",
              "    </tr>\n",
              "    <tr>\n",
              "      <th>9997</th>\n",
              "      <td>[ 'id' 2771124329,  'id' 350567680]</td>\n",
              "    </tr>\n",
              "    <tr>\n",
              "      <th>9998</th>\n",
              "      <td>[ 'id' 320969846]</td>\n",
              "    </tr>\n",
              "    <tr>\n",
              "      <th>9999</th>\n",
              "      <td>[ 'id' 2564319605,  'id' 2153695973,  'id' 257...</td>\n",
              "    </tr>\n",
              "  </tbody>\n",
              "</table>\n",
              "<p>10000 rows × 1 columns</p>\n",
              "</div>"
            ],
            "text/plain": [
              "                                                authors\n",
              "0                                    [ 'id' 2104328312]\n",
              "1                                    [ 'id' 2569376642]\n",
              "2                  [ 'id' 2895256545,  'id' 2168176072]\n",
              "3                                    [ 'id' 2427477170]\n",
              "4                  [ 'id' 2134830209,  'id' 2022407533]\n",
              "...                                                 ...\n",
              "9995  [ 'id' 2152918269,  'id' 2020627909,  'id' 266...\n",
              "9996  [ 'id' 601642093,  'id' 1980379243,  'id' 2030...\n",
              "9997                [ 'id' 2771124329,  'id' 350567680]\n",
              "9998                                  [ 'id' 320969846]\n",
              "9999  [ 'id' 2564319605,  'id' 2153695973,  'id' 257...\n",
              "\n",
              "[10000 rows x 1 columns]"
            ]
          },
          "execution_count": 16,
          "metadata": {},
          "output_type": "execute_result"
        }
      ],
      "source": [
        "dataset_top_citation_collaboration_graph['authors'] = dataset_top_citation_collaboration_graph['authors'].apply(lambda x: x.replace('[', '').replace(']', '')).copy()\n",
        "dataset_top_citation_collaboration_graph['authors'] = dataset_top_citation_collaboration_graph['authors'].apply(lambda x: x.replace('{', '').replace('}', '')).copy()\n",
        "dataset_top_citation_collaboration_graph['authors'] = dataset_top_citation_collaboration_graph['authors'].apply(lambda x: x.replace(':', '')).copy()\n",
        "dataset_top_citation_collaboration_graph['authors'] = dataset_top_citation_collaboration_graph['authors'].apply(lambda x: x.replace('David', '')).copy()\n",
        "dataset_top_citation_collaboration_graph['authors'] = dataset_top_citation_collaboration_graph['authors'].apply(lambda x: x.split(','))\n",
        "dataset_top_citation_collaboration_graph['authors'] = dataset_top_citation_collaboration_graph['authors'].apply(lambda authors: list(filter(lambda author: 'id' in author, authors)))\n",
        "dataset_top_citation_collaboration_graph"
      ]
    },
    {
      "cell_type": "code",
      "execution_count": 17,
      "metadata": {
        "colab": {
          "base_uri": "https://localhost:8080/",
          "height": 528
        },
        "id": "9wcCtuNUKoVw",
        "outputId": "c0d0682c-1ce2-4243-bcb8-7c25c4050c7e"
      },
      "outputs": [
        {
          "name": "stderr",
          "output_type": "stream",
          "text": [
            "/home/laura/anaconda3/lib/python3.7/site-packages/ipykernel_launcher.py:9: SettingWithCopyWarning: \n",
            "A value is trying to be set on a copy of a slice from a DataFrame.\n",
            "Try using .loc[row_indexer,col_indexer] = value instead\n",
            "\n",
            "See the caveats in the documentation: https://pandas.pydata.org/pandas-docs/stable/user_guide/indexing.html#returning-a-view-versus-a-copy\n",
            "  if __name__ == '__main__':\n"
          ]
        },
        {
          "data": {
            "text/html": [
              "<div>\n",
              "<style scoped>\n",
              "    .dataframe tbody tr th:only-of-type {\n",
              "        vertical-align: middle;\n",
              "    }\n",
              "\n",
              "    .dataframe tbody tr th {\n",
              "        vertical-align: top;\n",
              "    }\n",
              "\n",
              "    .dataframe thead th {\n",
              "        text-align: right;\n",
              "    }\n",
              "</style>\n",
              "<table border=\"1\" class=\"dataframe\">\n",
              "  <thead>\n",
              "    <tr style=\"text-align: right;\">\n",
              "      <th></th>\n",
              "      <th>authors</th>\n",
              "    </tr>\n",
              "  </thead>\n",
              "  <tbody>\n",
              "    <tr>\n",
              "      <th>0</th>\n",
              "      <td>[2104328312]</td>\n",
              "    </tr>\n",
              "    <tr>\n",
              "      <th>1</th>\n",
              "      <td>[2569376642]</td>\n",
              "    </tr>\n",
              "    <tr>\n",
              "      <th>2</th>\n",
              "      <td>[2895256545, 2168176072]</td>\n",
              "    </tr>\n",
              "    <tr>\n",
              "      <th>3</th>\n",
              "      <td>[2427477170]</td>\n",
              "    </tr>\n",
              "    <tr>\n",
              "      <th>4</th>\n",
              "      <td>[2134830209, 2022407533]</td>\n",
              "    </tr>\n",
              "    <tr>\n",
              "      <th>...</th>\n",
              "      <td>...</td>\n",
              "    </tr>\n",
              "    <tr>\n",
              "      <th>9995</th>\n",
              "      <td>[2152918269, 2020627909, 2662983009]</td>\n",
              "    </tr>\n",
              "    <tr>\n",
              "      <th>9996</th>\n",
              "      <td>[601642093, 1980379243, 2030310643, 2104748382]</td>\n",
              "    </tr>\n",
              "    <tr>\n",
              "      <th>9997</th>\n",
              "      <td>[2771124329, 350567680]</td>\n",
              "    </tr>\n",
              "    <tr>\n",
              "      <th>9998</th>\n",
              "      <td>[320969846]</td>\n",
              "    </tr>\n",
              "    <tr>\n",
              "      <th>9999</th>\n",
              "      <td>[2564319605, 2153695973, 2579467519]</td>\n",
              "    </tr>\n",
              "  </tbody>\n",
              "</table>\n",
              "<p>10000 rows × 1 columns</p>\n",
              "</div>"
            ],
            "text/plain": [
              "                                              authors\n",
              "0                                        [2104328312]\n",
              "1                                        [2569376642]\n",
              "2                            [2895256545, 2168176072]\n",
              "3                                        [2427477170]\n",
              "4                            [2134830209, 2022407533]\n",
              "...                                               ...\n",
              "9995             [2152918269, 2020627909, 2662983009]\n",
              "9996  [601642093, 1980379243, 2030310643, 2104748382]\n",
              "9997                          [2771124329, 350567680]\n",
              "9998                                      [320969846]\n",
              "9999             [2564319605, 2153695973, 2579467519]\n",
              "\n",
              "[10000 rows x 1 columns]"
            ]
          },
          "execution_count": 17,
          "metadata": {},
          "output_type": "execute_result"
        }
      ],
      "source": [
        "def clean_strings_authors(lst):\n",
        "    cleaned_list = []\n",
        "    for x in lst:\n",
        "        ids_authors_only = ''.join(char for char in x if char.isdigit())\n",
        "        if ids_authors_only:\n",
        "            cleaned_list.append(int(ids_authors_only))\n",
        "    return cleaned_list\n",
        "\n",
        "dataset_top_citation_collaboration_graph['authors'] = dataset_top_citation_collaboration_graph['authors'].apply(clean_strings_authors)\n",
        "dataset_top_citation_collaboration_graph"
      ]
    },
    {
      "cell_type": "code",
      "execution_count": 18,
      "metadata": {
        "id": "Sbp8mEgBKoVw"
      },
      "outputs": [],
      "source": [
        "G_collaboration = nx.Graph()\n",
        "\n",
        "for _, row in dataset_top_citation_collaboration_graph.iterrows():\n",
        "    author_list = row['authors']\n",
        "    for collaboration in itertools.combinations(author_list, 2):\n",
        "        if G_collaboration.has_edge(*collaboration):\n",
        "            G_collaboration[collaboration[0]][collaboration[1]]['weight'] += 1\n",
        "        else:\n",
        "            G_collaboration.add_edge(*collaboration, weight=1)"
      ]
    },
    {
      "cell_type": "code",
      "execution_count": 19,
      "metadata": {
        "colab": {
          "base_uri": "https://localhost:8080/",
          "height": 516
        },
        "id": "8uk_oC6XKoVx",
        "outputId": "83a3c3f2-8a06-4eb3-fad9-40db5d9f2163"
      },
      "outputs": [
        {
          "data": {
            "image/png": "[encoded data removed]",
            "text/plain": [
              "<Figure size 432x288 with 1 Axes>"
            ]
          },
          "metadata": {},
          "output_type": "display_data"
        }
      ],
      "source": [
        "nodes_to_show = list(G_collaboration.nodes())[:5]\n",
        "subgraph_collaboration = G_collaboration.subgraph(nodes_to_show)\n",
        "pos = nx.spring_layout(subgraph_collaboration)\n",
        "nx.draw(subgraph_collaboration, pos, with_labels=True, font_weight='bold', node_size=700)\n",
        "edge_weights = {(i, j): subgraph_collaboration[i][j]['weight'] for i, j in subgraph_collaboration.edges()}\n",
        "nx.draw_networkx_edges(subgraph_collaboration, pos, width=[subgraph_collaboration[i][j]['weight'] for i, j in subgraph_collaboration.edges()])\n",
        "nx.draw_networkx_edge_labels(subgraph_collaboration, pos, edge_labels=edge_weights, font_color='red')\n",
        "\n",
        "import matplotlib.pyplot as plt\n",
        "plt.show()"
      ]
    },
    {
      "cell_type": "markdown",
      "metadata": {
        "id": "hdS7o-q-CP1d"
      },
      "source": [
        "# **[Q2] Controlling system**"
      ]
    },
    {
      "cell_type": "markdown",
      "metadata": {
        "id": "Sc1bZmp4k5sO"
      },
      "source": [
        "The objective is to establish a control system where the user will be presented with a menu containing various functionalities. The user should have the ability to choose from five different functionalities, which will be implemented in the upcoming two sections. This system is designed to enable users to query and access functionalities of interest"
      ]
    },
    {
      "cell_type": "markdown",
      "metadata": {
        "id": "zomYnwpCjqkN"
      },
      "source": [
        "# suggestion: remove and make alltogether backend and frontend as I already \"did\" some frontend application (and remove 2.1 backend implemented text cell: ONLY TITLE)"
      ]
    },
    {
      "cell_type": "markdown",
      "metadata": {
        "id": "Q0ejkZyYCc7k"
      },
      "source": [
        "## **2.1 Backend implementation**"
      ]
    },
    {
      "cell_type": "markdown",
      "metadata": {
        "id": "ySraxKu4k-oC"
      },
      "source": [
        " In this section we implement the different functionalities as classes and we can find the implementation in the corrispondent python files"
      ]
    },
    {
      "cell_type": "markdown",
      "metadata": {
        "id": "7KnxtCYQCRNz"
      },
      "source": [
        "### **Functionality 1 - Graph's features**\n",
        "\n",
        "This function should examine a graph and report on some of its features.\n",
        "In particular we're interested in the: **The number of the nodes**, **number of edges**, **density**, **degree distribution**, **average degree**, **graph hubs** and finally a boolean values if the graph is **dense** or sparse.\n",
        "\n",
        "The particolar threshold of density we consider `0.6` as moltiplicative factor as, typically, NOT dense graph has really lower number of edges r.t.w. the maximum number of edges. We also like this assessment as we consider it logical\n",
        "\n",
        "we can address the functionalities rispectilvly calling the following methods      \n",
        "> nnodes\n",
        "\n",
        "> nedges\n",
        "\n",
        "> density\n",
        "\n",
        "> degreedistr\n",
        "\n",
        "> averagedegree\n",
        "\n",
        "> hubs\n",
        "\n",
        "> isdense\n"
      ]
    },
    {
      "cell_type": "code",
      "execution_count": 21,
      "metadata": {
        "id": "_jqaVurEipVD"
      },
      "outputs": [],
      "source": [
        "from feature1 import GetFeature1\n",
        "g = GetFeature1(G, 'fake')"
      ]
    },
    {
      "cell_type": "code",
      "execution_count": 22,
      "metadata": {
        "colab": {
          "base_uri": "https://localhost:8080/"
        },
        "id": "SFsvZHNxQdKh",
        "outputId": "8241b377-0b3e-4d13-aba3-ed2bb9a57bd4"
      },
      "outputs": [
        {
          "data": {
            "text/plain": [
              "10000"
            ]
          },
          "execution_count": 22,
          "metadata": {},
          "output_type": "execute_result"
        }
      ],
      "source": [
        "# As asked only 10000 nodes were selected among all nodes\n",
        "g.nnodes"
      ]
    },
    {
      "cell_type": "code",
      "execution_count": 23,
      "metadata": {
        "colab": {
          "base_uri": "https://localhost:8080/"
        },
        "id": "meAYLaN8QfCs",
        "outputId": "35c5eb08-9d40-42e8-9b76-0c0b514f6e45"
      },
      "outputs": [
        {
          "data": {
            "text/plain": [
              "55150"
            ]
          },
          "execution_count": 23,
          "metadata": {},
          "output_type": "execute_result"
        }
      ],
      "source": [
        "# Calculating the number of edges\n",
        "g.nedges"
      ]
    },
    {
      "cell_type": "code",
      "execution_count": 24,
      "metadata": {
        "colab": {
          "base_uri": "https://localhost:8080/"
        },
        "id": "hTdUWoZYQho1",
        "outputId": "e0778160-b91b-4f20-b6a1-68c0ed80a943"
      },
      "outputs": [
        {
          "data": {
            "text/plain": [
              "0.00055"
            ]
          },
          "execution_count": 24,
          "metadata": {},
          "output_type": "execute_result"
        }
      ],
      "source": [
        "#density of the graph\n",
        "round(g.density,5)"
      ]
    },
    {
      "cell_type": "code",
      "execution_count": 25,
      "metadata": {
        "colab": {
          "base_uri": "https://localhost:8080/",
          "height": 430
        },
        "id": "nAFA3qwuQy0X",
        "outputId": "9306c36e-2a23-4a18-efac-1ef264924f57"
      },
      "outputs": [
        {
          "data": {
            "image/png": "[encoded data removed]",
            "text/plain": [
              "<Figure size 432x288 with 1 Axes>"
            ]
          },
          "metadata": {
            "needs_background": "light"
          },
          "output_type": "display_data"
        }
      ],
      "source": [
        "# We have a very raugh representation of the degree distribution\n",
        "# We find the number of nodes on the x label and the density on the y \"axis\"\n",
        "g.degreedistr"
      ]
    },
    {
      "cell_type": "markdown",
      "metadata": {
        "id": "KZ3SOLqtQxPM"
      },
      "source": [
        "Recalling that  a hub in graph theory refers to a node with a high degree, connected to a large number of other nodes in the network. They are often identified based on their high degree centrality, which quantifies the number of connections a node has.\n",
        "\n",
        "Some nodes from the list of hubs are printed."
      ]
    },
    {
      "cell_type": "code",
      "execution_count": 26,
      "metadata": {
        "colab": {
          "base_uri": "https://localhost:8080/"
        },
        "id": "qj2T5ON0QKDN",
        "outputId": "e988edbc-4b91-4096-ad62-cae2f33cbcac"
      },
      "outputs": [
        {
          "data": {
            "text/plain": [
              "['2128749719', '1772076007', '2167050549', '2141167937', '2108767394']"
            ]
          },
          "execution_count": 26,
          "metadata": {},
          "output_type": "execute_result"
        }
      ],
      "source": [
        "# We select some random nodes which are hubs\n",
        "g.hubs[450:455] # are 456 in total"
      ]
    },
    {
      "cell_type": "code",
      "execution_count": 27,
      "metadata": {
        "colab": {
          "base_uri": "https://localhost:8080/"
        },
        "id": "CIhyP1EOkeH_",
        "outputId": "0a4d8ce0-66d0-4ecf-e7ab-7082ed1333ad"
      },
      "outputs": [
        {
          "data": {
            "text/plain": [
              "False"
            ]
          },
          "execution_count": 27,
          "metadata": {},
          "output_type": "execute_result"
        }
      ],
      "source": [
        "g.isdense"
      ]
    },
    {
      "cell_type": "markdown",
      "metadata": {
        "id": "hsayMTXdPG0R"
      },
      "source": [
        "We found the density through networkx, but levaraging the followinf formula for the density of a graph G with $n$ nodes and $m$:\n",
        "\n",
        "$$D=\\dfrac{2m}{n⋅(n−1)}$$\n",
        "\n",
        "For our graph with 10.000 nodes and 55.140 edges we have:\n",
        "\n",
        "$$D=\\dfrac{2\\cdot55.140}{10.000⋅(10.000−1)}\\approx 0.0011$$​\n",
        "\n",
        "whose density is really far off for any reasonable threshold that a graph is dense"
      ]
    },
    {
      "cell_type": "code",
      "execution_count": 33,
      "metadata": {},
      "outputs": [
        {
          "data": {
            "text/plain": [
              "['2151103935',\n",
              " '2911964244',\n",
              " '2153635508',\n",
              " '1791587663',\n",
              " '2119821739',\n",
              " '2145023731',\n",
              " '2161969291',\n",
              " '1880262756',\n",
              " '1686810756',\n",
              " '1522301498',\n",
              " '2133665775',\n",
              " '2121863487',\n",
              " '2163605009',\n",
              " '2132984323',\n",
              " '2064675550',\n",
              " '2296616510',\n",
              " '2169528473',\n",
              " '2194775991',\n",
              " '2100379340',\n",
              " '2104095591',\n",
              " '2173213060',\n",
              " '2159080219',\n",
              " '2139212933',\n",
              " '2912934387',\n",
              " '2164598857',\n",
              " '2141885858',\n",
              " '2166559705',\n",
              " '2137401668',\n",
              " '2148606196',\n",
              " '2066636486',\n",
              " '1996360405',\n",
              " '2107080958',\n",
              " '2149706766',\n",
              " '2618530766',\n",
              " '2137983211',\n",
              " '2049981393',\n",
              " '1988790447',\n",
              " '2145096794',\n",
              " '2108598243',\n",
              " '2106335692',\n",
              " '2110425399',\n",
              " '2121947440',\n",
              " '2152121970',\n",
              " '2156186849',\n",
              " '1660562555',\n",
              " '2598771954',\n",
              " '2124386111',\n",
              " '2130509920',\n",
              " '2949650786',\n",
              " '1992419399',\n",
              " '2095705004',\n",
              " '2071707134',\n",
              " '2118428193',\n",
              " '2147152072',\n",
              " '2121647436',\n",
              " '2117539524',\n",
              " '2111308925',\n",
              " '2163352848',\n",
              " '1673310716',\n",
              " '2119479037',\n",
              " '2099574482',\n",
              " '2147880316',\n",
              " '2150134853',\n",
              " '2118877769',\n",
              " '1677409904',\n",
              " '2342091124',\n",
              " '2097117768',\n",
              " '1578285471',\n",
              " '2067191022',\n",
              " '1506285740',\n",
              " '1975442866',\n",
              " '2107396783',\n",
              " '2099471712',\n",
              " '2164278908',\n",
              " '2128272608',\n",
              " '2136922672',\n",
              " '2157457404',\n",
              " '2102605133',\n",
              " '2340735175',\n",
              " '1746819321',\n",
              " '2137775453',\n",
              " '1973501242',\n",
              " '1971784203',\n",
              " '2949117887',\n",
              " '2167898414',\n",
              " '2129812935',\n",
              " '2151693816',\n",
              " '2108384452',\n",
              " '2171960770',\n",
              " '2155893237',\n",
              " '2118040894',\n",
              " '1978394996',\n",
              " '2097856935',\n",
              " '2087347434',\n",
              " '2138621811',\n",
              " '2158049821',\n",
              " '2170102584',\n",
              " '2162915993',\n",
              " '1903029394',\n",
              " '2168356304',\n",
              " '2110659753',\n",
              " '2099741732',\n",
              " '2101963262',\n",
              " '2096525273',\n",
              " '2165744313',\n",
              " '2124651399',\n",
              " '2127048411',\n",
              " '2163059190',\n",
              " '2149684865',\n",
              " '2127271355',\n",
              " '2118020653',\n",
              " '2017337590',\n",
              " '2118269922',\n",
              " '2086042811',\n",
              " '2112076978',\n",
              " '2148963518',\n",
              " '2133475491',\n",
              " '2130103520',\n",
              " '1986931325',\n",
              " '2108834246',\n",
              " '2140095548',\n",
              " '2131726714',\n",
              " '2100408980',\n",
              " '2158733823',\n",
              " '2143516773',\n",
              " '2031489346',\n",
              " '2177274842',\n",
              " '1632114991',\n",
              " '1989702938',\n",
              " '2104974755',\n",
              " '2165874743',\n",
              " '2753542457',\n",
              " '2124344619',\n",
              " '1987198869',\n",
              " '2057175746',\n",
              " '2148251644',\n",
              " '2042281163',\n",
              " '2130660124',\n",
              " '2131846894',\n",
              " '2129131372',\n",
              " '2129638195',\n",
              " '2914885528',\n",
              " '2147555557',\n",
              " '2132549764',\n",
              " '2166706824',\n",
              " '2135505702',\n",
              " '1566135517',\n",
              " '2104670598',\n",
              " '2107726111',\n",
              " '2076063813',\n",
              " '2119565742',\n",
              " '2054658115',\n",
              " '2036265926',\n",
              " '2132932625',\n",
              " '2158454296',\n",
              " '2158275940',\n",
              " '2122646361',\n",
              " '1574235309',\n",
              " '2155106456',\n",
              " '2124351162',\n",
              " '2132103241',\n",
              " '2140235142',\n",
              " '1971040550',\n",
              " '1665214252',\n",
              " '1677182931',\n",
              " '2054692642',\n",
              " '1976969221',\n",
              " '2019363670',\n",
              " '2011430131',\n",
              " '2033419168',\n",
              " '2611515161',\n",
              " '1536680647',\n",
              " '2146502635',\n",
              " '1995903777',\n",
              " '2127949150',\n",
              " '1861492603',\n",
              " '2121927366',\n",
              " '2163922914',\n",
              " '2072128103',\n",
              " '2153233077',\n",
              " '2126512988',\n",
              " '2107743791',\n",
              " '2151135734',\n",
              " '2155492251',\n",
              " '2098685541',\n",
              " '2132549513',\n",
              " '2123921160',\n",
              " '2094204865',\n",
              " '2052267638',\n",
              " '2166982098',\n",
              " '2153663612',\n",
              " '2150825860',\n",
              " '2112737587',\n",
              " '1849277567',\n",
              " '2147800946',\n",
              " '2155225996',\n",
              " '2110325612',\n",
              " '2095897464',\n",
              " '1520914943',\n",
              " '2158899491',\n",
              " '2950179405',\n",
              " '2100677568',\n",
              " '2125148312',\n",
              " '2132339004',\n",
              " '2155328222',\n",
              " '2121601095',\n",
              " '2217896605',\n",
              " '2119362555',\n",
              " '2128017662',\n",
              " '2104532741',\n",
              " '2033751220',\n",
              " '2124404372',\n",
              " '1608836379',\n",
              " '1966553486',\n",
              " '2041248965',\n",
              " '1904365287',\n",
              " '2161062388',\n",
              " '2116064496',\n",
              " '2008441192',\n",
              " '2108777122',\n",
              " '2107034620',\n",
              " '1670263352',\n",
              " '2121255383',\n",
              " '2172188317',\n",
              " '2104210894',\n",
              " '2130801612',\n",
              " '2108995755',\n",
              " '2116148865',\n",
              " '2117130368',\n",
              " '2142827986',\n",
              " '2167396179',\n",
              " '2111993661',\n",
              " '1578907434',\n",
              " '2142785340',\n",
              " '2124591829',\n",
              " '2110158442',\n",
              " '2045028348',\n",
              " '2128381560',\n",
              " '2025768430',\n",
              " '1548408014',\n",
              " '1991605728',\n",
              " '2156194072',\n",
              " '1502916507',\n",
              " '2088049833',\n",
              " '2043403353',\n",
              " '2097018403',\n",
              " '1589034595',\n",
              " '2110798204',\n",
              " '2098567664',\n",
              " '2107878631',\n",
              " '1965703925',\n",
              " '1980911747',\n",
              " '2120340025',\n",
              " '2032210760',\n",
              " '2109863423',\n",
              " '2076118331',\n",
              " '2412782625',\n",
              " '2112042732',\n",
              " '2101699735',\n",
              " '2085937320',\n",
              " '2140785063',\n",
              " '2040884411',\n",
              " '2151795416',\n",
              " '2101771805',\n",
              " '1515402129',\n",
              " '2125668987',\n",
              " '2156598602',\n",
              " '2097089247',\n",
              " '2151413173',\n",
              " '2100830825',\n",
              " '2624304035',\n",
              " '2116013899',\n",
              " '2147717514',\n",
              " '1977496278',\n",
              " '2109200236',\n",
              " '1983364832',\n",
              " '1999047234',\n",
              " '2135035173',\n",
              " '2091936226',\n",
              " '2108646579',\n",
              " '1497226654',\n",
              " '2024668293',\n",
              " '2020163092',\n",
              " '2119350939',\n",
              " '2089961441',\n",
              " '2100235918',\n",
              " '1975846642',\n",
              " '1606858007',\n",
              " '1487583988',\n",
              " '1501500081',\n",
              " '2154422044',\n",
              " '2110764733',\n",
              " '2123033018',\n",
              " '2147768505',\n",
              " '2124211486',\n",
              " '2152761983',\n",
              " '2165943096',\n",
              " '2427881153',\n",
              " '1595575146',\n",
              " '2030536784',\n",
              " '2119710605',\n",
              " '2135053460',\n",
              " '2113945798',\n",
              " '2112447569',\n",
              " '2952122856',\n",
              " '2099057525',\n",
              " '2123977795',\n",
              " '2098152234',\n",
              " '2119823327',\n",
              " '2093191240',\n",
              " '2098947662',\n",
              " '2098257210',\n",
              " '2592929672',\n",
              " '2031454541',\n",
              " '2123825896',\n",
              " '2119046642',\n",
              " '2132747867',\n",
              " '1662133657',\n",
              " '1584405424',\n",
              " '2130325614',\n",
              " '2168231600',\n",
              " '1575476631',\n",
              " '1976709621',\n",
              " '2159686933',\n",
              " '1499049447',\n",
              " '2121899951',\n",
              " '2153028052',\n",
              " '2611939200',\n",
              " '2117362057',\n",
              " '2952186574',\n",
              " '2097607146',\n",
              " '2615688110',\n",
              " '2164192722',\n",
              " '2142144955',\n",
              " '2118436669',\n",
              " '2022508996',\n",
              " '2179352600',\n",
              " '2109579504',\n",
              " '2963173190',\n",
              " '2017814585',\n",
              " '2337098149',\n",
              " '2106996050',\n",
              " '2161381512',\n",
              " '2150676586',\n",
              " '2011662871',\n",
              " '2169458211',\n",
              " '2067514565',\n",
              " '2155174176',\n",
              " '2149427297',\n",
              " '2953360861',\n",
              " '2128716185',\n",
              " '2154952480',\n",
              " '2129201358',\n",
              " '2155904486',\n",
              " '2158139315',\n",
              " '1850405760',\n",
              " '2069959554',\n",
              " '2147253850',\n",
              " '2124087378',\n",
              " '2025605741',\n",
              " '2145607950',\n",
              " '2138857742',\n",
              " '2121531691',\n",
              " '2140938420',\n",
              " '2123820820',\n",
              " '2436001372',\n",
              " '2149760002',\n",
              " '2114122776',\n",
              " '2131095207',\n",
              " '2046589280',\n",
              " '2546302380',\n",
              " '2113271807',\n",
              " '2104978738',\n",
              " '1535271175',\n",
              " '2159128662',\n",
              " '2155541015',\n",
              " '1543266722',\n",
              " '2107790757',\n",
              " '2331128040',\n",
              " '2146591355',\n",
              " '2523714292',\n",
              " '2158237121',\n",
              " '2165037244',\n",
              " '1481420047',\n",
              " '1676552347',\n",
              " '2012812921',\n",
              " '1496929357',\n",
              " '2115710963',\n",
              " '2119799051',\n",
              " '2133218851',\n",
              " '2158592639',\n",
              " '1993229407',\n",
              " '1480415088',\n",
              " '2042316011',\n",
              " '2155268664',\n",
              " '2109255472',\n",
              " '2122922389',\n",
              " '2068611653',\n",
              " '2165949425',\n",
              " '2110893883',\n",
              " '1984309565',\n",
              " '2153343530',\n",
              " '1966385142',\n",
              " '2162919312',\n",
              " '2913932916',\n",
              " '47957325',\n",
              " '1780467660',\n",
              " '2078790577',\n",
              " '2170510658',\n",
              " '2963470893',\n",
              " '2023007396',\n",
              " '2024228866',\n",
              " '2165828254',\n",
              " '2090518410',\n",
              " '2099454382',\n",
              " '2075597533',\n",
              " '2155351433',\n",
              " '1493490255',\n",
              " '2152473410',\n",
              " '2054279472',\n",
              " '2134557905',\n",
              " '2150341604',\n",
              " '1995444699',\n",
              " '2118297240',\n",
              " '1948751323',\n",
              " '1999192586',\n",
              " '2161420356',\n",
              " '2294922303',\n",
              " '2148043549',\n",
              " '2168002178',\n",
              " '2131717044',\n",
              " '2752782242',\n",
              " '2107369107',\n",
              " '1506845741',\n",
              " '2103614420',\n",
              " '2044762091',\n",
              " '2107561590',\n",
              " '2115167851',\n",
              " '2140833774',\n",
              " '2098339052',\n",
              " '2135988418',\n",
              " '2097128017',\n",
              " '2154956324',\n",
              " '2277195237',\n",
              " '2183182206',\n",
              " '1806891645',\n",
              " '2624989916',\n",
              " '1984052055',\n",
              " '2129116707',\n",
              " '2114544510',\n",
              " '2128749719',\n",
              " '1772076007',\n",
              " '2167050549',\n",
              " '2141167937',\n",
              " '2108767394',\n",
              " '2118044993']"
            ]
          },
          "execution_count": 33,
          "metadata": {},
          "output_type": "execute_result"
        }
      ],
      "source": [
        "g.hubs"
      ]
    },
    {
      "cell_type": "markdown",
      "metadata": {
        "id": "3YcZ4ol_iefI"
      },
      "source": [
        "### **Functionality 2 - Nodes' contribution**\n",
        "\n",
        "Using this functionality, we can identify the papers/authors who have significantly contributed to this field of study. In order to achieve a more complete analysis we will examine the graph using various centrality measurements such as **betweeness**, **pageRank**, **closeness**, **centrality**.\n",
        "\n",
        "We can call it as methods of aour class through the following instructions:\n",
        "### **nodecentrality**\n",
        "\n",
        "The betweenness centrality B(x) of a node $x$ is calculated based on the number of shortest paths that pass through $x$, normalized by the total number of shortest paths in the network:\n",
        "\n",
        "$$B(x)=∑_{s\\neq x \\neq t}\\dfrac{σ_{st}(x)}{σ_{st}}$$\n",
        "\n",
        "Where:\n",
        "\n",
        "  $σ_{st}​$ is the total number of shortest paths from node $s$ to node $t$.\n",
        "\n",
        "  $σ_{st}​(x)$ is the number of those paths that pass through node $x$.\n",
        "\n",
        "\n",
        "### **pagerank**\n",
        "\n",
        "Pagerank is a link analysis algorithm used by search engines to assign a numerical weight to each element of a hyperlinked set of documents, such as the World Wide Web, with the purpose of measuring its relative importance within the set\n",
        "\n",
        "### **closeness**\n",
        "\n",
        "The closeness centrality is a measure of a node's centrality within a graph, which gauges how close a node is to all other nodes. For an undirected graph, the closeness centrality (C(v)) of a node v is defined as the reciprocal of the sum of the shortest distances from v to all other nodes in the graph:\n",
        "\n",
        "$$\\displaystyle C(v)=\\dfrac{1}{\\sum_{u}d(v,u)}$$\n",
        "\n",
        "Here, $d(v,u)$ represents the shortest distance between nodes v and u. For a directed graph, closeness centrality is generally defined similarly, but considering only reachable or incoming nodes.\n",
        "\n",
        "### **degreecentrality**\n",
        "The degree centrality D(x) of a node $x$ is the number of edges incident to that node, normalized by the total number of nodes in the network minus one:\n",
        "\n",
        "$$D(x)=\\dfrac{\\text{Number of edges incident to x}}{N-1}​$$\n",
        "\n",
        "where $N$ is the total number of nodes in the network."
      ]
    },
    {
      "cell_type": "code",
      "execution_count": 78,
      "metadata": {
        "id": "mIwyjmP18IJ3"
      },
      "outputs": [],
      "source": [
        "from feature2 import GetFeature2"
      ]
    },
    {
      "cell_type": "markdown",
      "metadata": {
        "id": "1hgHxYOAR_5q"
      },
      "source": [
        "#### Example 1"
      ]
    },
    {
      "cell_type": "code",
      "execution_count": 79,
      "metadata": {
        "colab": {
          "base_uri": "https://localhost:8080/"
        },
        "id": "pM_HkgKlRBhZ",
        "outputId": "7fef50ab-bcd1-4740-afac-a21d95ed66ab"
      },
      "outputs": [
        {
          "data": {
            "text/plain": [
              "0.0"
            ]
          },
          "execution_count": 79,
          "metadata": {},
          "output_type": "execute_result"
        }
      ],
      "source": [
        "h = GetFeature2(subgraph, '2151103935', 'citation subgraph')\n",
        "h.closeness"
      ]
    },
    {
      "cell_type": "code",
      "execution_count": 80,
      "metadata": {
        "colab": {
          "base_uri": "https://localhost:8080/"
        },
        "id": "TQpX04x0Q-pK",
        "outputId": "bf7b4477-d203-4df9-e11f-ddf07000fc6c"
      },
      "outputs": [
        {
          "data": {
            "text/plain": [
              "0.03139"
            ]
          },
          "execution_count": 80,
          "metadata": {},
          "output_type": "execute_result"
        }
      ],
      "source": [
        "round(h.pagerank,5)"
      ]
    },
    {
      "cell_type": "code",
      "execution_count": 46,
      "metadata": {
        "colab": {
          "base_uri": "https://localhost:8080/"
        },
        "id": "p7MZ30tj8yJZ",
        "outputId": "86fff642-93fd-43a1-eed6-095877e78de9"
      },
      "outputs": [
        {
          "data": {
            "text/plain": [
              "0.0"
            ]
          },
          "execution_count": 46,
          "metadata": {},
          "output_type": "execute_result"
        }
      ],
      "source": [
        "h.nodecentrality"
      ]
    },
    {
      "cell_type": "code",
      "execution_count": 47,
      "metadata": {
        "colab": {
          "base_uri": "https://localhost:8080/"
        },
        "id": "XLr_ie9-U0CZ",
        "outputId": "0605b874-27c8-4e80-c2bf-bd01713ea297"
      },
      "outputs": [
        {
          "data": {
            "text/plain": [
              "1.0"
            ]
          },
          "execution_count": 47,
          "metadata": {},
          "output_type": "execute_result"
        }
      ],
      "source": [
        "h.degreecentrality"
      ]
    },
    {
      "cell_type": "markdown",
      "metadata": {
        "id": "rnwT6ZsTSCLC"
      },
      "source": [
        "#### Example 2"
      ]
    },
    {
      "cell_type": "code",
      "execution_count": 81,
      "metadata": {
        "colab": {
          "base_uri": "https://localhost:8080/"
        },
        "id": "3Nmc1caZSEz1",
        "outputId": "c469719c-f5e8-4c3d-85d7-c4c214870858"
      },
      "outputs": [
        {
          "data": {
            "text/plain": [
              "0.11765"
            ]
          },
          "execution_count": 81,
          "metadata": {},
          "output_type": "execute_result"
        }
      ],
      "source": [
        "h1 = GetFeature2(subgraph, '1676552347', 'citation subgraph')\n",
        "round(h1.closeness,5)\n"
      ]
    },
    {
      "cell_type": "code",
      "execution_count": 77,
      "metadata": {
        "colab": {
          "base_uri": "https://localhost:8080/"
        },
        "id": "lit4APeOST7x",
        "outputId": "ac6dc6ae-45d5-4c7e-ef5d-80dd2fd16a03"
      },
      "outputs": [
        {
          "data": {
            "text/plain": [
              "0.03997"
            ]
          },
          "execution_count": 77,
          "metadata": {},
          "output_type": "execute_result"
        }
      ],
      "source": [
        "round(h1.pagerank,5)"
      ]
    },
    {
      "cell_type": "code",
      "execution_count": 80,
      "metadata": {
        "colab": {
          "base_uri": "https://localhost:8080/"
        },
        "id": "9GSJE_8IST7z",
        "outputId": "d7b18201-8050-4327-c44d-049bf132c238"
      },
      "outputs": [
        {
          "data": {
            "text/plain": [
              "0.00123"
            ]
          },
          "execution_count": 80,
          "metadata": {},
          "output_type": "execute_result"
        }
      ],
      "source": [
        "round(h1.nodecentrality,5)"
      ]
    },
    {
      "cell_type": "code",
      "execution_count": 82,
      "metadata": {
        "colab": {
          "base_uri": "https://localhost:8080/"
        },
        "id": "9ZSxpRBNST7z",
        "outputId": "06de149e-0027-42bb-c855-ec82130f0685"
      },
      "outputs": [
        {
          "data": {
            "text/plain": [
              "0.35294"
            ]
          },
          "execution_count": 82,
          "metadata": {},
          "output_type": "execute_result"
        }
      ],
      "source": [
        "round(h1.degreecentrality,5)"
      ]
    },
    {
      "cell_type": "code",
      "execution_count": 82,
      "metadata": {},
      "outputs": [],
      "source": [
        "table = [ ['Concerned Node', '2151103935', '1676552347' ], ['Closeness Centrality',h.closeness, round(h1.closeness,5)],\\\n",
        "        ['pagerank', round(h.pagerank,5) ,round(h1.pagerank,5)],[\"degree centrality\", round(h.degreecentrality,5), round(h1.degreecentrality,5)], \n",
        "        [\"Node centrality\", round(h.nodecentrality,5), round(h1.nodecentrality,5)]]\n"
      ]
    },
    {
      "cell_type": "code",
      "execution_count": 90,
      "metadata": {},
      "outputs": [
        {
          "name": "stdout",
          "output_type": "stream",
          "text": [
            "--------------------  ----------  -----------\n",
            "Concerned Node        2.1511e+09  1.67655e+09\n",
            "Closeness Centrality           0      0.11765\n",
            "pagerank                 0.03139      0.03997\n",
            "degree centrality              1      0.35294\n",
            "Node centrality                0      0.00123\n",
            "--------------------  ----------  -----------\n"
          ]
        }
      ],
      "source": [
        "print(tabulate(table,numalign=\"right\"))"
      ]
    },
    {
      "cell_type": "markdown",
      "metadata": {
        "id": "Ueodzu9H9z2O"
      },
      "source": [
        "### **Functionality 3 - Shortest ordered walk**\n",
        "\n",
        "In this functionality we're asked to find the shortest orderd walks. We have in input: the graph data, a sequence of authors_a and initial and a final node and a number N. As output we want  to get from author a_1 to author a_n and the papers you need to cross to realize this walk.\n",
        "\n",
        "It returns a message when the graph is not fully connected neither exists a shortest path between two specified nodes.\n",
        "\n",
        "We decided to return the shortest path also when a list is not given.\n",
        "\n",
        "In the specific case of the **Collaboration graph**, as it is not so dense, we decide non to use this parameter for the sake of visualization as it would be of no interest.\n",
        "\n",
        "**N is a parameter to filter the first authors with respect to the number of papers they have written**. Furthermore the choice of weights in the collaboration graphs was free and we decided to pick the number of collaborations.\n",
        "\n",
        "So choose the top N authors we decide to extract the exact number of papers from the real dataset and not approximated from the graph. Indeed summing the outgoing edges would at least exclude two hihgly probably cases:\n",
        "\n",
        "1. articles publishes solitarly\n",
        "2. the case in which an article was written by 3 hands there would be 2 connections but the article would still be one\n",
        "\n",
        "\n",
        "We therefore extract the top authors in the followings cell of code\n"
      ]
    },
    {
      "cell_type": "code",
      "execution_count": 91,
      "metadata": {
        "colab": {
          "base_uri": "https://localhost:8080/",
          "height": 424
        },
        "id": "h8YiwTAMADeB",
        "outputId": "455c2074-8582-4773-916b-9f85889fb89b"
      },
      "outputs": [
        {
          "data": {
            "text/html": [
              "<div>\n",
              "<style scoped>\n",
              "    .dataframe tbody tr th:only-of-type {\n",
              "        vertical-align: middle;\n",
              "    }\n",
              "\n",
              "    .dataframe tbody tr th {\n",
              "        vertical-align: top;\n",
              "    }\n",
              "\n",
              "    .dataframe thead th {\n",
              "        text-align: right;\n",
              "    }\n",
              "</style>\n",
              "<table border=\"1\" class=\"dataframe\">\n",
              "  <thead>\n",
              "    <tr style=\"text-align: right;\">\n",
              "      <th></th>\n",
              "      <th>id</th>\n",
              "      <th>num_authors</th>\n",
              "      <th>authors</th>\n",
              "      <th>n_citation</th>\n",
              "      <th>reference_count</th>\n",
              "      <th>references</th>\n",
              "    </tr>\n",
              "  </thead>\n",
              "  <tbody>\n",
              "    <tr>\n",
              "      <th>0</th>\n",
              "      <td>2151103935</td>\n",
              "      <td>1.0</td>\n",
              "      <td>[{'name': 'David G. Lowe', 'org': 'Computer Sc...</td>\n",
              "      <td>35541</td>\n",
              "      <td>33.0</td>\n",
              "      <td>[19720318, 1541642243, 1560959218, 1676552347,...</td>\n",
              "    </tr>\n",
              "    <tr>\n",
              "      <th>1</th>\n",
              "      <td>2911964244</td>\n",
              "      <td>1.0</td>\n",
              "      <td>[{'name': 'Leo Breiman', 'org': 'Statistics De...</td>\n",
              "      <td>34741</td>\n",
              "      <td>11.0</td>\n",
              "      <td>[1507255258, 1580948147, 1605688901, 197584664...</td>\n",
              "    </tr>\n",
              "    <tr>\n",
              "      <th>2</th>\n",
              "      <td>2153635508</td>\n",
              "      <td>2.0</td>\n",
              "      <td>[{'name': 'Chih-Chung Chang', 'org': 'National...</td>\n",
              "      <td>31047</td>\n",
              "      <td>34.0</td>\n",
              "      <td>[1510526001, 1543810117, 1556115774, 156879334...</td>\n",
              "    </tr>\n",
              "    <tr>\n",
              "      <th>3</th>\n",
              "      <td>1791587663</td>\n",
              "      <td>1.0</td>\n",
              "      <td>[{'name': 'Fred D. Davis', 'org': 'Computer an...</td>\n",
              "      <td>25855</td>\n",
              "      <td>22.0</td>\n",
              "      <td>[157213131, 1520103841, 1778357938, 1972888601...</td>\n",
              "    </tr>\n",
              "    <tr>\n",
              "      <th>4</th>\n",
              "      <td>2119821739</td>\n",
              "      <td>2.0</td>\n",
              "      <td>[{'name': 'Corinna Cortes', 'org': 'AT&amp;T Bell ...</td>\n",
              "      <td>22276</td>\n",
              "      <td>3.0</td>\n",
              "      <td>[2087347434, 2154579312, 2168228682]</td>\n",
              "    </tr>\n",
              "    <tr>\n",
              "      <th>...</th>\n",
              "      <td>...</td>\n",
              "      <td>...</td>\n",
              "      <td>...</td>\n",
              "      <td>...</td>\n",
              "      <td>...</td>\n",
              "      <td>...</td>\n",
              "    </tr>\n",
              "    <tr>\n",
              "      <th>9995</th>\n",
              "      <td>2124827397</td>\n",
              "      <td>3.0</td>\n",
              "      <td>[{'name': 'Pawan Goyal', 'org': 'Distributed M...</td>\n",
              "      <td>551</td>\n",
              "      <td>27.0</td>\n",
              "      <td>[1588883745, 1941732106, 1973544909, 199548424...</td>\n",
              "    </tr>\n",
              "    <tr>\n",
              "      <th>9996</th>\n",
              "      <td>2120894402</td>\n",
              "      <td>4.0</td>\n",
              "      <td>[{'name': 'Jessica K. Hodgins', 'org': 'Colleg...</td>\n",
              "      <td>551</td>\n",
              "      <td>22.0</td>\n",
              "      <td>[1798187755, 1967934102, 1987574258, 198770668...</td>\n",
              "    </tr>\n",
              "    <tr>\n",
              "      <th>9997</th>\n",
              "      <td>1982180670</td>\n",
              "      <td>2.0</td>\n",
              "      <td>[{'name': 'Richard J. Lipton', 'id': 277112432...</td>\n",
              "      <td>551</td>\n",
              "      <td>12.0</td>\n",
              "      <td>[1530008367, 1980572240, 2026191634, 203462313...</td>\n",
              "    </tr>\n",
              "    <tr>\n",
              "      <th>9998</th>\n",
              "      <td>1559983024</td>\n",
              "      <td>1.0</td>\n",
              "      <td>[{'name': 'Claudio S. Pinhanez', 'org': 'IBM T...</td>\n",
              "      <td>551</td>\n",
              "      <td>14.0</td>\n",
              "      <td>[74179108, 137024741, 1987928129, 2007760386, ...</td>\n",
              "    </tr>\n",
              "    <tr>\n",
              "      <th>9999</th>\n",
              "      <td>2138165844</td>\n",
              "      <td>3.0</td>\n",
              "      <td>[{'name': 'Michael Nelson', 'org': 'VMWare, In...</td>\n",
              "      <td>551</td>\n",
              "      <td>5.0</td>\n",
              "      <td>[1989326485, 2050765519, 2121542813, 212589560...</td>\n",
              "    </tr>\n",
              "  </tbody>\n",
              "</table>\n",
              "<p>10000 rows × 6 columns</p>\n",
              "</div>"
            ],
            "text/plain": [
              "              id  num_authors  \\\n",
              "0     2151103935          1.0   \n",
              "1     2911964244          1.0   \n",
              "2     2153635508          2.0   \n",
              "3     1791587663          1.0   \n",
              "4     2119821739          2.0   \n",
              "...          ...          ...   \n",
              "9995  2124827397          3.0   \n",
              "9996  2120894402          4.0   \n",
              "9997  1982180670          2.0   \n",
              "9998  1559983024          1.0   \n",
              "9999  2138165844          3.0   \n",
              "\n",
              "                                                authors  n_citation  \\\n",
              "0     [{'name': 'David G. Lowe', 'org': 'Computer Sc...       35541   \n",
              "1     [{'name': 'Leo Breiman', 'org': 'Statistics De...       34741   \n",
              "2     [{'name': 'Chih-Chung Chang', 'org': 'National...       31047   \n",
              "3     [{'name': 'Fred D. Davis', 'org': 'Computer an...       25855   \n",
              "4     [{'name': 'Corinna Cortes', 'org': 'AT&T Bell ...       22276   \n",
              "...                                                 ...         ...   \n",
              "9995  [{'name': 'Pawan Goyal', 'org': 'Distributed M...         551   \n",
              "9996  [{'name': 'Jessica K. Hodgins', 'org': 'Colleg...         551   \n",
              "9997  [{'name': 'Richard J. Lipton', 'id': 277112432...         551   \n",
              "9998  [{'name': 'Claudio S. Pinhanez', 'org': 'IBM T...         551   \n",
              "9999  [{'name': 'Michael Nelson', 'org': 'VMWare, In...         551   \n",
              "\n",
              "      reference_count                                         references  \n",
              "0                33.0  [19720318, 1541642243, 1560959218, 1676552347,...  \n",
              "1                11.0  [1507255258, 1580948147, 1605688901, 197584664...  \n",
              "2                34.0  [1510526001, 1543810117, 1556115774, 156879334...  \n",
              "3                22.0  [157213131, 1520103841, 1778357938, 1972888601...  \n",
              "4                 3.0               [2087347434, 2154579312, 2168228682]  \n",
              "...               ...                                                ...  \n",
              "9995             27.0  [1588883745, 1941732106, 1973544909, 199548424...  \n",
              "9996             22.0  [1798187755, 1967934102, 1987574258, 198770668...  \n",
              "9997             12.0  [1530008367, 1980572240, 2026191634, 203462313...  \n",
              "9998             14.0  [74179108, 137024741, 1987928129, 2007760386, ...  \n",
              "9999              5.0  [1989326485, 2050765519, 2121542813, 212589560...  \n",
              "\n",
              "[10000 rows x 6 columns]"
            ]
          },
          "execution_count": 91,
          "metadata": {},
          "output_type": "execute_result"
        }
      ],
      "source": [
        "dataset_top_citation"
      ]
    },
    {
      "cell_type": "markdown",
      "metadata": {
        "id": "-SnkNg6oF6as"
      },
      "source": [
        "#### find the authors with the higher number of articles published"
      ]
    },
    {
      "cell_type": "code",
      "execution_count": 92,
      "metadata": {
        "colab": {
          "base_uri": "https://localhost:8080/",
          "height": 424
        },
        "id": "1uvBGNeFGCfr",
        "outputId": "33f48776-d7c4-4617-e405-8e73103df250"
      },
      "outputs": [
        {
          "data": {
            "text/html": [
              "<div>\n",
              "<style scoped>\n",
              "    .dataframe tbody tr th:only-of-type {\n",
              "        vertical-align: middle;\n",
              "    }\n",
              "\n",
              "    .dataframe tbody tr th {\n",
              "        vertical-align: top;\n",
              "    }\n",
              "\n",
              "    .dataframe thead th {\n",
              "        text-align: right;\n",
              "    }\n",
              "</style>\n",
              "<table border=\"1\" class=\"dataframe\">\n",
              "  <thead>\n",
              "    <tr style=\"text-align: right;\">\n",
              "      <th></th>\n",
              "      <th>id</th>\n",
              "      <th>authors</th>\n",
              "    </tr>\n",
              "  </thead>\n",
              "  <tbody>\n",
              "    <tr>\n",
              "      <th>2937610</th>\n",
              "      <td>2151103935</td>\n",
              "      <td>[{'name': 'David G. Lowe', 'org': 'Computer Sc...</td>\n",
              "    </tr>\n",
              "    <tr>\n",
              "      <th>4088311</th>\n",
              "      <td>2911964244</td>\n",
              "      <td>[{'name': 'Leo Breiman', 'org': 'Statistics De...</td>\n",
              "    </tr>\n",
              "    <tr>\n",
              "      <th>2691785</th>\n",
              "      <td>2153635508</td>\n",
              "      <td>[{'name': 'Chih-Chung Chang', 'org': 'National...</td>\n",
              "    </tr>\n",
              "    <tr>\n",
              "      <th>688041</th>\n",
              "      <td>1791587663</td>\n",
              "      <td>[{'name': 'Fred D. Davis', 'org': 'Computer an...</td>\n",
              "    </tr>\n",
              "    <tr>\n",
              "      <th>2313078</th>\n",
              "      <td>2119821739</td>\n",
              "      <td>[{'name': 'Corinna Cortes', 'org': 'AT&amp;T Bell ...</td>\n",
              "    </tr>\n",
              "    <tr>\n",
              "      <th>...</th>\n",
              "      <td>...</td>\n",
              "      <td>...</td>\n",
              "    </tr>\n",
              "    <tr>\n",
              "      <th>1443467</th>\n",
              "      <td>2032881500</td>\n",
              "      <td>[{'name': 'Tong Zhu', 'org': 'Dept. of Comput....</td>\n",
              "    </tr>\n",
              "    <tr>\n",
              "      <th>1443452</th>\n",
              "      <td>2032879541</td>\n",
              "      <td>[{'name': 'John Ayoade', 'org': 'American Univ...</td>\n",
              "    </tr>\n",
              "    <tr>\n",
              "      <th>1443458</th>\n",
              "      <td>2032880699</td>\n",
              "      <td>[{'name': 'Adrian Rusu', 'org': 'Dept. of Comp...</td>\n",
              "    </tr>\n",
              "    <tr>\n",
              "      <th>1443466</th>\n",
              "      <td>2032881482</td>\n",
              "      <td>[{'name': 'Óscar J. Rubio', 'org': 'Aragon In...</td>\n",
              "    </tr>\n",
              "    <tr>\n",
              "      <th>4894080</th>\n",
              "      <td>99956490</td>\n",
              "      <td>[{'name': 'Egon Börger', 'org': 'Institut für ...</td>\n",
              "    </tr>\n",
              "  </tbody>\n",
              "</table>\n",
              "<p>3777107 rows × 2 columns</p>\n",
              "</div>"
            ],
            "text/plain": [
              "                 id                                            authors\n",
              "2937610  2151103935  [{'name': 'David G. Lowe', 'org': 'Computer Sc...\n",
              "4088311  2911964244  [{'name': 'Leo Breiman', 'org': 'Statistics De...\n",
              "2691785  2153635508  [{'name': 'Chih-Chung Chang', 'org': 'National...\n",
              "688041   1791587663  [{'name': 'Fred D. Davis', 'org': 'Computer an...\n",
              "2313078  2119821739  [{'name': 'Corinna Cortes', 'org': 'AT&T Bell ...\n",
              "...             ...                                                ...\n",
              "1443467  2032881500  [{'name': 'Tong Zhu', 'org': 'Dept. of Comput....\n",
              "1443452  2032879541  [{'name': 'John Ayoade', 'org': 'American Univ...\n",
              "1443458  2032880699  [{'name': 'Adrian Rusu', 'org': 'Dept. of Comp...\n",
              "1443466  2032881482  [{'name': 'Óscar J. Rubio', 'org': 'Aragon In...\n",
              "4894080    99956490  [{'name': 'Egon Börger', 'org': 'Institut für ...\n",
              "\n",
              "[3777107 rows x 2 columns]"
            ]
          },
          "execution_count": 92,
          "metadata": {},
          "output_type": "execute_result"
        }
      ],
      "source": [
        "# We consider the original dataset to have the orginal number of total papers published\n",
        "top_authors= dataset[['id','authors']]\n",
        "top_authors"
      ]
    },
    {
      "cell_type": "code",
      "execution_count": 93,
      "metadata": {
        "colab": {
          "base_uri": "https://localhost:8080/",
          "height": 91
        },
        "id": "O_Oi-um3Ix7T",
        "outputId": "a1ea91aa-cac2-471c-87d9-0fa42fe46d71"
      },
      "outputs": [
        {
          "data": {
            "text/plain": [
              "\"[{'name': 'Makoto Satoh', 'org': 'Shinshu University', 'id': 2312688602}, {'name': 'Ryo Muramatsu', 'org': 'Shinshu University', 'id': 2482909946}, {'name': 'Mizue Kayama', 'org': 'Shinshu University', 'id': 2128134587}, {'name': 'Kazunori Itoh', 'org': 'Shinshu University', 'id': 2101782692}, {'name': 'Masami Hashimoto', 'org': 'Shinshu University', 'id': 2114054191}, {'name': 'Makoto Otani', 'org': 'Shinshu University', 'id': 1989208940}, {'name': 'Michio Shimizu', 'org': 'Nagano Prefectural College', 'id': 2134989941}, {'name': 'Masahiko Sugimoto', 'org': 'Takushoku University, Hokkaido Junior College', 'id': 2307479915}]\""
            ]
          },
          "execution_count": 93,
          "metadata": {},
          "output_type": "execute_result"
        }
      ],
      "source": [
        "# We see how our data is structured and how authors-ids are stored\n",
        "top_authors['authors'][0]"
      ]
    },
    {
      "cell_type": "code",
      "execution_count": 94,
      "metadata": {
        "id": "Bvd6j34qK5Ov"
      },
      "outputs": [],
      "source": [
        "# We construct our counter as a dictionary\n",
        "authors_publishedict = defaultdict(int)\n",
        "\n",
        "for idx, row in top_authors.iterrows():\n",
        "    authors = row['authors']\n",
        "\n",
        "    # Iterate over author dictionaries in the 'authors' columns list\n",
        "    for auth_dict in ast.literal_eval(authors):\n",
        "        author_id = auth_dict.get('id')\n",
        "\n",
        "        # Count the occurrences of each author_id in authors_publishedict\n",
        "        authors_publishedict[author_id] += 1\n",
        "\n"
      ]
    },
    {
      "cell_type": "code",
      "execution_count": 95,
      "metadata": {
        "id": "oCZ4cdiap5GF"
      },
      "outputs": [],
      "source": [
        "# Add  a new column to the dataset so we can filter about top-N authors\n",
        "authors_publisheddf= pd.DataFrame(list(authors_publishedict.items()), columns=['id', 'PublicationCount'])"
      ]
    },
    {
      "cell_type": "code",
      "execution_count": 96,
      "metadata": {
        "id": "0cXrLxGhaHL2"
      },
      "outputs": [],
      "source": [
        "path_csv = '/content/authors_publisheddf.csv'\n",
        "authors_publisheddf.to_csv(path_csv, index=False)"
      ]
    },
    {
      "cell_type": "code",
      "execution_count": 96,
      "metadata": {
        "colab": {
          "base_uri": "https://localhost:8080/",
          "height": 424
        },
        "id": "b-E_z5_YAgb2",
        "outputId": "09fdca1b-2a1b-472a-e05e-ec934f896b5e"
      },
      "outputs": [
        {
          "data": {
            "text/html": [
              "<div>\n",
              "<style scoped>\n",
              "    .dataframe tbody tr th:only-of-type {\n",
              "        vertical-align: middle;\n",
              "    }\n",
              "\n",
              "    .dataframe tbody tr th {\n",
              "        vertical-align: top;\n",
              "    }\n",
              "\n",
              "    .dataframe thead th {\n",
              "        text-align: right;\n",
              "    }\n",
              "</style>\n",
              "<table border=\"1\" class=\"dataframe\">\n",
              "  <thead>\n",
              "    <tr style=\"text-align: right;\">\n",
              "      <th></th>\n",
              "      <th>id</th>\n",
              "      <th>PublicationCount</th>\n",
              "    </tr>\n",
              "  </thead>\n",
              "  <tbody>\n",
              "    <tr>\n",
              "      <th>4650</th>\n",
              "      <td>1976698169</td>\n",
              "      <td>1290</td>\n",
              "    </tr>\n",
              "    <tr>\n",
              "      <th>13109</th>\n",
              "      <td>703410400</td>\n",
              "      <td>1153</td>\n",
              "    </tr>\n",
              "    <tr>\n",
              "      <th>1919</th>\n",
              "      <td>2125104194</td>\n",
              "      <td>1135</td>\n",
              "    </tr>\n",
              "    <tr>\n",
              "      <th>5920</th>\n",
              "      <td>2029230138</td>\n",
              "      <td>1084</td>\n",
              "    </tr>\n",
              "    <tr>\n",
              "      <th>10259</th>\n",
              "      <td>688402840</td>\n",
              "      <td>1061</td>\n",
              "    </tr>\n",
              "    <tr>\n",
              "      <th>...</th>\n",
              "      <td>...</td>\n",
              "      <td>...</td>\n",
              "    </tr>\n",
              "    <tr>\n",
              "      <th>1667906</th>\n",
              "      <td>2529296952</td>\n",
              "      <td>1</td>\n",
              "    </tr>\n",
              "    <tr>\n",
              "      <th>1667905</th>\n",
              "      <td>2168883319</td>\n",
              "      <td>1</td>\n",
              "    </tr>\n",
              "    <tr>\n",
              "      <th>1667904</th>\n",
              "      <td>2974858411</td>\n",
              "      <td>1</td>\n",
              "    </tr>\n",
              "    <tr>\n",
              "      <th>1667901</th>\n",
              "      <td>2438493545</td>\n",
              "      <td>1</td>\n",
              "    </tr>\n",
              "    <tr>\n",
              "      <th>3272178</th>\n",
              "      <td>2973909829</td>\n",
              "      <td>1</td>\n",
              "    </tr>\n",
              "  </tbody>\n",
              "</table>\n",
              "<p>3272179 rows × 2 columns</p>\n",
              "</div>"
            ],
            "text/plain": [
              "                 id  PublicationCount\n",
              "4650     1976698169              1290\n",
              "13109     703410400              1153\n",
              "1919     2125104194              1135\n",
              "5920     2029230138              1084\n",
              "10259     688402840              1061\n",
              "...             ...               ...\n",
              "1667906  2529296952                 1\n",
              "1667905  2168883319                 1\n",
              "1667904  2974858411                 1\n",
              "1667901  2438493545                 1\n",
              "3272178  2973909829                 1\n",
              "\n",
              "[3272179 rows x 2 columns]"
            ]
          },
          "execution_count": 96,
          "metadata": {},
          "output_type": "execute_result"
        }
      ],
      "source": [
        "new_df = authors_publisheddf.sort_values(by='PublicationCount', ascending=False)\n",
        "new_df"
      ]
    },
    {
      "cell_type": "markdown",
      "metadata": {
        "id": "mL5qDsXRPgjf"
      },
      "source": [
        "#### To implement the thirs feature we need some more function which, for readibility, we stored in a python file. We check all details there: you will find\n",
        "\n",
        "> **extract (graph, N)**: the function that filters for the top N authors\n",
        "\n",
        "> **dijkstra (graph, start, stop)** : a function which finds the shortest path for a weighted graph between the first and the end node\n",
        "\n",
        "> **connectauthor (graph, start, end, list)**: a function that returns the shortest connected graph which considers visiting all the node in the list in that order."
      ]
    },
    {
      "cell_type": "code",
      "execution_count": 102,
      "metadata": {
        "id": "T4j-vSCXVFOO"
      },
      "outputs": [
        {
          "ename": "FileNotFoundError",
          "evalue": "[Errno 2] No such file or directory: '/media/alberto/STORE N GO/cartellaprovvisorio/authors_publisheddf.csv'",
          "output_type": "error",
          "traceback": [
            "\u001b[0;31m---------------------------------------------------------------------------\u001b[0m",
            "\u001b[0;31mFileNotFoundError\u001b[0m                         Traceback (most recent call last)",
            "\u001b[0;32m<ipython-input-102-fe58f4950c6a>\u001b[0m in \u001b[0;36m<module>\u001b[0;34m\u001b[0m\n\u001b[1;32m      1\u001b[0m \u001b[0;31m# Importing our function\u001b[0m\u001b[0;34m\u001b[0m\u001b[0;34m\u001b[0m\u001b[0;34m\u001b[0m\u001b[0m\n\u001b[0;32m----> 2\u001b[0;31m \u001b[0;32mimport\u001b[0m \u001b[0mfeature3file\u001b[0m \u001b[0;32mas\u001b[0m \u001b[0mf3\u001b[0m\u001b[0;34m\u001b[0m\u001b[0;34m\u001b[0m\u001b[0m\n\u001b[0m",
            "\u001b[0;32m~/Data_Science/ADM/HMW5/feature3file.py\u001b[0m in \u001b[0;36m<module>\u001b[0;34m\u001b[0m\n\u001b[1;32m     12\u001b[0m \u001b[0;34m\u001b[0m\u001b[0m\n\u001b[1;32m     13\u001b[0m \u001b[0;31m# Leggi il file CSV e assegna i dati a un DataFrame\u001b[0m\u001b[0;34m\u001b[0m\u001b[0;34m\u001b[0m\u001b[0;34m\u001b[0m\u001b[0m\n\u001b[0;32m---> 14\u001b[0;31m \u001b[0mauthors_publisheddf\u001b[0m \u001b[0;34m=\u001b[0m \u001b[0mpd\u001b[0m\u001b[0;34m.\u001b[0m\u001b[0mread_csv\u001b[0m\u001b[0;34m(\u001b[0m\u001b[0mpath_csv\u001b[0m\u001b[0;34m)\u001b[0m\u001b[0;34m\u001b[0m\u001b[0;34m\u001b[0m\u001b[0m\n\u001b[0m\u001b[1;32m     15\u001b[0m \u001b[0;34m\u001b[0m\u001b[0m\n\u001b[1;32m     16\u001b[0m \u001b[0;31m#Extracts a subgraph from the collaboration graph based on the top N authors.\u001b[0m\u001b[0;34m\u001b[0m\u001b[0;34m\u001b[0m\u001b[0;34m\u001b[0m\u001b[0m\n",
            "\u001b[0;32m~/anaconda3/lib/python3.7/site-packages/pandas/io/parsers.py\u001b[0m in \u001b[0;36mread_csv\u001b[0;34m(filepath_or_buffer, sep, delimiter, header, names, index_col, usecols, squeeze, prefix, mangle_dupe_cols, dtype, engine, converters, true_values, false_values, skipinitialspace, skiprows, skipfooter, nrows, na_values, keep_default_na, na_filter, verbose, skip_blank_lines, parse_dates, infer_datetime_format, keep_date_col, date_parser, dayfirst, cache_dates, iterator, chunksize, compression, thousands, decimal, lineterminator, quotechar, quoting, doublequote, escapechar, comment, encoding, dialect, error_bad_lines, warn_bad_lines, delim_whitespace, low_memory, memory_map, float_precision, storage_options)\u001b[0m\n\u001b[1;32m    603\u001b[0m     \u001b[0mkwds\u001b[0m\u001b[0;34m.\u001b[0m\u001b[0mupdate\u001b[0m\u001b[0;34m(\u001b[0m\u001b[0mkwds_defaults\u001b[0m\u001b[0;34m)\u001b[0m\u001b[0;34m\u001b[0m\u001b[0;34m\u001b[0m\u001b[0m\n\u001b[1;32m    604\u001b[0m \u001b[0;34m\u001b[0m\u001b[0m\n\u001b[0;32m--> 605\u001b[0;31m     \u001b[0;32mreturn\u001b[0m \u001b[0m_read\u001b[0m\u001b[0;34m(\u001b[0m\u001b[0mfilepath_or_buffer\u001b[0m\u001b[0;34m,\u001b[0m \u001b[0mkwds\u001b[0m\u001b[0;34m)\u001b[0m\u001b[0;34m\u001b[0m\u001b[0;34m\u001b[0m\u001b[0m\n\u001b[0m\u001b[1;32m    606\u001b[0m \u001b[0;34m\u001b[0m\u001b[0m\n\u001b[1;32m    607\u001b[0m \u001b[0;34m\u001b[0m\u001b[0m\n",
            "\u001b[0;32m~/anaconda3/lib/python3.7/site-packages/pandas/io/parsers.py\u001b[0m in \u001b[0;36m_read\u001b[0;34m(filepath_or_buffer, kwds)\u001b[0m\n\u001b[1;32m    455\u001b[0m \u001b[0;34m\u001b[0m\u001b[0m\n\u001b[1;32m    456\u001b[0m     \u001b[0;31m# Create the parser.\u001b[0m\u001b[0;34m\u001b[0m\u001b[0;34m\u001b[0m\u001b[0;34m\u001b[0m\u001b[0m\n\u001b[0;32m--> 457\u001b[0;31m     \u001b[0mparser\u001b[0m \u001b[0;34m=\u001b[0m \u001b[0mTextFileReader\u001b[0m\u001b[0;34m(\u001b[0m\u001b[0mfilepath_or_buffer\u001b[0m\u001b[0;34m,\u001b[0m \u001b[0;34m**\u001b[0m\u001b[0mkwds\u001b[0m\u001b[0;34m)\u001b[0m\u001b[0;34m\u001b[0m\u001b[0;34m\u001b[0m\u001b[0m\n\u001b[0m\u001b[1;32m    458\u001b[0m \u001b[0;34m\u001b[0m\u001b[0m\n\u001b[1;32m    459\u001b[0m     \u001b[0;32mif\u001b[0m \u001b[0mchunksize\u001b[0m \u001b[0;32mor\u001b[0m \u001b[0miterator\u001b[0m\u001b[0;34m:\u001b[0m\u001b[0;34m\u001b[0m\u001b[0;34m\u001b[0m\u001b[0m\n",
            "\u001b[0;32m~/anaconda3/lib/python3.7/site-packages/pandas/io/parsers.py\u001b[0m in \u001b[0;36m__init__\u001b[0;34m(self, f, engine, **kwds)\u001b[0m\n\u001b[1;32m    812\u001b[0m             \u001b[0mself\u001b[0m\u001b[0;34m.\u001b[0m\u001b[0moptions\u001b[0m\u001b[0;34m[\u001b[0m\u001b[0;34m\"has_index_names\"\u001b[0m\u001b[0;34m]\u001b[0m \u001b[0;34m=\u001b[0m \u001b[0mkwds\u001b[0m\u001b[0;34m[\u001b[0m\u001b[0;34m\"has_index_names\"\u001b[0m\u001b[0;34m]\u001b[0m\u001b[0;34m\u001b[0m\u001b[0;34m\u001b[0m\u001b[0m\n\u001b[1;32m    813\u001b[0m \u001b[0;34m\u001b[0m\u001b[0m\n\u001b[0;32m--> 814\u001b[0;31m         \u001b[0mself\u001b[0m\u001b[0;34m.\u001b[0m\u001b[0m_engine\u001b[0m \u001b[0;34m=\u001b[0m \u001b[0mself\u001b[0m\u001b[0;34m.\u001b[0m\u001b[0m_make_engine\u001b[0m\u001b[0;34m(\u001b[0m\u001b[0mself\u001b[0m\u001b[0;34m.\u001b[0m\u001b[0mengine\u001b[0m\u001b[0;34m)\u001b[0m\u001b[0;34m\u001b[0m\u001b[0;34m\u001b[0m\u001b[0m\n\u001b[0m\u001b[1;32m    815\u001b[0m \u001b[0;34m\u001b[0m\u001b[0m\n\u001b[1;32m    816\u001b[0m     \u001b[0;32mdef\u001b[0m \u001b[0mclose\u001b[0m\u001b[0;34m(\u001b[0m\u001b[0mself\u001b[0m\u001b[0;34m)\u001b[0m\u001b[0;34m:\u001b[0m\u001b[0;34m\u001b[0m\u001b[0;34m\u001b[0m\u001b[0m\n",
            "\u001b[0;32m~/anaconda3/lib/python3.7/site-packages/pandas/io/parsers.py\u001b[0m in \u001b[0;36m_make_engine\u001b[0;34m(self, engine)\u001b[0m\n\u001b[1;32m   1043\u001b[0m             )\n\u001b[1;32m   1044\u001b[0m         \u001b[0;31m# error: Too many arguments for \"ParserBase\"\u001b[0m\u001b[0;34m\u001b[0m\u001b[0;34m\u001b[0m\u001b[0;34m\u001b[0m\u001b[0m\n\u001b[0;32m-> 1045\u001b[0;31m         \u001b[0;32mreturn\u001b[0m \u001b[0mmapping\u001b[0m\u001b[0;34m[\u001b[0m\u001b[0mengine\u001b[0m\u001b[0;34m]\u001b[0m\u001b[0;34m(\u001b[0m\u001b[0mself\u001b[0m\u001b[0;34m.\u001b[0m\u001b[0mf\u001b[0m\u001b[0;34m,\u001b[0m \u001b[0;34m**\u001b[0m\u001b[0mself\u001b[0m\u001b[0;34m.\u001b[0m\u001b[0moptions\u001b[0m\u001b[0;34m)\u001b[0m  \u001b[0;31m# type: ignore[call-arg]\u001b[0m\u001b[0;34m\u001b[0m\u001b[0;34m\u001b[0m\u001b[0m\n\u001b[0m\u001b[1;32m   1046\u001b[0m \u001b[0;34m\u001b[0m\u001b[0m\n\u001b[1;32m   1047\u001b[0m     \u001b[0;32mdef\u001b[0m \u001b[0m_failover_to_python\u001b[0m\u001b[0;34m(\u001b[0m\u001b[0mself\u001b[0m\u001b[0;34m)\u001b[0m\u001b[0;34m:\u001b[0m\u001b[0;34m\u001b[0m\u001b[0;34m\u001b[0m\u001b[0m\n",
            "\u001b[0;32m~/anaconda3/lib/python3.7/site-packages/pandas/io/parsers.py\u001b[0m in \u001b[0;36m__init__\u001b[0;34m(self, src, **kwds)\u001b[0m\n\u001b[1;32m   1860\u001b[0m \u001b[0;34m\u001b[0m\u001b[0m\n\u001b[1;32m   1861\u001b[0m         \u001b[0;31m# open handles\u001b[0m\u001b[0;34m\u001b[0m\u001b[0;34m\u001b[0m\u001b[0;34m\u001b[0m\u001b[0m\n\u001b[0;32m-> 1862\u001b[0;31m         \u001b[0mself\u001b[0m\u001b[0;34m.\u001b[0m\u001b[0m_open_handles\u001b[0m\u001b[0;34m(\u001b[0m\u001b[0msrc\u001b[0m\u001b[0;34m,\u001b[0m \u001b[0mkwds\u001b[0m\u001b[0;34m)\u001b[0m\u001b[0;34m\u001b[0m\u001b[0;34m\u001b[0m\u001b[0m\n\u001b[0m\u001b[1;32m   1863\u001b[0m         \u001b[0;32massert\u001b[0m \u001b[0mself\u001b[0m\u001b[0;34m.\u001b[0m\u001b[0mhandles\u001b[0m \u001b[0;32mis\u001b[0m \u001b[0;32mnot\u001b[0m \u001b[0;32mNone\u001b[0m\u001b[0;34m\u001b[0m\u001b[0;34m\u001b[0m\u001b[0m\n\u001b[1;32m   1864\u001b[0m         \u001b[0;32mfor\u001b[0m \u001b[0mkey\u001b[0m \u001b[0;32min\u001b[0m \u001b[0;34m(\u001b[0m\u001b[0;34m\"storage_options\"\u001b[0m\u001b[0;34m,\u001b[0m \u001b[0;34m\"encoding\"\u001b[0m\u001b[0;34m,\u001b[0m \u001b[0;34m\"memory_map\"\u001b[0m\u001b[0;34m,\u001b[0m \u001b[0;34m\"compression\"\u001b[0m\u001b[0;34m)\u001b[0m\u001b[0;34m:\u001b[0m\u001b[0;34m\u001b[0m\u001b[0;34m\u001b[0m\u001b[0m\n",
            "\u001b[0;32m~/anaconda3/lib/python3.7/site-packages/pandas/io/parsers.py\u001b[0m in \u001b[0;36m_open_handles\u001b[0;34m(self, src, kwds)\u001b[0m\n\u001b[1;32m   1361\u001b[0m             \u001b[0mcompression\u001b[0m\u001b[0;34m=\u001b[0m\u001b[0mkwds\u001b[0m\u001b[0;34m.\u001b[0m\u001b[0mget\u001b[0m\u001b[0;34m(\u001b[0m\u001b[0;34m\"compression\"\u001b[0m\u001b[0;34m,\u001b[0m \u001b[0;32mNone\u001b[0m\u001b[0;34m)\u001b[0m\u001b[0;34m,\u001b[0m\u001b[0;34m\u001b[0m\u001b[0;34m\u001b[0m\u001b[0m\n\u001b[1;32m   1362\u001b[0m             \u001b[0mmemory_map\u001b[0m\u001b[0;34m=\u001b[0m\u001b[0mkwds\u001b[0m\u001b[0;34m.\u001b[0m\u001b[0mget\u001b[0m\u001b[0;34m(\u001b[0m\u001b[0;34m\"memory_map\"\u001b[0m\u001b[0;34m,\u001b[0m \u001b[0;32mFalse\u001b[0m\u001b[0;34m)\u001b[0m\u001b[0;34m,\u001b[0m\u001b[0;34m\u001b[0m\u001b[0;34m\u001b[0m\u001b[0m\n\u001b[0;32m-> 1363\u001b[0;31m             \u001b[0mstorage_options\u001b[0m\u001b[0;34m=\u001b[0m\u001b[0mkwds\u001b[0m\u001b[0;34m.\u001b[0m\u001b[0mget\u001b[0m\u001b[0;34m(\u001b[0m\u001b[0;34m\"storage_options\"\u001b[0m\u001b[0;34m,\u001b[0m \u001b[0;32mNone\u001b[0m\u001b[0;34m)\u001b[0m\u001b[0;34m,\u001b[0m\u001b[0;34m\u001b[0m\u001b[0;34m\u001b[0m\u001b[0m\n\u001b[0m\u001b[1;32m   1364\u001b[0m         )\n\u001b[1;32m   1365\u001b[0m \u001b[0;34m\u001b[0m\u001b[0m\n",
            "\u001b[0;32m~/anaconda3/lib/python3.7/site-packages/pandas/io/common.py\u001b[0m in \u001b[0;36mget_handle\u001b[0;34m(path_or_buf, mode, encoding, compression, memory_map, is_text, errors, storage_options)\u001b[0m\n\u001b[1;32m    645\u001b[0m                 \u001b[0mencoding\u001b[0m\u001b[0;34m=\u001b[0m\u001b[0mioargs\u001b[0m\u001b[0;34m.\u001b[0m\u001b[0mencoding\u001b[0m\u001b[0;34m,\u001b[0m\u001b[0;34m\u001b[0m\u001b[0;34m\u001b[0m\u001b[0m\n\u001b[1;32m    646\u001b[0m                 \u001b[0merrors\u001b[0m\u001b[0;34m=\u001b[0m\u001b[0merrors\u001b[0m\u001b[0;34m,\u001b[0m\u001b[0;34m\u001b[0m\u001b[0;34m\u001b[0m\u001b[0m\n\u001b[0;32m--> 647\u001b[0;31m                 \u001b[0mnewline\u001b[0m\u001b[0;34m=\u001b[0m\u001b[0;34m\"\"\u001b[0m\u001b[0;34m,\u001b[0m\u001b[0;34m\u001b[0m\u001b[0;34m\u001b[0m\u001b[0m\n\u001b[0m\u001b[1;32m    648\u001b[0m             )\n\u001b[1;32m    649\u001b[0m         \u001b[0;32melse\u001b[0m\u001b[0;34m:\u001b[0m\u001b[0;34m\u001b[0m\u001b[0;34m\u001b[0m\u001b[0m\n",
            "\u001b[0;31mFileNotFoundError\u001b[0m: [Errno 2] No such file or directory: '/media/alberto/STORE N GO/cartellaprovvisorio/authors_publisheddf.csv'"
          ]
        }
      ],
      "source": [
        "# Importing our function\n",
        "import feature3file as f3"
      ]
    },
    {
      "cell_type": "code",
      "execution_count": 115,
      "metadata": {
        "colab": {
          "base_uri": "https://localhost:8080/"
        },
        "id": "kr0ORao8dnM6",
        "outputId": "f21fb9bd-eb38-4a19-f795-eaff603ed1b3"
      },
      "outputs": [
        {
          "data": {
            "text/plain": [
              "[2104401652,\n",
              " 351197510,\n",
              " 2435751034,\n",
              " 2128170596,\n",
              " 1978529654,\n",
              " 1973035492,\n",
              " 2159063947,\n",
              " 2007415138,\n",
              " 2027658599]"
            ]
          },
          "execution_count": 115,
          "metadata": {},
          "output_type": "execute_result"
        }
      ],
      "source": [
        "# An example\n",
        "f3.connectauthor(G_collaboration, 2104401652, 2027658599, 150, [2007415138] )"
      ]
    },
    {
      "cell_type": "markdown",
      "metadata": {
        "id": "FyCKKp5mVbRu"
      },
      "source": [
        "How is the subgraph? Is it enough dense to get some reasonable path? We visualize it leveraging some previous code"
      ]
    },
    {
      "cell_type": "code",
      "execution_count": 108,
      "metadata": {
        "colab": {
          "base_uri": "https://localhost:8080/",
          "height": 516
        },
        "id": "AvDcHC7FViwm",
        "outputId": "7c394dc8-6d01-42c8-b614-3a2fb0456a49"
      },
      "outputs": [
        {
          "data": {
            "image/png": "[encoded data removed]",
            "text/plain": [
              "<Figure size 640x480 with 1 Axes>"
            ]
          },
          "metadata": {},
          "output_type": "display_data"
        }
      ],
      "source": [
        "# Selecting a subgraph with the top 120 authors\n",
        "subres =f3.extract(G_collaboration, 120)\n",
        "\n",
        "#See code in exercise1\n",
        "nodes_to_show_sub = list(subres.nodes())[:25]\n",
        "subgraph_collaboration = subres.subgraph(nodes_to_show_sub)\n",
        "pos = nx.spring_layout(subgraph_collaboration)\n",
        "nx.draw(subgraph_collaboration, pos, with_labels=True, font_weight='bold', node_size=700)\n",
        "edge_weights = {(i, j): subgraph_collaboration[i][j]['weight'] for i, j in subgraph_collaboration.edges()}\n",
        "nx.draw_networkx_edges(subgraph_collaboration, pos, width=[subgraph_collaboration[i][j]['weight'] for i, j in subgraph_collaboration.edges()])\n",
        "nx.draw_networkx_edge_labels(subgraph_collaboration, pos, edge_labels=edge_weights, font_color='red')\n",
        "\n",
        "plt.show()"
      ]
    },
    {
      "cell_type": "code",
      "execution_count": 130,
      "metadata": {
        "colab": {
          "base_uri": "https://localhost:8080/"
        },
        "id": "yYPyFVYIgQZP",
        "outputId": "22ab00b0-1257-400c-932a-027c9ec5397f"
      },
      "outputs": [
        {
          "data": {
            "text/plain": [
              "82"
            ]
          },
          "execution_count": 130,
          "metadata": {},
          "output_type": "execute_result"
        }
      ],
      "source": [
        "subres.number_of_nodes()"
      ]
    },
    {
      "cell_type": "code",
      "execution_count": 131,
      "metadata": {
        "colab": {
          "base_uri": "https://localhost:8080/"
        },
        "id": "0Ff7LishgyXQ",
        "outputId": "d3da408a-3e49-48aa-d211-f0c60425fa6c"
      },
      "outputs": [
        {
          "data": {
            "text/plain": [
              "10"
            ]
          },
          "execution_count": 131,
          "metadata": {},
          "output_type": "execute_result"
        }
      ],
      "source": [
        "subres.number_of_edges()"
      ]
    },
    {
      "cell_type": "code",
      "execution_count": 129,
      "metadata": {
        "colab": {
          "base_uri": "https://localhost:8080/"
        },
        "id": "wUU2oi80f0ij",
        "outputId": "431d6a21-7c91-4cec-aadf-175f35828745"
      },
      "outputs": [
        {
          "data": {
            "text/plain": [
              "[2029230138, 2082044953]"
            ]
          },
          "execution_count": 129,
          "metadata": {},
          "output_type": "execute_result"
        }
      ],
      "source": [
        "# Filtered by top N author\n",
        "f3.connectauthor(subres, 2029230138, 2082044953, 150)"
      ]
    },
    {
      "cell_type": "markdown",
      "metadata": {
        "id": "6K19uX96QpWn"
      },
      "source": [
        "#### As subgraph had only few edges (only 10!) we decide to plot with some different strategy w.r.t the one asked. We will proceed anagously for the fourth feature."
      ]
    },
    {
      "cell_type": "markdown",
      "metadata": {
        "id": "4SoBxFsrRNbu"
      },
      "source": [
        "**Functionality 4 - Disconnecting Graphs**\n",
        "\n",
        "The functionality is designed to calculate the minimum number of edges (taking into account their weights) required to disconnect the original graph into two disconnected subgraphs, denoted as G_a and G_b.\n",
        "\n",
        "---\n",
        "\n",
        "**In the code we left some commented code to get the total weight of the minum mincut but by definition getting a minim number of edges is just a number and does not depend on the weights.**\n",
        "\n",
        "\n",
        "Indeed if we have two possibility of having the same number of edges with different combination of edges such to have different cost we will still get the same number of minimum number of edges.\n",
        "\n",
        "---\n",
        "\n"
      ]
    },
    {
      "cell_type": "markdown",
      "metadata": {
        "id": "cMCAJ9BUe6AK"
      },
      "source": [
        "#### Karger a randdomized algorithm"
      ]
    },
    {
      "cell_type": "markdown",
      "metadata": {
        "id": "9m78zpTzNcCX"
      },
      "source": [
        "Yes, the **Karger**'s algorithm is a randomized algorithm, which means that its result can vary across different executions of the same input. Randomization is introduced in the choice of edges to contract during the graph contraction process. This randomness is used to achieve a higher probability of contracting edges that lead to the correct solution.\n",
        "\n",
        "Karger's algorithm works through a series of random contractions of graph edges until only two nodes remain, representing the remaining connected components. The randomness in the algorithm increases the probability of obtaining an approximate solution, but not necessarily the optimal one, in reasonable time.\n",
        "\n",
        "In summary, randomization in Karger's algorithm is used as a strategy to more effectively explore the solution space and obtain approximate results in reasonable times."
      ]
    },
    {
      "cell_type": "code",
      "execution_count": 100,
      "metadata": {
        "id": "Iu0iMn-f7ThV"
      },
      "outputs": [],
      "source": [
        "import feature4 as f4"
      ]
    },
    {
      "cell_type": "markdown",
      "metadata": {
        "id": "Bon22Hi-ZUzZ"
      },
      "source": [
        "\n",
        "**AS IT IS A PROBABILISTIC ALGORITHIM WE THEN PERFORM THE OPERATION 10 TIMES BY DEFAULT AND TAKE THE NUMBER OF EDGES THAT MINIMIZES THE TOTAL COST**\n",
        "\n",
        "Moreover we implement the functionality such that it returns not only the minimum numbers of the edges but all the path as couples of edges as it is the correct format if we want to remove it from the original graph and return also the weight of the nodes excluded edges so to consider the fact the graph is weighted.\n",
        "\n",
        "\n",
        "---\n",
        "\n",
        "**This would already be a reasonable solution** that considers the weights: if we define a distance function that equals one if two nodes are different and zero if we consider the same node; we can then consider a rule that takes into account positive distance with weights.\n",
        "\n",
        "As the request has several possible interpretretations and **as it is a probabilistic algorithm, it might be useful to repeat the experiment several times and see the solution with the minimum weight**.\n",
        "\n",
        "#### this is the road we will follow\n",
        "\n",
        "\n"
      ]
    },
    {
      "cell_type": "markdown",
      "metadata": {
        "id": "duI75wmrNhN1"
      },
      "source": [
        "#### To implement the thirs feature we need some more function which, for readibility, we stored in a python file. We check all details there: you will find\n",
        "\n",
        "> **find_components_dfs (graph)**: the function that finds all connected components in a graph\n",
        "\n",
        "> **contract_edge (graph, node1, node2)** : a function which returns the new graph whith the contracted nodes and edges adjusted appropriatly\n",
        "\n",
        "> **custom_karger (graph, start, end, list)**: a function that returns the shortest minicut choosing randomly the edges to select\n",
        "\n",
        "> **considerweight(graph, start, end, it=10)**: Iterates to get the minicut $it$\n",
        "times\n",
        "\n",
        "> **weigthedmincut(list of the resulst)**: select the result with the minimum weight minicut"
      ]
    },
    {
      "cell_type": "markdown",
      "metadata": {
        "id": "Ymdx9kl0lNmc"
      },
      "source": [
        "We list which nodes will be removed"
      ]
    },
    {
      "cell_type": "code",
      "execution_count": 111,
      "metadata": {
        "colab": {
          "base_uri": "https://localhost:8080/"
        },
        "id": "Q5WCQNxM4km4",
        "outputId": "e53b86a0-a338-442e-fc91-5c0971ff46c1"
      },
      "outputs": [
        {
          "ename": "RuntimeError",
          "evalue": "dictionary changed size during iteration",
          "output_type": "error",
          "traceback": [
            "\u001b[0;31m---------------------------------------------------------------------------\u001b[0m",
            "\u001b[0;31mRuntimeError\u001b[0m                              Traceback (most recent call last)",
            "\u001b[0;32m<ipython-input-111-3b8ab15031c4>\u001b[0m in \u001b[0;36m<module>\u001b[0;34m\u001b[0m\n\u001b[0;32m----> 1\u001b[0;31m \u001b[0mf4\u001b[0m\u001b[0;34m.\u001b[0m\u001b[0mcustom_karger\u001b[0m\u001b[0;34m(\u001b[0m\u001b[0mG_collaboration\u001b[0m\u001b[0;34m,\u001b[0m \u001b[0;36m2104401652\u001b[0m\u001b[0;34m,\u001b[0m \u001b[0;36m2027658599\u001b[0m\u001b[0;34m)\u001b[0m\u001b[0;34m\u001b[0m\u001b[0;34m\u001b[0m\u001b[0m\n\u001b[0m",
            "\u001b[0;32m~/Data_Science/ADM/HMW5/feature4.py\u001b[0m in \u001b[0;36mcustom_karger\u001b[0;34m(graph, node1, node2)\u001b[0m\n\u001b[1;32m     87\u001b[0m \u001b[0;34m\u001b[0m\u001b[0m\n\u001b[1;32m     88\u001b[0m         \u001b[0;31m# Contract the selected edge\u001b[0m\u001b[0;34m\u001b[0m\u001b[0;34m\u001b[0m\u001b[0;34m\u001b[0m\u001b[0m\n\u001b[0;32m---> 89\u001b[0;31m         \u001b[0mgraph\u001b[0m \u001b[0;34m=\u001b[0m \u001b[0mcontract_edge\u001b[0m\u001b[0;34m(\u001b[0m\u001b[0mgr\u001b[0m\u001b[0;34m,\u001b[0m \u001b[0mu\u001b[0m\u001b[0;34m,\u001b[0m \u001b[0mv\u001b[0m\u001b[0;34m)\u001b[0m\u001b[0;34m\u001b[0m\u001b[0;34m\u001b[0m\u001b[0m\n\u001b[0m\u001b[1;32m     90\u001b[0m \u001b[0;34m\u001b[0m\u001b[0m\n\u001b[1;32m     91\u001b[0m     \u001b[0;31m# Returns the connected components\u001b[0m\u001b[0;34m\u001b[0m\u001b[0;34m\u001b[0m\u001b[0;34m\u001b[0m\u001b[0m\n",
            "\u001b[0;32m~/Data_Science/ADM/HMW5/feature4.py\u001b[0m in \u001b[0;36mcontract_edge\u001b[0;34m(graphr, u, v)\u001b[0m\n\u001b[1;32m     55\u001b[0m \u001b[0;34m\u001b[0m\u001b[0m\n\u001b[1;32m     56\u001b[0m     \u001b[0;31m# Add the edges to new node which before were connected to v\u001b[0m\u001b[0;34m\u001b[0m\u001b[0;34m\u001b[0m\u001b[0;34m\u001b[0m\u001b[0m\n\u001b[0;32m---> 57\u001b[0;31m     \u001b[0;32mfor\u001b[0m \u001b[0mneighbor\u001b[0m\u001b[0;34m,\u001b[0m \u001b[0medge_data\u001b[0m \u001b[0;32min\u001b[0m \u001b[0mnn\u001b[0m\u001b[0;34m:\u001b[0m\u001b[0;34m\u001b[0m\u001b[0;34m\u001b[0m\u001b[0m\n\u001b[0m\u001b[1;32m     58\u001b[0m         \u001b[0;32mif\u001b[0m \u001b[0mneighbor\u001b[0m \u001b[0;34m!=\u001b[0m \u001b[0mu\u001b[0m\u001b[0;34m:\u001b[0m\u001b[0;34m\u001b[0m\u001b[0;34m\u001b[0m\u001b[0m\n\u001b[1;32m     59\u001b[0m             \u001b[0mgraphr\u001b[0m\u001b[0;34m.\u001b[0m\u001b[0madd_edge\u001b[0m\u001b[0;34m(\u001b[0m\u001b[0mcontracted_node\u001b[0m\u001b[0;34m,\u001b[0m \u001b[0mneighbor\u001b[0m\u001b[0;34m,\u001b[0m \u001b[0;34m**\u001b[0m\u001b[0medge_data\u001b[0m\u001b[0;34m)\u001b[0m\u001b[0;34m\u001b[0m\u001b[0;34m\u001b[0m\u001b[0m\n",
            "\u001b[0;32m~/anaconda3/lib/python3.7/_collections_abc.py\u001b[0m in \u001b[0;36m__iter__\u001b[0;34m(self)\u001b[0m\n\u001b[1;32m    741\u001b[0m \u001b[0;34m\u001b[0m\u001b[0m\n\u001b[1;32m    742\u001b[0m     \u001b[0;32mdef\u001b[0m \u001b[0m__iter__\u001b[0m\u001b[0;34m(\u001b[0m\u001b[0mself\u001b[0m\u001b[0;34m)\u001b[0m\u001b[0;34m:\u001b[0m\u001b[0;34m\u001b[0m\u001b[0;34m\u001b[0m\u001b[0m\n\u001b[0;32m--> 743\u001b[0;31m         \u001b[0;32mfor\u001b[0m \u001b[0mkey\u001b[0m \u001b[0;32min\u001b[0m \u001b[0mself\u001b[0m\u001b[0;34m.\u001b[0m\u001b[0m_mapping\u001b[0m\u001b[0;34m:\u001b[0m\u001b[0;34m\u001b[0m\u001b[0;34m\u001b[0m\u001b[0m\n\u001b[0m\u001b[1;32m    744\u001b[0m             \u001b[0;32myield\u001b[0m \u001b[0;34m(\u001b[0m\u001b[0mkey\u001b[0m\u001b[0;34m,\u001b[0m \u001b[0mself\u001b[0m\u001b[0;34m.\u001b[0m\u001b[0m_mapping\u001b[0m\u001b[0;34m[\u001b[0m\u001b[0mkey\u001b[0m\u001b[0;34m]\u001b[0m\u001b[0;34m)\u001b[0m\u001b[0;34m\u001b[0m\u001b[0;34m\u001b[0m\u001b[0m\n\u001b[1;32m    745\u001b[0m \u001b[0;34m\u001b[0m\u001b[0m\n",
            "\u001b[0;31mRuntimeError\u001b[0m: dictionary changed size during iteration"
          ]
        }
      ],
      "source": [
        "f4.custom_karger(G_collaboration, 2104401652, 2027658599)"
      ]
    },
    {
      "cell_type": "code",
      "execution_count": 26,
      "metadata": {
        "colab": {
          "base_uri": "https://localhost:8080/"
        },
        "id": "JeQh-pLillo9",
        "outputId": "ef3b2df5-06ba-4804-b6fc-fb332256610a"
      },
      "outputs": [
        {
          "data": {
            "text/plain": [
              "12"
            ]
          },
          "execution_count": 26,
          "metadata": {},
          "output_type": "execute_result"
        }
      ],
      "source": [
        "#We find the minimum number of edges through calculating the length\n",
        "minremove= len(f4.custom_karger(G_collaboration, 2104401652, 2027658599))\n",
        "minremove"
      ]
    },
    {
      "cell_type": "code",
      "execution_count": 84,
      "metadata": {
        "id": "ePzSoQ8V1X7d"
      },
      "outputs": [],
      "source": [
        "import feature4 as f4"
      ]
    },
    {
      "cell_type": "code",
      "execution_count": 81,
      "metadata": {
        "colab": {
          "base_uri": "https://localhost:8080/"
        },
        "id": "jwTB8ddvp8sQ",
        "outputId": "53e4c1b1-999d-46a9-d741-383c76e67ee4"
      },
      "outputs": [
        {
          "data": {
            "text/plain": [
              "[(2145713909, 2151103935)]"
            ]
          },
          "execution_count": 81,
          "metadata": {},
          "output_type": "execute_result"
        }
      ],
      "source": [
        "f4.custom_karger(subgraph, 2145713909, 2151103935)"
      ]
    },
    {
      "cell_type": "markdown",
      "metadata": {},
      "source": [
        "### **Functionality 5 - Extracting Communities**"
      ]
    },
    {
      "cell_type": "code",
      "execution_count": 39,
      "metadata": {},
      "outputs": [],
      "source": [
        "from feature5 import functionality5"
      ]
    },
    {
      "cell_type": "code",
      "execution_count": 35,
      "metadata": {},
      "outputs": [],
      "source": [
        "G1 =loaded_G "
      ]
    },
    {
      "cell_type": "code",
      "execution_count": 65,
      "metadata": {},
      "outputs": [],
      "source": [
        "G_undirected = G1.to_undirected()\n",
        "# Calculate the degree centrality for each node and select the top N nodes\n",
        "degree_centrality = nx.degree_centrality(G_undirected)\n",
        "top_N_nodes = sorted(degree_centrality, key=degree_centrality.get, reverse=True)[:50]\n",
        "random.seed(1234)\n",
        "paper1, paper2 = random.sample(top_N_nodes, 2)"
      ]
    },
    {
      "cell_type": "code",
      "execution_count": 66,
      "metadata": {},
      "outputs": [
        {
          "name": "stdout",
          "output_type": "stream",
          "text": [
            "paper1: 2154422044 and paper2: 2066636486\n"
          ]
        }
      ],
      "source": [
        "print(f'paper1: {paper1} and paper2: {paper2}')"
      ]
    },
    {
      "cell_type": "code",
      "execution_count": 67,
      "metadata": {},
      "outputs": [
        {
          "name": "stdout",
          "output_type": "stream",
          "text": [
            "0 [['2147800946', '2163922914', '2165949425', '2131846894', '2108598243', '1988790447', '2066636486', '2161969291', '1880262756', '2151103935', '2154422044', '2102605133', '1971784203', '2150341604', '2076063813', '1686810756', '2064675550', '1986931325', '2296616510', '2618530766', '1995903777', '2912934387', '2119821739', '2117539524', '2163605009', '2031489346', '2072128103', '2164598857', '2168356304', '2162915993', '2124386111', '2147152072', '2121947440', '2104095591', '2153635508', '2132984323'], ['2141885858', '2096525273'], ['1660562555'], ['1791587663', '2100408980', '1987198869'], ['2132932625', '2157457404', '2148251644'], ['1996360405', '2156186849'], ['2159080219', '47957325'], ['2130509920']] 0\n"
          ]
        }
      ],
      "source": [
        "min_edge_removed, communities, same_community = functionality5(G1, N=50, paper1='2154422044', paper2='2066636486')\n",
        "print(min_edge_removed, communities, same_community)"
      ]
    },
    {
      "cell_type": "code",
      "execution_count": 72,
      "metadata": {},
      "outputs": [
        {
          "data": {
            "text/plain": [
              "8"
            ]
          },
          "execution_count": 72,
          "metadata": {},
          "output_type": "execute_result"
        }
      ],
      "source": [
        "num_communities = len(communities)\n",
        "num_communities"
      ]
    },
    {
      "cell_type": "markdown",
      "metadata": {},
      "source": [
        "As we can see we have a list with all the comunities, 8 in this example.\n",
        "We also can see that in this example the two nodes are in the same community"
      ]
    },
    {
      "cell_type": "code",
      "execution_count": 73,
      "metadata": {},
      "outputs": [
        {
          "data": {
            "image/png": "[encoded data removed]",
            "text/plain": [
              "<Figure size 864x576 with 1 Axes>"
            ]
          },
          "metadata": {},
          "output_type": "display_data"
        }
      ],
      "source": [
        "plt.figure(figsize=(12, 8))\n",
        "G_N = G_undirected.subgraph(top_N_nodes)\n",
        "nx.draw(G_N, with_labels = True)\n"
      ]
    },
    {
      "cell_type": "code",
      "execution_count": 76,
      "metadata": {},
      "outputs": [
        {
          "data": {
            "text/plain": [
              "<matplotlib.collections.PathCollection at 0x7f8856f9dd90>"
            ]
          },
          "execution_count": 76,
          "metadata": {},
          "output_type": "execute_result"
        },
        {
          "data": {
            "image/png": "[encoded data removed]",
            "text/plain": [
              "<Figure size 864x576 with 1 Axes>"
            ]
          },
          "metadata": {},
          "output_type": "display_data"
        }
      ],
      "source": [
        "plt.figure(figsize=(12, 8))\n",
        "pos = nx.spring_layout(G_N)\n",
        "nx.draw(G_N, pos, edge_color='k',  with_labels=True,\n",
        "     font_weight='light', node_size= 50, width= 1, arrowsize=10)\n",
        "nx.draw_networkx_edges(G_N, pos, edge_color='black')\n",
        "\n",
        "\n",
        "#For each community list, draw the nodes, giving it a specific color.\n",
        "nx.draw_networkx_nodes(G_N, pos, nodelist=communities[0], node_color='b')\n",
        "nx.draw_networkx_nodes(G_N, pos, nodelist=communities[1], node_color='r')\n",
        "nx.draw_networkx_nodes(G_N, pos, nodelist=communities[2], node_color='g')\n",
        "nx.draw_networkx_nodes(G_N, pos, nodelist=communities[3], node_color='yellow')\n",
        "nx.draw_networkx_nodes(G_N, pos, nodelist=communities[4], node_color='orange')\n",
        "nx.draw_networkx_nodes(G_N, pos, nodelist=communities[5], node_color='pink')\n",
        "nx.draw_networkx_nodes(G_N, pos, nodelist=communities[6], node_color='black')\n",
        "nx.draw_networkx_nodes(G_N, pos, nodelist=communities[6], node_color='purple')"
      ]
    },
    {
      "cell_type": "code",
      "execution_count": 75,
      "metadata": {},
      "outputs": [
        {
          "data": {
            "image/png": "[encoded data removed]",
            "text/plain": [
              "<Figure size 432x288 with 1 Axes>"
            ]
          },
          "metadata": {},
          "output_type": "display_data"
        }
      ],
      "source": [
        "papers_nodes = [paper1, paper2]\n",
        "\n",
        "# Create a list of colors for each node\n",
        "node_colors = ['red' if node in papers_nodes else 'blue' for node in G_N.nodes]\n",
        "\n",
        "# Draw the graph with specified node colors\n",
        "nx.draw(G_N, with_labels=True, node_color=node_colors, font_weight='bold')\n",
        "\n",
        "# Show the plot\n",
        "plt.show()"
      ]
    },
    {
      "cell_type": "markdown",
      "metadata": {},
      "source": [
        "The two nodes in red represent the papers, that in this case are in the same community"
      ]
    },
    {
      "cell_type": "markdown",
      "metadata": {
        "id": "w9VZf1SJzxnA"
      },
      "source": [
        "# Command Line"
      ]
    }
  ],
  "metadata": {
    "colab": {
      "provenance": []
    },
    "kernelspec": {
      "display_name": "Python 3",
      "language": "python",
      "name": "python3"
    },
    "language_info": {
      "codemirror_mode": {
        "name": "ipython",
        "version": 3
      },
      "file_extension": ".py",
      "mimetype": "text/x-python",
      "name": "python",
      "nbconvert_exporter": "python",
      "pygments_lexer": "ipython3",
      "version": "3.7.6"
    }
  },
  "nbformat": 4,
  "nbformat_minor": 0
}
