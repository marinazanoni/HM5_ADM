{
 "cells": [
  {
   "cell_type": "markdown",
   "metadata": {
    "id": "H1Q8UlyqKoVk"
   },
   "source": [
    "## Prelimiar activities"
   ]
  },
  {
   "cell_type": "code",
   "execution_count": null,
   "metadata": {
    "id": "5stN5XVBKoVl"
   },
   "outputs": [],
   "source": [
    "import os\n",
    "import pandas as pd\n",
    "import numpy as np\n",
    "import ijson\n",
    "import time\n",
    "from tqdm.notebook import tqdm\n",
    "import csv\n",
    "import json\n",
    "import random\n",
    "import networkx as nx\n",
    "import numpy as np\n",
    "import matplotlib.pyplot as plt\n",
    "import heapq\n",
    "from sortedcontainers import SortedList\n",
    "import itertools\n",
    "import networkx as nx\n",
    "import matplotlib.pyplot as plt\n",
    "import ast\n",
    "from collections import defaultdict\n",
    "import ast\n",
    "from itertools import combinations\n",
    "import copy"
    "from tabulate import tabulate"
   ]
  },
  {
   "cell_type": "markdown",
   "metadata": {
    "id": "d3QtKn7oAr-U"
   },
   "source": [
    "# **Exploration of a networks for the identification of influential**"
   ]
  },
  {
   "cell_type": "markdown",
   "metadata": {
    "id": "XMcV3CPmz-lL"
   },
   "source": [
    "# **[Q1] Data**"
   ]
  },
  {
   "cell_type": "code",
   "execution_count": null,
   "metadata": {
    "id": "NjKoI-Afz-lb"
   },
   "outputs": [],
   "source": [
    "file_path = 'dblp.v12.json'"
   ]
  },
  {
   "cell_type": "markdown",
   "metadata": {
    "id": "-ZdlnkBSz-lc"
   },
   "source": [
    "### Loading the dataset"
   ]
  },
  {
   "cell_type": "markdown",
   "metadata": {
    "id": "N2JJPPEAz-ld"
   },
   "source": [
    "The main problem with the loading and saving actions on this dataset was related to its dimension, around 12 GB, that made it impossible to read through usual reading techniques, such as `pd.read_json()`. The strategy that we used to manage the problem was processing the original JSON file in batches and splitting it into 2 parts based on the total number of papers; the results were stored into 2 Dataframes, `data_part1` and `data_part2`. These 2 datasets were saved in the `csv` format to make them easier to open, once stored in the computer. Finally, they were merged to form a new dataset, `citations_dataset_final.csv`, that we will use for the whole Point 1."
   ]
  },
  {
   "cell_type": "code",
   "execution_count": null,
   "metadata": {
    "id": "MASAFaB2z-lf"
   },
   "outputs": [],
   "source": [
    "# we decide the size of the batches and on the max number of paper that the data_part1 should contain\n",
    "BATCH_SIZE = 10000\n",
    "TOTAL_PAPERS = 3000000\n",
    "\n",
    "# we define the columns for the final dataset\n",
    "columns = ['id', 'num_authors', 'authors', 'n_citation', 'reference_count', 'references']\n",
    "\n",
    "# we inizialize the 2 Dataframes, data_part1 and data_part2, that will compose the final dataset\n",
    "data_part1 = pd.DataFrame(columns=columns)\n",
    "data_part2 = pd.DataFrame(columns=columns)\n",
    "\n",
    "# open the file using ijson to be able to iterate through the JSON objects\n",
    "with open(file_path, \"rb\") as f:\n",
    "    batch = []\n",
    "\n",
    "    # the track of the iteration is kept by using tqdm\n",
    "    for i, element in tqdm(enumerate(ijson.items(f, \"item\")),\n",
    "                           desc=\"Processing Papers\", unit=\" papers\", total=TOTAL_PAPERS):\n",
    "        paper = {}\n",
    "        paper['id'] = element['id']\n",
    "\n",
    "        # information are extracted about the authors\n",
    "        authors = element.get('authors')\n",
    "        if authors:\n",
    "            paper['num_authors'] = len(authors)\n",
    "            paper['authors'] = [auth for auth in authors]\n",
    "\n",
    "        # information are extracted about the citation count\n",
    "        n_citation = element.get('n_citation')\n",
    "        paper['n_citation'] = n_citation if n_citation else 0\n",
    "\n",
    "        # infomration are extracted about the references\n",
    "        references = element.get('references')\n",
    "        paper['reference_count'] = len(references) if references else np.nan\n",
    "        paper['references'] = references if references else np.nan\n",
    "\n",
    "        batch.append(paper)\n",
    "\n",
    "        # check if the batch is ready to be processed\n",
    "        if len(batch) == BATCH_SIZE:\n",
    "            if i < TOTAL_PAPERS / 2:\n",
    "                data_part1 = pd.concat([data_part1, pd.DataFrame(batch)],\n",
    "                                       ignore_index=True)\n",
    "            else:\n",
    "                data_part2 = pd.concat([data_part2, pd.DataFrame(batch)],\n",
    "                                       ignore_index=True)\n",
    "\n",
    "            batch = []\n",
    "\n",
    "    # process the remaining papers in the last batch\n",
    "    if i < TOTAL_PAPERS / 2:\n",
    "        data_part1 = pd.concat([data_part1, pd.DataFrame(batch)],\n",
    "                               ignore_index=True)\n",
    "    else:\n",
    "        data_part2 = pd.concat([data_part2, pd.DataFrame(batch)],\n",
    "                               ignore_index=True)\n",
    "\n",
    "# store the 2 resulting datasets in the csv format\n",
    "data_part1.to_csv(\"citations_dataset_part1.csv\", index=False)\n",
    "data_part2.to_csv(\"citations_dataset_part2.csv\", index=False)"
   ]
  },
  {
   "cell_type": "code",
   "execution_count": null,
   "metadata": {
    "id": "TeKtVjRlz-lg"
   },
   "outputs": [],
   "source": [
    "data_part1 = pd.read_csv(\"citations_dataset_part1.csv\")\n",
    "data_part2 = pd.read_csv(\"citations_dataset_part2.csv\")\n",
    "\n",
    "#the filan dataset is created from the concatenation of data_part1 and data_part2\n",
    "final_data = pd.concat([data_part1, data_part2], ignore_index=True)\n",
    "\n",
    "final_data.to_csv(\"citations_dataset_final.csv\", index=False)"
   ]
  },
  {
   "cell_type": "markdown",
   "metadata": {
    "id": "yumQfaxvz-li"
   },
   "source": [
    "### Preprocessing"
   ]
  },
  {
   "cell_type": "markdown",
   "metadata": {
    "id": "ZVxcMj9yz-lk"
   },
   "source": [
    "In this phase of the task, we cleaned the initial dataset and sorted it accrding to the number of references obtained by that paper, in this way we created the `dataset_top_citation` dataframe that contains only the 10.000 papers with the highiest number of citations. This new dataframe will be fundamental to complete the following tasks, any operation will be based on it."
   ]
  },
  {
   "cell_type": "code",
   "execution_count": null,
   "metadata": {
    "id": "ZfaYBm79z-ll",
    "outputId": "0e3e14aa-9ba7-4ded-e270-9ca0b113eaec"
   },
   "outputs": [
    {
     "data": {
      "text/html": [
       "<div>\n",
       "<style scoped>\n",
       "    .dataframe tbody tr th:only-of-type {\n",
       "        vertical-align: middle;\n",
       "    }\n",
       "\n",
       "    .dataframe tbody tr th {\n",
       "        vertical-align: top;\n",
       "    }\n",
       "\n",
       "    .dataframe thead th {\n",
       "        text-align: right;\n",
       "    }\n",
       "</style>\n",
       "<table border=\"1\" class=\"dataframe\">\n",
       "  <thead>\n",
       "    <tr style=\"text-align: right;\">\n",
       "      <th></th>\n",
       "      <th>id</th>\n",
       "      <th>num_authors</th>\n",
       "      <th>authors</th>\n",
       "      <th>n_citation</th>\n",
       "      <th>reference_count</th>\n",
       "      <th>references</th>\n",
       "    </tr>\n",
       "  </thead>\n",
       "  <tbody>\n",
       "    <tr>\n",
       "      <th>0</th>\n",
       "      <td>1091</td>\n",
       "      <td>8.0</td>\n",
       "      <td>[{'name': 'Makoto Satoh', 'org': 'Shinshu Univ...</td>\n",
       "      <td>1</td>\n",
       "      <td>2.0</td>\n",
       "      <td>[2005687710, 2018037215]</td>\n",
       "    </tr>\n",
       "    <tr>\n",
       "      <th>1</th>\n",
       "      <td>1388</td>\n",
       "      <td>1.0</td>\n",
       "      <td>[{'name': 'Pranava K. Jha', 'id': 2718958994}]</td>\n",
       "      <td>1</td>\n",
       "      <td>NaN</td>\n",
       "      <td>NaN</td>\n",
       "    </tr>\n",
       "    <tr>\n",
       "      <th>2</th>\n",
       "      <td>1674</td>\n",
       "      <td>2.0</td>\n",
       "      <td>[{'name': 'G. Beale', 'org': 'Archaeological C...</td>\n",
       "      <td>1</td>\n",
       "      <td>15.0</td>\n",
       "      <td>[1535888970, 1992876689, 1993710814, 203565334...</td>\n",
       "    </tr>\n",
       "    <tr>\n",
       "      <th>3</th>\n",
       "      <td>1688</td>\n",
       "      <td>4.0</td>\n",
       "      <td>[{'name': 'Altaf Hossain', 'org': 'Department ...</td>\n",
       "      <td>6</td>\n",
       "      <td>3.0</td>\n",
       "      <td>[1560724230, 1986968751, 2156909104]</td>\n",
       "    </tr>\n",
       "    <tr>\n",
       "      <th>4</th>\n",
       "      <td>5411</td>\n",
       "      <td>4.0</td>\n",
       "      <td>[{'name': 'Rafael Álvarez', 'id': 2125293936},...</td>\n",
       "      <td>0</td>\n",
       "      <td>NaN</td>\n",
       "      <td>NaN</td>\n",
       "    </tr>\n",
       "    <tr>\n",
       "      <th>...</th>\n",
       "      <td>...</td>\n",
       "      <td>...</td>\n",
       "      <td>...</td>\n",
       "      <td>...</td>\n",
       "      <td>...</td>\n",
       "      <td>...</td>\n",
       "    </tr>\n",
       "    <tr>\n",
       "      <th>4894076</th>\n",
       "      <td>99905544</td>\n",
       "      <td>5.0</td>\n",
       "      <td>[{'name': 'S. Nandagopalan', 'org': 'Dept. of ...</td>\n",
       "      <td>2</td>\n",
       "      <td>8.0</td>\n",
       "      <td>[1562217771, 1625504505, 2015022770, 210875170...</td>\n",
       "    </tr>\n",
       "    <tr>\n",
       "      <th>4894077</th>\n",
       "      <td>99884553</td>\n",
       "      <td>1.0</td>\n",
       "      <td>[{'name': 'Koen Cornelis Hubertus Blom', 'org'...</td>\n",
       "      <td>0</td>\n",
       "      <td>NaN</td>\n",
       "      <td>NaN</td>\n",
       "    </tr>\n",
       "    <tr>\n",
       "      <th>4894078</th>\n",
       "      <td>999847014</td>\n",
       "      <td>11.0</td>\n",
       "      <td>[{'name': 'Gert Læssøe Mikkelsen', 'org': 'Ale...</td>\n",
       "      <td>1</td>\n",
       "      <td>6.0</td>\n",
       "      <td>[1940933138, 1975620021, 1978183200, 209759592...</td>\n",
       "    </tr>\n",
       "    <tr>\n",
       "      <th>4894079</th>\n",
       "      <td>9990887</td>\n",
       "      <td>2.0</td>\n",
       "      <td>[{'name': 'Rajesh Natarajan', 'org': 'Indian I...</td>\n",
       "      <td>0</td>\n",
       "      <td>NaN</td>\n",
       "      <td>NaN</td>\n",
       "    </tr>\n",
       "    <tr>\n",
       "      <th>4894080</th>\n",
       "      <td>99956490</td>\n",
       "      <td>1.0</td>\n",
       "      <td>[{'name': 'Egon Börger', 'org': 'Institut für ...</td>\n",
       "      <td>0</td>\n",
       "      <td>3.0</td>\n",
       "      <td>[2032457623, 2094542439, 2114368612]</td>\n",
       "    </tr>\n",
       "  </tbody>\n",
       "</table>\n",
       "<p>4894081 rows × 6 columns</p>\n",
       "</div>"
      ],
      "text/plain": [
       "                id  num_authors  \\\n",
       "0             1091          8.0   \n",
       "1             1388          1.0   \n",
       "2             1674          2.0   \n",
       "3             1688          4.0   \n",
       "4             5411          4.0   \n",
       "...            ...          ...   \n",
       "4894076   99905544          5.0   \n",
       "4894077   99884553          1.0   \n",
       "4894078  999847014         11.0   \n",
       "4894079    9990887          2.0   \n",
       "4894080   99956490          1.0   \n",
       "\n",
       "                                                   authors  n_citation  \\\n",
       "0        [{'name': 'Makoto Satoh', 'org': 'Shinshu Univ...           1   \n",
       "1           [{'name': 'Pranava K. Jha', 'id': 2718958994}]           1   \n",
       "2        [{'name': 'G. Beale', 'org': 'Archaeological C...           1   \n",
       "3        [{'name': 'Altaf Hossain', 'org': 'Department ...           6   \n",
       "4        [{'name': 'Rafael Álvarez', 'id': 2125293936},...           0   \n",
       "...                                                    ...         ...   \n",
       "4894076  [{'name': 'S. Nandagopalan', 'org': 'Dept. of ...           2   \n",
       "4894077  [{'name': 'Koen Cornelis Hubertus Blom', 'org'...           0   \n",
       "4894078  [{'name': 'Gert Læssøe Mikkelsen', 'org': 'Ale...           1   \n",
       "4894079  [{'name': 'Rajesh Natarajan', 'org': 'Indian I...           0   \n",
       "4894080  [{'name': 'Egon Börger', 'org': 'Institut für ...           0   \n",
       "\n",
       "         reference_count                                         references  \n",
       "0                    2.0                           [2005687710, 2018037215]  \n",
       "1                    NaN                                                NaN  \n",
       "2                   15.0  [1535888970, 1992876689, 1993710814, 203565334...  \n",
       "3                    3.0               [1560724230, 1986968751, 2156909104]  \n",
       "4                    NaN                                                NaN  \n",
       "...                  ...                                                ...  \n",
       "4894076              8.0  [1562217771, 1625504505, 2015022770, 210875170...  \n",
       "4894077              NaN                                                NaN  \n",
       "4894078              6.0  [1940933138, 1975620021, 1978183200, 209759592...  \n",
       "4894079              NaN                                                NaN  \n",
       "4894080              3.0               [2032457623, 2094542439, 2114368612]  \n",
       "\n",
       "[4894081 rows x 6 columns]"
      ]
     },
     "execution_count": 3,
     "metadata": {},
     "output_type": "execute_result"
    }
   ],
   "source": [
    "dataset = pd.read_csv('citations_dataset_final.csv')\n",
    "dataset"
   ]
  },
  {
   "cell_type": "code",
   "execution_count": null,
   "metadata": {
    "colab": {
     "base_uri": "https://localhost:8080/",
     "height": 424
    },
    "id": "zoSBb1UAz-lr",
    "outputId": "4f6150a4-68c8-4841-f8bc-cb5aa812f09f"
   },
   "outputs": [
    {
     "data": {
      "text/html": [
       "\n",
       "  <div id=\"df-4fd57ba2-fdc7-4307-a957-25a3aaaebb1b\" class=\"colab-df-container\">\n",
       "    <div>\n",
       "<style scoped>\n",
       "    .dataframe tbody tr th:only-of-type {\n",
       "        vertical-align: middle;\n",
       "    }\n",
       "\n",
       "    .dataframe tbody tr th {\n",
       "        vertical-align: top;\n",
       "    }\n",
       "\n",
       "    .dataframe thead th {\n",
       "        text-align: right;\n",
       "    }\n",
       "</style>\n",
       "<table border=\"1\" class=\"dataframe\">\n",
       "  <thead>\n",
       "    <tr style=\"text-align: right;\">\n",
       "      <th></th>\n",
       "      <th>id</th>\n",
       "      <th>num_authors</th>\n",
       "      <th>authors</th>\n",
       "      <th>n_citation</th>\n",
       "      <th>reference_count</th>\n",
       "      <th>references</th>\n",
       "    </tr>\n",
       "  </thead>\n",
       "  <tbody>\n",
       "    <tr>\n",
       "      <th>0</th>\n",
       "      <td>2151103935</td>\n",
       "      <td>1.0</td>\n",
       "      <td>[{'name': 'David G. Lowe', 'org': 'Computer Sc...</td>\n",
       "      <td>35541</td>\n",
       "      <td>33.0</td>\n",
       "      <td>[19720318, 1541642243, 1560959218, 1676552347,...</td>\n",
       "    </tr>\n",
       "    <tr>\n",
       "      <th>1</th>\n",
       "      <td>2911964244</td>\n",
       "      <td>1.0</td>\n",
       "      <td>[{'name': 'Leo Breiman', 'org': 'Statistics De...</td>\n",
       "      <td>34741</td>\n",
       "      <td>11.0</td>\n",
       "      <td>[1507255258, 1580948147, 1605688901, 197584664...</td>\n",
       "    </tr>\n",
       "    <tr>\n",
       "      <th>2</th>\n",
       "      <td>2153635508</td>\n",
       "      <td>2.0</td>\n",
       "      <td>[{'name': 'Chih-Chung Chang', 'org': 'National...</td>\n",
       "      <td>31047</td>\n",
       "      <td>34.0</td>\n",
       "      <td>[1510526001, 1543810117, 1556115774, 156879334...</td>\n",
       "    </tr>\n",
       "    <tr>\n",
       "      <th>3</th>\n",
       "      <td>1791587663</td>\n",
       "      <td>1.0</td>\n",
       "      <td>[{'name': 'Fred D. Davis', 'org': 'Computer an...</td>\n",
       "      <td>25855</td>\n",
       "      <td>22.0</td>\n",
       "      <td>[157213131, 1520103841, 1778357938, 1972888601...</td>\n",
       "    </tr>\n",
       "    <tr>\n",
       "      <th>4</th>\n",
       "      <td>2119821739</td>\n",
       "      <td>2.0</td>\n",
       "      <td>[{'name': 'Corinna Cortes', 'org': 'AT&amp;T Bell ...</td>\n",
       "      <td>22276</td>\n",
       "      <td>3.0</td>\n",
       "      <td>[2087347434, 2154579312, 2168228682]</td>\n",
       "    </tr>\n",
       "    <tr>\n",
       "      <th>...</th>\n",
       "      <td>...</td>\n",
       "      <td>...</td>\n",
       "      <td>...</td>\n",
       "      <td>...</td>\n",
       "      <td>...</td>\n",
       "      <td>...</td>\n",
       "    </tr>\n",
       "    <tr>\n",
       "      <th>9995</th>\n",
       "      <td>2124827397</td>\n",
       "      <td>3.0</td>\n",
       "      <td>[{'name': 'Pawan Goyal', 'org': 'Distributed M...</td>\n",
       "      <td>551</td>\n",
       "      <td>27.0</td>\n",
       "      <td>[1588883745, 1941732106, 1973544909, 199548424...</td>\n",
       "    </tr>\n",
       "    <tr>\n",
       "      <th>9996</th>\n",
       "      <td>2120894402</td>\n",
       "      <td>4.0</td>\n",
       "      <td>[{'name': 'Jessica K. Hodgins', 'org': 'Colleg...</td>\n",
       "      <td>551</td>\n",
       "      <td>22.0</td>\n",
       "      <td>[1798187755, 1967934102, 1987574258, 198770668...</td>\n",
       "    </tr>\n",
       "    <tr>\n",
       "      <th>9997</th>\n",
       "      <td>1982180670</td>\n",
       "      <td>2.0</td>\n",
       "      <td>[{'name': 'Richard J. Lipton', 'id': 277112432...</td>\n",
       "      <td>551</td>\n",
       "      <td>12.0</td>\n",
       "      <td>[1530008367, 1980572240, 2026191634, 203462313...</td>\n",
       "    </tr>\n",
       "    <tr>\n",
       "      <th>9998</th>\n",
       "      <td>1559983024</td>\n",
       "      <td>1.0</td>\n",
       "      <td>[{'name': 'Claudio S. Pinhanez', 'org': 'IBM T...</td>\n",
       "      <td>551</td>\n",
       "      <td>14.0</td>\n",
       "      <td>[74179108, 137024741, 1987928129, 2007760386, ...</td>\n",
       "    </tr>\n",
       "    <tr>\n",
       "      <th>9999</th>\n",
       "      <td>2138165844</td>\n",
       "      <td>3.0</td>\n",
       "      <td>[{'name': 'Michael Nelson', 'org': 'VMWare, In...</td>\n",
       "      <td>551</td>\n",
       "      <td>5.0</td>\n",
       "      <td>[1989326485, 2050765519, 2121542813, 212589560...</td>\n",
       "    </tr>\n",
       "  </tbody>\n",
       "</table>\n",
       "<p>10000 rows × 6 columns</p>\n",
       "</div>\n",
       "    <div class=\"colab-df-buttons\">\n",
       "\n",
       "  <div class=\"colab-df-container\">\n",
       "    <button class=\"colab-df-convert\" onclick=\"convertToInteractive('df-4fd57ba2-fdc7-4307-a957-25a3aaaebb1b')\"\n",
       "            title=\"Convert this dataframe to an interactive table.\"\n",
       "            style=\"display:none;\">\n",
       "\n",
       "  <svg xmlns=\"http://www.w3.org/2000/svg\" height=\"24px\" viewBox=\"0 -960 960 960\">\n",
       "    <path d=\"M120-120v-720h720v720H120Zm60-500h600v-160H180v160Zm220 220h160v-160H400v160Zm0 220h160v-160H400v160ZM180-400h160v-160H180v160Zm440 0h160v-160H620v160ZM180-180h160v-160H180v160Zm440 0h160v-160H620v160Z\"/>\n",
       "  </svg>\n",
       "    </button>\n",
       "\n",
       "  <style>\n",
       "    .colab-df-container {\n",
       "      display:flex;\n",
       "      gap: 12px;\n",
       "    }\n",
       "\n",
       "    .colab-df-convert {\n",
       "      background-color: #E8F0FE;\n",
       "      border: none;\n",
       "      border-radius: 50%;\n",
       "      cursor: pointer;\n",
       "      display: none;\n",
       "      fill: #1967D2;\n",
       "      height: 32px;\n",
       "      padding: 0 0 0 0;\n",
       "      width: 32px;\n",
       "    }\n",
       "\n",
       "    .colab-df-convert:hover {\n",
       "      background-color: #E2EBFA;\n",
       "      box-shadow: 0px 1px 2px rgba(60, 64, 67, 0.3), 0px 1px 3px 1px rgba(60, 64, 67, 0.15);\n",
       "      fill: #174EA6;\n",
       "    }\n",
       "\n",
       "    .colab-df-buttons div {\n",
       "      margin-bottom: 4px;\n",
       "    }\n",
       "\n",
       "    [theme=dark] .colab-df-convert {\n",
       "      background-color: #3B4455;\n",
       "      fill: #D2E3FC;\n",
       "    }\n",
       "\n",
       "    [theme=dark] .colab-df-convert:hover {\n",
       "      background-color: #434B5C;\n",
       "      box-shadow: 0px 1px 3px 1px rgba(0, 0, 0, 0.15);\n",
       "      filter: drop-shadow(0px 1px 2px rgba(0, 0, 0, 0.3));\n",
       "      fill: #FFFFFF;\n",
       "    }\n",
       "  </style>\n",
       "\n",
       "    <script>\n",
       "      const buttonEl =\n",
       "        document.querySelector('#df-4fd57ba2-fdc7-4307-a957-25a3aaaebb1b button.colab-df-convert');\n",
       "      buttonEl.style.display =\n",
       "        google.colab.kernel.accessAllowed ? 'block' : 'none';\n",
       "\n",
       "      async function convertToInteractive(key) {\n",
       "        const element = document.querySelector('#df-4fd57ba2-fdc7-4307-a957-25a3aaaebb1b');\n",
       "        const dataTable =\n",
       "          await google.colab.kernel.invokeFunction('convertToInteractive',\n",
       "                                                    [key], {});\n",
       "        if (!dataTable) return;\n",
       "\n",
       "        const docLinkHtml = 'Like what you see? Visit the ' +\n",
       "          '<a target=\"_blank\" href=https://colab.research.google.com/notebooks/data_table.ipynb>data table notebook</a>'\n",
       "          + ' to learn more about interactive tables.';\n",
       "        element.innerHTML = '';\n",
       "        dataTable['output_type'] = 'display_data';\n",
       "        await google.colab.output.renderOutput(dataTable, element);\n",
       "        const docLink = document.createElement('div');\n",
       "        docLink.innerHTML = docLinkHtml;\n",
       "        element.appendChild(docLink);\n",
       "      }\n",
       "    </script>\n",
       "  </div>\n",
       "\n",
       "\n",
       "<div id=\"df-7aa8e3e6-f0c2-4bfa-8d4f-80b269bea9b5\">\n",
       "  <button class=\"colab-df-quickchart\" onclick=\"quickchart('df-7aa8e3e6-f0c2-4bfa-8d4f-80b269bea9b5')\"\n",
       "            title=\"Suggest charts\"\n",
       "            style=\"display:none;\">\n",
       "\n",
       "<svg xmlns=\"http://www.w3.org/2000/svg\" height=\"24px\"viewBox=\"0 0 24 24\"\n",
       "     width=\"24px\">\n",
       "    <g>\n",
       "        <path d=\"M19 3H5c-1.1 0-2 .9-2 2v14c0 1.1.9 2 2 2h14c1.1 0 2-.9 2-2V5c0-1.1-.9-2-2-2zM9 17H7v-7h2v7zm4 0h-2V7h2v10zm4 0h-2v-4h2v4z\"/>\n",
       "    </g>\n",
       "</svg>\n",
       "  </button>\n",
       "\n",
       "<style>\n",
       "  .colab-df-quickchart {\n",
       "      --bg-color: #E8F0FE;\n",
       "      --fill-color: #1967D2;\n",
       "      --hover-bg-color: #E2EBFA;\n",
       "      --hover-fill-color: #174EA6;\n",
       "      --disabled-fill-color: #AAA;\n",
       "      --disabled-bg-color: #DDD;\n",
       "  }\n",
       "\n",
       "  [theme=dark] .colab-df-quickchart {\n",
       "      --bg-color: #3B4455;\n",
       "      --fill-color: #D2E3FC;\n",
       "      --hover-bg-color: #434B5C;\n",
       "      --hover-fill-color: #FFFFFF;\n",
       "      --disabled-bg-color: #3B4455;\n",
       "      --disabled-fill-color: #666;\n",
       "  }\n",
       "\n",
       "  .colab-df-quickchart {\n",
       "    background-color: var(--bg-color);\n",
       "    border: none;\n",
       "    border-radius: 50%;\n",
       "    cursor: pointer;\n",
       "    display: none;\n",
       "    fill: var(--fill-color);\n",
       "    height: 32px;\n",
       "    padding: 0;\n",
       "    width: 32px;\n",
       "  }\n",
       "\n",
       "  .colab-df-quickchart:hover {\n",
       "    background-color: var(--hover-bg-color);\n",
       "    box-shadow: 0 1px 2px rgba(60, 64, 67, 0.3), 0 1px 3px 1px rgba(60, 64, 67, 0.15);\n",
       "    fill: var(--button-hover-fill-color);\n",
       "  }\n",
       "\n",
       "  .colab-df-quickchart-complete:disabled,\n",
       "  .colab-df-quickchart-complete:disabled:hover {\n",
       "    background-color: var(--disabled-bg-color);\n",
       "    fill: var(--disabled-fill-color);\n",
       "    box-shadow: none;\n",
       "  }\n",
       "\n",
       "  .colab-df-spinner {\n",
       "    border: 2px solid var(--fill-color);\n",
       "    border-color: transparent;\n",
       "    border-bottom-color: var(--fill-color);\n",
       "    animation:\n",
       "      spin 1s steps(1) infinite;\n",
       "  }\n",
       "\n",
       "  @keyframes spin {\n",
       "    0% {\n",
       "      border-color: transparent;\n",
       "      border-bottom-color: var(--fill-color);\n",
       "      border-left-color: var(--fill-color);\n",
       "    }\n",
       "    20% {\n",
       "      border-color: transparent;\n",
       "      border-left-color: var(--fill-color);\n",
       "      border-top-color: var(--fill-color);\n",
       "    }\n",
       "    30% {\n",
       "      border-color: transparent;\n",
       "      border-left-color: var(--fill-color);\n",
       "      border-top-color: var(--fill-color);\n",
       "      border-right-color: var(--fill-color);\n",
       "    }\n",
       "    40% {\n",
       "      border-color: transparent;\n",
       "      border-right-color: var(--fill-color);\n",
       "      border-top-color: var(--fill-color);\n",
       "    }\n",
       "    60% {\n",
       "      border-color: transparent;\n",
       "      border-right-color: var(--fill-color);\n",
       "    }\n",
       "    80% {\n",
       "      border-color: transparent;\n",
       "      border-right-color: var(--fill-color);\n",
       "      border-bottom-color: var(--fill-color);\n",
       "    }\n",
       "    90% {\n",
       "      border-color: transparent;\n",
       "      border-bottom-color: var(--fill-color);\n",
       "    }\n",
       "  }\n",
       "</style>\n",
       "\n",
       "  <script>\n",
       "    async function quickchart(key) {\n",
       "      const quickchartButtonEl =\n",
       "        document.querySelector('#' + key + ' button');\n",
       "      quickchartButtonEl.disabled = true;  // To prevent multiple clicks.\n",
       "      quickchartButtonEl.classList.add('colab-df-spinner');\n",
       "      try {\n",
       "        const charts = await google.colab.kernel.invokeFunction(\n",
       "            'suggestCharts', [key], {});\n",
       "      } catch (error) {\n",
       "        console.error('Error during call to suggestCharts:', error);\n",
       "      }\n",
       "      quickchartButtonEl.classList.remove('colab-df-spinner');\n",
       "      quickchartButtonEl.classList.add('colab-df-quickchart-complete');\n",
       "    }\n",
       "    (() => {\n",
       "      let quickchartButtonEl =\n",
       "        document.querySelector('#df-7aa8e3e6-f0c2-4bfa-8d4f-80b269bea9b5 button');\n",
       "      quickchartButtonEl.style.display =\n",
       "        google.colab.kernel.accessAllowed ? 'block' : 'none';\n",
       "    })();\n",
       "  </script>\n",
       "</div>\n",
       "    </div>\n",
       "  </div>\n"
      ],
      "text/plain": [
       "              id  num_authors  \\\n",
       "0     2151103935          1.0   \n",
       "1     2911964244          1.0   \n",
       "2     2153635508          2.0   \n",
       "3     1791587663          1.0   \n",
       "4     2119821739          2.0   \n",
       "...          ...          ...   \n",
       "9995  2124827397          3.0   \n",
       "9996  2120894402          4.0   \n",
       "9997  1982180670          2.0   \n",
       "9998  1559983024          1.0   \n",
       "9999  2138165844          3.0   \n",
       "\n",
       "                                                authors  n_citation  \\\n",
       "0     [{'name': 'David G. Lowe', 'org': 'Computer Sc...       35541   \n",
       "1     [{'name': 'Leo Breiman', 'org': 'Statistics De...       34741   \n",
       "2     [{'name': 'Chih-Chung Chang', 'org': 'National...       31047   \n",
       "3     [{'name': 'Fred D. Davis', 'org': 'Computer an...       25855   \n",
       "4     [{'name': 'Corinna Cortes', 'org': 'AT&T Bell ...       22276   \n",
       "...                                                 ...         ...   \n",
       "9995  [{'name': 'Pawan Goyal', 'org': 'Distributed M...         551   \n",
       "9996  [{'name': 'Jessica K. Hodgins', 'org': 'Colleg...         551   \n",
       "9997  [{'name': 'Richard J. Lipton', 'id': 277112432...         551   \n",
       "9998  [{'name': 'Claudio S. Pinhanez', 'org': 'IBM T...         551   \n",
       "9999  [{'name': 'Michael Nelson', 'org': 'VMWare, In...         551   \n",
       "\n",
       "      reference_count                                         references  \n",
       "0                33.0  [19720318, 1541642243, 1560959218, 1676552347,...  \n",
       "1                11.0  [1507255258, 1580948147, 1605688901, 197584664...  \n",
       "2                34.0  [1510526001, 1543810117, 1556115774, 156879334...  \n",
       "3                22.0  [157213131, 1520103841, 1778357938, 1972888601...  \n",
       "4                 3.0               [2087347434, 2154579312, 2168228682]  \n",
       "...               ...                                                ...  \n",
       "9995             27.0  [1588883745, 1941732106, 1973544909, 199548424...  \n",
       "9996             22.0  [1798187755, 1967934102, 1987574258, 198770668...  \n",
       "9997             12.0  [1530008367, 1980572240, 2026191634, 203462313...  \n",
       "9998             14.0  [74179108, 137024741, 1987928129, 2007760386, ...  \n",
       "9999              5.0  [1989326485, 2050765519, 2121542813, 212589560...  \n",
       "\n",
       "[10000 rows x 6 columns]"
      ]
     },
     "execution_count": 4,
     "metadata": {},
     "output_type": "execute_result"
    }
   ],
   "source": [
    "column_to_drop_nan_values = 'references'\n",
    "\n",
    "# rows are sorted according to the number of citations\n",
    "dataset = dataset.sort_values(by='n_citation', ascending=False)\n",
    "\n",
    "# the rows with NaN values under the column 'references' are dropped\n",
    "dataset = dataset.dropna(subset=[column_to_drop_nan_values])\n",
    "\n",
    "# only the first 10.000 rows with the highiest values under the column 'n_citation' are kept\n",
    "dataset_top_citation = dataset.head(10000)\n",
    "\n",
    "dataset_top_citation = dataset_top_citation.reset_index(drop=True)\n",
    "dataset_top_citation"
   ]
  },
  {
   "cell_type": "markdown",
   "metadata": {
    "id": "n_WFbdBDz-lu"
   },
   "source": [
    "## Citation graph"
   ]
  },
  {
   "cell_type": "markdown",
   "metadata": {
    "id": "3m1kSWV0z-lv"
   },
   "source": [
    "The first part of the Point 1 is about the generation of a graph, called 'citation graph', that should represent the papers' citation relationship, it will be an unweighted and directed graph, in which the nodes will be the papers and the edges will represent the citation given from one paper to another. The first action we performed was isolating just the 2 column we needed `id` and `references` from the original dataset, to create a new dataset, called `dataset_top_citation_citation_graph`. Originally, the column `references` was made of strings, in wich for each row there was just one string, so we needed to manipulate it to perform the necessary operations, in particular we removed the squared brackets and the converted the singluar initial string into a list of strings, in which every id was a singluar string."
   ]
  },
  {
   "cell_type": "code",
   "execution_count": null,
   "metadata": {
    "colab": {
     "base_uri": "https://localhost:8080/",
     "height": 424
    },
    "id": "Ilhl7RHkz-lx",
    "outputId": "aa92f741-00e4-4ce4-a156-de8cf22a2005"
   },
   "outputs": [
    {
     "data": {
      "text/html": [
       "\n",
       "  <div id=\"df-a0575a0a-564e-4bb5-9cc3-ca30cc205d63\" class=\"colab-df-container\">\n",
       "    <div>\n",
       "<style scoped>\n",
       "    .dataframe tbody tr th:only-of-type {\n",
       "        vertical-align: middle;\n",
       "    }\n",
       "\n",
       "    .dataframe tbody tr th {\n",
       "        vertical-align: top;\n",
       "    }\n",
       "\n",
       "    .dataframe thead th {\n",
       "        text-align: right;\n",
       "    }\n",
       "</style>\n",
       "<table border=\"1\" class=\"dataframe\">\n",
       "  <thead>\n",
       "    <tr style=\"text-align: right;\">\n",
       "      <th></th>\n",
       "      <th>id</th>\n",
       "      <th>references</th>\n",
       "    </tr>\n",
       "  </thead>\n",
       "  <tbody>\n",
       "    <tr>\n",
       "      <th>0</th>\n",
       "      <td>2151103935</td>\n",
       "      <td>[19720318, 1541642243, 1560959218, 1676552347,...</td>\n",
       "    </tr>\n",
       "    <tr>\n",
       "      <th>1</th>\n",
       "      <td>2911964244</td>\n",
       "      <td>[1507255258, 1580948147, 1605688901, 197584664...</td>\n",
       "    </tr>\n",
       "    <tr>\n",
       "      <th>2</th>\n",
       "      <td>2153635508</td>\n",
       "      <td>[1510526001, 1543810117, 1556115774, 156879334...</td>\n",
       "    </tr>\n",
       "    <tr>\n",
       "      <th>3</th>\n",
       "      <td>1791587663</td>\n",
       "      <td>[157213131, 1520103841, 1778357938, 1972888601...</td>\n",
       "    </tr>\n",
       "    <tr>\n",
       "      <th>4</th>\n",
       "      <td>2119821739</td>\n",
       "      <td>[2087347434, 2154579312, 2168228682]</td>\n",
       "    </tr>\n",
       "    <tr>\n",
       "      <th>...</th>\n",
       "      <td>...</td>\n",
       "      <td>...</td>\n",
       "    </tr>\n",
       "    <tr>\n",
       "      <th>9995</th>\n",
       "      <td>2124827397</td>\n",
       "      <td>[1588883745, 1941732106, 1973544909, 199548424...</td>\n",
       "    </tr>\n",
       "    <tr>\n",
       "      <th>9996</th>\n",
       "      <td>2120894402</td>\n",
       "      <td>[1798187755, 1967934102, 1987574258, 198770668...</td>\n",
       "    </tr>\n",
       "    <tr>\n",
       "      <th>9997</th>\n",
       "      <td>1982180670</td>\n",
       "      <td>[1530008367, 1980572240, 2026191634, 203462313...</td>\n",
       "    </tr>\n",
       "    <tr>\n",
       "      <th>9998</th>\n",
       "      <td>1559983024</td>\n",
       "      <td>[74179108, 137024741, 1987928129, 2007760386, ...</td>\n",
       "    </tr>\n",
       "    <tr>\n",
       "      <th>9999</th>\n",
       "      <td>2138165844</td>\n",
       "      <td>[1989326485, 2050765519, 2121542813, 212589560...</td>\n",
       "    </tr>\n",
       "  </tbody>\n",
       "</table>\n",
       "<p>10000 rows × 2 columns</p>\n",
       "</div>\n",
       "    <div class=\"colab-df-buttons\">\n",
       "\n",
       "  <div class=\"colab-df-container\">\n",
       "    <button class=\"colab-df-convert\" onclick=\"convertToInteractive('df-a0575a0a-564e-4bb5-9cc3-ca30cc205d63')\"\n",
       "            title=\"Convert this dataframe to an interactive table.\"\n",
       "            style=\"display:none;\">\n",
       "\n",
       "  <svg xmlns=\"http://www.w3.org/2000/svg\" height=\"24px\" viewBox=\"0 -960 960 960\">\n",
       "    <path d=\"M120-120v-720h720v720H120Zm60-500h600v-160H180v160Zm220 220h160v-160H400v160Zm0 220h160v-160H400v160ZM180-400h160v-160H180v160Zm440 0h160v-160H620v160ZM180-180h160v-160H180v160Zm440 0h160v-160H620v160Z\"/>\n",
       "  </svg>\n",
       "    </button>\n",
       "\n",
       "  <style>\n",
       "    .colab-df-container {\n",
       "      display:flex;\n",
       "      gap: 12px;\n",
       "    }\n",
       "\n",
       "    .colab-df-convert {\n",
       "      background-color: #E8F0FE;\n",
       "      border: none;\n",
       "      border-radius: 50%;\n",
       "      cursor: pointer;\n",
       "      display: none;\n",
       "      fill: #1967D2;\n",
       "      height: 32px;\n",
       "      padding: 0 0 0 0;\n",
       "      width: 32px;\n",
       "    }\n",
       "\n",
       "    .colab-df-convert:hover {\n",
       "      background-color: #E2EBFA;\n",
       "      box-shadow: 0px 1px 2px rgba(60, 64, 67, 0.3), 0px 1px 3px 1px rgba(60, 64, 67, 0.15);\n",
       "      fill: #174EA6;\n",
       "    }\n",
       "\n",
       "    .colab-df-buttons div {\n",
       "      margin-bottom: 4px;\n",
       "    }\n",
       "\n",
       "    [theme=dark] .colab-df-convert {\n",
       "      background-color: #3B4455;\n",
       "      fill: #D2E3FC;\n",
       "    }\n",
       "\n",
       "    [theme=dark] .colab-df-convert:hover {\n",
       "      background-color: #434B5C;\n",
       "      box-shadow: 0px 1px 3px 1px rgba(0, 0, 0, 0.15);\n",
       "      filter: drop-shadow(0px 1px 2px rgba(0, 0, 0, 0.3));\n",
       "      fill: #FFFFFF;\n",
       "    }\n",
       "  </style>\n",
       "\n",
       "    <script>\n",
       "      const buttonEl =\n",
       "        document.querySelector('#df-a0575a0a-564e-4bb5-9cc3-ca30cc205d63 button.colab-df-convert');\n",
       "      buttonEl.style.display =\n",
       "        google.colab.kernel.accessAllowed ? 'block' : 'none';\n",
       "\n",
       "      async function convertToInteractive(key) {\n",
       "        const element = document.querySelector('#df-a0575a0a-564e-4bb5-9cc3-ca30cc205d63');\n",
       "        const dataTable =\n",
       "          await google.colab.kernel.invokeFunction('convertToInteractive',\n",
       "                                                    [key], {});\n",
       "        if (!dataTable) return;\n",
       "\n",
       "        const docLinkHtml = 'Like what you see? Visit the ' +\n",
       "          '<a target=\"_blank\" href=https://colab.research.google.com/notebooks/data_table.ipynb>data table notebook</a>'\n",
       "          + ' to learn more about interactive tables.';\n",
       "        element.innerHTML = '';\n",
       "        dataTable['output_type'] = 'display_data';\n",
       "        await google.colab.output.renderOutput(dataTable, element);\n",
       "        const docLink = document.createElement('div');\n",
       "        docLink.innerHTML = docLinkHtml;\n",
       "        element.appendChild(docLink);\n",
       "      }\n",
       "    </script>\n",
       "  </div>\n",
       "\n",
       "\n",
       "<div id=\"df-2d994bf5-62be-4cd9-a902-fa2246666ad2\">\n",
       "  <button class=\"colab-df-quickchart\" onclick=\"quickchart('df-2d994bf5-62be-4cd9-a902-fa2246666ad2')\"\n",
       "            title=\"Suggest charts\"\n",
       "            style=\"display:none;\">\n",
       "\n",
       "<svg xmlns=\"http://www.w3.org/2000/svg\" height=\"24px\"viewBox=\"0 0 24 24\"\n",
       "     width=\"24px\">\n",
       "    <g>\n",
       "        <path d=\"M19 3H5c-1.1 0-2 .9-2 2v14c0 1.1.9 2 2 2h14c1.1 0 2-.9 2-2V5c0-1.1-.9-2-2-2zM9 17H7v-7h2v7zm4 0h-2V7h2v10zm4 0h-2v-4h2v4z\"/>\n",
       "    </g>\n",
       "</svg>\n",
       "  </button>\n",
       "\n",
       "<style>\n",
       "  .colab-df-quickchart {\n",
       "      --bg-color: #E8F0FE;\n",
       "      --fill-color: #1967D2;\n",
       "      --hover-bg-color: #E2EBFA;\n",
       "      --hover-fill-color: #174EA6;\n",
       "      --disabled-fill-color: #AAA;\n",
       "      --disabled-bg-color: #DDD;\n",
       "  }\n",
       "\n",
       "  [theme=dark] .colab-df-quickchart {\n",
       "      --bg-color: #3B4455;\n",
       "      --fill-color: #D2E3FC;\n",
       "      --hover-bg-color: #434B5C;\n",
       "      --hover-fill-color: #FFFFFF;\n",
       "      --disabled-bg-color: #3B4455;\n",
       "      --disabled-fill-color: #666;\n",
       "  }\n",
       "\n",
       "  .colab-df-quickchart {\n",
       "    background-color: var(--bg-color);\n",
       "    border: none;\n",
       "    border-radius: 50%;\n",
       "    cursor: pointer;\n",
       "    display: none;\n",
       "    fill: var(--fill-color);\n",
       "    height: 32px;\n",
       "    padding: 0;\n",
       "    width: 32px;\n",
       "  }\n",
       "\n",
       "  .colab-df-quickchart:hover {\n",
       "    background-color: var(--hover-bg-color);\n",
       "    box-shadow: 0 1px 2px rgba(60, 64, 67, 0.3), 0 1px 3px 1px rgba(60, 64, 67, 0.15);\n",
       "    fill: var(--button-hover-fill-color);\n",
       "  }\n",
       "\n",
       "  .colab-df-quickchart-complete:disabled,\n",
       "  .colab-df-quickchart-complete:disabled:hover {\n",
       "    background-color: var(--disabled-bg-color);\n",
       "    fill: var(--disabled-fill-color);\n",
       "    box-shadow: none;\n",
       "  }\n",
       "\n",
       "  .colab-df-spinner {\n",
       "    border: 2px solid var(--fill-color);\n",
       "    border-color: transparent;\n",
       "    border-bottom-color: var(--fill-color);\n",
       "    animation:\n",
       "      spin 1s steps(1) infinite;\n",
       "  }\n",
       "\n",
       "  @keyframes spin {\n",
       "    0% {\n",
       "      border-color: transparent;\n",
       "      border-bottom-color: var(--fill-color);\n",
       "      border-left-color: var(--fill-color);\n",
       "    }\n",
       "    20% {\n",
       "      border-color: transparent;\n",
       "      border-left-color: var(--fill-color);\n",
       "      border-top-color: var(--fill-color);\n",
       "    }\n",
       "    30% {\n",
       "      border-color: transparent;\n",
       "      border-left-color: var(--fill-color);\n",
       "      border-top-color: var(--fill-color);\n",
       "      border-right-color: var(--fill-color);\n",
       "    }\n",
       "    40% {\n",
       "      border-color: transparent;\n",
       "      border-right-color: var(--fill-color);\n",
       "      border-top-color: var(--fill-color);\n",
       "    }\n",
       "    60% {\n",
       "      border-color: transparent;\n",
       "      border-right-color: var(--fill-color);\n",
       "    }\n",
       "    80% {\n",
       "      border-color: transparent;\n",
       "      border-right-color: var(--fill-color);\n",
       "      border-bottom-color: var(--fill-color);\n",
       "    }\n",
       "    90% {\n",
       "      border-color: transparent;\n",
       "      border-bottom-color: var(--fill-color);\n",
       "    }\n",
       "  }\n",
       "</style>\n",
       "\n",
       "  <script>\n",
       "    async function quickchart(key) {\n",
       "      const quickchartButtonEl =\n",
       "        document.querySelector('#' + key + ' button');\n",
       "      quickchartButtonEl.disabled = true;  // To prevent multiple clicks.\n",
       "      quickchartButtonEl.classList.add('colab-df-spinner');\n",
       "      try {\n",
       "        const charts = await google.colab.kernel.invokeFunction(\n",
       "            'suggestCharts', [key], {});\n",
       "      } catch (error) {\n",
       "        console.error('Error during call to suggestCharts:', error);\n",
       "      }\n",
       "      quickchartButtonEl.classList.remove('colab-df-spinner');\n",
       "      quickchartButtonEl.classList.add('colab-df-quickchart-complete');\n",
       "    }\n",
       "    (() => {\n",
       "      let quickchartButtonEl =\n",
       "        document.querySelector('#df-2d994bf5-62be-4cd9-a902-fa2246666ad2 button');\n",
       "      quickchartButtonEl.style.display =\n",
       "        google.colab.kernel.accessAllowed ? 'block' : 'none';\n",
       "    })();\n",
       "  </script>\n",
       "</div>\n",
       "    </div>\n",
       "  </div>\n"
      ],
      "text/plain": [
       "              id                                         references\n",
       "0     2151103935  [19720318, 1541642243, 1560959218, 1676552347,...\n",
       "1     2911964244  [1507255258, 1580948147, 1605688901, 197584664...\n",
       "2     2153635508  [1510526001, 1543810117, 1556115774, 156879334...\n",
       "3     1791587663  [157213131, 1520103841, 1778357938, 1972888601...\n",
       "4     2119821739               [2087347434, 2154579312, 2168228682]\n",
       "...          ...                                                ...\n",
       "9995  2124827397  [1588883745, 1941732106, 1973544909, 199548424...\n",
       "9996  2120894402  [1798187755, 1967934102, 1987574258, 198770668...\n",
       "9997  1982180670  [1530008367, 1980572240, 2026191634, 203462313...\n",
       "9998  1559983024  [74179108, 137024741, 1987928129, 2007760386, ...\n",
       "9999  2138165844  [1989326485, 2050765519, 2121542813, 212589560...\n",
       "\n",
       "[10000 rows x 2 columns]"
      ]
     },
     "execution_count": 5,
     "metadata": {},
     "output_type": "execute_result"
    }
   ],
   "source": [
    "dataset_top_citation_citation_graph = dataset_top_citation[['id','references']]\n",
    "dataset_top_citation_citation_graph"
   ]
  },
  {
   "cell_type": "code",
   "execution_count": null,
   "metadata": {
    "id": "QY9K6HI0z-ly"
   },
   "outputs": [],
   "source": [
    "# the squared brackes are deleted from the references column\n",
    "dataset_top_citation_citation_graph.loc[:,'references'] = dataset_top_citation_citation_graph['references'].apply(lambda x: x.replace('[', '').replace(']', ''))\n",
    "\n",
    "# a list of strngs is created for each row under the 'references' column\n",
    "dataset_top_citation_citation_graph.loc[:,'references'] = dataset_top_citation_citation_graph['references'].apply(lambda x: x.split(','))\n",
    "\n",
    "# the ids are converted into strings\n",
    "dataset_top_citation_citation_graph.loc[:,'id'] = dataset_top_citation_citation_graph['id'].astype(str)"
   ]
  },
  {
   "cell_type": "code",
   "execution_count": null,
   "metadata": {
    "colab": {
     "base_uri": "https://localhost:8080/",
     "height": 424
    },
    "id": "mYJFF69-z-l0",
    "outputId": "3bdf7642-4846-472f-e508-8af903817bd8"
   },
   "outputs": [
    {
     "data": {
      "text/html": [
       "\n",
       "  <div id=\"df-eef50fb7-08ca-428f-ae43-90a44172cc29\" class=\"colab-df-container\">\n",
       "    <div>\n",
       "<style scoped>\n",
       "    .dataframe tbody tr th:only-of-type {\n",
       "        vertical-align: middle;\n",
       "    }\n",
       "\n",
       "    .dataframe tbody tr th {\n",
       "        vertical-align: top;\n",
       "    }\n",
       "\n",
       "    .dataframe thead th {\n",
       "        text-align: right;\n",
       "    }\n",
       "</style>\n",
       "<table border=\"1\" class=\"dataframe\">\n",
       "  <thead>\n",
       "    <tr style=\"text-align: right;\">\n",
       "      <th></th>\n",
       "      <th>id</th>\n",
       "      <th>references</th>\n",
       "      <th>references_under_id</th>\n",
       "    </tr>\n",
       "  </thead>\n",
       "  <tbody>\n",
       "    <tr>\n",
       "      <th>0</th>\n",
       "      <td>2151103935</td>\n",
       "      <td>[19720318,  1541642243,  1560959218,  16765523...</td>\n",
       "      <td>[1676552347, 1949116567, 2011891945, 202466829...</td>\n",
       "    </tr>\n",
       "    <tr>\n",
       "      <th>1</th>\n",
       "      <td>2911964244</td>\n",
       "      <td>[1507255258,  1580948147,  1605688901,  197584...</td>\n",
       "      <td>[1605688901, 1975846642, 2112076978, 211324281...</td>\n",
       "    </tr>\n",
       "    <tr>\n",
       "      <th>2</th>\n",
       "      <td>2153635508</td>\n",
       "      <td>[1510526001,  1543810117,  1556115774,  156879...</td>\n",
       "      <td>[1510526001, 1568793342, 1621799579, 205698353...</td>\n",
       "    </tr>\n",
       "    <tr>\n",
       "      <th>3</th>\n",
       "      <td>1791587663</td>\n",
       "      <td>[157213131,  1520103841,  1778357938,  1972888...</td>\n",
       "      <td>[1972888601, 1988410705, 2037021532, 209248890...</td>\n",
       "    </tr>\n",
       "    <tr>\n",
       "      <th>4</th>\n",
       "      <td>2119821739</td>\n",
       "      <td>[2087347434,  2154579312,  2168228682]</td>\n",
       "      <td>[2087347434, 2154579312]</td>\n",
       "    </tr>\n",
       "    <tr>\n",
       "      <th>...</th>\n",
       "      <td>...</td>\n",
       "      <td>...</td>\n",
       "      <td>...</td>\n",
       "    </tr>\n",
       "    <tr>\n",
       "      <th>9995</th>\n",
       "      <td>2124827397</td>\n",
       "      <td>[1588883745,  1941732106,  1973544909,  199548...</td>\n",
       "      <td>[2073440460, 2098289156, 2098375698, 209944078...</td>\n",
       "    </tr>\n",
       "    <tr>\n",
       "      <th>9996</th>\n",
       "      <td>2120894402</td>\n",
       "      <td>[1798187755,  1967934102,  1987574258,  198770...</td>\n",
       "      <td>[2117085697, 2127197749, 2150312211, 2293545866]</td>\n",
       "    </tr>\n",
       "    <tr>\n",
       "      <th>9997</th>\n",
       "      <td>1982180670</td>\n",
       "      <td>[1530008367,  1980572240,  2026191634,  203462...</td>\n",
       "      <td>[]</td>\n",
       "    </tr>\n",
       "    <tr>\n",
       "      <th>9998</th>\n",
       "      <td>1559983024</td>\n",
       "      <td>[74179108,  137024741,  1987928129,  200776038...</td>\n",
       "      <td>[2140235142, 2149891956, 2158683916, 2237155658]</td>\n",
       "    </tr>\n",
       "    <tr>\n",
       "      <th>9999</th>\n",
       "      <td>2138165844</td>\n",
       "      <td>[1989326485,  2050765519,  2121542813,  212589...</td>\n",
       "      <td>[2121542813, 2125895608]</td>\n",
       "    </tr>\n",
       "  </tbody>\n",
       "</table>\n",
       "<p>10000 rows × 3 columns</p>\n",
       "</div>\n",
       "    <div class=\"colab-df-buttons\">\n",
       "\n",
       "  <div class=\"colab-df-container\">\n",
       "    <button class=\"colab-df-convert\" onclick=\"convertToInteractive('df-eef50fb7-08ca-428f-ae43-90a44172cc29')\"\n",
       "            title=\"Convert this dataframe to an interactive table.\"\n",
       "            style=\"display:none;\">\n",
       "\n",
       "  <svg xmlns=\"http://www.w3.org/2000/svg\" height=\"24px\" viewBox=\"0 -960 960 960\">\n",
       "    <path d=\"M120-120v-720h720v720H120Zm60-500h600v-160H180v160Zm220 220h160v-160H400v160Zm0 220h160v-160H400v160ZM180-400h160v-160H180v160Zm440 0h160v-160H620v160ZM180-180h160v-160H180v160Zm440 0h160v-160H620v160Z\"/>\n",
       "  </svg>\n",
       "    </button>\n",
       "\n",
       "  <style>\n",
       "    .colab-df-container {\n",
       "      display:flex;\n",
       "      gap: 12px;\n",
       "    }\n",
       "\n",
       "    .colab-df-convert {\n",
       "      background-color: #E8F0FE;\n",
       "      border: none;\n",
       "      border-radius: 50%;\n",
       "      cursor: pointer;\n",
       "      display: none;\n",
       "      fill: #1967D2;\n",
       "      height: 32px;\n",
       "      padding: 0 0 0 0;\n",
       "      width: 32px;\n",
       "    }\n",
       "\n",
       "    .colab-df-convert:hover {\n",
       "      background-color: #E2EBFA;\n",
       "      box-shadow: 0px 1px 2px rgba(60, 64, 67, 0.3), 0px 1px 3px 1px rgba(60, 64, 67, 0.15);\n",
       "      fill: #174EA6;\n",
       "    }\n",
       "\n",
       "    .colab-df-buttons div {\n",
       "      margin-bottom: 4px;\n",
       "    }\n",
       "\n",
       "    [theme=dark] .colab-df-convert {\n",
       "      background-color: #3B4455;\n",
       "      fill: #D2E3FC;\n",
       "    }\n",
       "\n",
       "    [theme=dark] .colab-df-convert:hover {\n",
       "      background-color: #434B5C;\n",
       "      box-shadow: 0px 1px 3px 1px rgba(0, 0, 0, 0.15);\n",
       "      filter: drop-shadow(0px 1px 2px rgba(0, 0, 0, 0.3));\n",
       "      fill: #FFFFFF;\n",
       "    }\n",
       "  </style>\n",
       "\n",
       "    <script>\n",
       "      const buttonEl =\n",
       "        document.querySelector('#df-eef50fb7-08ca-428f-ae43-90a44172cc29 button.colab-df-convert');\n",
       "      buttonEl.style.display =\n",
       "        google.colab.kernel.accessAllowed ? 'block' : 'none';\n",
       "\n",
       "      async function convertToInteractive(key) {\n",
       "        const element = document.querySelector('#df-eef50fb7-08ca-428f-ae43-90a44172cc29');\n",
       "        const dataTable =\n",
       "          await google.colab.kernel.invokeFunction('convertToInteractive',\n",
       "                                                    [key], {});\n",
       "        if (!dataTable) return;\n",
       "\n",
       "        const docLinkHtml = 'Like what you see? Visit the ' +\n",
       "          '<a target=\"_blank\" href=https://colab.research.google.com/notebooks/data_table.ipynb>data table notebook</a>'\n",
       "          + ' to learn more about interactive tables.';\n",
       "        element.innerHTML = '';\n",
       "        dataTable['output_type'] = 'display_data';\n",
       "        await google.colab.output.renderOutput(dataTable, element);\n",
       "        const docLink = document.createElement('div');\n",
       "        docLink.innerHTML = docLinkHtml;\n",
       "        element.appendChild(docLink);\n",
       "      }\n",
       "    </script>\n",
       "  </div>\n",
       "\n",
       "\n",
       "<div id=\"df-af20ab1b-f771-437e-b5b6-3266f23834de\">\n",
       "  <button class=\"colab-df-quickchart\" onclick=\"quickchart('df-af20ab1b-f771-437e-b5b6-3266f23834de')\"\n",
       "            title=\"Suggest charts\"\n",
       "            style=\"display:none;\">\n",
       "\n",
       "<svg xmlns=\"http://www.w3.org/2000/svg\" height=\"24px\"viewBox=\"0 0 24 24\"\n",
       "     width=\"24px\">\n",
       "    <g>\n",
       "        <path d=\"M19 3H5c-1.1 0-2 .9-2 2v14c0 1.1.9 2 2 2h14c1.1 0 2-.9 2-2V5c0-1.1-.9-2-2-2zM9 17H7v-7h2v7zm4 0h-2V7h2v10zm4 0h-2v-4h2v4z\"/>\n",
       "    </g>\n",
       "</svg>\n",
       "  </button>\n",
       "\n",
       "<style>\n",
       "  .colab-df-quickchart {\n",
       "      --bg-color: #E8F0FE;\n",
       "      --fill-color: #1967D2;\n",
       "      --hover-bg-color: #E2EBFA;\n",
       "      --hover-fill-color: #174EA6;\n",
       "      --disabled-fill-color: #AAA;\n",
       "      --disabled-bg-color: #DDD;\n",
       "  }\n",
       "\n",
       "  [theme=dark] .colab-df-quickchart {\n",
       "      --bg-color: #3B4455;\n",
       "      --fill-color: #D2E3FC;\n",
       "      --hover-bg-color: #434B5C;\n",
       "      --hover-fill-color: #FFFFFF;\n",
       "      --disabled-bg-color: #3B4455;\n",
       "      --disabled-fill-color: #666;\n",
       "  }\n",
       "\n",
       "  .colab-df-quickchart {\n",
       "    background-color: var(--bg-color);\n",
       "    border: none;\n",
       "    border-radius: 50%;\n",
       "    cursor: pointer;\n",
       "    display: none;\n",
       "    fill: var(--fill-color);\n",
       "    height: 32px;\n",
       "    padding: 0;\n",
       "    width: 32px;\n",
       "  }\n",
       "\n",
       "  .colab-df-quickchart:hover {\n",
       "    background-color: var(--hover-bg-color);\n",
       "    box-shadow: 0 1px 2px rgba(60, 64, 67, 0.3), 0 1px 3px 1px rgba(60, 64, 67, 0.15);\n",
       "    fill: var(--button-hover-fill-color);\n",
       "  }\n",
       "\n",
       "  .colab-df-quickchart-complete:disabled,\n",
       "  .colab-df-quickchart-complete:disabled:hover {\n",
       "    background-color: var(--disabled-bg-color);\n",
       "    fill: var(--disabled-fill-color);\n",
       "    box-shadow: none;\n",
       "  }\n",
       "\n",
       "  .colab-df-spinner {\n",
       "    border: 2px solid var(--fill-color);\n",
       "    border-color: transparent;\n",
       "    border-bottom-color: var(--fill-color);\n",
       "    animation:\n",
       "      spin 1s steps(1) infinite;\n",
       "  }\n",
       "\n",
       "  @keyframes spin {\n",
       "    0% {\n",
       "      border-color: transparent;\n",
       "      border-bottom-color: var(--fill-color);\n",
       "      border-left-color: var(--fill-color);\n",
       "    }\n",
       "    20% {\n",
       "      border-color: transparent;\n",
       "      border-left-color: var(--fill-color);\n",
       "      border-top-color: var(--fill-color);\n",
       "    }\n",
       "    30% {\n",
       "      border-color: transparent;\n",
       "      border-left-color: var(--fill-color);\n",
       "      border-top-color: var(--fill-color);\n",
       "      border-right-color: var(--fill-color);\n",
       "    }\n",
       "    40% {\n",
       "      border-color: transparent;\n",
       "      border-right-color: var(--fill-color);\n",
       "      border-top-color: var(--fill-color);\n",
       "    }\n",
       "    60% {\n",
       "      border-color: transparent;\n",
       "      border-right-color: var(--fill-color);\n",
       "    }\n",
       "    80% {\n",
       "      border-color: transparent;\n",
       "      border-right-color: var(--fill-color);\n",
       "      border-bottom-color: var(--fill-color);\n",
       "    }\n",
       "    90% {\n",
       "      border-color: transparent;\n",
       "      border-bottom-color: var(--fill-color);\n",
       "    }\n",
       "  }\n",
       "</style>\n",
       "\n",
       "  <script>\n",
       "    async function quickchart(key) {\n",
       "      const quickchartButtonEl =\n",
       "        document.querySelector('#' + key + ' button');\n",
       "      quickchartButtonEl.disabled = true;  // To prevent multiple clicks.\n",
       "      quickchartButtonEl.classList.add('colab-df-spinner');\n",
       "      try {\n",
       "        const charts = await google.colab.kernel.invokeFunction(\n",
       "            'suggestCharts', [key], {});\n",
       "      } catch (error) {\n",
       "        console.error('Error during call to suggestCharts:', error);\n",
       "      }\n",
       "      quickchartButtonEl.classList.remove('colab-df-spinner');\n",
       "      quickchartButtonEl.classList.add('colab-df-quickchart-complete');\n",
       "    }\n",
       "    (() => {\n",
       "      let quickchartButtonEl =\n",
       "        document.querySelector('#df-af20ab1b-f771-437e-b5b6-3266f23834de button');\n",
       "      quickchartButtonEl.style.display =\n",
       "        google.colab.kernel.accessAllowed ? 'block' : 'none';\n",
       "    })();\n",
       "  </script>\n",
       "</div>\n",
       "    </div>\n",
       "  </div>\n"
      ],
      "text/plain": [
       "              id                                         references  \\\n",
       "0     2151103935  [19720318,  1541642243,  1560959218,  16765523...   \n",
       "1     2911964244  [1507255258,  1580948147,  1605688901,  197584...   \n",
       "2     2153635508  [1510526001,  1543810117,  1556115774,  156879...   \n",
       "3     1791587663  [157213131,  1520103841,  1778357938,  1972888...   \n",
       "4     2119821739             [2087347434,  2154579312,  2168228682]   \n",
       "...          ...                                                ...   \n",
       "9995  2124827397  [1588883745,  1941732106,  1973544909,  199548...   \n",
       "9996  2120894402  [1798187755,  1967934102,  1987574258,  198770...   \n",
       "9997  1982180670  [1530008367,  1980572240,  2026191634,  203462...   \n",
       "9998  1559983024  [74179108,  137024741,  1987928129,  200776038...   \n",
       "9999  2138165844  [1989326485,  2050765519,  2121542813,  212589...   \n",
       "\n",
       "                                    references_under_id  \n",
       "0     [1676552347, 1949116567, 2011891945, 202466829...  \n",
       "1     [1605688901, 1975846642, 2112076978, 211324281...  \n",
       "2     [1510526001, 1568793342, 1621799579, 205698353...  \n",
       "3     [1972888601, 1988410705, 2037021532, 209248890...  \n",
       "4                              [2087347434, 2154579312]  \n",
       "...                                                 ...  \n",
       "9995  [2073440460, 2098289156, 2098375698, 209944078...  \n",
       "9996   [2117085697, 2127197749, 2150312211, 2293545866]  \n",
       "9997                                                 []  \n",
       "9998   [2140235142, 2149891956, 2158683916, 2237155658]  \n",
       "9999                           [2121542813, 2125895608]  \n",
       "\n",
       "[10000 rows x 3 columns]"
      ]
     },
     "execution_count": 7,
     "metadata": {},
     "output_type": "execute_result"
    }
   ],
   "source": [
    "# a list of all the ids present in the column 'id' is generated\n",
    "all_ids = dataset_top_citation_citation_graph['id'].tolist()\n",
    "all_ids = [id_.strip() for id_ in all_ids]\n",
    "\n",
    "# the function 'references_under_id' is created to extract only the ids ontained in the list of all the 10.000 ids\n",
    "def references_under_id(ids_list):\n",
    "    return [id_.strip() for id_ in ids_list if id_.strip() in all_ids]\n",
    "\n",
    "# a new column 'references_under_id' is created applying the previous function\n",
    "dataset_top_citation_citation_graph = dataset_top_citation_citation_graph.copy()\n",
    "dataset_top_citation_citation_graph.loc[:,'references_under_id'] = dataset_top_citation_citation_graph['references'].apply(references_under_id)\n",
    "dataset_top_citation_citation_graph"
   ]
  },
  {
   "cell_type": "markdown",
   "metadata": {
    "id": "KeJQUumiz-l2"
   },
   "source": [
    "With this code we create a new column, called `references_under_id` that contains only the ids, taken from the column references, that are contained in the column `id`, this can be done thanks to the function `references_under_id`. In this way we isolate all the relationships between papers that are present in the top 10.000 papers according the number of citations. This is the base to build the citation graph."
   ]
  },
  {
   "cell_type": "code",
   "execution_count": null,
   "metadata": {
    "id": "W63dheDjz-l3"
   },
   "outputs": [],
   "source": [
    "# a directed graph, called 'G_citation', is created using the library NetworkX\n",
    "G_citation = nx.DiGraph()\n",
    "\n",
    "# the nodes are added to the graph using the 'id' column\n",
    "G_citation.add_nodes_from(dataset_top_citation_citation_graph['id'])\n",
    "\n",
    "# we created the edges by iterating through the rows in the dataset\n",
    "for _, row in dataset_top_citation_citation_graph.iterrows():\n",
    "\n",
    "    # the source node is obtained from the 'id' column\n",
    "    source_node_citation_graph = row['id']\n",
    "\n",
    "    #the target node is obtained from the 'references_under_id' column\n",
    "    target_node_citation_graph = row['references_under_id']\n",
    "\n",
    "    # the directed edges are added from the source nodes to the target nodes\n",
    "    G_citation.add_edges_from([(source_node_citation_graph, target_node) for target_node in target_node_citation_graph])"
   ]
  },
  {
   "cell_type": "code",
   "execution_count": null,
   "metadata": {
    "colab": {
     "base_uri": "https://localhost:8080/",
     "height": 516
    },
    "id": "S-dgROrKz-l4",
    "outputId": "4a8a7337-3ac6-4fc9-a6b9-4fe1b92fa966"
   },
   "outputs": [
    {
     "data": {
      "image/png": "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",
      "text/plain": [
       "<Figure size 640x480 with 1 Axes>"
      ]
     },
     "metadata": {},
     "output_type": "display_data"
    }
   ],
   "source": [
    "# the first node, that will be showed, is extracted\n",
    "first_node_to_show = dataset_top_citation_citation_graph.iloc[0]\n",
    "\n",
    "# get the source node and the target node\n",
    "source_node = first_node_to_show['id']\n",
    "target_node = first_node_to_show['references_under_id']\n",
    "subgraph_node_citation_graph = [source_node] + target_node\n",
    "\n",
    "# a subgraph is extracted from the main graph containing the soruce node and target nodes specified\n",
    "subgraph = G_citation.subgraph(subgraph_node_citation_graph)\n",
    "pos = nx.spring_layout(subgraph)\n",
    "\n",
    "# draw the subgraph\n",
    "nx.draw(subgraph, pos, with_labels=True, arrowsize=10)\n",
    "plt.show()"
   ]
  },
  {
   "cell_type": "markdown",
   "metadata": {
    "id": "YJQkLFp6z-l5"
   },
   "source": [
    "The nodes and the edges has been created according to what we said previously, **we decided to show a small subportion of the whole graph** by plotting only the first node (the node that corresponds to the first id) with the relative edges and nodes to which it is connected. As we can see from the plot, the graph is not built to just show the relationships between the nodes under the column id and the relative nodes under the column `reference_under_id`, but it represents the relationships among the nodes present inside that column, as for example, the relationship between the node 2124087378 and 2109863423."
   ]
  },
  {
   "cell_type": "markdown",
   "metadata": {
    "id": "mqaNRQXNz-l5"
   },
   "source": [
    "## Collaboration graph"
   ]
  },
  {
   "cell_type": "markdown",
   "metadata": {
    "id": "xwSLFm4Tz-l6"
   },
   "source": [
    "This graph representsthe second task of the Point 1, the target is to create a `collaboration graph` that should represent the collaborations of the papers' authors, it should be weighted and undirected.\n",
    "The necessary column for this task was the column `authors`, and we isoltaed it to perform all the operations, creating the dataset `dataset_top_citation_collaboration_graph`. Similarly to the column `references`, the rows under this column were just singular strings, so we had to manipulate them closely to what we did for the citation graph. Once we processed them we just got lists of strings in the form ['id' 'numeric id']. Our goal was to obtain a column similar to the `refernces` one, to reach this target, we used the function clean_strings_authors, that extracts just the numeric values form the strings inside the lists, in order to have only the numeric ids on which we will build the final graph."
   ]
  },
  {
   "cell_type": "code",
   "execution_count": null,
   "metadata": {
    "id": "UtTu2XyLz-l6",
    "outputId": "48cd891b-c7f1-4281-a46b-fb604afc5a27"
   },
   "outputs": [
    {
     "data": {
      "text/html": [
       "<div>\n",
       "<style scoped>\n",
       "    .dataframe tbody tr th:only-of-type {\n",
       "        vertical-align: middle;\n",
       "    }\n",
       "\n",
       "    .dataframe tbody tr th {\n",
       "        vertical-align: top;\n",
       "    }\n",
       "\n",
       "    .dataframe thead th {\n",
       "        text-align: right;\n",
       "    }\n",
       "</style>\n",
       "<table border=\"1\" class=\"dataframe\">\n",
       "  <thead>\n",
       "    <tr style=\"text-align: right;\">\n",
       "      <th></th>\n",
       "      <th>authors</th>\n",
       "    </tr>\n",
       "  </thead>\n",
       "  <tbody>\n",
       "    <tr>\n",
       "      <th>0</th>\n",
       "      <td>[{'name': 'David G. Lowe', 'org': 'Computer Sc...</td>\n",
       "    </tr>\n",
       "    <tr>\n",
       "      <th>1</th>\n",
       "      <td>[{'name': 'Leo Breiman', 'org': 'Statistics De...</td>\n",
       "    </tr>\n",
       "    <tr>\n",
       "      <th>2</th>\n",
       "      <td>[{'name': 'Chih-Chung Chang', 'org': 'National...</td>\n",
       "    </tr>\n",
       "    <tr>\n",
       "      <th>3</th>\n",
       "      <td>[{'name': 'Fred D. Davis', 'org': 'Computer an...</td>\n",
       "    </tr>\n",
       "    <tr>\n",
       "      <th>4</th>\n",
       "      <td>[{'name': 'Corinna Cortes', 'org': 'AT&amp;T Bell ...</td>\n",
       "    </tr>\n",
       "    <tr>\n",
       "      <th>...</th>\n",
       "      <td>...</td>\n",
       "    </tr>\n",
       "    <tr>\n",
       "      <th>9995</th>\n",
       "      <td>[{'name': 'Pawan Goyal', 'org': 'Distributed M...</td>\n",
       "    </tr>\n",
       "    <tr>\n",
       "      <th>9996</th>\n",
       "      <td>[{'name': 'Jessica K. Hodgins', 'org': 'Colleg...</td>\n",
       "    </tr>\n",
       "    <tr>\n",
       "      <th>9997</th>\n",
       "      <td>[{'name': 'Richard J. Lipton', 'id': 277112432...</td>\n",
       "    </tr>\n",
       "    <tr>\n",
       "      <th>9998</th>\n",
       "      <td>[{'name': 'Claudio S. Pinhanez', 'org': 'IBM T...</td>\n",
       "    </tr>\n",
       "    <tr>\n",
       "      <th>9999</th>\n",
       "      <td>[{'name': 'Michael Nelson', 'org': 'VMWare, In...</td>\n",
       "    </tr>\n",
       "  </tbody>\n",
       "</table>\n",
       "<p>10000 rows × 1 columns</p>\n",
       "</div>"
      ],
      "text/plain": [
       "                                                authors\n",
       "0     [{'name': 'David G. Lowe', 'org': 'Computer Sc...\n",
       "1     [{'name': 'Leo Breiman', 'org': 'Statistics De...\n",
       "2     [{'name': 'Chih-Chung Chang', 'org': 'National...\n",
       "3     [{'name': 'Fred D. Davis', 'org': 'Computer an...\n",
       "4     [{'name': 'Corinna Cortes', 'org': 'AT&T Bell ...\n",
       "...                                                 ...\n",
       "9995  [{'name': 'Pawan Goyal', 'org': 'Distributed M...\n",
       "9996  [{'name': 'Jessica K. Hodgins', 'org': 'Colleg...\n",
       "9997  [{'name': 'Richard J. Lipton', 'id': 277112432...\n",
       "9998  [{'name': 'Claudio S. Pinhanez', 'org': 'IBM T...\n",
       "9999  [{'name': 'Michael Nelson', 'org': 'VMWare, In...\n",
       "\n",
       "[10000 rows x 1 columns]"
      ]
     },
     "execution_count": 12,
     "metadata": {},
     "output_type": "execute_result"
    }
   ],
   "source": [
    "dataset_top_citation_collaboration_graph = dataset_top_citation[['authors']]\n",
    "dataset_top_citation_collaboration_graph"
   ]
  },
  {
   "cell_type": "code",
   "execution_count": null,
   "metadata": {
    "id": "h0a2zxP7z-l8",
    "outputId": "a3c6cc59-9c93-4aaf-c895-11aa49718716"
   },
   "outputs": [
    {
     "data": {
      "text/html": [
       "<div>\n",
       "<style scoped>\n",
       "    .dataframe tbody tr th:only-of-type {\n",
       "        vertical-align: middle;\n",
       "    }\n",
       "\n",
       "    .dataframe tbody tr th {\n",
       "        vertical-align: top;\n",
       "    }\n",
       "\n",
       "    .dataframe thead th {\n",
       "        text-align: right;\n",
       "    }\n",
       "</style>\n",
       "<table border=\"1\" class=\"dataframe\">\n",
       "  <thead>\n",
       "    <tr style=\"text-align: right;\">\n",
       "      <th></th>\n",
       "      <th>authors</th>\n",
       "    </tr>\n",
       "  </thead>\n",
       "  <tbody>\n",
       "    <tr>\n",
       "      <th>0</th>\n",
       "      <td>[ 'id' 2104328312]</td>\n",
       "    </tr>\n",
       "    <tr>\n",
       "      <th>1</th>\n",
       "      <td>[ 'id' 2569376642]</td>\n",
       "    </tr>\n",
       "    <tr>\n",
       "      <th>2</th>\n",
       "      <td>[ 'id' 2895256545,  'id' 2168176072]</td>\n",
       "    </tr>\n",
       "    <tr>\n",
       "      <th>3</th>\n",
       "      <td>[ 'id' 2427477170]</td>\n",
       "    </tr>\n",
       "    <tr>\n",
       "      <th>4</th>\n",
       "      <td>[ 'id' 2134830209,  'id' 2022407533]</td>\n",
       "    </tr>\n",
       "    <tr>\n",
       "      <th>...</th>\n",
       "      <td>...</td>\n",
       "    </tr>\n",
       "    <tr>\n",
       "      <th>9995</th>\n",
       "      <td>[ 'id' 2152918269,  'id' 2020627909,  'id' 266...</td>\n",
       "    </tr>\n",
       "    <tr>\n",
       "      <th>9996</th>\n",
       "      <td>[ 'id' 601642093,  'id' 1980379243,  'id' 2030...</td>\n",
       "    </tr>\n",
       "    <tr>\n",
       "      <th>9997</th>\n",
       "      <td>[ 'id' 2771124329,  'id' 350567680]</td>\n",
       "    </tr>\n",
       "    <tr>\n",
       "      <th>9998</th>\n",
       "      <td>[ 'id' 320969846]</td>\n",
       "    </tr>\n",
       "    <tr>\n",
       "      <th>9999</th>\n",
       "      <td>[ 'id' 2564319605,  'id' 2153695973,  'id' 257...</td>\n",
       "    </tr>\n",
       "  </tbody>\n",
       "</table>\n",
       "<p>10000 rows × 1 columns</p>\n",
       "</div>"
      ],
      "text/plain": [
       "                                                authors\n",
       "0                                    [ 'id' 2104328312]\n",
       "1                                    [ 'id' 2569376642]\n",
       "2                  [ 'id' 2895256545,  'id' 2168176072]\n",
       "3                                    [ 'id' 2427477170]\n",
       "4                  [ 'id' 2134830209,  'id' 2022407533]\n",
       "...                                                 ...\n",
       "9995  [ 'id' 2152918269,  'id' 2020627909,  'id' 266...\n",
       "9996  [ 'id' 601642093,  'id' 1980379243,  'id' 2030...\n",
       "9997                [ 'id' 2771124329,  'id' 350567680]\n",
       "9998                                  [ 'id' 320969846]\n",
       "9999  [ 'id' 2564319605,  'id' 2153695973,  'id' 257...\n",
       "\n",
       "[10000 rows x 1 columns]"
      ]
     },
     "execution_count": 13,
     "metadata": {},
     "output_type": "execute_result"
    }
   ],
   "source": [
    "# the squared brackes are deleted from the authors column\n",
    "dataset_top_citation_collaboration_graph.loc[:,'authors'] = dataset_top_citation_collaboration_graph['authors'].apply(lambda x: x.replace('[', '').replace(']', '')).copy()\n",
    "\n",
    "# the curly brackes are deleted from the authors column\n",
    "dataset_top_citation_collaboration_graph.loc[:,'authors'] = dataset_top_citation_collaboration_graph['authors'].apply(lambda x: x.replace('{', '').replace('}', '')).copy()\n",
    "\n",
    "# the 2 points are deleted from the authors column\n",
    "dataset_top_citation_collaboration_graph.loc[:,'authors'] = dataset_top_citation_collaboration_graph['authors'].apply(lambda x: x.replace(':', '')).copy()\n",
    "\n",
    "# the name 'David' is deleted from the authors column, because of the presence of the word id in it\n",
    "dataset_top_citation_collaboration_graph.loc[:,'authors'] = dataset_top_citation_collaboration_graph['authors'].apply(lambda x: x.replace('David', '')).copy()\n",
    "\n",
    "# for each row of the column authors a list of strings is created\n",
    "dataset_top_citation_collaboration_graph.loc[:,'authors'] = dataset_top_citation_collaboration_graph['authors'].apply(lambda x: x.split(','))\n",
    "\n",
    "# only the strings with the word 'id' are kept\n",
    "dataset_top_citation_collaboration_graph.loc[:,'authors'] = dataset_top_citation_collaboration_graph['authors'].apply(lambda authors: list(filter(lambda author: 'id' in author, authors)))\n",
    "dataset_top_citation_collaboration_graph"
   ]
  },
  {
   "cell_type": "code",
   "execution_count": null,
   "metadata": {
    "id": "IFP3kLHmz-l9",
    "outputId": "89fb419f-b9b8-450a-efb7-c566b6bd1e70"
   },
   "outputs": [
    {
     "data": {
      "text/html": [
       "<div>\n",
       "<style scoped>\n",
       "    .dataframe tbody tr th:only-of-type {\n",
       "        vertical-align: middle;\n",
       "    }\n",
       "\n",
       "    .dataframe tbody tr th {\n",
       "        vertical-align: top;\n",
       "    }\n",
       "\n",
       "    .dataframe thead th {\n",
       "        text-align: right;\n",
       "    }\n",
       "</style>\n",
       "<table border=\"1\" class=\"dataframe\">\n",
       "  <thead>\n",
       "    <tr style=\"text-align: right;\">\n",
       "      <th></th>\n",
       "      <th>authors</th>\n",
       "    </tr>\n",
       "  </thead>\n",
       "  <tbody>\n",
       "    <tr>\n",
       "      <th>0</th>\n",
       "      <td>[2104328312]</td>\n",
       "    </tr>\n",
       "    <tr>\n",
       "      <th>1</th>\n",
       "      <td>[2569376642]</td>\n",
       "    </tr>\n",
       "    <tr>\n",
       "      <th>2</th>\n",
       "      <td>[2895256545, 2168176072]</td>\n",
       "    </tr>\n",
       "    <tr>\n",
       "      <th>3</th>\n",
       "      <td>[2427477170]</td>\n",
       "    </tr>\n",
       "    <tr>\n",
       "      <th>4</th>\n",
       "      <td>[2134830209, 2022407533]</td>\n",
       "    </tr>\n",
       "    <tr>\n",
       "      <th>...</th>\n",
       "      <td>...</td>\n",
       "    </tr>\n",
       "    <tr>\n",
       "      <th>9995</th>\n",
       "      <td>[2152918269, 2020627909, 2662983009]</td>\n",
       "    </tr>\n",
       "    <tr>\n",
       "      <th>9996</th>\n",
       "      <td>[601642093, 1980379243, 2030310643, 2104748382]</td>\n",
       "    </tr>\n",
       "    <tr>\n",
       "      <th>9997</th>\n",
       "      <td>[2771124329, 350567680]</td>\n",
       "    </tr>\n",
       "    <tr>\n",
       "      <th>9998</th>\n",
       "      <td>[320969846]</td>\n",
       "    </tr>\n",
       "    <tr>\n",
       "      <th>9999</th>\n",
       "      <td>[2564319605, 2153695973, 2579467519]</td>\n",
       "    </tr>\n",
       "  </tbody>\n",
       "</table>\n",
       "<p>10000 rows × 1 columns</p>\n",
       "</div>"
      ],
      "text/plain": [
       "                                              authors\n",
       "0                                        [2104328312]\n",
       "1                                        [2569376642]\n",
       "2                            [2895256545, 2168176072]\n",
       "3                                        [2427477170]\n",
       "4                            [2134830209, 2022407533]\n",
       "...                                               ...\n",
       "9995             [2152918269, 2020627909, 2662983009]\n",
       "9996  [601642093, 1980379243, 2030310643, 2104748382]\n",
       "9997                          [2771124329, 350567680]\n",
       "9998                                      [320969846]\n",
       "9999             [2564319605, 2153695973, 2579467519]\n",
       "\n",
       "[10000 rows x 1 columns]"
      ]
     },
     "execution_count": 14,
     "metadata": {},
     "output_type": "execute_result"
    }
   ],
   "source": [
    "# the function clean_strings_authors is created to keep only the numeric values,\n",
    "#so it removes the non-digit characters\n",
    "def clean_strings_authors(lst):\n",
    "    cleaned_list = []\n",
    "    for x in lst:\n",
    "        ids_authors_only = ''.join(char for char in x if char.isdigit())\n",
    "        if ids_authors_only:\n",
    "            cleaned_list.append(int(ids_authors_only))\n",
    "\n",
    "    # the output is a list of cleaned integers\n",
    "    return cleaned_list\n",
    "\n",
    "# the column authors is updated by applying the previous function\n",
    "dataset_top_citation_collaboration_graph.loc[:,'authors'] = dataset_top_citation_collaboration_graph['authors'].apply(clean_strings_authors)\n",
    "dataset_top_citation_collaboration_graph"
   ]
  },
  {
   "cell_type": "code",
   "execution_count": null,
   "metadata": {
    "id": "-vXkENkiz-l9"
   },
   "outputs": [],
   "source": [
    "# an undericted graph called 'G_collaboration' is created\n",
    "G_collaboration = nx.Graph()\n",
    "\n",
    "for _, row in dataset_top_citation_collaboration_graph.iterrows():\n",
    "    author_list = row['authors']\n",
    "\n",
    "    # interation through all the combinations of 2 authors with itertools\n",
    "    for collaboration in itertools.combinations(author_list, 2):\n",
    "\n",
    "        # checks if the collaboration edge already exists in the collaboration graph\n",
    "        if G_collaboration.has_edge(*collaboration):\n",
    "\n",
    "            # if the edge exists the weight is incremented by 1\n",
    "            G_collaboration[collaboration[0]][collaboration[1]]['weight'] += 1\n",
    "        else:\n",
    "            # id the edge does not exist, the weight is set to 1\n",
    "            G_collaboration.add_edge(*collaboration, weight=1)"
   ]
  },
  {
   "cell_type": "code",
   "execution_count": null,
   "metadata": {
    "id": "Y0bRMJEoz-l-",
    "outputId": "57dac66e-171d-41a5-ede1-f91abc2d37c3"
   },
   "outputs": [
    {
     "data": {
      "image/png": "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",
      "text/plain": [
       "<Figure size 640x480 with 1 Axes>"
      ]
     },
     "metadata": {},
     "output_type": "display_data"
    }
   ],
   "source": [
    "# the first 5 nodes from the collaboration graph are taken\n",
    "nodes_to_show = list(G_collaboration.nodes())[:5]\n",
    "\n",
    "# a subgraph made of the selected nodes is created\n",
    "subgraph_collaboration = G_collaboration.subgraph(nodes_to_show)\n",
    "pos = nx.spring_layout(subgraph_collaboration)\n",
    "\n",
    "# draw the subgraph\n",
    "nx.draw(subgraph_collaboration, pos, with_labels=True, font_weight='bold', node_size=700)\n",
    "edge_weights = {(i, j): subgraph_collaboration[i][j]['weight'] for i, j in subgraph_collaboration.edges()}\n",
    "nx.draw_networkx_edges(subgraph_collaboration, pos,\n",
    "                       width=[subgraph_collaboration[i][j]['weight'] for i, j in subgraph_collaboration.edges()])\n",
    "nx.draw_networkx_edge_labels(subgraph_collaboration, pos, edge_labels=edge_weights, font_color='red')\n",
    "plt.show()"
   ]
  },
  {
   "cell_type": "markdown",
   "metadata": {
    "id": "ws0_H0YRz-l_"
   },
   "source": [
    "As long as this second graph contains the weights, we would like explicit what we used as weights: the final collaboration graph contains a red number inside the edge, that number is the weight of that edge and it represents how many times that authors collaborated, for example in the final plot the authors 2895256545 and 2168176072 collaborated just one time, this means that these 2 ids appear just one time in the same list under the column author in the whole dataset."
   ]
  },
  {
   "cell_type": "markdown",
   "metadata": {
    "id": "hdS7o-q-CP1d"
   },
   "source": [
    "# **[Q2] Controlling system**"
   ]
  },
  {
   "cell_type": "markdown",
   "metadata": {
    "id": "Sc1bZmp4k5sO"
   },
   "source": [
    "The objective is to establish a control system where the user will be presented with a menu containing various functionalities. The user should have the ability to choose from five different functionalities, which will be implemented in the upcoming two sections. This system is designed to enable users to query and access functionalities of interest"
   ]
  },
  {
   "cell_type": "markdown",
   "metadata": {
    "id": "ySraxKu4k-oC"
   },
   "source": [
    " In this section we implement the different functionalities as classes and we can find the implementation in the corrispondent python files"
   ]
  },
  {
   "cell_type": "markdown",
   "metadata": {
    "id": "7KnxtCYQCRNz"
   },
   "source": [
    "### **Functionality 1 - Graph's features**\n",
    "\n",
    "This function should examine a graph and report on some of its features.\n",
    "In particular we're interested in the: **The number of the nodes**, **number of edges**, **density**, **degree distribution**, **average degree**, **graph hubs** and finally a boolean values if the graph is **dense** or sparse.\n",
    "\n",
    "The particolar threshold of density we consider `0.6` as moltiplicative factor as, typically, NOT dense graph has really lower number of edges r.t.w. the maximum number of edges. We also like this assessment as we consider it logical\n",
    "\n",
    "we can address the functionalities rispectivly calling the following methods      \n",
    "> nnodes\n",
    "\n",
    "> nedges\n",
    "\n",
    "> density\n",
    "\n",
    "> degreedistr\n",
    "\n",
    "> averagedegree\n",
    "\n",
    "> hubs\n",
    "\n",
    "> isdense\n"
   ]
  },
  {
   "cell_type": "code",
   "execution_count": null,
   "metadata": {
    "id": "_jqaVurEipVD"
   },
   "outputs": [],
   "source": [
    "from feature1 import GetFeature1\n",
    "g = GetFeature1(G, 'fake')"
   ]
  },
  {
   "cell_type": "code",
   "execution_count": null,
   "metadata": {
    "colab": {
     "base_uri": "https://localhost:8080/"
    },
    "id": "SFsvZHNxQdKh",
    "outputId": "8241b377-0b3e-4d13-aba3-ed2bb9a57bd4"
   },
   "outputs": [
    {
     "data": {
      "text/plain": [
       "10000"
      ]
     },
     "execution_count": 64,
     "metadata": {},
     "output_type": "execute_result"
    }
   ],
   "source": [
    "# As asked only 10000 nodes were selected among all nodes\n",
    "g.nnodes"
   ]
  },
  {
   "cell_type": "code",
   "execution_count": null,
   "metadata": {
    "colab": {
     "base_uri": "https://localhost:8080/"
    },
    "id": "meAYLaN8QfCs",
    "outputId": "35c5eb08-9d40-42e8-9b76-0c0b514f6e45"
   },
   "outputs": [
    {
     "data": {
      "text/plain": [
       "55150"
      ]
     },
     "execution_count": 65,
     "metadata": {},
     "output_type": "execute_result"
    }
   ],
   "source": [
    "# Calculating the number of edges\n",
    "g.nedges"
   ]
  },
  {
   "cell_type": "code",
   "execution_count": null,
   "metadata": {
    "colab": {
     "base_uri": "https://localhost:8080/"
    },
    "id": "hTdUWoZYQho1",
    "outputId": "e0778160-b91b-4f20-b6a1-68c0ed80a943"
   },
   "outputs": [
    {
     "data": {
      "text/plain": [
       "0.00055"
      ]
     },
     "execution_count": 67,
     "metadata": {},
     "output_type": "execute_result"
    }
   ],
   "source": [
    "round(g.density,5)"
   ]
  },
  {
   "cell_type": "code",
   "execution_count": null,
   "metadata": {
    "colab": {
     "base_uri": "https://localhost:8080/",
     "height": 430
    },
    "id": "nAFA3qwuQy0X",
    "outputId": "9306c36e-2a23-4a18-efac-1ef264924f57"
   },
   "outputs": [
    {
     "data": {
      "image/png": "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",
      "text/plain": [
       "<Figure size 640x480 with 1 Axes>"
      ]
     },
     "metadata": {},
     "output_type": "display_data"
    }
   ],
   "source": [
    "# We have a very raugh representation of the degree distribution\n",
    "# We find the number of nodes on the x label and the density on the y \"axis\"\n",
    "g.degreedistr"
   ]
  },
  {
   "cell_type": "markdown",
   "metadata": {
    "id": "KZ3SOLqtQxPM"
   },
   "source": [
    "Recalling that  a hub in graph theory refers to a node with a high degree, connected to a large number of other nodes in the network. They are often identified based on their high degree centrality, which quantifies the number of connections a node has.\n",
    "\n",
    "Some nodes from the list of hubs are printed."
   ]
  },
  {
   "cell_type": "code",
   "execution_count": null,
   "metadata": {
    "colab": {
     "base_uri": "https://localhost:8080/"
    },
    "id": "qj2T5ON0QKDN",
    "outputId": "e988edbc-4b91-4096-ad62-cae2f33cbcac"
   },
   "outputs": [
    {
     "data": {
      "text/plain": [
       "['2128749719', '1772076007', '2167050549', '2141167937', '2108767394']"
      ]
     },
     "execution_count": 23,
     "metadata": {},
     "output_type": "execute_result"
    }
   ],
   "source": [
    "# We select some random nodes which are hubs\n",
    "g.hubs[450:455] # are 456 in total"
   ]
  },
  {
   "cell_type": "code",
   "execution_count": null,
   "metadata": {
    "colab": {
     "base_uri": "https://localhost:8080/"
    },
    "id": "CIhyP1EOkeH_",
    "outputId": "0a4d8ce0-66d0-4ecf-e7ab-7082ed1333ad"
   },
   "outputs": [
    {
     "data": {
      "text/plain": [
       "False"
      ]
     },
     "execution_count": 66,
     "metadata": {},
     "output_type": "execute_result"
    }
   ],
   "source": [
    "g.isdense"
   ]
  },
  {
   "cell_type": "markdown",
   "metadata": {
    "id": "hsayMTXdPG0R"
   },
   "source": [
    "We found the density through networkx, but levaraging the following formula for the density of a graph G with $n$ nodes and $m$:\n",
    "\n",
    "$$D=\\dfrac{2m}{n⋅(n−1)}$$\n",
    "\n",
    "For our graph with 10.000 nodes and 55.150 edges we have:\n",
    "\n",
    "$$D=\\dfrac{2\\cdot55.150}{10.000⋅(10.000−1)}\\approx 0.0011$$​\n",
    "\n",
    "whose density is really far off for any reasonable threshold that a graph is dense"
   ]
  },
  {
   "cell_type": "markdown",
   "metadata": {
    "id": "3YcZ4ol_iefI"
   },
   "source": [
    "### **Functionality 2 - Nodes' contribution**\n",
    "\n",
    "Using this functionality, we can identify the papers/authors who have significantly contributed to this field of study. In order to achieve a more complete analysis we will examine the graph using various centrality measurements such as **betweeness**, **pageRank**, **closeness**, **centrality**.\n",
    "\n",
    "We can call it as methods of aour class through the following instructions:\n",
    "### **nodecentrality**\n",
    "\n",
    "The betweenness centrality B(x) of a node $x$ is calculated based on the number of shortest paths that pass through $x$, normalized by the total number of shortest paths in the network:\n",
    "\n",
    "$$B(x)=∑_{s\\neq x \\neq t}\\dfrac{σ_{st}(x)}{σ_{st}}$$\n",
    "\n",
    "Where:\n",
    "\n",
    "  $σ_{st}​$ is the total number of shortest paths from node $s$ to node $t$.\n",
    "\n",
    "  $σ_{st}​(x)$ is the number of those paths that pass through node $x$.\n",
    "\n",
    "\n",
    "### **pagerank**\n",
    "\n",
    "Pagerank is a link analysis algorithm used by search engines to assign a numerical weight to each element of a hyperlinked set of documents, such as the World Wide Web, with the purpose of measuring its relative importance within the set\n",
    "\n",
    "### **closeness**\n",
    "\n",
    "The closeness centrality is a measure of a node's centrality within a graph, which gauges how close a node is to all other nodes. For an undirected graph, the closeness centrality (C(v)) of a node v is defined as the reciprocal of the sum of the shortest distances from v to all other nodes in the graph:\n",
    "\n",
    "$$\\displaystyle C(v)=\\dfrac{1}{\\sum_{u}d(v,u)}$$\n",
    "\n",
    "Here, $d(v,u)$ represents the shortest distance between nodes v and u. For a directed graph, closeness centrality is generally defined similarly, but considering only reachable or incoming nodes.\n",
    "\n",
    "### **degreecentrality**\n",
    "The degree centrality D(x) of a node $x$ is the number of edges incident to that node, normalized by the total number of nodes in the network minus one:\n",
    "\n",
    "$$D(x)=\\dfrac{\\text{Number of edges incident to x}}{N-1}​$$\n",
    "\n",
    "where $N$ is the total number of nodes in the network."
   ]
  },
  {
   "cell_type": "code",
   "execution_count": null,
   "metadata": {
    "id": "mIwyjmP18IJ3"
   },
   "outputs": [],
   "source": [
    "from feature2 import GetFeature2"
   ]
  },
  {
   "cell_type": "markdown",
   "metadata": {
    "id": "1hgHxYOAR_5q"
   },
   "source": [
    "#### Example 1"
   ]
  },
  {
   "cell_type": "code",
   "execution_count": null,
   "metadata": {
    "colab": {
     "base_uri": "https://localhost:8080/"
    },
    "id": "pM_HkgKlRBhZ",
    "outputId": "7fef50ab-bcd1-4740-afac-a21d95ed66ab"
   },
   "outputs": [
    {
     "data": {
      "text/plain": [
       "0.0"
      ]
     },
     "execution_count": 69,
     "metadata": {},
     "output_type": "execute_result"
    }
   ],
   "source": [
    "h = GetFeature2(subgraph, '2151103935', 'citation subgraph')\n",
    "h.closeness"
   ]
  },
  {
   "cell_type": "code",
   "execution_count": null,
   "metadata": {
    "colab": {
     "base_uri": "https://localhost:8080/"
    },
    "id": "TQpX04x0Q-pK",
    "outputId": "bf7b4477-d203-4df9-e11f-ddf07000fc6c"
   },
   "outputs": [
    {
     "data": {
      "text/plain": [
       "0.03139"
      ]
     },
     "execution_count": 70,
     "metadata": {},
     "output_type": "execute_result"
    }
   ],
   "source": [
    "round(h.pagerank,5)"
   ]
  },
  {
   "cell_type": "code",
   "execution_count": null,
   "metadata": {
    "colab": {
     "base_uri": "https://localhost:8080/"
    },
    "id": "p7MZ30tj8yJZ",
    "outputId": "86fff642-93fd-43a1-eed6-095877e78de9"
   },
   "outputs": [
    {
     "data": {
      "text/plain": [
       "0.0"
      ]
     },
     "execution_count": 46,
     "metadata": {},
     "output_type": "execute_result"
    }
   ],
   "source": [
    "h.nodecentrality"
   ]
  },
  {
   "cell_type": "code",
   "execution_count": null,
   "metadata": {
    "colab": {
     "base_uri": "https://localhost:8080/"
    },
    "id": "XLr_ie9-U0CZ",
    "outputId": "0605b874-27c8-4e80-c2bf-bd01713ea297"
   },
   "outputs": [
    {
     "data": {
      "text/plain": [
       "1.0"
      ]
     },
     "execution_count": 47,
     "metadata": {},
     "output_type": "execute_result"
    }
   ],
   "source": [
    "h.degreecentrality"
   ]
  },
  {
   "cell_type": "markdown",
   "metadata": {
    "id": "rnwT6ZsTSCLC"
   },
   "source": [
    "#### Example 2"
   ]
  },
  {
   "cell_type": "code",
   "execution_count": null,
   "metadata": {
    "colab": {
     "base_uri": "https://localhost:8080/"
    },
    "id": "3Nmc1caZSEz1",
    "outputId": "c469719c-f5e8-4c3d-85d7-c4c214870858"
   },
   "outputs": [
    {
     "data": {
      "text/plain": [
       "0.11765"
      ]
     },
     "execution_count": 76,
     "metadata": {},
     "output_type": "execute_result"
    }
   ],
   "source": [
    "h1 = GetFeature2(subgraph, '1676552347', 'citation subgraph')\n",
    "round(h1.closeness,5)\n"
   ]
  },
  {
   "cell_type": "code",
   "execution_count": null,
   "metadata": {
    "colab": {
     "base_uri": "https://localhost:8080/"
    },
    "id": "lit4APeOST7x",
    "outputId": "ac6dc6ae-45d5-4c7e-ef5d-80dd2fd16a03"
   },
   "outputs": [
    {
     "data": {
      "text/plain": [
       "0.03997"
      ]
     },
     "execution_count": 77,
     "metadata": {},
     "output_type": "execute_result"
    }
   ],
   "source": [
    "round(h1.pagerank,5)"
   ]
  },
  {
   "cell_type": "code",
   "execution_count": null,
   "metadata": {
    "colab": {
     "base_uri": "https://localhost:8080/"
    },
    "id": "9GSJE_8IST7z",
    "outputId": "d7b18201-8050-4327-c44d-049bf132c238"
   },
   "outputs": [
    {
     "data": {
      "text/plain": [
       "0.00123"
      ]
     },
     "execution_count": 80,
     "metadata": {},
     "output_type": "execute_result"
    }
   ],
   "source": [
    "round(h1.nodecentrality,5)"
   ]
  },
  {
   "cell_type": "code",
   "execution_count": null,
   "metadata": {
    "colab": {
     "base_uri": "https://localhost:8080/"
    },
    "id": "9ZSxpRBNST7z",
    "outputId": "06de149e-0027-42bb-c855-ec82130f0685"
   },
   "outputs": [
    {
     "data": {
      "text/plain": [
       "0.35294"
      ]
     },
     "execution_count": 82,
     "metadata": {},
     "output_type": "execute_result"
    }
   ],
   "source": [
    "round(h1.degreecentrality,5)"
   ]
  },
  {
   "cell_type": "code",
   "execution_count": null,
   "metadata": {
    "id": "f4ufaeK7AGN_"
   },
   "outputs": [],
   "source": [
    "table = [ ['Concerned Node', '2151103935', '1676552347' ], ['Closeness Centrality',h.closeness, round(h1.closeness,5)],\\\n",
    "        ['pagerank', round(h.pagerank,5) ,round(h1.pagerank,5)],[\"degree centrality\", round(h.degreecentrality,5), round(h1.degreecentrality,5)],\n",
    "        [\"Node centrality\", round(h.nodecentrality,5), round(h1.nodecentrality,5)]]\n"
   ]
  },
  {
   "cell_type": "code",
   "execution_count": null,
   "metadata": {
    "id": "JOXkhTV1AGOB",
    "outputId": "08d557d8-1a5e-4e69-d778-1de42ee0ffee"
   },
   "outputs": [
    {
     "name": "stdout",
     "output_type": "stream",
     "text": [
      "--------------------  ----------  -----------\n",
      "Concerned Node        2.1511e+09  1.67655e+09\n",
      "Closeness Centrality           0      0.11765\n",
      "pagerank                 0.03139      0.03997\n",
      "degree centrality              1      0.35294\n",
      "Node centrality                0      0.00123\n",
      "--------------------  ----------  -----------\n"
     ]
    }
   ],
   "source": [
    "print(tabulate(table,numalign=\"right\"))"
   ]
  },
  {
   "cell_type": "markdown",
   "metadata": {
    "id": "Ueodzu9H9z2O"
   },
   "source": [
    "### **Functionality 3 - Shortest ordered walk**\n",
    "\n",
    "In this functionality we're asked to find the shortest orderd walks. We have in input: the graph data, a sequence of authors_a and initial and a final node and a number N. As output we want  to get from author a_1 to author a_n and the papers you need to cross to realize this walk.\n",
    "\n",
    "It returns a message when the graph is not fully connected neither exists a shortest path between two specified nodes.\n",
    "\n",
    "We decided to return the shortest path also when a list is not given.\n",
    "\n",
    "In the specific case of the **Collaboration graph**, as it is not so dense, we decide non to use this parameter for the sake of visualization as it would be of no interest.\n",
    "\n",
    "**N is a parameter to filter the first authors with respect to the number of papers they have written**. Furthermore the choice of weights in the collaboration graphs was free and we decided to pick the number of collaborations.\n",
    "\n",
    "So in order to choose the top N authors we decide to extract the exact number of papers for each author from the real dataset, and not approximated from the graph. Indeed summing the outgoing edges would at least exclude two hihgly probably cases:\n",
    "\n",
    "1. articles publishes solitarly\n",
    "2. the case in which an article was written by 3+ hands there would be 2 connections but the article would still be one\n",
    "\n",
    "\n",
    "You can find the selection of the top authors in the followings cell of code\n"
   ]
  },
  {
   "cell_type": "markdown",
   "metadata": {
    "id": "-SnkNg6oF6as"
   },
   "source": [
    "#### find the authors with the higher number of articles published"
   ]
  },
  {
   "cell_type": "code",
   "execution_count": null,
   "metadata": {
    "colab": {
     "base_uri": "https://localhost:8080/",
     "height": 424
    },
    "id": "1uvBGNeFGCfr",
    "outputId": "33f48776-d7c4-4617-e405-8e73103df250"
   },
   "outputs": [
    {
     "data": {
      "text/html": [
       "\n",
       "  <div id=\"df-67758018-0514-4753-950d-09efdcf6a4d6\" class=\"colab-df-container\">\n",
       "    <div>\n",
       "<style scoped>\n",
       "    .dataframe tbody tr th:only-of-type {\n",
       "        vertical-align: middle;\n",
       "    }\n",
       "\n",
       "    .dataframe tbody tr th {\n",
       "        vertical-align: top;\n",
       "    }\n",
       "\n",
       "    .dataframe thead th {\n",
       "        text-align: right;\n",
       "    }\n",
       "</style>\n",
       "<table border=\"1\" class=\"dataframe\">\n",
       "  <thead>\n",
       "    <tr style=\"text-align: right;\">\n",
       "      <th></th>\n",
       "      <th>id</th>\n",
       "      <th>authors</th>\n",
       "    </tr>\n",
       "  </thead>\n",
       "  <tbody>\n",
       "    <tr>\n",
       "      <th>2937610</th>\n",
       "      <td>2151103935</td>\n",
       "      <td>[{'name': 'David G. Lowe', 'org': 'Computer Sc...</td>\n",
       "    </tr>\n",
       "    <tr>\n",
       "      <th>4088311</th>\n",
       "      <td>2911964244</td>\n",
       "      <td>[{'name': 'Leo Breiman', 'org': 'Statistics De...</td>\n",
       "    </tr>\n",
       "    <tr>\n",
       "      <th>2691785</th>\n",
       "      <td>2153635508</td>\n",
       "      <td>[{'name': 'Chih-Chung Chang', 'org': 'National...</td>\n",
       "    </tr>\n",
       "    <tr>\n",
       "      <th>688041</th>\n",
       "      <td>1791587663</td>\n",
       "      <td>[{'name': 'Fred D. Davis', 'org': 'Computer an...</td>\n",
       "    </tr>\n",
       "    <tr>\n",
       "      <th>2313078</th>\n",
       "      <td>2119821739</td>\n",
       "      <td>[{'name': 'Corinna Cortes', 'org': 'AT&amp;T Bell ...</td>\n",
       "    </tr>\n",
       "    <tr>\n",
       "      <th>...</th>\n",
       "      <td>...</td>\n",
       "      <td>...</td>\n",
       "    </tr>\n",
       "    <tr>\n",
       "      <th>1443467</th>\n",
       "      <td>2032881500</td>\n",
       "      <td>[{'name': 'Tong Zhu', 'org': 'Dept. of Comput....</td>\n",
       "    </tr>\n",
       "    <tr>\n",
       "      <th>1443452</th>\n",
       "      <td>2032879541</td>\n",
       "      <td>[{'name': 'John Ayoade', 'org': 'American Univ...</td>\n",
       "    </tr>\n",
       "    <tr>\n",
       "      <th>1443458</th>\n",
       "      <td>2032880699</td>\n",
       "      <td>[{'name': 'Adrian Rusu', 'org': 'Dept. of Comp...</td>\n",
       "    </tr>\n",
       "    <tr>\n",
       "      <th>1443466</th>\n",
       "      <td>2032881482</td>\n",
       "      <td>[{'name': 'Óscar J. Rubio', 'org': 'Aragon In...</td>\n",
       "    </tr>\n",
       "    <tr>\n",
       "      <th>4894080</th>\n",
       "      <td>99956490</td>\n",
       "      <td>[{'name': 'Egon Börger', 'org': 'Institut für ...</td>\n",
       "    </tr>\n",
       "  </tbody>\n",
       "</table>\n",
       "<p>3777107 rows × 2 columns</p>\n",
       "</div>\n",
       "    <div class=\"colab-df-buttons\">\n",
       "\n",
       "  <div class=\"colab-df-container\">\n",
       "    <button class=\"colab-df-convert\" onclick=\"convertToInteractive('df-67758018-0514-4753-950d-09efdcf6a4d6')\"\n",
       "            title=\"Convert this dataframe to an interactive table.\"\n",
       "            style=\"display:none;\">\n",
       "\n",
       "  <svg xmlns=\"http://www.w3.org/2000/svg\" height=\"24px\" viewBox=\"0 -960 960 960\">\n",
       "    <path d=\"M120-120v-720h720v720H120Zm60-500h600v-160H180v160Zm220 220h160v-160H400v160Zm0 220h160v-160H400v160ZM180-400h160v-160H180v160Zm440 0h160v-160H620v160ZM180-180h160v-160H180v160Zm440 0h160v-160H620v160Z\"/>\n",
       "  </svg>\n",
       "    </button>\n",
       "\n",
       "  <style>\n",
       "    .colab-df-container {\n",
       "      display:flex;\n",
       "      gap: 12px;\n",
       "    }\n",
       "\n",
       "    .colab-df-convert {\n",
       "      background-color: #E8F0FE;\n",
       "      border: none;\n",
       "      border-radius: 50%;\n",
       "      cursor: pointer;\n",
       "      display: none;\n",
       "      fill: #1967D2;\n",
       "      height: 32px;\n",
       "      padding: 0 0 0 0;\n",
       "      width: 32px;\n",
       "    }\n",
       "\n",
       "    .colab-df-convert:hover {\n",
       "      background-color: #E2EBFA;\n",
       "      box-shadow: 0px 1px 2px rgba(60, 64, 67, 0.3), 0px 1px 3px 1px rgba(60, 64, 67, 0.15);\n",
       "      fill: #174EA6;\n",
       "    }\n",
       "\n",
       "    .colab-df-buttons div {\n",
       "      margin-bottom: 4px;\n",
       "    }\n",
       "\n",
       "    [theme=dark] .colab-df-convert {\n",
       "      background-color: #3B4455;\n",
       "      fill: #D2E3FC;\n",
       "    }\n",
       "\n",
       "    [theme=dark] .colab-df-convert:hover {\n",
       "      background-color: #434B5C;\n",
       "      box-shadow: 0px 1px 3px 1px rgba(0, 0, 0, 0.15);\n",
       "      filter: drop-shadow(0px 1px 2px rgba(0, 0, 0, 0.3));\n",
       "      fill: #FFFFFF;\n",
       "    }\n",
       "  </style>\n",
       "\n",
       "    <script>\n",
       "      const buttonEl =\n",
       "        document.querySelector('#df-67758018-0514-4753-950d-09efdcf6a4d6 button.colab-df-convert');\n",
       "      buttonEl.style.display =\n",
       "        google.colab.kernel.accessAllowed ? 'block' : 'none';\n",
       "\n",
       "      async function convertToInteractive(key) {\n",
       "        const element = document.querySelector('#df-67758018-0514-4753-950d-09efdcf6a4d6');\n",
       "        const dataTable =\n",
       "          await google.colab.kernel.invokeFunction('convertToInteractive',\n",
       "                                                    [key], {});\n",
       "        if (!dataTable) return;\n",
       "\n",
       "        const docLinkHtml = 'Like what you see? Visit the ' +\n",
       "          '<a target=\"_blank\" href=https://colab.research.google.com/notebooks/data_table.ipynb>data table notebook</a>'\n",
       "          + ' to learn more about interactive tables.';\n",
       "        element.innerHTML = '';\n",
       "        dataTable['output_type'] = 'display_data';\n",
       "        await google.colab.output.renderOutput(dataTable, element);\n",
       "        const docLink = document.createElement('div');\n",
       "        docLink.innerHTML = docLinkHtml;\n",
       "        element.appendChild(docLink);\n",
       "      }\n",
       "    </script>\n",
       "  </div>\n",
       "\n",
       "\n",
       "<div id=\"df-e0075b5b-fa7a-4cd0-b842-eb0a547c17e9\">\n",
       "  <button class=\"colab-df-quickchart\" onclick=\"quickchart('df-e0075b5b-fa7a-4cd0-b842-eb0a547c17e9')\"\n",
       "            title=\"Suggest charts\"\n",
       "            style=\"display:none;\">\n",
       "\n",
       "<svg xmlns=\"http://www.w3.org/2000/svg\" height=\"24px\"viewBox=\"0 0 24 24\"\n",
       "     width=\"24px\">\n",
       "    <g>\n",
       "        <path d=\"M19 3H5c-1.1 0-2 .9-2 2v14c0 1.1.9 2 2 2h14c1.1 0 2-.9 2-2V5c0-1.1-.9-2-2-2zM9 17H7v-7h2v7zm4 0h-2V7h2v10zm4 0h-2v-4h2v4z\"/>\n",
       "    </g>\n",
       "</svg>\n",
       "  </button>\n",
       "\n",
       "<style>\n",
       "  .colab-df-quickchart {\n",
       "      --bg-color: #E8F0FE;\n",
       "      --fill-color: #1967D2;\n",
       "      --hover-bg-color: #E2EBFA;\n",
       "      --hover-fill-color: #174EA6;\n",
       "      --disabled-fill-color: #AAA;\n",
       "      --disabled-bg-color: #DDD;\n",
       "  }\n",
       "\n",
       "  [theme=dark] .colab-df-quickchart {\n",
       "      --bg-color: #3B4455;\n",
       "      --fill-color: #D2E3FC;\n",
       "      --hover-bg-color: #434B5C;\n",
       "      --hover-fill-color: #FFFFFF;\n",
       "      --disabled-bg-color: #3B4455;\n",
       "      --disabled-fill-color: #666;\n",
       "  }\n",
       "\n",
       "  .colab-df-quickchart {\n",
       "    background-color: var(--bg-color);\n",
       "    border: none;\n",
       "    border-radius: 50%;\n",
       "    cursor: pointer;\n",
       "    display: none;\n",
       "    fill: var(--fill-color);\n",
       "    height: 32px;\n",
       "    padding: 0;\n",
       "    width: 32px;\n",
       "  }\n",
       "\n",
       "  .colab-df-quickchart:hover {\n",
       "    background-color: var(--hover-bg-color);\n",
       "    box-shadow: 0 1px 2px rgba(60, 64, 67, 0.3), 0 1px 3px 1px rgba(60, 64, 67, 0.15);\n",
       "    fill: var(--button-hover-fill-color);\n",
       "  }\n",
       "\n",
       "  .colab-df-quickchart-complete:disabled,\n",
       "  .colab-df-quickchart-complete:disabled:hover {\n",
       "    background-color: var(--disabled-bg-color);\n",
       "    fill: var(--disabled-fill-color);\n",
       "    box-shadow: none;\n",
       "  }\n",
       "\n",
       "  .colab-df-spinner {\n",
       "    border: 2px solid var(--fill-color);\n",
       "    border-color: transparent;\n",
       "    border-bottom-color: var(--fill-color);\n",
       "    animation:\n",
       "      spin 1s steps(1) infinite;\n",
       "  }\n",
       "\n",
       "  @keyframes spin {\n",
       "    0% {\n",
       "      border-color: transparent;\n",
       "      border-bottom-color: var(--fill-color);\n",
       "      border-left-color: var(--fill-color);\n",
       "    }\n",
       "    20% {\n",
       "      border-color: transparent;\n",
       "      border-left-color: var(--fill-color);\n",
       "      border-top-color: var(--fill-color);\n",
       "    }\n",
       "    30% {\n",
       "      border-color: transparent;\n",
       "      border-left-color: var(--fill-color);\n",
       "      border-top-color: var(--fill-color);\n",
       "      border-right-color: var(--fill-color);\n",
       "    }\n",
       "    40% {\n",
       "      border-color: transparent;\n",
       "      border-right-color: var(--fill-color);\n",
       "      border-top-color: var(--fill-color);\n",
       "    }\n",
       "    60% {\n",
       "      border-color: transparent;\n",
       "      border-right-color: var(--fill-color);\n",
       "    }\n",
       "    80% {\n",
       "      border-color: transparent;\n",
       "      border-right-color: var(--fill-color);\n",
       "      border-bottom-color: var(--fill-color);\n",
       "    }\n",
       "    90% {\n",
       "      border-color: transparent;\n",
       "      border-bottom-color: var(--fill-color);\n",
       "    }\n",
       "  }\n",
       "</style>\n",
       "\n",
       "  <script>\n",
       "    async function quickchart(key) {\n",
       "      const quickchartButtonEl =\n",
       "        document.querySelector('#' + key + ' button');\n",
       "      quickchartButtonEl.disabled = true;  // To prevent multiple clicks.\n",
       "      quickchartButtonEl.classList.add('colab-df-spinner');\n",
       "      try {\n",
       "        const charts = await google.colab.kernel.invokeFunction(\n",
       "            'suggestCharts', [key], {});\n",
       "      } catch (error) {\n",
       "        console.error('Error during call to suggestCharts:', error);\n",
       "      }\n",
       "      quickchartButtonEl.classList.remove('colab-df-spinner');\n",
       "      quickchartButtonEl.classList.add('colab-df-quickchart-complete');\n",
       "    }\n",
       "    (() => {\n",
       "      let quickchartButtonEl =\n",
       "        document.querySelector('#df-e0075b5b-fa7a-4cd0-b842-eb0a547c17e9 button');\n",
       "      quickchartButtonEl.style.display =\n",
       "        google.colab.kernel.accessAllowed ? 'block' : 'none';\n",
       "    })();\n",
       "  </script>\n",
       "</div>\n",
       "    </div>\n",
       "  </div>\n"
      ],
      "text/plain": [
       "                 id                                            authors\n",
       "2937610  2151103935  [{'name': 'David G. Lowe', 'org': 'Computer Sc...\n",
       "4088311  2911964244  [{'name': 'Leo Breiman', 'org': 'Statistics De...\n",
       "2691785  2153635508  [{'name': 'Chih-Chung Chang', 'org': 'National...\n",
       "688041   1791587663  [{'name': 'Fred D. Davis', 'org': 'Computer an...\n",
       "2313078  2119821739  [{'name': 'Corinna Cortes', 'org': 'AT&T Bell ...\n",
       "...             ...                                                ...\n",
       "1443467  2032881500  [{'name': 'Tong Zhu', 'org': 'Dept. of Comput....\n",
       "1443452  2032879541  [{'name': 'John Ayoade', 'org': 'American Univ...\n",
       "1443458  2032880699  [{'name': 'Adrian Rusu', 'org': 'Dept. of Comp...\n",
       "1443466  2032881482  [{'name': 'Óscar J. Rubio', 'org': 'Aragon In...\n",
       "4894080    99956490  [{'name': 'Egon Börger', 'org': 'Institut für ...\n",
       "\n",
       "[3777107 rows x 2 columns]"
      ]
     },
     "execution_count": 88,
     "metadata": {},
     "output_type": "execute_result"
    }
   ],
   "source": [
    "# We consider the original dataset to have the orginal number of total papers published\n",
    "top_authors= dataset[['id','authors']]\n",
    "top_authors"
   ]
  },
  {
   "cell_type": "code",
   "execution_count": null,
   "metadata": {
    "colab": {
     "base_uri": "https://localhost:8080/",
     "height": 91
    },
    "id": "O_Oi-um3Ix7T",
    "outputId": "a1ea91aa-cac2-471c-87d9-0fa42fe46d71"
   },
   "outputs": [
    {
     "data": {
      "application/vnd.google.colaboratory.intrinsic+json": {
       "type": "string"
      },
      "text/plain": [
       "\"[{'name': 'Makoto Satoh', 'org': 'Shinshu University', 'id': 2312688602}, {'name': 'Ryo Muramatsu', 'org': 'Shinshu University', 'id': 2482909946}, {'name': 'Mizue Kayama', 'org': 'Shinshu University', 'id': 2128134587}, {'name': 'Kazunori Itoh', 'org': 'Shinshu University', 'id': 2101782692}, {'name': 'Masami Hashimoto', 'org': 'Shinshu University', 'id': 2114054191}, {'name': 'Makoto Otani', 'org': 'Shinshu University', 'id': 1989208940}, {'name': 'Michio Shimizu', 'org': 'Nagano Prefectural College', 'id': 2134989941}, {'name': 'Masahiko Sugimoto', 'org': 'Takushoku University, Hokkaido Junior College', 'id': 2307479915}]\""
      ]
     },
     "execution_count": 89,
     "metadata": {},
     "output_type": "execute_result"
    }
   ],
   "source": [
    "# We see how our data is structured and how authors-ids are stored\n",
    "top_authors['authors'][0]"
   ]
  },
  {
   "cell_type": "code",
   "execution_count": null,
   "metadata": {
    "id": "Bvd6j34qK5Ov"
   },
   "outputs": [],
   "source": [
    "# We construct our counter as a dictionary\n",
    "authors_publishedict = defaultdict(int)\n",
    "\n",
    "# Iterating over each row\n",
    "for idx, row in top_authors.iterrows():\n",
    "    authors = row['authors']\n",
    "\n",
    "    # Iterate over author dictionaries in the 'authors' columns list\n",
    "    for auth_dict in ast.literal_eval(authors):\n",
    "        author_id = auth_dict.get('id')\n",
    "\n",
    "        # Count the occurrences of each author's id in authors_publishedict and\n",
    "        # update the counter of our own dicitonary\n",
    "        authors_publishedict[author_id] += 1\n",
    "\n"
   ]
  },
  {
   "cell_type": "code",
   "execution_count": null,
   "metadata": {
    "id": "oCZ4cdiap5GF"
   },
   "outputs": [],
   "source": [
    "# Add  a new column to the dataset so we can filter about top-N authors\n",
    "authors_publisheddf= pd.DataFrame(list(authors_publishedict.items()), columns=['id', 'PublicationCount'])"
   ]
  },
  {
   "cell_type": "code",
   "execution_count": null,
   "metadata": {
    "id": "0cXrLxGhaHL2"
   },
   "outputs": [],
   "source": [
    "# We save it so to call it in the function extract if we\n",
    "#wanted to exctract top-authors. As a matter of fact we we will\n",
    "#call connected_authors we won't apply the filtering selection though\n",
    "path_csv = '/content/authors_publisheddf.csv'\n",
    "authors_publisheddf.to_csv(path_csv, index=False)"
   ]
  },
  {
   "cell_type": "code",
   "execution_count": null,
   "metadata": {
    "colab": {
     "base_uri": "https://localhost:8080/",
     "height": 424
    },
    "id": "b-E_z5_YAgb2",
    "outputId": "09fdca1b-2a1b-472a-e05e-ec934f896b5e"
   },
   "outputs": [
    {
     "data": {
      "text/html": [
       "\n",
       "  <div id=\"df-d0fab353-386c-4de6-860d-bdee16e0ee40\" class=\"colab-df-container\">\n",
       "    <div>\n",
       "<style scoped>\n",
       "    .dataframe tbody tr th:only-of-type {\n",
       "        vertical-align: middle;\n",
       "    }\n",
       "\n",
       "    .dataframe tbody tr th {\n",
       "        vertical-align: top;\n",
       "    }\n",
       "\n",
       "    .dataframe thead th {\n",
       "        text-align: right;\n",
       "    }\n",
       "</style>\n",
       "<table border=\"1\" class=\"dataframe\">\n",
       "  <thead>\n",
       "    <tr style=\"text-align: right;\">\n",
       "      <th></th>\n",
       "      <th>id</th>\n",
       "      <th>PublicationCount</th>\n",
       "    </tr>\n",
       "  </thead>\n",
       "  <tbody>\n",
       "    <tr>\n",
       "      <th>4650</th>\n",
       "      <td>1976698169</td>\n",
       "      <td>1290</td>\n",
       "    </tr>\n",
       "    <tr>\n",
       "      <th>13109</th>\n",
       "      <td>703410400</td>\n",
       "      <td>1153</td>\n",
       "    </tr>\n",
       "    <tr>\n",
       "      <th>1919</th>\n",
       "      <td>2125104194</td>\n",
       "      <td>1135</td>\n",
       "    </tr>\n",
       "    <tr>\n",
       "      <th>5920</th>\n",
       "      <td>2029230138</td>\n",
       "      <td>1084</td>\n",
       "    </tr>\n",
       "    <tr>\n",
       "      <th>10259</th>\n",
       "      <td>688402840</td>\n",
       "      <td>1061</td>\n",
       "    </tr>\n",
       "    <tr>\n",
       "      <th>...</th>\n",
       "      <td>...</td>\n",
       "      <td>...</td>\n",
       "    </tr>\n",
       "    <tr>\n",
       "      <th>1667906</th>\n",
       "      <td>2529296952</td>\n",
       "      <td>1</td>\n",
       "    </tr>\n",
       "    <tr>\n",
       "      <th>1667905</th>\n",
       "      <td>2168883319</td>\n",
       "      <td>1</td>\n",
       "    </tr>\n",
       "    <tr>\n",
       "      <th>1667904</th>\n",
       "      <td>2974858411</td>\n",
       "      <td>1</td>\n",
       "    </tr>\n",
       "    <tr>\n",
       "      <th>1667901</th>\n",
       "      <td>2438493545</td>\n",
       "      <td>1</td>\n",
       "    </tr>\n",
       "    <tr>\n",
       "      <th>3272178</th>\n",
       "      <td>2973909829</td>\n",
       "      <td>1</td>\n",
       "    </tr>\n",
       "  </tbody>\n",
       "</table>\n",
       "<p>3272179 rows × 2 columns</p>\n",
       "</div>\n",
       "    <div class=\"colab-df-buttons\">\n",
       "\n",
       "  <div class=\"colab-df-container\">\n",
       "    <button class=\"colab-df-convert\" onclick=\"convertToInteractive('df-d0fab353-386c-4de6-860d-bdee16e0ee40')\"\n",
       "            title=\"Convert this dataframe to an interactive table.\"\n",
       "            style=\"display:none;\">\n",
       "\n",
       "  <svg xmlns=\"http://www.w3.org/2000/svg\" height=\"24px\" viewBox=\"0 -960 960 960\">\n",
       "    <path d=\"M120-120v-720h720v720H120Zm60-500h600v-160H180v160Zm220 220h160v-160H400v160Zm0 220h160v-160H400v160ZM180-400h160v-160H180v160Zm440 0h160v-160H620v160ZM180-180h160v-160H180v160Zm440 0h160v-160H620v160Z\"/>\n",
       "  </svg>\n",
       "    </button>\n",
       "\n",
       "  <style>\n",
       "    .colab-df-container {\n",
       "      display:flex;\n",
       "      gap: 12px;\n",
       "    }\n",
       "\n",
       "    .colab-df-convert {\n",
       "      background-color: #E8F0FE;\n",
       "      border: none;\n",
       "      border-radius: 50%;\n",
       "      cursor: pointer;\n",
       "      display: none;\n",
       "      fill: #1967D2;\n",
       "      height: 32px;\n",
       "      padding: 0 0 0 0;\n",
       "      width: 32px;\n",
       "    }\n",
       "\n",
       "    .colab-df-convert:hover {\n",
       "      background-color: #E2EBFA;\n",
       "      box-shadow: 0px 1px 2px rgba(60, 64, 67, 0.3), 0px 1px 3px 1px rgba(60, 64, 67, 0.15);\n",
       "      fill: #174EA6;\n",
       "    }\n",
       "\n",
       "    .colab-df-buttons div {\n",
       "      margin-bottom: 4px;\n",
       "    }\n",
       "\n",
       "    [theme=dark] .colab-df-convert {\n",
       "      background-color: #3B4455;\n",
       "      fill: #D2E3FC;\n",
       "    }\n",
       "\n",
       "    [theme=dark] .colab-df-convert:hover {\n",
       "      background-color: #434B5C;\n",
       "      box-shadow: 0px 1px 3px 1px rgba(0, 0, 0, 0.15);\n",
       "      filter: drop-shadow(0px 1px 2px rgba(0, 0, 0, 0.3));\n",
       "      fill: #FFFFFF;\n",
       "    }\n",
       "  </style>\n",
       "\n",
       "    <script>\n",
       "      const buttonEl =\n",
       "        document.querySelector('#df-d0fab353-386c-4de6-860d-bdee16e0ee40 button.colab-df-convert');\n",
       "      buttonEl.style.display =\n",
       "        google.colab.kernel.accessAllowed ? 'block' : 'none';\n",
       "\n",
       "      async function convertToInteractive(key) {\n",
       "        const element = document.querySelector('#df-d0fab353-386c-4de6-860d-bdee16e0ee40');\n",
       "        const dataTable =\n",
       "          await google.colab.kernel.invokeFunction('convertToInteractive',\n",
       "                                                    [key], {});\n",
       "        if (!dataTable) return;\n",
       "\n",
       "        const docLinkHtml = 'Like what you see? Visit the ' +\n",
       "          '<a target=\"_blank\" href=https://colab.research.google.com/notebooks/data_table.ipynb>data table notebook</a>'\n",
       "          + ' to learn more about interactive tables.';\n",
       "        element.innerHTML = '';\n",
       "        dataTable['output_type'] = 'display_data';\n",
       "        await google.colab.output.renderOutput(dataTable, element);\n",
       "        const docLink = document.createElement('div');\n",
       "        docLink.innerHTML = docLinkHtml;\n",
       "        element.appendChild(docLink);\n",
       "      }\n",
       "    </script>\n",
       "  </div>\n",
       "\n",
       "\n",
       "<div id=\"df-14e4d944-2956-4aad-ad05-f177f4e11bfa\">\n",
       "  <button class=\"colab-df-quickchart\" onclick=\"quickchart('df-14e4d944-2956-4aad-ad05-f177f4e11bfa')\"\n",
       "            title=\"Suggest charts\"\n",
       "            style=\"display:none;\">\n",
       "\n",
       "<svg xmlns=\"http://www.w3.org/2000/svg\" height=\"24px\"viewBox=\"0 0 24 24\"\n",
       "     width=\"24px\">\n",
       "    <g>\n",
       "        <path d=\"M19 3H5c-1.1 0-2 .9-2 2v14c0 1.1.9 2 2 2h14c1.1 0 2-.9 2-2V5c0-1.1-.9-2-2-2zM9 17H7v-7h2v7zm4 0h-2V7h2v10zm4 0h-2v-4h2v4z\"/>\n",
       "    </g>\n",
       "</svg>\n",
       "  </button>\n",
       "\n",
       "<style>\n",
       "  .colab-df-quickchart {\n",
       "      --bg-color: #E8F0FE;\n",
       "      --fill-color: #1967D2;\n",
       "      --hover-bg-color: #E2EBFA;\n",
       "      --hover-fill-color: #174EA6;\n",
       "      --disabled-fill-color: #AAA;\n",
       "      --disabled-bg-color: #DDD;\n",
       "  }\n",
       "\n",
       "  [theme=dark] .colab-df-quickchart {\n",
       "      --bg-color: #3B4455;\n",
       "      --fill-color: #D2E3FC;\n",
       "      --hover-bg-color: #434B5C;\n",
       "      --hover-fill-color: #FFFFFF;\n",
       "      --disabled-bg-color: #3B4455;\n",
       "      --disabled-fill-color: #666;\n",
       "  }\n",
       "\n",
       "  .colab-df-quickchart {\n",
       "    background-color: var(--bg-color);\n",
       "    border: none;\n",
       "    border-radius: 50%;\n",
       "    cursor: pointer;\n",
       "    display: none;\n",
       "    fill: var(--fill-color);\n",
       "    height: 32px;\n",
       "    padding: 0;\n",
       "    width: 32px;\n",
       "  }\n",
       "\n",
       "  .colab-df-quickchart:hover {\n",
       "    background-color: var(--hover-bg-color);\n",
       "    box-shadow: 0 1px 2px rgba(60, 64, 67, 0.3), 0 1px 3px 1px rgba(60, 64, 67, 0.15);\n",
       "    fill: var(--button-hover-fill-color);\n",
       "  }\n",
       "\n",
       "  .colab-df-quickchart-complete:disabled,\n",
       "  .colab-df-quickchart-complete:disabled:hover {\n",
       "    background-color: var(--disabled-bg-color);\n",
       "    fill: var(--disabled-fill-color);\n",
       "    box-shadow: none;\n",
       "  }\n",
       "\n",
       "  .colab-df-spinner {\n",
       "    border: 2px solid var(--fill-color);\n",
       "    border-color: transparent;\n",
       "    border-bottom-color: var(--fill-color);\n",
       "    animation:\n",
       "      spin 1s steps(1) infinite;\n",
       "  }\n",
       "\n",
       "  @keyframes spin {\n",
       "    0% {\n",
       "      border-color: transparent;\n",
       "      border-bottom-color: var(--fill-color);\n",
       "      border-left-color: var(--fill-color);\n",
       "    }\n",
       "    20% {\n",
       "      border-color: transparent;\n",
       "      border-left-color: var(--fill-color);\n",
       "      border-top-color: var(--fill-color);\n",
       "    }\n",
       "    30% {\n",
       "      border-color: transparent;\n",
       "      border-left-color: var(--fill-color);\n",
       "      border-top-color: var(--fill-color);\n",
       "      border-right-color: var(--fill-color);\n",
       "    }\n",
       "    40% {\n",
       "      border-color: transparent;\n",
       "      border-right-color: var(--fill-color);\n",
       "      border-top-color: var(--fill-color);\n",
       "    }\n",
       "    60% {\n",
       "      border-color: transparent;\n",
       "      border-right-color: var(--fill-color);\n",
       "    }\n",
       "    80% {\n",
       "      border-color: transparent;\n",
       "      border-right-color: var(--fill-color);\n",
       "      border-bottom-color: var(--fill-color);\n",
       "    }\n",
       "    90% {\n",
       "      border-color: transparent;\n",
       "      border-bottom-color: var(--fill-color);\n",
       "    }\n",
       "  }\n",
       "</style>\n",
       "\n",
       "  <script>\n",
       "    async function quickchart(key) {\n",
       "      const quickchartButtonEl =\n",
       "        document.querySelector('#' + key + ' button');\n",
       "      quickchartButtonEl.disabled = true;  // To prevent multiple clicks.\n",
       "      quickchartButtonEl.classList.add('colab-df-spinner');\n",
       "      try {\n",
       "        const charts = await google.colab.kernel.invokeFunction(\n",
       "            'suggestCharts', [key], {});\n",
       "      } catch (error) {\n",
       "        console.error('Error during call to suggestCharts:', error);\n",
       "      }\n",
       "      quickchartButtonEl.classList.remove('colab-df-spinner');\n",
       "      quickchartButtonEl.classList.add('colab-df-quickchart-complete');\n",
       "    }\n",
       "    (() => {\n",
       "      let quickchartButtonEl =\n",
       "        document.querySelector('#df-14e4d944-2956-4aad-ad05-f177f4e11bfa button');\n",
       "      quickchartButtonEl.style.display =\n",
       "        google.colab.kernel.accessAllowed ? 'block' : 'none';\n",
       "    })();\n",
       "  </script>\n",
       "</div>\n",
       "    </div>\n",
       "  </div>\n"
      ],
      "text/plain": [
       "                 id  PublicationCount\n",
       "4650     1976698169              1290\n",
       "13109     703410400              1153\n",
       "1919     2125104194              1135\n",
       "5920     2029230138              1084\n",
       "10259     688402840              1061\n",
       "...             ...               ...\n",
       "1667906  2529296952                 1\n",
       "1667905  2168883319                 1\n",
       "1667904  2974858411                 1\n",
       "1667901  2438493545                 1\n",
       "3272178  2973909829                 1\n",
       "\n",
       "[3272179 rows x 2 columns]"
      ]
     },
     "execution_count": 94,
     "metadata": {},
     "output_type": "execute_result"
    }
   ],
   "source": [
    "# Sorting according to the number of articles published\n",
    "new_df = authors_publisheddf.sort_values(by='PublicationCount', ascending=False)\n",
    "new_df"
   ]
  },
  {
   "cell_type": "markdown",
   "metadata": {
    "id": "mL5qDsXRPgjf"
   },
   "source": [
    "#### To implement the third feature we need some more functions which, for readibility, we stored in a python file. We check all details there: you will find\n",
    "\n",
    "> **extract (graph, N)**: the function that filters for the top N authors\n",
    "\n",
    "> **dijkstra (graph, start, stop)** : a function which finds the shortest path for a weighted graph between the first and the end node\n",
    "\n",
    "> **connectauthor (graph, start, end, list)**: a function that returns the shortest connected graph which considers visiting all the node in the list in that order."
   ]
  },
  {
   "cell_type": "code",
   "execution_count": null,
   "metadata": {
    "id": "T4j-vSCXVFOO"
   },
   "outputs": [],
   "source": [
    "# Importing our function\n",
    "import feature3file as f3"
   ]
  },
  {
   "cell_type": "markdown",
   "metadata": {
    "id": "FyCKKp5mVbRu"
   },
   "source": [
    "How is the subgraph? Is it enough dense to get some reasonable path? We visualize it leveraging the cited function `extract`"
   ]
  },
  {
   "cell_type": "code",
   "execution_count": null,
   "metadata": {
    "id": "2kD29vPFD_Hs"
   },
   "outputs": [],
   "source": []
  },
  {
   "cell_type": "code",
   "execution_count": null,
   "metadata": {
    "colab": {
     "base_uri": "https://localhost:8080/",
     "height": 516
    },
    "id": "4L3P4iFHD_Sw",
    "outputId": "f779f0b0-d05c-475b-ecea-4b9da6ad6cf0"
   },
   "outputs": [
    {
     "data": {
      "image/png": "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",
      "text/plain": [
       "<Figure size 640x480 with 1 Axes>"
      ]
     },
     "metadata": {},
     "output_type": "display_data"
    }
   ],
   "source": [
    "# Selecting a subgraph with the top 120 authors\n",
    "subres =f3.extract(G_collaboration, 120)\n",
    "\n",
    "# See code in exercise1 for visuaization\n",
    "nodes_to_show_sub = list(subres.nodes())[:25]\n",
    "subgraph_collaboration = subres.subgraph(nodes_to_show_sub)\n",
    "pos = nx.spring_layout(subgraph_collaboration)\n",
    "nx.draw(subgraph_collaboration, pos, with_labels=True, font_weight='normal', node_size=80)\n",
    "edge_weights = {(i, j): subgraph_collaboration[i][j]['weight'] for i, j in subgraph_collaboration.edges()}\n",
    "nx.draw_networkx_edges(subgraph_collaboration, pos, width=[subgraph_collaboration[i][j]['weight'] for i, j in subgraph_collaboration.edges()])\n",
    "nx.draw_networkx_edge_labels(subgraph_collaboration, pos, edge_labels=edge_weights, font_color='black')\n",
    "\n",
    "plt.show()"
   ]
  },
  {
   "cell_type": "code",
   "execution_count": null,
   "metadata": {
    "colab": {
     "base_uri": "https://localhost:8080/"
    },
    "id": "yYPyFVYIgQZP",
    "outputId": "22ab00b0-1257-400c-932a-027c9ec5397f"
   },
   "outputs": [
    {
     "data": {
      "text/plain": [
       "82"
      ]
     },
     "execution_count": 130,
     "metadata": {},
     "output_type": "execute_result"
    }
   ],
   "source": [
    "# Getting number of nodes\n",
    "subres.number_of_nodes()"
   ]
  },
  {
   "cell_type": "code",
   "execution_count": null,
   "metadata": {
    "colab": {
     "base_uri": "https://localhost:8080/"
    },
    "id": "0Ff7LishgyXQ",
    "outputId": "d3da408a-3e49-48aa-d211-f0c60425fa6c"
   },
   "outputs": [
    {
     "data": {
      "text/plain": [
       "10"
      ]
     },
     "execution_count": 131,
     "metadata": {},
     "output_type": "execute_result"
    }
   ],
   "source": [
    "# Get number of edges\n",
    "subres.number_of_edges()"
   ]
  },
  {
   "cell_type": "code",
   "execution_count": null,
   "metadata": {
    "colab": {
     "base_uri": "https://localhost:8080/"
    },
    "id": "wUU2oi80f0ij",
    "outputId": "431d6a21-7c91-4cec-aadf-175f35828745"
   },
   "outputs": [
    {
     "data": {
      "text/plain": [
       "[2029230138, 2082044953]"
      ]
     },
     "execution_count": 129,
     "metadata": {},
     "output_type": "execute_result"
    }
   ],
   "source": [
    "# Filtered by top N author... really poor as initial and final node are the same\n",
    "f3.connectauthor(subres, 2029230138, 2082044953, 150)"
   ]
  },
  {
   "cell_type": "markdown",
   "metadata": {
    "id": "6K19uX96QpWn"
   },
   "source": [
    "#### As subgraph had only few edges (only 10!) we decide to plot with some different strategy w.r.t the one asked. We will proceed analogously for the fourth feature."
   ]
  },
  {
   "cell_type": "code",
   "execution_count": null,
   "metadata": {
    "colab": {
     "base_uri": "https://localhost:8080/"
    },
    "id": "kr0ORao8dnM6",
    "outputId": "f21fb9bd-eb38-4a19-f795-eaff603ed1b3"
   },
   "outputs": [
    {
     "data": {
      "text/plain": [
       "[2104401652,\n",
       " 351197510,\n",
       " 2435751034,\n",
       " 2128170596,\n",
       " 1978529654,\n",
       " 1973035492,\n",
       " 2159063947,\n",
       " 2007415138,\n",
       " 2027658599]"
      ]
     },
     "execution_count": 115,
     "metadata": {},
     "output_type": "execute_result"
    }
   ],
   "source": [
    "# An example without filtering operation\n",
    "f3.connectauthor(G_collaboration, 2104401652, 2027658599, 150, [2007415138] )"
   ]
  },
  {
   "cell_type": "markdown",
   "metadata": {
    "id": "4SoBxFsrRNbu"
   },
   "source": [
    "**Functionality 4 - Disconnecting Graphs**\n",
    "\n",
    "The functionality is designed to calculate the minimum number of edges (taking into account their weights) required to disconnect the original graph into two disconnected subgraphs, denoted as G_a and G_b.\n",
    "\n",
    "---\n",
    "\n",
    "**By definition getting a minim number of edges is just a number and does not depend on the weights.**\n",
    "\n",
    "\n",
    "Indeed if we have two possibility of having the same number of edges with different combination of edges such that they have differents cost, we will still get the same number of minimum number of edges.\n",
    "\n",
    "---\n",
    "\n",
    "We implement a variant of Karger algorithm to accomplish feature 4's aim.\n"
   ]
  },
  {
   "cell_type": "markdown",
   "metadata": {
    "id": "cMCAJ9BUe6AK"
   },
   "source": [
    "#### custumed karger randomized algorithm"
   ]
  },
  {
   "cell_type": "markdown",
   "metadata": {
    "id": "9m78zpTzNcCX"
   },
   "source": [
    "Yes, the **Karger**'s algorithm is a randomized algorithm, which means that its result can vary across different executions of the same input. Randomization is introduced in the choice of edges to contract during the graph contraction process. This randomness is used to achieve a higher probability of contracting edges that lead to the correct solution.\n",
    "\n",
    "Karger's algorithm works through a series of random contractions of graph edges until only two nodes remain, representing the remaining connected components. The randomness in the algorithm increases the probability of obtaining an approximate solution, but not necessarily the optimal one, in reasonable time."
   ]
  },
  {
   "cell_type": "code",
   "execution_count": null,
   "metadata": {
    "id": "Iu0iMn-f7ThV"
   },
   "outputs": [],
   "source": [
    "import feature4 as f4"
   ]
  },
  {
   "cell_type": "markdown",
   "metadata": {
    "id": "i3zQ_rQNeIwq"
   },
   "source": [
    "we interprete the sentence (considering weights) as follows"
   ]
  },
  {
   "cell_type": "markdown",
   "metadata": {
    "id": "Bon22Hi-ZUzZ"
   },
   "source": [
    "\n",
    "**AS IT IS A PROBABILISTIC ALGORITHIM WE THEN PERFORM THE OPERATION 10 TIMES BY DEFAULT AND TAKE THE NUMBER OF EDGES THAT MINIMIZES THE TOTAL COST**\n",
    "\n",
    "Moreover we implement the functionality such that it returns not only the minimum numbers of the edges but all the path as couples of edges as it is the correct format if we want to remove it from the original graph.\n",
    "We implent this in `weigthedmincut`.\n",
    "\n",
    "---\n",
    "\n",
    "**Up to here, having returned the shortest cut would already be a solution that considers the weights**: if we define a function that it is equal to one when two nodes are different and zero if we consider the same node.\n",
    "\n",
    "As the request has several possible interpretretations and **as it is a probabilistic algorithm, it might be useful to repeat the experiment several times and see the solution considering the minimum weight, as we're there**.\n",
    "\n",
    "#### we will implement also this second approch for a more complete analysis\n",
    "\n",
    "\n"
   ]
  },
  {
   "cell_type": "markdown",
   "metadata": {
    "id": "duI75wmrNhN1"
   },
   "source": [
    "#### To implement the fourth feature we stor the following functions in a python file. You have all details there, where you will find:\n",
    "\n",
    "> **find_components_dfs (graph)**: the function that finds all connected components in a graph\n",
    "\n",
    "> **contract_edge (graph, node1, node2)** : a function which returns the new graph whith the contracted nodes and edges adjusted appropriatly\n",
    "\n",
    "> **custom_karger (graph, start, end, list)**: a function that returns the shortest minicut choosing randomly the edges to select\n",
    "\n",
    "> **considerweight(graph, start, end, it=10)**: Iterates to get the minicut $it$ times and select the result with the minimum weight minicut"
   ]
  },
  {
   "cell_type": "markdown",
   "metadata": {
    "id": "1ZtbP0q6E8PM"
   },
   "source": [
    "We pick the neighbour of a node belonging to a meaningful connected component from the subgraph, and make a second example to compare, by comparing the plot and the result the performance of our fourth feature"
   ]
  },
  {
   "cell_type": "code",
   "execution_count": null,
   "metadata": {
    "colab": {
     "base_uri": "https://localhost:8080/",
     "height": 516
    },
    "id": "8g29k4Fobq0N",
    "outputId": "9065918a-645f-4e7c-d54c-da7946d662ba"
   },
   "outputs": [
    {
     "data": {
      "image/png": "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",
      "text/plain": [
       "<Figure size 640x480 with 1 Axes>"
      ]
     },
     "metadata": {},
     "output_type": "display_data"
    }
   ],
   "source": [
    "# we pick the neighbour of a connected component from the subgraph\n",
    "nodes_to_show = list(subgraph_collaboration.adj[2096217197])\n",
    "\n",
    "# a subgraph made of the selected nodes is created\n",
    "subgraph_collaboration = G_collaboration.subgraph(nodes_to_show)\n",
    "pos = nx.spring_layout(subgraph_collaboration)\n",
    "\n",
    "\n",
    "# draw the subgraph\n",
    "\n",
    "nx.draw(subgraph_collaboration, pos, edge_color='k',  with_labels=True,\n",
    "     font_weight='light', node_size= 50, width= 1, arrowsize=10)\n",
    "edge_weights = {(i, j): subgraph_collaboration[i][j]['weight'] for i, j in subgraph_collaboration.edges()}\n",
    "nx.draw_networkx_edges(subgraph_collaboration, pos,\n",
    "                       width=[subgraph_collaboration[i][j]['weight'] for i, j in subgraph_collaboration.edges()])\n",
    "nx.draw_networkx_edge_labels(subgraph_collaboration, pos, edge_labels=edge_weights, font_color='red')\n",
    "plt.show()"
   ]
  },
  {
   "cell_type": "markdown",
   "metadata": {
    "id": "E805t5-wGP8u"
   },
   "source": [
    "Indeed it seems that **to disconnect 255180283 and 1932390790** we need minimum 11 edges: extaclty what the algorithm suggests"
   ]
  },
  {
   "cell_type": "code",
   "execution_count": null,
   "metadata": {
    "colab": {
     "base_uri": "https://localhost:8080/"
    },
    "id": "9nd1Iv9PGr9g",
    "outputId": "35949263-b371-44e4-9886-efe7571910ff"
   },
   "outputs": [
    {
     "name": "stdout",
     "output_type": "stream",
     "text": [
      "[(2153440608, 2559180283), (2146468246, 2559180283), (2316043942, 2559180283), (2874782720, 2559180283), (2084034853, 2559180283), (1932590790, 2559180283), (1904226804, 2559180283), (2007415138, 2559180283), (2027658599, 2559180283), (2105531243, 2559180283), (2232649233, 2559180283)]\n"
     ]
    }
   ],
   "source": [
    "# You can double check by looking at plot of the citation subgraph in\n",
    "todisconnect=f4.considerweight(subgraph_collaboration, 2145713909, 2151103935)\n",
    "print(todisconnect)"
   ]
  },
  {
   "cell_type": "code",
   "execution_count": null,
   "metadata": {
    "colab": {
     "base_uri": "https://localhost:8080/"
    },
    "id": "UB84aSmVFjH7",
    "outputId": "df8a3801-a97d-4b6e-a23f-a84f9b123373"
   },
   "outputs": [
    {
     "data": {
      "text/plain": [
       "11"
      ]
     },
     "execution_count": 10,
     "metadata": {},
     "output_type": "execute_result"
    }
   ],
   "source": [
    "len(todisconnect)"
   ]
  },
  {
   "cell_type": "markdown",
   "metadata": {
    "id": "XYGxtK0fAGPg"
   },
   "source": [
    "### **Functionality 5 - Extracting Communities**"
   ]
  },
  {
   "cell_type": "code",
   "execution_count": null,
   "metadata": {
    "id": "MSTj8MuHAGPg"
   },
   "outputs": [],
   "source": [
    "from feature5 import functionality5"
   ]
  },
  {
   "cell_type": "code",
   "execution_count": null,
   "metadata": {
    "id": "ps7hLjoeAGPh"
   },
   "outputs": [],
   "source": [
    "G1 =nx.node_link_graph(nx.node_link_data(G_citation))"
   ]
  },
  {
   "cell_type": "code",
   "execution_count": null,
   "metadata": {
    "id": "rIDmyYyRAGPi"
   },
   "outputs": [],
   "source": [
    "G_undirected = G1.to_undirected()\n",
    "degree_centrality = nx.degree_centrality(G_undirected)\n",
    "#we decided to use the 50 top Nodes for the test\n",
    "top_N_nodes = sorted(degree_centrality, key=degree_centrality.get, reverse=True)[:50]\n",
    "random.seed(1234)\n",
    "paper1, paper2 = random.sample(top_N_nodes, 2)"
   ]
  },
  {
   "cell_type": "code",
   "execution_count": null,
   "metadata": {
    "id": "ZWVVtvuKAGPm",
    "outputId": "51de538b-8b07-4e36-ff1b-024fc11d36fd"
   },
   "outputs": [
    {
     "name": "stdout",
     "output_type": "stream",
     "text": [
      "paper1: 2154422044 and paper2: 2066636486\n"
     ]
    }
   ],
   "source": [
    "print(f'paper1: {paper1} and paper2: {paper2}')"
   ]
  },
  {
   "cell_type": "code",
   "execution_count": null,
   "metadata": {
    "id": "JM3vTq2cAGPp",
    "outputId": "b0df3ea3-c91b-44cb-f055-1870ad2be1cd"
   },
   "outputs": [
    {
     "name": "stdout",
     "output_type": "stream",
     "text": [
      "0 [['2163922914', '2102605133', '2154422044', '2150341604', '2119821739', '2296616510', '2162915993', '2124386111', '2064675550', '2161969291', '2108598243', '2164598857', '2165949425', '1971784203', '2147800946', '2121947440', '2117539524', '2618530766', '2031489346', '1880262756', '2076063813', '1995903777', '1988790447', '2147152072', '1986931325', '1686810756', '2131846894', '2104095591', '2168356304', '2163605009', '2153635508', '2132984323', '2072128103', '2151103935', '2066636486', '2912934387'], ['2156186849', '1996360405'], ['1791587663', '1987198869', '2100408980'], ['2096525273', '2141885858'], ['2157457404', '2132932625', '2148251644'], ['1660562555'], ['2159080219', '47957325'], ['2130509920']] b'I01\\n'\n"
     ]
    }
   ],
   "source": [
    "min_edge_removed, communities, same_community = functionality5(G1, N=50, paper1='2154422044', paper2='2066636486')\n",
    "print(min_edge_removed, communities, same_community)"
   ]
  },
  {
   "cell_type": "code",
   "execution_count": null,
   "metadata": {
    "id": "BrQ-l41ZAGPs",
    "outputId": "a19370a5-c4b5-4a23-a21f-1d9283253736"
   },
   "outputs": [
    {
     "data": {
      "text/plain": [
       "8"
      ]
     },
     "execution_count": 69,
     "metadata": {},
     "output_type": "execute_result"
    }
   ],
   "source": [
    "num_communities = len(communities)\n",
    "num_communities"
   ]
  },
  {
   "cell_type": "markdown",
   "metadata": {
    "id": "4SpyjMwlAGPw"
   },
   "source": [
    "As we can see we have a list with all the comunities, 8 in this example.\n",
    "We also can see that in this example the two nodes are in the same community"
   ]
  },
  {
   "cell_type": "code",
   "execution_count": null,
   "metadata": {
    "id": "Nq5eAAfrAGPx",
    "outputId": "3ae1131a-2df2-45e9-deff-6f0662513c58"
   },
   "outputs": [
    {
     "data": {
      "image/png": "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",
      "text/plain": [
       "<Figure size 864x576 with 1 Axes>"
      ]
     },
     "metadata": {},
     "output_type": "display_data"
    }
   ],
   "source": [
    "plt.figure(figsize=(12, 8))\n",
    "G_N = G_undirected.subgraph(top_N_nodes)\n",
    "nx.draw(G_N, with_labels = True)\n"
   ]
  },
  {
   "cell_type": "code",
   "execution_count": null,
   "metadata": {
    "id": "qLKmFagPAGPz",
    "outputId": "0ea4c602-97db-4ea0-8451-9fa4e4cf19ae"
   },
   "outputs": [
    {
     "data": {
      "text/plain": [
       "<matplotlib.collections.PathCollection at 0x7f55e8c33f10>"
      ]
     },
     "execution_count": 71,
     "metadata": {},
     "output_type": "execute_result"
    },
    {
     "data": {
      "image/png": "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",
      "text/plain": [
       "<Figure size 864x576 with 1 Axes>"
      ]
     },
     "metadata": {},
     "output_type": "display_data"
    }
   ],
   "source": [
    "plt.figure(figsize=(12, 8))\n",
    "pos = nx.spring_layout(G_N)\n",
    "nx.draw(G_N, pos, edge_color='k',  with_labels=True,\n",
    "     font_weight='light', node_size= 50, width= 1, arrowsize=10)\n",
    "nx.draw_networkx_edges(G_N, pos, edge_color='black')\n",
    "\n",
    "\n",
    "#For each community list, draw the nodes, giving it a specific color.\n",
    "nx.draw_networkx_nodes(G_N, pos, nodelist=communities[0], node_color='b')\n",
    "nx.draw_networkx_nodes(G_N, pos, nodelist=communities[1], node_color='r')\n",
    "nx.draw_networkx_nodes(G_N, pos, nodelist=communities[2], node_color='g')\n",
    "nx.draw_networkx_nodes(G_N, pos, nodelist=communities[3], node_color='yellow')\n",
    "nx.draw_networkx_nodes(G_N, pos, nodelist=communities[4], node_color='orange')\n",
    "nx.draw_networkx_nodes(G_N, pos, nodelist=communities[5], node_color='pink')\n",
    "nx.draw_networkx_nodes(G_N, pos, nodelist=communities[6], node_color='black')\n",
    "nx.draw_networkx_nodes(G_N, pos, nodelist=communities[6], node_color='purple')"
   ]
  },
  {
   "cell_type": "code",
   "execution_count": null,
   "metadata": {
    "id": "ZbBQ3m7_AGPz",
    "outputId": "22aa2f06-d159-4fc5-f662-22bdddc5b1f1"
   },
   "outputs": [
    {
     "data": {
      "image/png": "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",
      "text/plain": [
       "<Figure size 432x288 with 1 Axes>"
      ]
     },
     "metadata": {},
     "output_type": "display_data"
    }
   ],
   "source": [
    "papers_nodes = [paper1, paper2]\n",
    "\n",
    "# Create a list of colors for each node\n",
    "node_colors = ['red' if node in papers_nodes else 'blue' for node in G_N.nodes]\n",
    "\n",
    "# Draw the graph with specified node colors\n",
    "nx.draw(G_N, with_labels=True, node_color=node_colors, font_weight='bold')\n",
    "\n",
    "# Show the plot\n",
    "plt.show()"
   ]
  },
  {
   "cell_type": "markdown",
   "metadata": {
    "id": "QGA4RyGaAGP2"
   },
   "source": [
    "The two nodes in red represent the papers, that in this case are in the same community"
   ]
  },
  {
   "cell_type": "markdown",
   "metadata": {
    "id": "w9VZf1SJzxnA"
   },
   "source": [
    "# **[Q4] Command Line**"
   ]
  },
  {
   "cell_type": "markdown",
   "metadata": {
    "id": "NWyj8xShvDoK"
   },
   "source": [
    "In this question we use command line tools to answer the following questions on Citation graph:\n",
    "\n",
    "[Q1.] Is there any node that acts as an important \"connector\" between the different parts of the graph?\n",
    "\n",
    "> **APPROCH**: to answer this question, the first step was to decide which metric we should have used to determine the centrality of nodes, we used the `betweeness centrality`. A node with a high score is supposed to be a key intermediary between other nodes, having a significant impact on network connectivity. It was possible to get this score thanks to the NetworkX command `nx.betweeness_cenrality()`. After calculating this score for each node, we normalised the results and sorted the Dataframe according to the column `Betweeness_Centrality`. The node with the highier score is `2147717514` with a score of 0.003170.\n",
    "\n",
    "[Q2.] How does the degree of citation vary among the graph nodes?\n",
    "\n",
    "> **APPROCH**: to determine the level of citation we decide to evaluate the distribution of the degree of citation among the nodes comparing 2 means: average `in degree`, it refers to the edges entering the node, so the amount of citations received; average `out degree`, it refers to the outgoing edges, so the number of citations done. The score of the first average is 6.69, so on average there are around 7 edges entering a node, and the score of the second average is 6.37, so there are around 6 nodes outgoing each singlar node.\n",
    "\n",
    "[Q3.] What is the average length of the shortest path among nodes?\n",
    "\n",
    "> **APPROCH**: use the library nx to get the shortest path, took the average and print the result with `echo`"
   ]
  },
  {
   "cell_type": "markdown",
   "metadata": {
    "id": "wePusSpmd-Tt"
   },
   "source": [
    "![ScreenshotCL.png](data:image/png;base64,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)"
   ]
  },
  {
   "cell_type": "markdown",
   "metadata": {
    "id": "RXE8-lmHMuph"
   },
   "source": [
    "# **[Q5] Algorithmic Quesiton**"
   ]
  },
  {
   "cell_type": "markdown",
   "metadata": {
    "id": "5-4bQxUMd7b2"
   },
   "source": [
    "## Part A"
   ]
  },
  {
   "cell_type": "markdown",
   "metadata": {
    "id": "tD1mX0gfd7b2"
   },
   "source": [
    "A sports club hires you to create a team for the National Sports Championship. Every Italian Region sends its best $M$ athletes to compete in an intense 2-day sports event, and Rome is no exception!\n",
    "\n",
    "The trainers of Team Rome need to carefully choose the best $M$ athletes from a pool of $N$ candidates. Each athlete is uniquely identified by a number from 1 to $N$ and possesses a set of $S$ sports skills. Each skill is represented by a 3-character string with only uppercase letters and a non-negative integer indicating the athlete's proficiency in that skill (always greater than 0).\n",
    "\n",
    "The trainers have extensively studied the competition format and established an optimal set of (possibly repeated) skills the team should possess to ensure the best possible performance. Each of the ten selected athletes will be assigned one of these skills as their role within the team.\n",
    "\n",
    "The team's overall score is the sum of the skill scores of its members in the roles they have been assigned. Other skills of each athlete do not contribute to the team's score.\n",
    "\n",
    "Your task is to determine the maximum possible global score for Team Rome, given the list of candidates.\n",
    "\n",
    "Note: Assigning an athlete to a role not listed in their skills is possible. In that case, that athlete's contribution to the global score will be 0.\n",
    "\n",
    "__Input__\n",
    "The input consists of $2 + N(S + 1)$ lines:\n",
    "- Line 1: the numbers $N, M,$ and $S$, separated by a space.\n",
    "- Line 2: the optimal set of skills required by the trainers, as a list of $M$ space-separated skill names.\n",
    "- Lines 3, . . . , $N(S + 1) + 2$: every group of $S + 1$ lines is formatted as follows:\n",
    "  - Line 1: the unique id of the athlete.\n",
    "  - Lines 2, . . . , $S + 1$: one skill name and the corresponding skill score, separated by a space.\n",
    "\n",
    "__Output__\n",
    "Print the maximum global score that can be achieved with the available athletes.\n",
    "\n",
    "__Input 1__\n",
    "```\n",
    "14 10 1 # N, M, S\n",
    "SWM VOL ATH VOL VOL BSK HCK BSK SWM BSK #set of skills\n",
    "1\n",
    "BSK 98\n",
    "2\n",
    "ATH 14\n",
    "3\n",
    "HCK 82\n",
    "4\n",
    "HCK 9\n",
    "5\n",
    "FTB 90\n",
    "6\n",
    "ATH 52\n",
    "7\n",
    "HCK 95\n",
    "8\n",
    "TEN 85\n",
    "9\n",
    "RGB 46\n",
    "10\n",
    "SWM 16\n",
    "11\n",
    "VOL 32\n",
    "12\n",
    "SOC 41\n",
    "13\n",
    "SWM 59\n",
    "14\n",
    "SWM 34\n",
    "```\n",
    "__Output 1__\n",
    "```\n",
    "370\n",
    "```\n",
    "---\n",
    "__Input 2__\n",
    "```\n",
    "14 10 2 # N, M, S\n",
    "SWM VOL ATH VOL VOL BSK HCK BSK SWM BSK #set of skills\n",
    "1\n",
    "BSK 98\n",
    "HCK 12\n",
    "2\n",
    "ATH 14\n",
    "VOL 1\n",
    "3\n",
    "HCK 82\n",
    "ATH 30\n",
    "4\n",
    "HCK 9\n",
    "SWM 27\n",
    "5\n",
    "FTB 90\n",
    "HCK 50\n",
    "6\n",
    "ATH 52\n",
    "RGB 80\n",
    "7\n",
    "HCK 95\n",
    "SWM 11\n",
    "8\n",
    "TEN 85\n",
    "RGB 7\n",
    "9\n",
    "RGB 46\n",
    "SWM 30\n",
    "10\n",
    "SWM 16\n",
    "BSK 12\n",
    "11\n",
    "VOL 32\n",
    "HCK 40\n",
    "12\n",
    "SOC 41\n",
    "FTB 12\n",
    "13\n",
    "SWM 59\n",
    "TEN 82\n",
    "14\n",
    "SWM 34\n",
    "VOL 20\n",
    "```\n",
    "__Output 2__\n",
    "```\n",
    "399\n",
    "```\n"
   ]
  },
  {
   "cell_type": "markdown",
   "metadata": {
    "id": "DcsjXSn8d7b3"
   },
   "source": [
    "__Our job__:\n",
    "1. Implement an algorithm to solve the described mentioned problem."
   ]
  },
  {
   "cell_type": "code",
   "execution_count": null,
   "metadata": {
    "id": "9X0J22rqd7b3",
    "outputId": "6e2e1096-92d7-4697-e556-ffb2804aa933"
   },
   "outputs": [
    {
     "name": "stdout",
     "output_type": "stream",
     "text": [
      "14 10 1\n",
      "SWM VOL ATH VOL VOL BSK HCK BSK SWM BSK\n",
      "1 BSK 98 2 ATH 14 3 HCK 82 4 HCK 9 5 FTB 90 6 ATH 52 7 HCK 95 8 TEN 85 9 RGB 46 10 SWM 16 11 VOL 32 12 SOC 41 13 SWM 59 14 SWM 34\n",
      "370\n",
      "14 10 2\n",
      "SWM VOL ATH VOL VOL BSK HCK BSK SWM BSK\n",
      "1 BSK 98 HCK 12 2 ATH 14 VOL 1 3 HCK 82 ATH 30 4 HCK 9 SWM 27 5 FTB 90 HCK 50 6 ATH 52 RGB 80 7 HCK 95 SWM 11 8 TEN 85 RGB 7 9 RGB 46 SWM 30 10 SWM 16 BSK 12 11 VOL 32 HCK 40 12 SOC 41 FTB 12 13 SWM 59 TEN 82 14 SWM 34 VOL 20\n",
      "399\n"
     ]
    }
   ],
   "source": [
    "from itertools import permutations\n",
    "\n",
    "def maximum_team_score():\n",
    "    # N = number of players, M = number of skills, S = number of skills per player\n",
    "    N, M, S = map(int, input().split())\n",
    "\n",
    "    # Set of skills\n",
    "    skills_set = list(map(str, input().split()))\n",
    "\n",
    "    # Skills and scores for each player\n",
    "    athlete_skills_scores = input().split()\n",
    "\n",
    "    data = []\n",
    "    # Extracting skills and scores for each player\n",
    "    for x in range(1, len(athlete_skills_scores) - S * 2 + 1, S * 2 + 1):\n",
    "        data2 = []\n",
    "        for y in range(S):\n",
    "            data2.append([athlete_skills_scores[x + 2 * y], int(athlete_skills_scores[(x + 1) + 2 * y])])\n",
    "        data.append(data2)\n",
    "\n",
    "    # Extracting unique desired skills\n",
    "    desired_skills = list(set(skills_set))\n",
    "\n",
    "    # Storing player scores for each desired skill\n",
    "    skills_data = {}\n",
    "\n",
    "    for i, player_data in enumerate(data):\n",
    "        for skill, score in player_data:\n",
    "            if skill in desired_skills:\n",
    "                if skill not in skills_data:\n",
    "                    skills_data[skill] = []\n",
    "\n",
    "                skills_data[skill].append([i + 1, score])\n",
    "\n",
    "    # Sorting players based on their scores for each skill\n",
    "    for skill, players in skills_data.items():\n",
    "        skills_data[skill] = sorted(players, key=lambda x: x[1], reverse=True)\n",
    "\n",
    "    # Initializing variables for maximum total score and selected players\n",
    "    maximum_total_score = 0\n",
    "    selected_players = []\n",
    "\n",
    "    # Generating all permutations of the skills set\n",
    "    skills_set_all_permutations = list(set(permutations(skills_set)))\n",
    "    for skills_set_permutation in skills_set_all_permutations:\n",
    "        current_score = 0\n",
    "        current_players = []\n",
    "        selected_player_ids = set()\n",
    "\n",
    "        # Selecting players based on the permutation of skills\n",
    "        for skill in skills_set_permutation:\n",
    "            scores_of_players = skills_data.get(skill, [])\n",
    "            if scores_of_players:\n",
    "                for player_id, score in scores_of_players:\n",
    "                    if player_id not in selected_player_ids:\n",
    "                        current_players.append(player_id)\n",
    "                        current_score += score\n",
    "                        selected_player_ids.add(player_id)\n",
    "                        break\n",
    "\n",
    "        # Updating maximum total score and selected players if the current score is higher\n",
    "        if current_score > maximum_total_score:\n",
    "            maximum_total_score = current_score\n",
    "            selected_players = current_players\n",
    "\n",
    "    # Maximum total score\n",
    "    print(maximum_total_score)\n",
    "\n",
    "# Calling the function to execute the program\n",
    "maximum_team_score()\n",
    "maximum_team_score()"
   ]
  },
  {
   "cell_type": "markdown",
   "metadata": {
    "id": "n_WiD0-Vd7b4"
   },
   "source": [
    "I called the function 2 times so I proved that with the input given by the text the Algorithmic works infact the output with the first input is 370 as it should be and the output with the second input is 399 as it should be."
   ]
  },
  {
   "cell_type": "markdown",
   "metadata": {
    "id": "fnsVMkAid7b4"
   },
   "source": [
    "2. What is the __time complexity__ (the Big O notation) of your solution? Please provide a <ins>detailed explanation</ins> of how you calculated the time complexity."
   ]
  },
  {
   "cell_type": "markdown",
   "metadata": {
    "id": "iMHZvh9wd7b4"
   },
   "source": [
    "### Code Complexity Analysis\n",
    "\n",
    "#### Input Reading:\n",
    "- Reading `N`, `M`, and `S` takes constant time: O(1).\n",
    "- Reading `skills_set` takes O(M) time.\n",
    "- Reading `athlete_skills_scores` takes O(N * S) time.\n",
    "\n",
    "#### Data Processing:\n",
    "- Extracting `data` from `athlete_skills_scores` takes O(N * S) time.\n",
    "- Extracting unique `desired_skills` takes O(M) time.\n",
    "- Constructing `skills_data` takes O(N * S) time.\n",
    "\n",
    "#### Sorting:\n",
    "- Sorting players based on their scores for each skill takes O(M * N * log(N)) time.\n",
    "\n",
    "#### Permutations:\n",
    "- Generating all permutations of the skills set takes O(M!) time. This is a factorial time complexity, which can be computationally expensive.\n",
    "\n",
    "#### Iteration over Permutations:\n",
    "- Iterating over all permutations and selecting players takes O(M! * M) time.\n",
    "\n",
    "#### Overall Time Complexity:\n",
    "The dominant factor in terms of time complexity is the generation of all the permutations of the skills set so the time complexity is O(M!)\n",
    "\n"
   ]
  },
  {
   "cell_type": "markdown",
   "metadata": {
    "id": "RrXpn80cd7b4"
   },
   "source": [
    "3. Ask ChatGPT or any other LLM chatbot tool to check your code's time complexity (the Big O notation). Compare your answer to theirs. If the <ins>two differ</ins>, which one is right? (why?)"
   ]
  },
  {
   "cell_type": "markdown",
   "metadata": {
    "id": "KVBGe0Wkd7b5"
   },
   "source": [
    "##### ChatGPT 's answer\n",
    "The dominant factor in terms of time complexity is the generation of all permutations of the skills set (O(M!)). In practice, this can become computationally expensive for large values of M.\n",
    "\n",
    "The overall time complexity is roughly O(N * S + M * N * log(N) + M! * (M + N * S)).\n",
    "\n",
    "It's worth noting that the factorial time complexity indicates an exponential growth, which might not be efficient for larger values of M. If M is relatively small, the code might perform reasonably well. However, for larger M, you might want to consider optimizing the approach or using heuristics to reduce the search space.\n",
    "\n",
    "ChatGPT is right that the dominant part is the generation of all permutations of the skills set but in his Big O notation it consider also the polynomial terms and I don't why it multiplis M! * (M + N * S) so I think that my solution is the correct one.\n",
    "\n",
    "\n",
    "\n",
    "\n"
   ]
  },
  {
   "cell_type": "markdown",
   "metadata": {
    "id": "0ipOdwnyd7b5"
   },
   "source": [
    "4. If you algorithm has exponential time complexity, can you provide a __polynomial-time version__?"
   ]
  },
  {
   "cell_type": "markdown",
   "metadata": {
    "id": "mgtCqSebd7b5"
   },
   "source": [
    "When the number of skills that each players has is equal to 1 we can provide a solution with a polynomial complexity because we don't need to generate and iterate over all the possible permutations of the skill set, when the number of skills that each players has is greater than 1 if we want to be sure to find the optimal solution we must consider all possible permutations of the skills set and this does not allow us to have an algorithm with polynomial complexity. With an \"easy input\" when S is not very big we can find the optimal solution also without considering  all the ossible permutations of the skill set butno when the input is not trivial without considering  all the ossible permutations of the skill set we are not sure to find the optimal solution, so to sum up we can provide a polynomial-time version when S>1 only if the goal is not to find the optimal solution but a good approximation  of the optimal solution."
   ]
  },
  {
   "cell_type": "markdown",
   "metadata": {
    "id": "Jb3H849Ld7b6"
   },
   "source": [
    "5. If $S=1$, how does the __time complexity__ of an optimal algorithm to solve this problem change?"
   ]
  },
  {
   "cell_type": "markdown",
   "metadata": {
    "id": "XYR5arGCd7b6"
   },
   "source": [
    "In this case as I wrote before we can find the optimal solution without iterate all over the he possible permutations of the skill set so the the dominant factor in terms of time complexity is the sorting of the players based on their scores for each skill  so the time complexity of the code became O(M * N * log(N))."
   ]
  },
  {
   "cell_type": "markdown",
   "metadata": {
    "id": "1i3nXzynd7b7"
   },
   "source": [
    "## Part B"
   ]
  },
  {
   "cell_type": "markdown",
   "metadata": {},
   "source": [
    "The success of a project depends not only on the expertise of the people involved but also on how effectively they work together as a team. So this time, instead of focusing on who has the best skills, let's focus on finding a group of individuals who can function as a team to accomplish a specific task.\n",
    "\n",
    "Given a set of skills $T$, our goal is to find a set of individuals $X' \\subseteq X$ , such that every required skill in $T$ is exhibited by at least one individual in $X'$. Additionally, the members of team $X'$ should have low effort to work together i.e. all the members of the team $X'$ work well with each other.\n",
    "\n",
    "This problem can be easily visualised with graphs: we define an undirected weighted graph $G=(V,E)$ where every element $x_i \\in X$ has a corresponding node $v_i \\in V$. The weights of the edges represent the effort required to work well together: the lower the weight of an edge between two nodes, the less effort the corresponding team members need to work well together.\n",
    "\n",
    "We define as acceptable solution any subset $V' \\subseteq V$ such that $T \\cap \\cup_{v_i\\in V'} S_{v_i}$ where $S_{v_i} =$ {set of skills of member $x_i$ corresponding to the vertex $v_i$}. The goal is to find, among all acceptable solutions, the one that minimizes the effort to work together $E_c(V')$.\n",
    "The effort to work together $E_c(V')$ is the cost of the minimum spanning tree on the subgraph $G[V']$ i.e. the sum of the weights of its edges."
   ]
  },
  {
   "cell_type": "markdown",
   "metadata": {},
   "source": [
    "__Our job__:"
   ]
  },
  {
   "cell_type": "markdown",
   "metadata": {},
   "source": [
    "1. Prove or disprove that the problem is NP-complete."
   ]
  },
  {
   "cell_type": "markdown",
   "metadata": {},
   "source": []
  },
  {
   "cell_type": "markdown",
   "metadata": {},
   "source": [
    "2. Write a heuristic in order to approximate the best solution for this problem."
   ]
  },
  {
   "cell_type": "markdown",
   "metadata": {},
   "source": [
    "1. ***Reducing the size of the graph:***\n",
    "\n",
    "Eliminate all the nodes in the graph G (and the edges connected to them) representing individuals who do not have any of the required skills. This operation allows us to reduce the number of edges and nodes in the graph by eliminating individuals who in any case would not be present in the acceptable solutions\n",
    "\n",
    "2. ***Initializing an empty solution (𝑉′):***\n",
    "\n",
    "Create an empty set of nodes(individuals) 𝑉′.\n",
    "\n",
    "3. ***Creating a list for required skills (T):***\n",
    "\n",
    "Create a list with all the required skills, we will update it gradually removing the skills that the individuals we add to 𝑉′ have.\n",
    "\n",
    "4. ***Choosing a random edge:***\n",
    "\n",
    "Select a random edge remove it from E( the set of the edges) and add the two nodes to 𝑉′.\n",
    "\n",
    "5. ***Finding a greedy acceptable solution:***\n",
    "\n",
    "Select an edge connected to 𝑉′ by choosing the edge that, among all edges connecting to a node with at least one skill from the remaining skills in 𝑇, has the minimum weight and it doesn't create cycles. Add the newly added node to 𝑉′, remove the selected edge from the set of edges (E), and eliminate from 𝑇 the skills that the newly added node contributes to the team. Repeat this process until 𝑇 is empty  so that all required skills are covered by at least a member of the team.\n",
    "\n",
    "  \n",
    "\n"
   ]
  },
  {
   "cell_type": "markdown",
   "metadata": {},
   "source": [
    "3. What is the time complexity of your solution ?"
   ]
  },
  {
   "cell_type": "markdown",
   "metadata": {},
   "source": [
    "### Time complexity\n",
    "\n",
    "#### Reducing the Size of the Graph:\n",
    "\n",
    "- **Time Complexity:** O(N * S), where N is the number of nodes, and S is the average number of skills per node.\n",
    "\n",
    "#### Initializing an Empty Solution (𝑉′):\n",
    "\n",
    "- **Time Complexity:** O(1).\n",
    "\n",
    "#### Creating a List for Required Skills (T):\n",
    "\n",
    "- **Time Complexity:** O(S), where S is the number of required skills.\n",
    "\n",
    "#### Choosing a Random Edge:\n",
    "\n",
    "- **Time Complexity:** O(1).\n",
    "\n",
    "#### Finding a greedy acceptable solution::\n",
    "\n",
    "- **Time Complexity:** In the worst case scenario all the nodes connected with 𝑉′ has at least a skill in the list T so to check this  the complexity will be O(n * m * T), where n is the number of nodes, m is the average number of skills per node, and T is the length of the skill list. This complexity arises from the fact that you have to iterate through all nodes, for each node iterate through all its skills , and for each skill, check if it is present in the list L. To select edges connected to 𝑉′ that have the minimum weight and it don't create cycles the time complexity will be O(E log E), where E is the number of edges.The subsequent iteration and addition to the subgraph  (𝑉′) have a linear time complexity.\n",
    "\n",
    "#### Overall Time Complexity:\n",
    "\n",
    "The dominant component in the overall time complexity isthe phase of finding a greedy acceptable solution, where the algorithm iterates through nodes, their skills, and edges to select minimum-weight edges that do not create cycles and add a new skill to the team so the heuristic has polynomial complexity O(E log E+ n * m * T).\n",
    "\n",
    "\n"
   ]
  }
 ],
 "metadata": {
  "colab": {
   "provenance": []
  },
  "kernelspec": {
   "display_name": "Python 3 (ipykernel)",
   "language": "python",
   "name": "python3"
  },
  "language_info": {
   "codemirror_mode": {
    "name": "ipython",
    "version": 3
   },
   "file_extension": ".py",
   "mimetype": "text/x-python",
   "name": "python",
   "nbconvert_exporter": "python",
   "pygments_lexer": "ipython3",
   "version": "3.11.4"
  }
 },
 "nbformat": 4,
 "nbformat_minor": 1
}
