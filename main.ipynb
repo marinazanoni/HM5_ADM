{
  "cells": [
    {
      "cell_type": "markdown",
      "metadata": {
        "id": "H1Q8UlyqKoVk"
      },
      "source": [
        "## Prelimiar activities"
      ]
    },
    {
      "cell_type": "code",
      "execution_count": null,
      "metadata": {
        "id": "5stN5XVBKoVl"
      },
      "outputs": [],
      "source": [
        "import os\n",
        "import pandas as pd\n",
        "import numpy as np\n",
        "#import ijson   #uncomment before deliver\n",
        "import time\n",
        "from tqdm.notebook import tqdm\n",
        "import csv\n",
        "import json\n",
        "import random\n",
        "import networkx as nx\n",
        "import numpy as np\n",
        "import matplotlib.pyplot as plt\n",
        "import heapq\n",
        "from sortedcontainers import SortedList\n",
        "import itertools\n",
        "import networkx as nx\n",
        "import matplotlib.pyplot as plt\n",
        "import ast\n",
        "from collections import defaultdict\n",
        "import ast\n",
        "from itertools import combinations\n"
      ]
    },
    {
      "cell_type": "markdown",
      "metadata": {
        "id": "XMcV3CPmz-lL"
      },
      "source": [
        "# **[Q1] Data**"
      ]
    },
    {
      "cell_type": "code",
      "execution_count": null,
      "metadata": {
        "id": "NjKoI-Afz-lb"
      },
      "outputs": [],
      "source": [
        "file_path = 'dblp.v12.json'"
      ]
    },
    {
      "cell_type": "markdown",
      "metadata": {
        "id": "-ZdlnkBSz-lc"
      },
      "source": [
        "### Loading the dataset"
      ]
    },
    {
      "cell_type": "markdown",
      "metadata": {
        "id": "N2JJPPEAz-ld"
      },
      "source": [
        "The main problem with the loading and saving actions on this dataset was related to its dimension, around 12 GB, that made it impossible to read through usual reading techniques, such as 'pd.read_json()'. The strategy that we used to manage the problem was processing the original JSON file in batches and splitting it into 2 parts based on the total number of papers; the results were stored into 2 Dataframes, 'data_part1' and 'data_part2'. These 2 datasets were saved in the 'csv' format to make them easier to open, once stored in the computer. Finally, they were merged to form a new dataset, 'citations_dataset_final.csv', that we will use for the whole Point 1."
      ]
    },
    {
      "cell_type": "code",
      "execution_count": null,
      "metadata": {
        "id": "MASAFaB2z-lf"
      },
      "outputs": [],
      "source": [
        "# we decide the size of the batches and on the max number of paper that the data_part1 should contain\n",
        "BATCH_SIZE = 10000\n",
        "TOTAL_PAPERS = 3000000\n",
        "\n",
        "# we define the columns for the final dataset\n",
        "columns = ['id', 'num_authors', 'authors', 'n_citation', 'reference_count', 'references']\n",
        "\n",
        "# we inizialize the 2 Dataframes, data_part1 and data_part2, that will compose the final dataset\n",
        "data_part1 = pd.DataFrame(columns=columns)\n",
        "data_part2 = pd.DataFrame(columns=columns)\n",
        "\n",
        "# open the file using ijson to be able to iterate through the JSON objects\n",
        "with open(file_path, \"rb\") as f:\n",
        "    batch = []\n",
        "\n",
        "    # the track of the iteration is kept by using tqdm\n",
        "    for i, element in tqdm(enumerate(ijson.items(f, \"item\")),\n",
        "                           desc=\"Processing Papers\", unit=\" papers\", total=TOTAL_PAPERS):\n",
        "        paper = {}\n",
        "        paper['id'] = element['id']\n",
        "\n",
        "        # information are extracted about the authors\n",
        "        authors = element.get('authors')\n",
        "        if authors:\n",
        "            paper['num_authors'] = len(authors)\n",
        "            paper['authors'] = [auth for auth in authors]\n",
        "\n",
        "        # information are extracted about the citation count\n",
        "        n_citation = element.get('n_citation')\n",
        "        paper['n_citation'] = n_citation if n_citation else 0\n",
        "\n",
        "        # infomration are extracted about the references\n",
        "        references = element.get('references')\n",
        "        paper['reference_count'] = len(references) if references else np.nan\n",
        "        paper['references'] = references if references else np.nan\n",
        "\n",
        "        batch.append(paper)\n",
        "\n",
        "        # check if the batch is ready to be processed\n",
        "        if len(batch) == BATCH_SIZE:\n",
        "            if i < TOTAL_PAPERS / 2:\n",
        "                data_part1 = pd.concat([data_part1, pd.DataFrame(batch)],\n",
        "                                       ignore_index=True)\n",
        "            else:\n",
        "                data_part2 = pd.concat([data_part2, pd.DataFrame(batch)],\n",
        "                                       ignore_index=True)\n",
        "\n",
        "            batch = []\n",
        "\n",
        "    # process the remaining papers in the last batch\n",
        "    if i < TOTAL_PAPERS / 2:\n",
        "        data_part1 = pd.concat([data_part1, pd.DataFrame(batch)],\n",
        "                               ignore_index=True)\n",
        "    else:\n",
        "        data_part2 = pd.concat([data_part2, pd.DataFrame(batch)],\n",
        "                               ignore_index=True)\n",
        "\n",
        "# store the 2 resulting datasets in the csv format\n",
        "data_part1.to_csv(\"citations_dataset_part1.csv\", index=False)\n",
        "data_part2.to_csv(\"citations_dataset_part2.csv\", index=False)"
      ]
    },
    {
      "cell_type": "code",
      "execution_count": null,
      "metadata": {
        "id": "TeKtVjRlz-lg"
      },
      "outputs": [],
      "source": [
        "data_part1 = pd.read_csv(\"citations_dataset_part1.csv\")\n",
        "data_part2 = pd.read_csv(\"citations_dataset_part2.csv\")\n",
        "\n",
        "#the filan dataset is created from the concatenation of data_part1 and data_part2\n",
        "final_data = pd.concat([data_part1, data_part2], ignore_index=True)\n",
        "\n",
        "final_data.to_csv(\"citations_dataset_final.csv\", index=False)"
      ]
    },
    {
      "cell_type": "markdown",
      "metadata": {
        "id": "yumQfaxvz-li"
      },
      "source": [
        "### Preprocessing"
      ]
    },
    {
      "cell_type": "markdown",
      "metadata": {
        "id": "ZVxcMj9yz-lk"
      },
      "source": [
        "In this phase of the task, we cleaned the initial dataset and sorted it accrding to the number of references obtained by that paper, in this way we created the 'dataset_top_citation' dataframe that contains only the 10.000 papers with the highiest number of citations. This new dataframe will be fundamental to complete the following tasks, any operation will be based on it."
      ]
    },
    {
      "cell_type": "code",
      "execution_count": null,
      "metadata": {
        "id": "ZfaYBm79z-ll",
        "outputId": "0e3e14aa-9ba7-4ded-e270-9ca0b113eaec"
      },
      "outputs": [
        {
          "data": {
            "text/html": [
              "<div>\n",
              "<style scoped>\n",
              "    .dataframe tbody tr th:only-of-type {\n",
              "        vertical-align: middle;\n",
              "    }\n",
              "\n",
              "    .dataframe tbody tr th {\n",
              "        vertical-align: top;\n",
              "    }\n",
              "\n",
              "    .dataframe thead th {\n",
              "        text-align: right;\n",
              "    }\n",
              "</style>\n",
              "<table border=\"1\" class=\"dataframe\">\n",
              "  <thead>\n",
              "    <tr style=\"text-align: right;\">\n",
              "      <th></th>\n",
              "      <th>id</th>\n",
              "      <th>num_authors</th>\n",
              "      <th>authors</th>\n",
              "      <th>n_citation</th>\n",
              "      <th>reference_count</th>\n",
              "      <th>references</th>\n",
              "    </tr>\n",
              "  </thead>\n",
              "  <tbody>\n",
              "    <tr>\n",
              "      <th>0</th>\n",
              "      <td>1091</td>\n",
              "      <td>8.0</td>\n",
              "      <td>[{'name': 'Makoto Satoh', 'org': 'Shinshu Univ...</td>\n",
              "      <td>1</td>\n",
              "      <td>2.0</td>\n",
              "      <td>[2005687710, 2018037215]</td>\n",
              "    </tr>\n",
              "    <tr>\n",
              "      <th>1</th>\n",
              "      <td>1388</td>\n",
              "      <td>1.0</td>\n",
              "      <td>[{'name': 'Pranava K. Jha', 'id': 2718958994}]</td>\n",
              "      <td>1</td>\n",
              "      <td>NaN</td>\n",
              "      <td>NaN</td>\n",
              "    </tr>\n",
              "    <tr>\n",
              "      <th>2</th>\n",
              "      <td>1674</td>\n",
              "      <td>2.0</td>\n",
              "      <td>[{'name': 'G. Beale', 'org': 'Archaeological C...</td>\n",
              "      <td>1</td>\n",
              "      <td>15.0</td>\n",
              "      <td>[1535888970, 1992876689, 1993710814, 203565334...</td>\n",
              "    </tr>\n",
              "    <tr>\n",
              "      <th>3</th>\n",
              "      <td>1688</td>\n",
              "      <td>4.0</td>\n",
              "      <td>[{'name': 'Altaf Hossain', 'org': 'Department ...</td>\n",
              "      <td>6</td>\n",
              "      <td>3.0</td>\n",
              "      <td>[1560724230, 1986968751, 2156909104]</td>\n",
              "    </tr>\n",
              "    <tr>\n",
              "      <th>4</th>\n",
              "      <td>5411</td>\n",
              "      <td>4.0</td>\n",
              "      <td>[{'name': 'Rafael Álvarez', 'id': 2125293936},...</td>\n",
              "      <td>0</td>\n",
              "      <td>NaN</td>\n",
              "      <td>NaN</td>\n",
              "    </tr>\n",
              "    <tr>\n",
              "      <th>...</th>\n",
              "      <td>...</td>\n",
              "      <td>...</td>\n",
              "      <td>...</td>\n",
              "      <td>...</td>\n",
              "      <td>...</td>\n",
              "      <td>...</td>\n",
              "    </tr>\n",
              "    <tr>\n",
              "      <th>4894076</th>\n",
              "      <td>99905544</td>\n",
              "      <td>5.0</td>\n",
              "      <td>[{'name': 'S. Nandagopalan', 'org': 'Dept. of ...</td>\n",
              "      <td>2</td>\n",
              "      <td>8.0</td>\n",
              "      <td>[1562217771, 1625504505, 2015022770, 210875170...</td>\n",
              "    </tr>\n",
              "    <tr>\n",
              "      <th>4894077</th>\n",
              "      <td>99884553</td>\n",
              "      <td>1.0</td>\n",
              "      <td>[{'name': 'Koen Cornelis Hubertus Blom', 'org'...</td>\n",
              "      <td>0</td>\n",
              "      <td>NaN</td>\n",
              "      <td>NaN</td>\n",
              "    </tr>\n",
              "    <tr>\n",
              "      <th>4894078</th>\n",
              "      <td>999847014</td>\n",
              "      <td>11.0</td>\n",
              "      <td>[{'name': 'Gert Læssøe Mikkelsen', 'org': 'Ale...</td>\n",
              "      <td>1</td>\n",
              "      <td>6.0</td>\n",
              "      <td>[1940933138, 1975620021, 1978183200, 209759592...</td>\n",
              "    </tr>\n",
              "    <tr>\n",
              "      <th>4894079</th>\n",
              "      <td>9990887</td>\n",
              "      <td>2.0</td>\n",
              "      <td>[{'name': 'Rajesh Natarajan', 'org': 'Indian I...</td>\n",
              "      <td>0</td>\n",
              "      <td>NaN</td>\n",
              "      <td>NaN</td>\n",
              "    </tr>\n",
              "    <tr>\n",
              "      <th>4894080</th>\n",
              "      <td>99956490</td>\n",
              "      <td>1.0</td>\n",
              "      <td>[{'name': 'Egon Börger', 'org': 'Institut für ...</td>\n",
              "      <td>0</td>\n",
              "      <td>3.0</td>\n",
              "      <td>[2032457623, 2094542439, 2114368612]</td>\n",
              "    </tr>\n",
              "  </tbody>\n",
              "</table>\n",
              "<p>4894081 rows × 6 columns</p>\n",
              "</div>"
            ],
            "text/plain": [
              "                id  num_authors  \\\n",
              "0             1091          8.0   \n",
              "1             1388          1.0   \n",
              "2             1674          2.0   \n",
              "3             1688          4.0   \n",
              "4             5411          4.0   \n",
              "...            ...          ...   \n",
              "4894076   99905544          5.0   \n",
              "4894077   99884553          1.0   \n",
              "4894078  999847014         11.0   \n",
              "4894079    9990887          2.0   \n",
              "4894080   99956490          1.0   \n",
              "\n",
              "                                                   authors  n_citation  \\\n",
              "0        [{'name': 'Makoto Satoh', 'org': 'Shinshu Univ...           1   \n",
              "1           [{'name': 'Pranava K. Jha', 'id': 2718958994}]           1   \n",
              "2        [{'name': 'G. Beale', 'org': 'Archaeological C...           1   \n",
              "3        [{'name': 'Altaf Hossain', 'org': 'Department ...           6   \n",
              "4        [{'name': 'Rafael Álvarez', 'id': 2125293936},...           0   \n",
              "...                                                    ...         ...   \n",
              "4894076  [{'name': 'S. Nandagopalan', 'org': 'Dept. of ...           2   \n",
              "4894077  [{'name': 'Koen Cornelis Hubertus Blom', 'org'...           0   \n",
              "4894078  [{'name': 'Gert Læssøe Mikkelsen', 'org': 'Ale...           1   \n",
              "4894079  [{'name': 'Rajesh Natarajan', 'org': 'Indian I...           0   \n",
              "4894080  [{'name': 'Egon Börger', 'org': 'Institut für ...           0   \n",
              "\n",
              "         reference_count                                         references  \n",
              "0                    2.0                           [2005687710, 2018037215]  \n",
              "1                    NaN                                                NaN  \n",
              "2                   15.0  [1535888970, 1992876689, 1993710814, 203565334...  \n",
              "3                    3.0               [1560724230, 1986968751, 2156909104]  \n",
              "4                    NaN                                                NaN  \n",
              "...                  ...                                                ...  \n",
              "4894076              8.0  [1562217771, 1625504505, 2015022770, 210875170...  \n",
              "4894077              NaN                                                NaN  \n",
              "4894078              6.0  [1940933138, 1975620021, 1978183200, 209759592...  \n",
              "4894079              NaN                                                NaN  \n",
              "4894080              3.0               [2032457623, 2094542439, 2114368612]  \n",
              "\n",
              "[4894081 rows x 6 columns]"
            ]
          },
          "execution_count": 3,
          "metadata": {},
          "output_type": "execute_result"
        }
      ],
      "source": [
        "dataset = pd.read_csv('citations_dataset_final.csv')\n",
        "dataset"
      ]
    },
    {
      "cell_type": "code",
      "execution_count": null,
      "metadata": {
        "id": "zoSBb1UAz-lr",
        "outputId": "c8235b18-9d8b-4c2f-c6f5-efd1926fcd94"
      },
      "outputs": [
        {
          "data": {
            "text/html": [
              "<div>\n",
              "<style scoped>\n",
              "    .dataframe tbody tr th:only-of-type {\n",
              "        vertical-align: middle;\n",
              "    }\n",
              "\n",
              "    .dataframe tbody tr th {\n",
              "        vertical-align: top;\n",
              "    }\n",
              "\n",
              "    .dataframe thead th {\n",
              "        text-align: right;\n",
              "    }\n",
              "</style>\n",
              "<table border=\"1\" class=\"dataframe\">\n",
              "  <thead>\n",
              "    <tr style=\"text-align: right;\">\n",
              "      <th></th>\n",
              "      <th>id</th>\n",
              "      <th>num_authors</th>\n",
              "      <th>authors</th>\n",
              "      <th>n_citation</th>\n",
              "      <th>reference_count</th>\n",
              "      <th>references</th>\n",
              "    </tr>\n",
              "  </thead>\n",
              "  <tbody>\n",
              "    <tr>\n",
              "      <th>0</th>\n",
              "      <td>2151103935</td>\n",
              "      <td>1.0</td>\n",
              "      <td>[{'name': 'David G. Lowe', 'org': 'Computer Sc...</td>\n",
              "      <td>35541</td>\n",
              "      <td>33.0</td>\n",
              "      <td>[19720318, 1541642243, 1560959218, 1676552347,...</td>\n",
              "    </tr>\n",
              "    <tr>\n",
              "      <th>1</th>\n",
              "      <td>2911964244</td>\n",
              "      <td>1.0</td>\n",
              "      <td>[{'name': 'Leo Breiman', 'org': 'Statistics De...</td>\n",
              "      <td>34741</td>\n",
              "      <td>11.0</td>\n",
              "      <td>[1507255258, 1580948147, 1605688901, 197584664...</td>\n",
              "    </tr>\n",
              "    <tr>\n",
              "      <th>2</th>\n",
              "      <td>2153635508</td>\n",
              "      <td>2.0</td>\n",
              "      <td>[{'name': 'Chih-Chung Chang', 'org': 'National...</td>\n",
              "      <td>31047</td>\n",
              "      <td>34.0</td>\n",
              "      <td>[1510526001, 1543810117, 1556115774, 156879334...</td>\n",
              "    </tr>\n",
              "    <tr>\n",
              "      <th>3</th>\n",
              "      <td>1791587663</td>\n",
              "      <td>1.0</td>\n",
              "      <td>[{'name': 'Fred D. Davis', 'org': 'Computer an...</td>\n",
              "      <td>25855</td>\n",
              "      <td>22.0</td>\n",
              "      <td>[157213131, 1520103841, 1778357938, 1972888601...</td>\n",
              "    </tr>\n",
              "    <tr>\n",
              "      <th>4</th>\n",
              "      <td>2119821739</td>\n",
              "      <td>2.0</td>\n",
              "      <td>[{'name': 'Corinna Cortes', 'org': 'AT&amp;T Bell ...</td>\n",
              "      <td>22276</td>\n",
              "      <td>3.0</td>\n",
              "      <td>[2087347434, 2154579312, 2168228682]</td>\n",
              "    </tr>\n",
              "    <tr>\n",
              "      <th>...</th>\n",
              "      <td>...</td>\n",
              "      <td>...</td>\n",
              "      <td>...</td>\n",
              "      <td>...</td>\n",
              "      <td>...</td>\n",
              "      <td>...</td>\n",
              "    </tr>\n",
              "    <tr>\n",
              "      <th>9995</th>\n",
              "      <td>2124827397</td>\n",
              "      <td>3.0</td>\n",
              "      <td>[{'name': 'Pawan Goyal', 'org': 'Distributed M...</td>\n",
              "      <td>551</td>\n",
              "      <td>27.0</td>\n",
              "      <td>[1588883745, 1941732106, 1973544909, 199548424...</td>\n",
              "    </tr>\n",
              "    <tr>\n",
              "      <th>9996</th>\n",
              "      <td>2120894402</td>\n",
              "      <td>4.0</td>\n",
              "      <td>[{'name': 'Jessica K. Hodgins', 'org': 'Colleg...</td>\n",
              "      <td>551</td>\n",
              "      <td>22.0</td>\n",
              "      <td>[1798187755, 1967934102, 1987574258, 198770668...</td>\n",
              "    </tr>\n",
              "    <tr>\n",
              "      <th>9997</th>\n",
              "      <td>1982180670</td>\n",
              "      <td>2.0</td>\n",
              "      <td>[{'name': 'Richard J. Lipton', 'id': 277112432...</td>\n",
              "      <td>551</td>\n",
              "      <td>12.0</td>\n",
              "      <td>[1530008367, 1980572240, 2026191634, 203462313...</td>\n",
              "    </tr>\n",
              "    <tr>\n",
              "      <th>9998</th>\n",
              "      <td>1559983024</td>\n",
              "      <td>1.0</td>\n",
              "      <td>[{'name': 'Claudio S. Pinhanez', 'org': 'IBM T...</td>\n",
              "      <td>551</td>\n",
              "      <td>14.0</td>\n",
              "      <td>[74179108, 137024741, 1987928129, 2007760386, ...</td>\n",
              "    </tr>\n",
              "    <tr>\n",
              "      <th>9999</th>\n",
              "      <td>2138165844</td>\n",
              "      <td>3.0</td>\n",
              "      <td>[{'name': 'Michael Nelson', 'org': 'VMWare, In...</td>\n",
              "      <td>551</td>\n",
              "      <td>5.0</td>\n",
              "      <td>[1989326485, 2050765519, 2121542813, 212589560...</td>\n",
              "    </tr>\n",
              "  </tbody>\n",
              "</table>\n",
              "<p>10000 rows × 6 columns</p>\n",
              "</div>"
            ],
            "text/plain": [
              "              id  num_authors  \\\n",
              "0     2151103935          1.0   \n",
              "1     2911964244          1.0   \n",
              "2     2153635508          2.0   \n",
              "3     1791587663          1.0   \n",
              "4     2119821739          2.0   \n",
              "...          ...          ...   \n",
              "9995  2124827397          3.0   \n",
              "9996  2120894402          4.0   \n",
              "9997  1982180670          2.0   \n",
              "9998  1559983024          1.0   \n",
              "9999  2138165844          3.0   \n",
              "\n",
              "                                                authors  n_citation  \\\n",
              "0     [{'name': 'David G. Lowe', 'org': 'Computer Sc...       35541   \n",
              "1     [{'name': 'Leo Breiman', 'org': 'Statistics De...       34741   \n",
              "2     [{'name': 'Chih-Chung Chang', 'org': 'National...       31047   \n",
              "3     [{'name': 'Fred D. Davis', 'org': 'Computer an...       25855   \n",
              "4     [{'name': 'Corinna Cortes', 'org': 'AT&T Bell ...       22276   \n",
              "...                                                 ...         ...   \n",
              "9995  [{'name': 'Pawan Goyal', 'org': 'Distributed M...         551   \n",
              "9996  [{'name': 'Jessica K. Hodgins', 'org': 'Colleg...         551   \n",
              "9997  [{'name': 'Richard J. Lipton', 'id': 277112432...         551   \n",
              "9998  [{'name': 'Claudio S. Pinhanez', 'org': 'IBM T...         551   \n",
              "9999  [{'name': 'Michael Nelson', 'org': 'VMWare, In...         551   \n",
              "\n",
              "      reference_count                                         references  \n",
              "0                33.0  [19720318, 1541642243, 1560959218, 1676552347,...  \n",
              "1                11.0  [1507255258, 1580948147, 1605688901, 197584664...  \n",
              "2                34.0  [1510526001, 1543810117, 1556115774, 156879334...  \n",
              "3                22.0  [157213131, 1520103841, 1778357938, 1972888601...  \n",
              "4                 3.0               [2087347434, 2154579312, 2168228682]  \n",
              "...               ...                                                ...  \n",
              "9995             27.0  [1588883745, 1941732106, 1973544909, 199548424...  \n",
              "9996             22.0  [1798187755, 1967934102, 1987574258, 198770668...  \n",
              "9997             12.0  [1530008367, 1980572240, 2026191634, 203462313...  \n",
              "9998             14.0  [74179108, 137024741, 1987928129, 2007760386, ...  \n",
              "9999              5.0  [1989326485, 2050765519, 2121542813, 212589560...  \n",
              "\n",
              "[10000 rows x 6 columns]"
            ]
          },
          "execution_count": 4,
          "metadata": {},
          "output_type": "execute_result"
        }
      ],
      "source": [
        "column_to_drop_nan_values = 'references'\n",
        "\n",
        "# rows are sorted according to the number of citations\n",
        "dataset = dataset.sort_values(by='n_citation', ascending=False)\n",
        "\n",
        "# the rows with NaN values under the column 'references' are dropped\n",
        "dataset = dataset.dropna(subset=[column_to_drop_nan_values])\n",
        "\n",
        "# only the first 10.000 rows with the highiest values under the column 'n_citation' are kept\n",
        "dataset_top_citation = dataset.head(10000)\n",
        "\n",
        "dataset_top_citation = dataset_top_citation.reset_index(drop=True)\n",
        "dataset_top_citation"
      ]
    },
    {
      "cell_type": "markdown",
      "metadata": {
        "id": "n_WFbdBDz-lu"
      },
      "source": [
        "## Citation graph"
      ]
    },
    {
      "cell_type": "markdown",
      "metadata": {
        "id": "3m1kSWV0z-lv"
      },
      "source": [
        "The first part of the Point 1 is about the generation of a graph, called 'citation graph', that should represent the papers' citation relationship, it will be an unweighted and directed graph, in which the nodes will be the papers and the edges will represent the citation given from one paper to another. The first action we performed was isolating just the 2 column we needed 'id' and 'references' from the original dataset, to create a new dataset, called 'dataset_top_citation_citation_graph'. Originally, the column 'references' was made of strings, in wich for each row there was just one string, so we needed to manipulate it to perform the necessary operations, in particular we removed the squared brackets and the converted the singluar initial string into a list of strings, in which every id was a singluar string."
      ]
    },
    {
      "cell_type": "code",
      "execution_count": null,
      "metadata": {
        "id": "Ilhl7RHkz-lx",
        "outputId": "c882f12a-d10f-4b96-bf62-433bccb574fe"
      },
      "outputs": [
        {
          "data": {
            "text/html": [
              "<div>\n",
              "<style scoped>\n",
              "    .dataframe tbody tr th:only-of-type {\n",
              "        vertical-align: middle;\n",
              "    }\n",
              "\n",
              "    .dataframe tbody tr th {\n",
              "        vertical-align: top;\n",
              "    }\n",
              "\n",
              "    .dataframe thead th {\n",
              "        text-align: right;\n",
              "    }\n",
              "</style>\n",
              "<table border=\"1\" class=\"dataframe\">\n",
              "  <thead>\n",
              "    <tr style=\"text-align: right;\">\n",
              "      <th></th>\n",
              "      <th>id</th>\n",
              "      <th>references</th>\n",
              "    </tr>\n",
              "  </thead>\n",
              "  <tbody>\n",
              "    <tr>\n",
              "      <th>0</th>\n",
              "      <td>2151103935</td>\n",
              "      <td>[19720318, 1541642243, 1560959218, 1676552347,...</td>\n",
              "    </tr>\n",
              "    <tr>\n",
              "      <th>1</th>\n",
              "      <td>2911964244</td>\n",
              "      <td>[1507255258, 1580948147, 1605688901, 197584664...</td>\n",
              "    </tr>\n",
              "    <tr>\n",
              "      <th>2</th>\n",
              "      <td>2153635508</td>\n",
              "      <td>[1510526001, 1543810117, 1556115774, 156879334...</td>\n",
              "    </tr>\n",
              "    <tr>\n",
              "      <th>3</th>\n",
              "      <td>1791587663</td>\n",
              "      <td>[157213131, 1520103841, 1778357938, 1972888601...</td>\n",
              "    </tr>\n",
              "    <tr>\n",
              "      <th>4</th>\n",
              "      <td>2119821739</td>\n",
              "      <td>[2087347434, 2154579312, 2168228682]</td>\n",
              "    </tr>\n",
              "    <tr>\n",
              "      <th>...</th>\n",
              "      <td>...</td>\n",
              "      <td>...</td>\n",
              "    </tr>\n",
              "    <tr>\n",
              "      <th>9995</th>\n",
              "      <td>2124827397</td>\n",
              "      <td>[1588883745, 1941732106, 1973544909, 199548424...</td>\n",
              "    </tr>\n",
              "    <tr>\n",
              "      <th>9996</th>\n",
              "      <td>2120894402</td>\n",
              "      <td>[1798187755, 1967934102, 1987574258, 198770668...</td>\n",
              "    </tr>\n",
              "    <tr>\n",
              "      <th>9997</th>\n",
              "      <td>1982180670</td>\n",
              "      <td>[1530008367, 1980572240, 2026191634, 203462313...</td>\n",
              "    </tr>\n",
              "    <tr>\n",
              "      <th>9998</th>\n",
              "      <td>1559983024</td>\n",
              "      <td>[74179108, 137024741, 1987928129, 2007760386, ...</td>\n",
              "    </tr>\n",
              "    <tr>\n",
              "      <th>9999</th>\n",
              "      <td>2138165844</td>\n",
              "      <td>[1989326485, 2050765519, 2121542813, 212589560...</td>\n",
              "    </tr>\n",
              "  </tbody>\n",
              "</table>\n",
              "<p>10000 rows × 2 columns</p>\n",
              "</div>"
            ],
            "text/plain": [
              "              id                                         references\n",
              "0     2151103935  [19720318, 1541642243, 1560959218, 1676552347,...\n",
              "1     2911964244  [1507255258, 1580948147, 1605688901, 197584664...\n",
              "2     2153635508  [1510526001, 1543810117, 1556115774, 156879334...\n",
              "3     1791587663  [157213131, 1520103841, 1778357938, 1972888601...\n",
              "4     2119821739               [2087347434, 2154579312, 2168228682]\n",
              "...          ...                                                ...\n",
              "9995  2124827397  [1588883745, 1941732106, 1973544909, 199548424...\n",
              "9996  2120894402  [1798187755, 1967934102, 1987574258, 198770668...\n",
              "9997  1982180670  [1530008367, 1980572240, 2026191634, 203462313...\n",
              "9998  1559983024  [74179108, 137024741, 1987928129, 2007760386, ...\n",
              "9999  2138165844  [1989326485, 2050765519, 2121542813, 212589560...\n",
              "\n",
              "[10000 rows x 2 columns]"
            ]
          },
          "execution_count": 6,
          "metadata": {},
          "output_type": "execute_result"
        }
      ],
      "source": [
        "dataset_top_citation_citation_graph = dataset_top_citation[['id','references']]\n",
        "dataset_top_citation_citation_graph"
      ]
    },
    {
      "cell_type": "code",
      "execution_count": null,
      "metadata": {
        "id": "QY9K6HI0z-ly"
      },
      "outputs": [],
      "source": [
        "# the squared brackes are deleted from the references column\n",
        "dataset_top_citation_citation_graph.loc[:,'references'] = dataset_top_citation_citation_graph['references'].apply(lambda x: x.replace('[', '').replace(']', ''))\n",
        "\n",
        "# a list of strngs is created for each row under the 'references' column\n",
        "dataset_top_citation_citation_graph.loc[:,'references'] = dataset_top_citation_citation_graph['references'].apply(lambda x: x.split(','))\n",
        "\n",
        "# the ids are converted into strings\n",
        "dataset_top_citation_citation_graph.loc[:,'id'] = dataset_top_citation_citation_graph['id'].astype(str)"
      ]
    },
    {
      "cell_type": "code",
      "execution_count": null,
      "metadata": {
        "id": "mYJFF69-z-l0",
        "outputId": "b98b4be0-094c-4a8e-c82f-1e4662729c64"
      },
      "outputs": [
        {
          "data": {
            "text/html": [
              "<div>\n",
              "<style scoped>\n",
              "    .dataframe tbody tr th:only-of-type {\n",
              "        vertical-align: middle;\n",
              "    }\n",
              "\n",
              "    .dataframe tbody tr th {\n",
              "        vertical-align: top;\n",
              "    }\n",
              "\n",
              "    .dataframe thead th {\n",
              "        text-align: right;\n",
              "    }\n",
              "</style>\n",
              "<table border=\"1\" class=\"dataframe\">\n",
              "  <thead>\n",
              "    <tr style=\"text-align: right;\">\n",
              "      <th></th>\n",
              "      <th>id</th>\n",
              "      <th>references</th>\n",
              "      <th>references_under_id</th>\n",
              "    </tr>\n",
              "  </thead>\n",
              "  <tbody>\n",
              "    <tr>\n",
              "      <th>0</th>\n",
              "      <td>2151103935</td>\n",
              "      <td>[19720318,  1541642243,  1560959218,  16765523...</td>\n",
              "      <td>[1676552347, 1949116567, 2011891945, 202466829...</td>\n",
              "    </tr>\n",
              "    <tr>\n",
              "      <th>1</th>\n",
              "      <td>2911964244</td>\n",
              "      <td>[1507255258,  1580948147,  1605688901,  197584...</td>\n",
              "      <td>[1605688901, 1975846642, 2112076978, 211324281...</td>\n",
              "    </tr>\n",
              "    <tr>\n",
              "      <th>2</th>\n",
              "      <td>2153635508</td>\n",
              "      <td>[1510526001,  1543810117,  1556115774,  156879...</td>\n",
              "      <td>[1510526001, 1568793342, 1621799579, 205698353...</td>\n",
              "    </tr>\n",
              "    <tr>\n",
              "      <th>3</th>\n",
              "      <td>1791587663</td>\n",
              "      <td>[157213131,  1520103841,  1778357938,  1972888...</td>\n",
              "      <td>[1972888601, 1988410705, 2037021532, 209248890...</td>\n",
              "    </tr>\n",
              "    <tr>\n",
              "      <th>4</th>\n",
              "      <td>2119821739</td>\n",
              "      <td>[2087347434,  2154579312,  2168228682]</td>\n",
              "      <td>[2087347434, 2154579312]</td>\n",
              "    </tr>\n",
              "    <tr>\n",
              "      <th>...</th>\n",
              "      <td>...</td>\n",
              "      <td>...</td>\n",
              "      <td>...</td>\n",
              "    </tr>\n",
              "    <tr>\n",
              "      <th>9995</th>\n",
              "      <td>2124827397</td>\n",
              "      <td>[1588883745,  1941732106,  1973544909,  199548...</td>\n",
              "      <td>[2073440460, 2098289156, 2098375698, 209944078...</td>\n",
              "    </tr>\n",
              "    <tr>\n",
              "      <th>9996</th>\n",
              "      <td>2120894402</td>\n",
              "      <td>[1798187755,  1967934102,  1987574258,  198770...</td>\n",
              "      <td>[2117085697, 2127197749, 2150312211, 2293545866]</td>\n",
              "    </tr>\n",
              "    <tr>\n",
              "      <th>9997</th>\n",
              "      <td>1982180670</td>\n",
              "      <td>[1530008367,  1980572240,  2026191634,  203462...</td>\n",
              "      <td>[]</td>\n",
              "    </tr>\n",
              "    <tr>\n",
              "      <th>9998</th>\n",
              "      <td>1559983024</td>\n",
              "      <td>[74179108,  137024741,  1987928129,  200776038...</td>\n",
              "      <td>[2140235142, 2149891956, 2158683916, 2237155658]</td>\n",
              "    </tr>\n",
              "    <tr>\n",
              "      <th>9999</th>\n",
              "      <td>2138165844</td>\n",
              "      <td>[1989326485,  2050765519,  2121542813,  212589...</td>\n",
              "      <td>[2121542813, 2125895608]</td>\n",
              "    </tr>\n",
              "  </tbody>\n",
              "</table>\n",
              "<p>10000 rows × 3 columns</p>\n",
              "</div>"
            ],
            "text/plain": [
              "              id                                         references  \\\n",
              "0     2151103935  [19720318,  1541642243,  1560959218,  16765523...   \n",
              "1     2911964244  [1507255258,  1580948147,  1605688901,  197584...   \n",
              "2     2153635508  [1510526001,  1543810117,  1556115774,  156879...   \n",
              "3     1791587663  [157213131,  1520103841,  1778357938,  1972888...   \n",
              "4     2119821739             [2087347434,  2154579312,  2168228682]   \n",
              "...          ...                                                ...   \n",
              "9995  2124827397  [1588883745,  1941732106,  1973544909,  199548...   \n",
              "9996  2120894402  [1798187755,  1967934102,  1987574258,  198770...   \n",
              "9997  1982180670  [1530008367,  1980572240,  2026191634,  203462...   \n",
              "9998  1559983024  [74179108,  137024741,  1987928129,  200776038...   \n",
              "9999  2138165844  [1989326485,  2050765519,  2121542813,  212589...   \n",
              "\n",
              "                                    references_under_id  \n",
              "0     [1676552347, 1949116567, 2011891945, 202466829...  \n",
              "1     [1605688901, 1975846642, 2112076978, 211324281...  \n",
              "2     [1510526001, 1568793342, 1621799579, 205698353...  \n",
              "3     [1972888601, 1988410705, 2037021532, 209248890...  \n",
              "4                              [2087347434, 2154579312]  \n",
              "...                                                 ...  \n",
              "9995  [2073440460, 2098289156, 2098375698, 209944078...  \n",
              "9996   [2117085697, 2127197749, 2150312211, 2293545866]  \n",
              "9997                                                 []  \n",
              "9998   [2140235142, 2149891956, 2158683916, 2237155658]  \n",
              "9999                           [2121542813, 2125895608]  \n",
              "\n",
              "[10000 rows x 3 columns]"
            ]
          },
          "execution_count": 8,
          "metadata": {},
          "output_type": "execute_result"
        }
      ],
      "source": [
        "# a list of all the ids present in the column 'id' is generated\n",
        "all_ids = dataset_top_citation_citation_graph['id'].tolist()\n",
        "all_ids = [id_.strip() for id_ in all_ids]\n",
        "\n",
        "# the function 'references_under_id' is created to extract only the ids ontained in the list of all the 10.000 ids\n",
        "def references_under_id(ids_list):\n",
        "    return [id_.strip() for id_ in ids_list if id_.strip() in all_ids]\n",
        "\n",
        "# a new column 'references_under_id' is created applying the previous function\n",
        "dataset_top_citation_citation_graph = dataset_top_citation_citation_graph.copy()\n",
        "dataset_top_citation_citation_graph.loc[:,'references_under_id'] = dataset_top_citation_citation_graph['references'].apply(references_under_id)\n",
        "dataset_top_citation_citation_graph"
      ]
    },
    {
      "cell_type": "markdown",
      "metadata": {
        "id": "KeJQUumiz-l2"
      },
      "source": [
        "With this code we create a new column, called 'references_under_id' that contains only the ids, taken from the column references, that are contained in the column 'id', this can be done thanks to the function 'references_under_id'. In this way we isolate all the relationships between papers that are present in the top 10.000 papers according the number of citations. This is the base to build the citation graph."
      ]
    },
    {
      "cell_type": "code",
      "execution_count": null,
      "metadata": {
        "id": "W63dheDjz-l3"
      },
      "outputs": [],
      "source": [
        "# a directed graph, called 'G_citation', is created using the library NetworkX\n",
        "G_citation = nx.DiGraph()\n",
        "\n",
        "# the nodes are added to the graph using the 'id' column\n",
        "G_citation.add_nodes_from(dataset_top_citation_citation_graph['id'])\n",
        "\n",
        "# we created the edges by iterating through the rows in the dataset\n",
        "for _, row in dataset_top_citation_citation_graph.iterrows():\n",
        "\n",
        "    # the source node is obtained from the 'id' column\n",
        "    source_node_citation_graph = row['id']\n",
        "\n",
        "    #the target node is obtained from the 'references_under_id' column\n",
        "    target_node_citation_graph = row['references_under_id']\n",
        "\n",
        "    # the directed edges are added from the source nodes to the target nodes\n",
        "    G_citation.add_edges_from([(source_node_citation_graph, target_node) for target_node in target_node_citation_graph])"
      ]
    },
    {
      "cell_type": "code",
      "execution_count": null,
      "metadata": {
        "id": "S-dgROrKz-l4",
        "outputId": "c81f1832-107c-4be6-bc3e-f6b6d6a12ade"
      },
      "outputs": [
        {
          "data": {
            "image/png": "[encoded data removed]",
            "text/plain": [
              "<Figure size 640x480 with 1 Axes>"
            ]
          },
          "metadata": {},
          "output_type": "display_data"
        }
      ],
      "source": [
        "# the first node, that will be showed, is extracted\n",
        "first_node_to_show = dataset_top_citation_citation_graph.iloc[0]\n",
        "\n",
        "# get the source node and the target node\n",
        "source_node = first_node_to_show['id']\n",
        "target_node = first_node_to_show['references_under_id']\n",
        "subgraph_node_citation_graph = [source_node] + target_node\n",
        "\n",
        "# a subgraph is extracted from the main graph containing the soruce node and target nodes specified\n",
        "subgraph = G_citation.subgraph(subgraph_node_citation_graph)\n",
        "pos = nx.spring_layout(subgraph)\n",
        "\n",
        "# draw the subgraph\n",
        "nx.draw(subgraph, pos, with_labels=True, arrowsize=10)\n",
        "plt.show()"
      ]
    },
    {
      "cell_type": "markdown",
      "metadata": {
        "id": "YJQkLFp6z-l5"
      },
      "source": [
        "The nodes and the edges has been created according to what we said previously, **we decided to show a small subportion of the whole graph** by plotting only the first node (the node that corresponds to the first id) with the relative edges and nodes to which it is connected. As we can see from the plot, the graph is not built to just show the relationships between the nodes under the column id and the relative nodes under the column `reference_under_id`, but it represents the relationships among the nodes present inside that column, as for example, the relationship between the node 2124087378 and 2109863423."
      ]
    },
    {
      "cell_type": "markdown",
      "metadata": {
        "id": "mqaNRQXNz-l5"
      },
      "source": [
        "## Collaboration graph"
      ]
    },
    {
      "cell_type": "markdown",
      "metadata": {
        "id": "xwSLFm4Tz-l6"
      },
      "source": [
        "This graph representsthe second task of the Point 1, the target is to create a `collaboration graph` that should represent the collaborations of the papers' authors, it should be weighted and undirected.\n",
        "The necessary column for this task was the column `authors`, and we isoltaed it to perform all the operations, creating the dataset `dataset_top_citation_collaboration_graph`. Similarly to the column `references`, the rows under this column were just singular strings, so we had to manipulate them closely to what we did for the citation graph. Once we processed them we just got lists of strings in the form ['id' 'numeric id']. Our goal was to obtain a column similar to the `refernces` one, to reach this target, we used the function clean_strings_authors, that extracts just the numeric values form the strings inside the lists, in order to have only the numeric ids on which we will build the final graph."
      ]
    },
    {
      "cell_type": "code",
      "execution_count": null,
      "metadata": {
        "id": "UtTu2XyLz-l6",
        "outputId": "48cd891b-c7f1-4281-a46b-fb604afc5a27"
      },
      "outputs": [
        {
          "data": {
            "text/html": [
              "<div>\n",
              "<style scoped>\n",
              "    .dataframe tbody tr th:only-of-type {\n",
              "        vertical-align: middle;\n",
              "    }\n",
              "\n",
              "    .dataframe tbody tr th {\n",
              "        vertical-align: top;\n",
              "    }\n",
              "\n",
              "    .dataframe thead th {\n",
              "        text-align: right;\n",
              "    }\n",
              "</style>\n",
              "<table border=\"1\" class=\"dataframe\">\n",
              "  <thead>\n",
              "    <tr style=\"text-align: right;\">\n",
              "      <th></th>\n",
              "      <th>authors</th>\n",
              "    </tr>\n",
              "  </thead>\n",
              "  <tbody>\n",
              "    <tr>\n",
              "      <th>0</th>\n",
              "      <td>[{'name': 'David G. Lowe', 'org': 'Computer Sc...</td>\n",
              "    </tr>\n",
              "    <tr>\n",
              "      <th>1</th>\n",
              "      <td>[{'name': 'Leo Breiman', 'org': 'Statistics De...</td>\n",
              "    </tr>\n",
              "    <tr>\n",
              "      <th>2</th>\n",
              "      <td>[{'name': 'Chih-Chung Chang', 'org': 'National...</td>\n",
              "    </tr>\n",
              "    <tr>\n",
              "      <th>3</th>\n",
              "      <td>[{'name': 'Fred D. Davis', 'org': 'Computer an...</td>\n",
              "    </tr>\n",
              "    <tr>\n",
              "      <th>4</th>\n",
              "      <td>[{'name': 'Corinna Cortes', 'org': 'AT&amp;T Bell ...</td>\n",
              "    </tr>\n",
              "    <tr>\n",
              "      <th>...</th>\n",
              "      <td>...</td>\n",
              "    </tr>\n",
              "    <tr>\n",
              "      <th>9995</th>\n",
              "      <td>[{'name': 'Pawan Goyal', 'org': 'Distributed M...</td>\n",
              "    </tr>\n",
              "    <tr>\n",
              "      <th>9996</th>\n",
              "      <td>[{'name': 'Jessica K. Hodgins', 'org': 'Colleg...</td>\n",
              "    </tr>\n",
              "    <tr>\n",
              "      <th>9997</th>\n",
              "      <td>[{'name': 'Richard J. Lipton', 'id': 277112432...</td>\n",
              "    </tr>\n",
              "    <tr>\n",
              "      <th>9998</th>\n",
              "      <td>[{'name': 'Claudio S. Pinhanez', 'org': 'IBM T...</td>\n",
              "    </tr>\n",
              "    <tr>\n",
              "      <th>9999</th>\n",
              "      <td>[{'name': 'Michael Nelson', 'org': 'VMWare, In...</td>\n",
              "    </tr>\n",
              "  </tbody>\n",
              "</table>\n",
              "<p>10000 rows × 1 columns</p>\n",
              "</div>"
            ],
            "text/plain": [
              "                                                authors\n",
              "0     [{'name': 'David G. Lowe', 'org': 'Computer Sc...\n",
              "1     [{'name': 'Leo Breiman', 'org': 'Statistics De...\n",
              "2     [{'name': 'Chih-Chung Chang', 'org': 'National...\n",
              "3     [{'name': 'Fred D. Davis', 'org': 'Computer an...\n",
              "4     [{'name': 'Corinna Cortes', 'org': 'AT&T Bell ...\n",
              "...                                                 ...\n",
              "9995  [{'name': 'Pawan Goyal', 'org': 'Distributed M...\n",
              "9996  [{'name': 'Jessica K. Hodgins', 'org': 'Colleg...\n",
              "9997  [{'name': 'Richard J. Lipton', 'id': 277112432...\n",
              "9998  [{'name': 'Claudio S. Pinhanez', 'org': 'IBM T...\n",
              "9999  [{'name': 'Michael Nelson', 'org': 'VMWare, In...\n",
              "\n",
              "[10000 rows x 1 columns]"
            ]
          },
          "execution_count": 12,
          "metadata": {},
          "output_type": "execute_result"
        }
      ],
      "source": [
        "dataset_top_citation_collaboration_graph = dataset_top_citation[['authors']]\n",
        "dataset_top_citation_collaboration_graph"
      ]
    },
    {
      "cell_type": "code",
      "execution_count": null,
      "metadata": {
        "id": "h0a2zxP7z-l8",
        "outputId": "a3c6cc59-9c93-4aaf-c895-11aa49718716"
      },
      "outputs": [
        {
          "data": {
            "text/html": [
              "<div>\n",
              "<style scoped>\n",
              "    .dataframe tbody tr th:only-of-type {\n",
              "        vertical-align: middle;\n",
              "    }\n",
              "\n",
              "    .dataframe tbody tr th {\n",
              "        vertical-align: top;\n",
              "    }\n",
              "\n",
              "    .dataframe thead th {\n",
              "        text-align: right;\n",
              "    }\n",
              "</style>\n",
              "<table border=\"1\" class=\"dataframe\">\n",
              "  <thead>\n",
              "    <tr style=\"text-align: right;\">\n",
              "      <th></th>\n",
              "      <th>authors</th>\n",
              "    </tr>\n",
              "  </thead>\n",
              "  <tbody>\n",
              "    <tr>\n",
              "      <th>0</th>\n",
              "      <td>[ 'id' 2104328312]</td>\n",
              "    </tr>\n",
              "    <tr>\n",
              "      <th>1</th>\n",
              "      <td>[ 'id' 2569376642]</td>\n",
              "    </tr>\n",
              "    <tr>\n",
              "      <th>2</th>\n",
              "      <td>[ 'id' 2895256545,  'id' 2168176072]</td>\n",
              "    </tr>\n",
              "    <tr>\n",
              "      <th>3</th>\n",
              "      <td>[ 'id' 2427477170]</td>\n",
              "    </tr>\n",
              "    <tr>\n",
              "      <th>4</th>\n",
              "      <td>[ 'id' 2134830209,  'id' 2022407533]</td>\n",
              "    </tr>\n",
              "    <tr>\n",
              "      <th>...</th>\n",
              "      <td>...</td>\n",
              "    </tr>\n",
              "    <tr>\n",
              "      <th>9995</th>\n",
              "      <td>[ 'id' 2152918269,  'id' 2020627909,  'id' 266...</td>\n",
              "    </tr>\n",
              "    <tr>\n",
              "      <th>9996</th>\n",
              "      <td>[ 'id' 601642093,  'id' 1980379243,  'id' 2030...</td>\n",
              "    </tr>\n",
              "    <tr>\n",
              "      <th>9997</th>\n",
              "      <td>[ 'id' 2771124329,  'id' 350567680]</td>\n",
              "    </tr>\n",
              "    <tr>\n",
              "      <th>9998</th>\n",
              "      <td>[ 'id' 320969846]</td>\n",
              "    </tr>\n",
              "    <tr>\n",
              "      <th>9999</th>\n",
              "      <td>[ 'id' 2564319605,  'id' 2153695973,  'id' 257...</td>\n",
              "    </tr>\n",
              "  </tbody>\n",
              "</table>\n",
              "<p>10000 rows × 1 columns</p>\n",
              "</div>"
            ],
            "text/plain": [
              "                                                authors\n",
              "0                                    [ 'id' 2104328312]\n",
              "1                                    [ 'id' 2569376642]\n",
              "2                  [ 'id' 2895256545,  'id' 2168176072]\n",
              "3                                    [ 'id' 2427477170]\n",
              "4                  [ 'id' 2134830209,  'id' 2022407533]\n",
              "...                                                 ...\n",
              "9995  [ 'id' 2152918269,  'id' 2020627909,  'id' 266...\n",
              "9996  [ 'id' 601642093,  'id' 1980379243,  'id' 2030...\n",
              "9997                [ 'id' 2771124329,  'id' 350567680]\n",
              "9998                                  [ 'id' 320969846]\n",
              "9999  [ 'id' 2564319605,  'id' 2153695973,  'id' 257...\n",
              "\n",
              "[10000 rows x 1 columns]"
            ]
          },
          "execution_count": 13,
          "metadata": {},
          "output_type": "execute_result"
        }
      ],
      "source": [
        "# the squared brackes are deleted from the authors column\n",
        "dataset_top_citation_collaboration_graph.loc[:,'authors'] = dataset_top_citation_collaboration_graph['authors'].apply(lambda x: x.replace('[', '').replace(']', '')).copy()\n",
        "\n",
        "# the curly brackes are deleted from the authors column\n",
        "dataset_top_citation_collaboration_graph.loc[:,'authors'] = dataset_top_citation_collaboration_graph['authors'].apply(lambda x: x.replace('{', '').replace('}', '')).copy()\n",
        "\n",
        "# the 2 points are deleted from the authors column\n",
        "dataset_top_citation_collaboration_graph.loc[:,'authors'] = dataset_top_citation_collaboration_graph['authors'].apply(lambda x: x.replace(':', '')).copy()\n",
        "\n",
        "# the name 'David' is deleted from the authors column, because of the presence of the word id in it\n",
        "dataset_top_citation_collaboration_graph.loc[:,'authors'] = dataset_top_citation_collaboration_graph['authors'].apply(lambda x: x.replace('David', '')).copy()\n",
        "\n",
        "# for each row of the column authors a list of strings is created\n",
        "dataset_top_citation_collaboration_graph.loc[:,'authors'] = dataset_top_citation_collaboration_graph['authors'].apply(lambda x: x.split(','))\n",
        "\n",
        "# only the strings with the word 'id' are kept\n",
        "dataset_top_citation_collaboration_graph.loc[:,'authors'] = dataset_top_citation_collaboration_graph['authors'].apply(lambda authors: list(filter(lambda author: 'id' in author, authors)))\n",
        "dataset_top_citation_collaboration_graph"
      ]
    },
    {
      "cell_type": "code",
      "execution_count": null,
      "metadata": {
        "id": "IFP3kLHmz-l9",
        "outputId": "89fb419f-b9b8-450a-efb7-c566b6bd1e70"
      },
      "outputs": [
        {
          "data": {
            "text/html": [
              "<div>\n",
              "<style scoped>\n",
              "    .dataframe tbody tr th:only-of-type {\n",
              "        vertical-align: middle;\n",
              "    }\n",
              "\n",
              "    .dataframe tbody tr th {\n",
              "        vertical-align: top;\n",
              "    }\n",
              "\n",
              "    .dataframe thead th {\n",
              "        text-align: right;\n",
              "    }\n",
              "</style>\n",
              "<table border=\"1\" class=\"dataframe\">\n",
              "  <thead>\n",
              "    <tr style=\"text-align: right;\">\n",
              "      <th></th>\n",
              "      <th>authors</th>\n",
              "    </tr>\n",
              "  </thead>\n",
              "  <tbody>\n",
              "    <tr>\n",
              "      <th>0</th>\n",
              "      <td>[2104328312]</td>\n",
              "    </tr>\n",
              "    <tr>\n",
              "      <th>1</th>\n",
              "      <td>[2569376642]</td>\n",
              "    </tr>\n",
              "    <tr>\n",
              "      <th>2</th>\n",
              "      <td>[2895256545, 2168176072]</td>\n",
              "    </tr>\n",
              "    <tr>\n",
              "      <th>3</th>\n",
              "      <td>[2427477170]</td>\n",
              "    </tr>\n",
              "    <tr>\n",
              "      <th>4</th>\n",
              "      <td>[2134830209, 2022407533]</td>\n",
              "    </tr>\n",
              "    <tr>\n",
              "      <th>...</th>\n",
              "      <td>...</td>\n",
              "    </tr>\n",
              "    <tr>\n",
              "      <th>9995</th>\n",
              "      <td>[2152918269, 2020627909, 2662983009]</td>\n",
              "    </tr>\n",
              "    <tr>\n",
              "      <th>9996</th>\n",
              "      <td>[601642093, 1980379243, 2030310643, 2104748382]</td>\n",
              "    </tr>\n",
              "    <tr>\n",
              "      <th>9997</th>\n",
              "      <td>[2771124329, 350567680]</td>\n",
              "    </tr>\n",
              "    <tr>\n",
              "      <th>9998</th>\n",
              "      <td>[320969846]</td>\n",
              "    </tr>\n",
              "    <tr>\n",
              "      <th>9999</th>\n",
              "      <td>[2564319605, 2153695973, 2579467519]</td>\n",
              "    </tr>\n",
              "  </tbody>\n",
              "</table>\n",
              "<p>10000 rows × 1 columns</p>\n",
              "</div>"
            ],
            "text/plain": [
              "                                              authors\n",
              "0                                        [2104328312]\n",
              "1                                        [2569376642]\n",
              "2                            [2895256545, 2168176072]\n",
              "3                                        [2427477170]\n",
              "4                            [2134830209, 2022407533]\n",
              "...                                               ...\n",
              "9995             [2152918269, 2020627909, 2662983009]\n",
              "9996  [601642093, 1980379243, 2030310643, 2104748382]\n",
              "9997                          [2771124329, 350567680]\n",
              "9998                                      [320969846]\n",
              "9999             [2564319605, 2153695973, 2579467519]\n",
              "\n",
              "[10000 rows x 1 columns]"
            ]
          },
          "execution_count": 14,
          "metadata": {},
          "output_type": "execute_result"
        }
      ],
      "source": [
        "# the function clean_strings_authors is created to keep only the numeric values,\n",
        "#so it removes the non-digit characters\n",
        "def clean_strings_authors(lst):\n",
        "    cleaned_list = []\n",
        "    for x in lst:\n",
        "        ids_authors_only = ''.join(char for char in x if char.isdigit())\n",
        "        if ids_authors_only:\n",
        "            cleaned_list.append(int(ids_authors_only))\n",
        "\n",
        "    # the output is a list of cleaned integers\n",
        "    return cleaned_list\n",
        "\n",
        "# the column authors is updated by applying the previous function\n",
        "dataset_top_citation_collaboration_graph.loc[:,'authors'] = dataset_top_citation_collaboration_graph['authors'].apply(clean_strings_authors)\n",
        "dataset_top_citation_collaboration_graph"
      ]
    },
    {
      "cell_type": "code",
      "execution_count": null,
      "metadata": {
        "id": "-vXkENkiz-l9"
      },
      "outputs": [],
      "source": [
        "# an undericted graph called 'G_collaboration' is created\n",
        "G_collaboration = nx.Graph()\n",
        "\n",
        "for _, row in dataset_top_citation_collaboration_graph.iterrows():\n",
        "    author_list = row['authors']\n",
        "\n",
        "    # interation through all the combinations of 2 authors with itertools\n",
        "    for collaboration in itertools.combinations(author_list, 2):\n",
        "\n",
        "        # checks if the collaboration edge already exists in the collaboration graph\n",
        "        if G_collaboration.has_edge(*collaboration):\n",
        "\n",
        "            # if the edge exists the weight is incremented by 1\n",
        "            G_collaboration[collaboration[0]][collaboration[1]]['weight'] += 1\n",
        "        else:\n",
        "            # id the edge does not exist, the weight is set to 1\n",
        "            G_collaboration.add_edge(*collaboration, weight=1)"
      ]
    },
    {
      "cell_type": "code",
      "execution_count": null,
      "metadata": {
        "id": "Y0bRMJEoz-l-",
        "outputId": "57dac66e-171d-41a5-ede1-f91abc2d37c3"
      },
      "outputs": [
        {
          "data": {
            "image/png": "[encoded data removed]",
            "text/plain": [
              "<Figure size 640x480 with 1 Axes>"
            ]
          },
          "metadata": {},
          "output_type": "display_data"
        }
      ],
      "source": [
        "# the first 5 nodes from the collaboration graph are taken\n",
        "nodes_to_show = list(G_collaboration.nodes())[:5]\n",
        "\n",
        "# a subgraph made of the selected nodes is created\n",
        "subgraph_collaboration = G_collaboration.subgraph(nodes_to_show)\n",
        "pos = nx.spring_layout(subgraph_collaboration)\n",
        "\n",
        "# draw the subgraph\n",
        "nx.draw(subgraph_collaboration, pos, with_labels=True, font_weight='bold', node_size=700)\n",
        "edge_weights = {(i, j): subgraph_collaboration[i][j]['weight'] for i, j in subgraph_collaboration.edges()}\n",
        "nx.draw_networkx_edges(subgraph_collaboration, pos,\n",
        "                       width=[subgraph_collaboration[i][j]['weight'] for i, j in subgraph_collaboration.edges()])\n",
        "nx.draw_networkx_edge_labels(subgraph_collaboration, pos, edge_labels=edge_weights, font_color='red')\n",
        "plt.show()"
      ]
    },
    {
      "cell_type": "markdown",
      "metadata": {
        "id": "ws0_H0YRz-l_"
      },
      "source": [
        "As long as this second graph contains the weights, we would like explicit what we used as weights: the final collaboration graph contains a red number inside the edge, that number is the weight of that edge and it represents how many times that authors collaborated, for example in the final plot the authors 2895256545 and 2168176072 collaborated just one time, this means that these 2 ids appear just one time in the same list under the column author in the whole dataset."
      ]
    },
    {
      "cell_type": "code",
      "execution_count": null,
      "metadata": {
        "colab": {
          "base_uri": "https://localhost:8080/"
        },
        "id": "OgcDerOJOY6s",
        "outputId": "7c47d790-d9f6-4631-fc61-6d55c33c9890"
      },
      "outputs": [
        {
          "name": "stdout",
          "output_type": "stream",
          "text": [
            "Mounted at /content/drive\n"
          ]
        }
      ],
      "source": [
        "from google.colab import drive\n",
        "drive.mount('/content/drive')"
      ]
    },
    {
      "cell_type": "code",
      "execution_count": null,
      "metadata": {
        "id": "MseWH5twHLKT"
      },
      "outputs": [],
      "source": [
        "dataset = pd.read_csv('/content/drive/MyDrive/HM5/citations_dataset_final.csv')\n",
        "dataset"
      ]
    },
    {
      "cell_type": "code",
      "execution_count": null,
      "metadata": {
        "colab": {
          "base_uri": "https://localhost:8080/",
          "height": 424
        },
        "id": "RAM566hEjjl6",
        "outputId": "6bd9f0ba-37f1-4585-968e-afc462ec43fa"
      },
      "outputs": [
        {
          "data": {
            "text/html": [
              "\n",
              "  <div id=\"df-d57f9805-52f0-401f-874a-346638a040b5\" class=\"colab-df-container\">\n",
              "    <div>\n",
              "<style scoped>\n",
              "    .dataframe tbody tr th:only-of-type {\n",
              "        vertical-align: middle;\n",
              "    }\n",
              "\n",
              "    .dataframe tbody tr th {\n",
              "        vertical-align: top;\n",
              "    }\n",
              "\n",
              "    .dataframe thead th {\n",
              "        text-align: right;\n",
              "    }\n",
              "</style>\n",
              "<table border=\"1\" class=\"dataframe\">\n",
              "  <thead>\n",
              "    <tr style=\"text-align: right;\">\n",
              "      <th></th>\n",
              "      <th>id</th>\n",
              "      <th>num_authors</th>\n",
              "      <th>authors</th>\n",
              "      <th>n_citation</th>\n",
              "      <th>reference_count</th>\n",
              "      <th>references</th>\n",
              "    </tr>\n",
              "  </thead>\n",
              "  <tbody>\n",
              "    <tr>\n",
              "      <th>0</th>\n",
              "      <td>1091</td>\n",
              "      <td>8.0</td>\n",
              "      <td>[{'name': 'Makoto Satoh', 'org': 'Shinshu Univ...</td>\n",
              "      <td>1</td>\n",
              "      <td>2.0</td>\n",
              "      <td>[2005687710, 2018037215]</td>\n",
              "    </tr>\n",
              "    <tr>\n",
              "      <th>1</th>\n",
              "      <td>1388</td>\n",
              "      <td>1.0</td>\n",
              "      <td>[{'name': 'Pranava K. Jha', 'id': 2718958994}]</td>\n",
              "      <td>1</td>\n",
              "      <td>NaN</td>\n",
              "      <td>NaN</td>\n",
              "    </tr>\n",
              "    <tr>\n",
              "      <th>2</th>\n",
              "      <td>1674</td>\n",
              "      <td>2.0</td>\n",
              "      <td>[{'name': 'G. Beale', 'org': 'Archaeological C...</td>\n",
              "      <td>1</td>\n",
              "      <td>15.0</td>\n",
              "      <td>[1535888970, 1992876689, 1993710814, 203565334...</td>\n",
              "    </tr>\n",
              "    <tr>\n",
              "      <th>3</th>\n",
              "      <td>1688</td>\n",
              "      <td>4.0</td>\n",
              "      <td>[{'name': 'Altaf Hossain', 'org': 'Department ...</td>\n",
              "      <td>6</td>\n",
              "      <td>3.0</td>\n",
              "      <td>[1560724230, 1986968751, 2156909104]</td>\n",
              "    </tr>\n",
              "    <tr>\n",
              "      <th>4</th>\n",
              "      <td>5411</td>\n",
              "      <td>4.0</td>\n",
              "      <td>[{'name': 'Rafael Álvarez', 'id': 2125293936},...</td>\n",
              "      <td>0</td>\n",
              "      <td>NaN</td>\n",
              "      <td>NaN</td>\n",
              "    </tr>\n",
              "    <tr>\n",
              "      <th>...</th>\n",
              "      <td>...</td>\n",
              "      <td>...</td>\n",
              "      <td>...</td>\n",
              "      <td>...</td>\n",
              "      <td>...</td>\n",
              "      <td>...</td>\n",
              "    </tr>\n",
              "    <tr>\n",
              "      <th>4894076</th>\n",
              "      <td>99905544</td>\n",
              "      <td>5.0</td>\n",
              "      <td>[{'name': 'S. Nandagopalan', 'org': 'Dept. of ...</td>\n",
              "      <td>2</td>\n",
              "      <td>8.0</td>\n",
              "      <td>[1562217771, 1625504505, 2015022770, 210875170...</td>\n",
              "    </tr>\n",
              "    <tr>\n",
              "      <th>4894077</th>\n",
              "      <td>99884553</td>\n",
              "      <td>1.0</td>\n",
              "      <td>[{'name': 'Koen Cornelis Hubertus Blom', 'org'...</td>\n",
              "      <td>0</td>\n",
              "      <td>NaN</td>\n",
              "      <td>NaN</td>\n",
              "    </tr>\n",
              "    <tr>\n",
              "      <th>4894078</th>\n",
              "      <td>999847014</td>\n",
              "      <td>11.0</td>\n",
              "      <td>[{'name': 'Gert Læssøe Mikkelsen', 'org': 'Ale...</td>\n",
              "      <td>1</td>\n",
              "      <td>6.0</td>\n",
              "      <td>[1940933138, 1975620021, 1978183200, 209759592...</td>\n",
              "    </tr>\n",
              "    <tr>\n",
              "      <th>4894079</th>\n",
              "      <td>9990887</td>\n",
              "      <td>2.0</td>\n",
              "      <td>[{'name': 'Rajesh Natarajan', 'org': 'Indian I...</td>\n",
              "      <td>0</td>\n",
              "      <td>NaN</td>\n",
              "      <td>NaN</td>\n",
              "    </tr>\n",
              "    <tr>\n",
              "      <th>4894080</th>\n",
              "      <td>99956490</td>\n",
              "      <td>1.0</td>\n",
              "      <td>[{'name': 'Egon Börger', 'org': 'Institut für ...</td>\n",
              "      <td>0</td>\n",
              "      <td>3.0</td>\n",
              "      <td>[2032457623, 2094542439, 2114368612]</td>\n",
              "    </tr>\n",
              "  </tbody>\n",
              "</table>\n",
              "<p>4894081 rows × 6 columns</p>\n",
              "</div>\n",
              "    <div class=\"colab-df-buttons\">\n",
              "\n",
              "  <div class=\"colab-df-container\">\n",
              "    <button class=\"colab-df-convert\" onclick=\"convertToInteractive('df-d57f9805-52f0-401f-874a-346638a040b5')\"\n",
              "            title=\"Convert this dataframe to an interactive table.\"\n",
              "            style=\"display:none;\">\n",
              "\n",
              "  <svg xmlns=\"http://www.w3.org/2000/svg\" height=\"24px\" viewBox=\"0 -960 960 960\">\n",
              "    <path d=\"M120-120v-720h720v720H120Zm60-500h600v-160H180v160Zm220 220h160v-160H400v160Zm0 220h160v-160H400v160ZM180-400h160v-160H180v160Zm440 0h160v-160H620v160ZM180-180h160v-160H180v160Zm440 0h160v-160H620v160Z\"/>\n",
              "  </svg>\n",
              "    </button>\n",
              "\n",
              "  <style>\n",
              "    .colab-df-container {\n",
              "      display:flex;\n",
              "      gap: 12px;\n",
              "    }\n",
              "\n",
              "    .colab-df-convert {\n",
              "      background-color: #E8F0FE;\n",
              "      border: none;\n",
              "      border-radius: 50%;\n",
              "      cursor: pointer;\n",
              "      display: none;\n",
              "      fill: #1967D2;\n",
              "      height: 32px;\n",
              "      padding: 0 0 0 0;\n",
              "      width: 32px;\n",
              "    }\n",
              "\n",
              "    .colab-df-convert:hover {\n",
              "      background-color: #E2EBFA;\n",
              "      box-shadow: 0px 1px 2px rgba(60, 64, 67, 0.3), 0px 1px 3px 1px rgba(60, 64, 67, 0.15);\n",
              "      fill: #174EA6;\n",
              "    }\n",
              "\n",
              "    .colab-df-buttons div {\n",
              "      margin-bottom: 4px;\n",
              "    }\n",
              "\n",
              "    [theme=dark] .colab-df-convert {\n",
              "      background-color: #3B4455;\n",
              "      fill: #D2E3FC;\n",
              "    }\n",
              "\n",
              "    [theme=dark] .colab-df-convert:hover {\n",
              "      background-color: #434B5C;\n",
              "      box-shadow: 0px 1px 3px 1px rgba(0, 0, 0, 0.15);\n",
              "      filter: drop-shadow(0px 1px 2px rgba(0, 0, 0, 0.3));\n",
              "      fill: #FFFFFF;\n",
              "    }\n",
              "  </style>\n",
              "\n",
              "    <script>\n",
              "      const buttonEl =\n",
              "        document.querySelector('#df-d57f9805-52f0-401f-874a-346638a040b5 button.colab-df-convert');\n",
              "      buttonEl.style.display =\n",
              "        google.colab.kernel.accessAllowed ? 'block' : 'none';\n",
              "\n",
              "      async function convertToInteractive(key) {\n",
              "        const element = document.querySelector('#df-d57f9805-52f0-401f-874a-346638a040b5');\n",
              "        const dataTable =\n",
              "          await google.colab.kernel.invokeFunction('convertToInteractive',\n",
              "                                                    [key], {});\n",
              "        if (!dataTable) return;\n",
              "\n",
              "        const docLinkHtml = 'Like what you see? Visit the ' +\n",
              "          '<a target=\"_blank\" href=https://colab.research.google.com/notebooks/data_table.ipynb>data table notebook</a>'\n",
              "          + ' to learn more about interactive tables.';\n",
              "        element.innerHTML = '';\n",
              "        dataTable['output_type'] = 'display_data';\n",
              "        await google.colab.output.renderOutput(dataTable, element);\n",
              "        const docLink = document.createElement('div');\n",
              "        docLink.innerHTML = docLinkHtml;\n",
              "        element.appendChild(docLink);\n",
              "      }\n",
              "    </script>\n",
              "  </div>\n",
              "\n",
              "\n",
              "<div id=\"df-327bc2fe-0156-40ef-8b54-78cb0e0e1fb8\">\n",
              "  <button class=\"colab-df-quickchart\" onclick=\"quickchart('df-327bc2fe-0156-40ef-8b54-78cb0e0e1fb8')\"\n",
              "            title=\"Suggest charts\"\n",
              "            style=\"display:none;\">\n",
              "\n",
              "<svg xmlns=\"http://www.w3.org/2000/svg\" height=\"24px\"viewBox=\"0 0 24 24\"\n",
              "     width=\"24px\">\n",
              "    <g>\n",
              "        <path d=\"M19 3H5c-1.1 0-2 .9-2 2v14c0 1.1.9 2 2 2h14c1.1 0 2-.9 2-2V5c0-1.1-.9-2-2-2zM9 17H7v-7h2v7zm4 0h-2V7h2v10zm4 0h-2v-4h2v4z\"/>\n",
              "    </g>\n",
              "</svg>\n",
              "  </button>\n",
              "\n",
              "<style>\n",
              "  .colab-df-quickchart {\n",
              "      --bg-color: #E8F0FE;\n",
              "      --fill-color: #1967D2;\n",
              "      --hover-bg-color: #E2EBFA;\n",
              "      --hover-fill-color: #174EA6;\n",
              "      --disabled-fill-color: #AAA;\n",
              "      --disabled-bg-color: #DDD;\n",
              "  }\n",
              "\n",
              "  [theme=dark] .colab-df-quickchart {\n",
              "      --bg-color: #3B4455;\n",
              "      --fill-color: #D2E3FC;\n",
              "      --hover-bg-color: #434B5C;\n",
              "      --hover-fill-color: #FFFFFF;\n",
              "      --disabled-bg-color: #3B4455;\n",
              "      --disabled-fill-color: #666;\n",
              "  }\n",
              "\n",
              "  .colab-df-quickchart {\n",
              "    background-color: var(--bg-color);\n",
              "    border: none;\n",
              "    border-radius: 50%;\n",
              "    cursor: pointer;\n",
              "    display: none;\n",
              "    fill: var(--fill-color);\n",
              "    height: 32px;\n",
              "    padding: 0;\n",
              "    width: 32px;\n",
              "  }\n",
              "\n",
              "  .colab-df-quickchart:hover {\n",
              "    background-color: var(--hover-bg-color);\n",
              "    box-shadow: 0 1px 2px rgba(60, 64, 67, 0.3), 0 1px 3px 1px rgba(60, 64, 67, 0.15);\n",
              "    fill: var(--button-hover-fill-color);\n",
              "  }\n",
              "\n",
              "  .colab-df-quickchart-complete:disabled,\n",
              "  .colab-df-quickchart-complete:disabled:hover {\n",
              "    background-color: var(--disabled-bg-color);\n",
              "    fill: var(--disabled-fill-color);\n",
              "    box-shadow: none;\n",
              "  }\n",
              "\n",
              "  .colab-df-spinner {\n",
              "    border: 2px solid var(--fill-color);\n",
              "    border-color: transparent;\n",
              "    border-bottom-color: var(--fill-color);\n",
              "    animation:\n",
              "      spin 1s steps(1) infinite;\n",
              "  }\n",
              "\n",
              "  @keyframes spin {\n",
              "    0% {\n",
              "      border-color: transparent;\n",
              "      border-bottom-color: var(--fill-color);\n",
              "      border-left-color: var(--fill-color);\n",
              "    }\n",
              "    20% {\n",
              "      border-color: transparent;\n",
              "      border-left-color: var(--fill-color);\n",
              "      border-top-color: var(--fill-color);\n",
              "    }\n",
              "    30% {\n",
              "      border-color: transparent;\n",
              "      border-left-color: var(--fill-color);\n",
              "      border-top-color: var(--fill-color);\n",
              "      border-right-color: var(--fill-color);\n",
              "    }\n",
              "    40% {\n",
              "      border-color: transparent;\n",
              "      border-right-color: var(--fill-color);\n",
              "      border-top-color: var(--fill-color);\n",
              "    }\n",
              "    60% {\n",
              "      border-color: transparent;\n",
              "      border-right-color: var(--fill-color);\n",
              "    }\n",
              "    80% {\n",
              "      border-color: transparent;\n",
              "      border-right-color: var(--fill-color);\n",
              "      border-bottom-color: var(--fill-color);\n",
              "    }\n",
              "    90% {\n",
              "      border-color: transparent;\n",
              "      border-bottom-color: var(--fill-color);\n",
              "    }\n",
              "  }\n",
              "</style>\n",
              "\n",
              "  <script>\n",
              "    async function quickchart(key) {\n",
              "      const quickchartButtonEl =\n",
              "        document.querySelector('#' + key + ' button');\n",
              "      quickchartButtonEl.disabled = true;  // To prevent multiple clicks.\n",
              "      quickchartButtonEl.classList.add('colab-df-spinner');\n",
              "      try {\n",
              "        const charts = await google.colab.kernel.invokeFunction(\n",
              "            'suggestCharts', [key], {});\n",
              "      } catch (error) {\n",
              "        console.error('Error during call to suggestCharts:', error);\n",
              "      }\n",
              "      quickchartButtonEl.classList.remove('colab-df-spinner');\n",
              "      quickchartButtonEl.classList.add('colab-df-quickchart-complete');\n",
              "    }\n",
              "    (() => {\n",
              "      let quickchartButtonEl =\n",
              "        document.querySelector('#df-327bc2fe-0156-40ef-8b54-78cb0e0e1fb8 button');\n",
              "      quickchartButtonEl.style.display =\n",
              "        google.colab.kernel.accessAllowed ? 'block' : 'none';\n",
              "    })();\n",
              "  </script>\n",
              "</div>\n",
              "    </div>\n",
              "  </div>\n"
            ],
            "text/plain": [
              "                id  num_authors  \\\n",
              "0             1091          8.0   \n",
              "1             1388          1.0   \n",
              "2             1674          2.0   \n",
              "3             1688          4.0   \n",
              "4             5411          4.0   \n",
              "...            ...          ...   \n",
              "4894076   99905544          5.0   \n",
              "4894077   99884553          1.0   \n",
              "4894078  999847014         11.0   \n",
              "4894079    9990887          2.0   \n",
              "4894080   99956490          1.0   \n",
              "\n",
              "                                                   authors  n_citation  \\\n",
              "0        [{'name': 'Makoto Satoh', 'org': 'Shinshu Univ...           1   \n",
              "1           [{'name': 'Pranava K. Jha', 'id': 2718958994}]           1   \n",
              "2        [{'name': 'G. Beale', 'org': 'Archaeological C...           1   \n",
              "3        [{'name': 'Altaf Hossain', 'org': 'Department ...           6   \n",
              "4        [{'name': 'Rafael Álvarez', 'id': 2125293936},...           0   \n",
              "...                                                    ...         ...   \n",
              "4894076  [{'name': 'S. Nandagopalan', 'org': 'Dept. of ...           2   \n",
              "4894077  [{'name': 'Koen Cornelis Hubertus Blom', 'org'...           0   \n",
              "4894078  [{'name': 'Gert Læssøe Mikkelsen', 'org': 'Ale...           1   \n",
              "4894079  [{'name': 'Rajesh Natarajan', 'org': 'Indian I...           0   \n",
              "4894080  [{'name': 'Egon Börger', 'org': 'Institut für ...           0   \n",
              "\n",
              "         reference_count                                         references  \n",
              "0                    2.0                           [2005687710, 2018037215]  \n",
              "1                    NaN                                                NaN  \n",
              "2                   15.0  [1535888970, 1992876689, 1993710814, 203565334...  \n",
              "3                    3.0               [1560724230, 1986968751, 2156909104]  \n",
              "4                    NaN                                                NaN  \n",
              "...                  ...                                                ...  \n",
              "4894076              8.0  [1562217771, 1625504505, 2015022770, 210875170...  \n",
              "4894077              NaN                                                NaN  \n",
              "4894078              6.0  [1940933138, 1975620021, 1978183200, 209759592...  \n",
              "4894079              NaN                                                NaN  \n",
              "4894080              3.0               [2032457623, 2094542439, 2114368612]  \n",
              "\n",
              "[4894081 rows x 6 columns]"
            ]
          },
          "execution_count": 4,
          "metadata": {},
          "output_type": "execute_result"
        }
      ],
      "source": [
        "dataset"
      ]
    },
    {
      "cell_type": "markdown",
      "metadata": {
        "id": "hdS7o-q-CP1d"
      },
      "source": [
        "# **[Q2] Controlling system**"
      ]
    },
    {
      "cell_type": "markdown",
      "metadata": {
        "id": "Sc1bZmp4k5sO"
      },
      "source": [
        "The objective is to establish a control system where the user will be presented with a menu containing various functionalities. The user should have the ability to choose from five different functionalities, which will be implemented in the upcoming two sections. This system is designed to enable users to query and access functionalities of interest"
      ]
    },
    {
      "cell_type": "markdown",
      "metadata": {
        "id": "zomYnwpCjqkN"
      },
      "source": [
        "# suggestion: remove and make alltogether backend and frontend as I already \"did\" some frontend application (and remove 2.1 backend implemented text cell: ONLY TITLE)"
      ]
    },
    {
      "cell_type": "markdown",
      "metadata": {
        "id": "Q0ejkZyYCc7k"
      },
      "source": [
        "## **2.1 Backend implementation**"
      ]
    },
    {
      "cell_type": "markdown",
      "metadata": {
        "id": "ySraxKu4k-oC"
      },
      "source": [
        " In this section we implement the different functionalities as classes and we can find the implementation in the corrispondent python files"
      ]
    },
    {
      "cell_type": "markdown",
      "metadata": {
        "id": "7KnxtCYQCRNz"
      },
      "source": [
        "### **Functionality 1 - Graph's features**\n",
        "\n",
        "This function should examine a graph and report on some of its features.\n",
        "In particular we're interested in the: **The number of the nodes**, **number of edges**, **density**, **degree distribution**, **average degree**, **graph hubs** and finally a boolean values if the graph is **dense** or sparse.\n",
        "\n",
        "The particolar threshold of density we consider `0.6` as moltiplicative factor as, typically, NOT dense graph has really lower number of edges r.t.w. the maximum number of edges. We also like this assessment as we consider it logical\n",
        "\n",
        "we can address the functionalities rispectivly calling the following methods      \n",
        "> nnodes\n",
        "\n",
        "> nedges\n",
        "\n",
        "> density\n",
        "\n",
        "> degreedistr\n",
        "\n",
        "> averagedegree\n",
        "\n",
        "> hubs\n",
        "\n",
        "> isdense\n"
      ]
    },
    {
      "cell_type": "code",
      "execution_count": null,
      "metadata": {
        "id": "_jqaVurEipVD"
      },
      "outputs": [],
      "source": [
        "from feature1 import GetFeature1\n",
        "g = GetFeature1(G, 'fake')"
      ]
    },
    {
      "cell_type": "code",
      "execution_count": null,
      "metadata": {
        "colab": {
          "base_uri": "https://localhost:8080/"
        },
        "id": "SFsvZHNxQdKh",
        "outputId": "8241b377-0b3e-4d13-aba3-ed2bb9a57bd4"
      },
      "outputs": [
        {
          "data": {
            "text/plain": [
              "10000"
            ]
          },
          "execution_count": 64,
          "metadata": {},
          "output_type": "execute_result"
        }
      ],
      "source": [
        "# As asked only 10000 nodes were selected among all nodes\n",
        "g.nnodes"
      ]
    },
    {
      "cell_type": "code",
      "execution_count": null,
      "metadata": {
        "colab": {
          "base_uri": "https://localhost:8080/"
        },
        "id": "meAYLaN8QfCs",
        "outputId": "35c5eb08-9d40-42e8-9b76-0c0b514f6e45"
      },
      "outputs": [
        {
          "data": {
            "text/plain": [
              "55150"
            ]
          },
          "execution_count": 65,
          "metadata": {},
          "output_type": "execute_result"
        }
      ],
      "source": [
        "# Calculating the number of edges\n",
        "g.nedges"
      ]
    },
    {
      "cell_type": "code",
      "execution_count": null,
      "metadata": {
        "colab": {
          "base_uri": "https://localhost:8080/"
        },
        "id": "hTdUWoZYQho1",
        "outputId": "e0778160-b91b-4f20-b6a1-68c0ed80a943"
      },
      "outputs": [
        {
          "data": {
            "text/plain": [
              "0.00055"
            ]
          },
          "execution_count": 67,
          "metadata": {},
          "output_type": "execute_result"
        }
      ],
      "source": [
        "round(g.density,5)"
      ]
    },
    {
      "cell_type": "code",
      "execution_count": null,
      "metadata": {
        "colab": {
          "base_uri": "https://localhost:8080/",
          "height": 430
        },
        "id": "nAFA3qwuQy0X",
        "outputId": "9306c36e-2a23-4a18-efac-1ef264924f57"
      },
      "outputs": [
        {
          "data": {
            "image/png": "[encoded data removed]",
            "text/plain": [
              "<Figure size 640x480 with 1 Axes>"
            ]
          },
          "metadata": {},
          "output_type": "display_data"
        }
      ],
      "source": [
        "# We have a very raugh representation of the degree distribution\n",
        "# We find the number of nodes on the x label and the density on the y \"axis\"\n",
        "g.degreedistr"
      ]
    },
    {
      "cell_type": "markdown",
      "metadata": {
        "id": "KZ3SOLqtQxPM"
      },
      "source": [
        "Recalling that  a hub in graph theory refers to a node with a high degree, connected to a large number of other nodes in the network. They are often identified based on their high degree centrality, which quantifies the number of connections a node has.\n",
        "\n",
        "Some nodes from the list of hubs are printed."
      ]
    },
    {
      "cell_type": "code",
      "execution_count": null,
      "metadata": {
        "colab": {
          "base_uri": "https://localhost:8080/"
        },
        "id": "qj2T5ON0QKDN",
        "outputId": "e988edbc-4b91-4096-ad62-cae2f33cbcac"
      },
      "outputs": [
        {
          "data": {
            "text/plain": [
              "['2128749719', '1772076007', '2167050549', '2141167937', '2108767394']"
            ]
          },
          "execution_count": 23,
          "metadata": {},
          "output_type": "execute_result"
        }
      ],
      "source": [
        "# We select some random nodes which are hubs\n",
        "g.hubs[450:455] # are 456 in total"
      ]
    },
    {
      "cell_type": "code",
      "execution_count": null,
      "metadata": {
        "colab": {
          "base_uri": "https://localhost:8080/"
        },
        "id": "CIhyP1EOkeH_",
        "outputId": "0a4d8ce0-66d0-4ecf-e7ab-7082ed1333ad"
      },
      "outputs": [
        {
          "data": {
            "text/plain": [
              "False"
            ]
          },
          "execution_count": 66,
          "metadata": {},
          "output_type": "execute_result"
        }
      ],
      "source": [
        "g.isdense"
      ]
    },
    {
      "cell_type": "markdown",
      "metadata": {
        "id": "hsayMTXdPG0R"
      },
      "source": [
        "We found the density through networkx, but levaraging the following formula for the density of a graph G with $n$ nodes and $m$:\n",
        "\n",
        "$$D=\\dfrac{2m}{n⋅(n−1)}$$\n",
        "\n",
        "For our graph with 10.000 nodes and 55.150 edges we have:\n",
        "\n",
        "$$D=\\dfrac{2\\cdot55.150}{10.000⋅(10.000−1)}\\approx 0.0011$$​\n",
        "\n",
        "whose density is really far off for any reasonable threshold that a graph is dense"
      ]
    },
    {
      "cell_type": "markdown",
      "metadata": {
        "id": "3YcZ4ol_iefI"
      },
      "source": [
        "### **Functionality 2 - Nodes' contribution**\n",
        "\n",
        "Using this functionality, we can identify the papers/authors who have significantly contributed to this field of study. In order to achieve a more complete analysis we will examine the graph using various centrality measurements such as **betweeness**, **pageRank**, **closeness**, **centrality**.\n",
        "\n",
        "We can call it as methods of aour class through the following instructions:\n",
        "### **nodecentrality**\n",
        "\n",
        "The betweenness centrality B(x) of a node $x$ is calculated based on the number of shortest paths that pass through $x$, normalized by the total number of shortest paths in the network:\n",
        "\n",
        "$$B(x)=∑_{s\\neq x \\neq t}\\dfrac{σ_{st}(x)}{σ_{st}}$$\n",
        "\n",
        "Where:\n",
        "\n",
        "  $σ_{st}​$ is the total number of shortest paths from node $s$ to node $t$.\n",
        "\n",
        "  $σ_{st}​(x)$ is the number of those paths that pass through node $x$.\n",
        "\n",
        "\n",
        "### **pagerank**\n",
        "\n",
        "Pagerank is a link analysis algorithm used by search engines to assign a numerical weight to each element of a hyperlinked set of documents, such as the World Wide Web, with the purpose of measuring its relative importance within the set\n",
        "\n",
        "### **closeness**\n",
        "\n",
        "The closeness centrality is a measure of a node's centrality within a graph, which gauges how close a node is to all other nodes. For an undirected graph, the closeness centrality (C(v)) of a node v is defined as the reciprocal of the sum of the shortest distances from v to all other nodes in the graph:\n",
        "\n",
        "$$\\displaystyle C(v)=\\dfrac{1}{\\sum_{u}d(v,u)}$$\n",
        "\n",
        "Here, $d(v,u)$ represents the shortest distance between nodes v and u. For a directed graph, closeness centrality is generally defined similarly, but considering only reachable or incoming nodes.\n",
        "\n",
        "### **degreecentrality**\n",
        "The degree centrality D(x) of a node $x$ is the number of edges incident to that node, normalized by the total number of nodes in the network minus one:\n",
        "\n",
        "$$D(x)=\\dfrac{\\text{Number of edges incident to x}}{N-1}​$$\n",
        "\n",
        "where $N$ is the total number of nodes in the network."
      ]
    },
    {
      "cell_type": "code",
      "execution_count": null,
      "metadata": {
        "id": "mIwyjmP18IJ3"
      },
      "outputs": [],
      "source": [
        "from feature2 import GetFeature2"
      ]
    },
    {
      "cell_type": "markdown",
      "metadata": {
        "id": "1hgHxYOAR_5q"
      },
      "source": [
        "#### Example 1"
      ]
    },
    {
      "cell_type": "code",
      "execution_count": null,
      "metadata": {
        "colab": {
          "base_uri": "https://localhost:8080/"
        },
        "id": "pM_HkgKlRBhZ",
        "outputId": "7fef50ab-bcd1-4740-afac-a21d95ed66ab"
      },
      "outputs": [
        {
          "data": {
            "text/plain": [
              "0.0"
            ]
          },
          "execution_count": 69,
          "metadata": {},
          "output_type": "execute_result"
        }
      ],
      "source": [
        "h = GetFeature2(subgraph, '2151103935', 'citation subgraph')\n",
        "h.closeness"
      ]
    },
    {
      "cell_type": "code",
      "execution_count": null,
      "metadata": {
        "colab": {
          "base_uri": "https://localhost:8080/"
        },
        "id": "TQpX04x0Q-pK",
        "outputId": "bf7b4477-d203-4df9-e11f-ddf07000fc6c"
      },
      "outputs": [
        {
          "data": {
            "text/plain": [
              "0.03139"
            ]
          },
          "execution_count": 70,
          "metadata": {},
          "output_type": "execute_result"
        }
      ],
      "source": [
        "round(h.pagerank,5)"
      ]
    },
    {
      "cell_type": "code",
      "execution_count": null,
      "metadata": {
        "colab": {
          "base_uri": "https://localhost:8080/"
        },
        "id": "p7MZ30tj8yJZ",
        "outputId": "86fff642-93fd-43a1-eed6-095877e78de9"
      },
      "outputs": [
        {
          "data": {
            "text/plain": [
              "0.0"
            ]
          },
          "execution_count": 46,
          "metadata": {},
          "output_type": "execute_result"
        }
      ],
      "source": [
        "h.nodecentrality"
      ]
    },
    {
      "cell_type": "code",
      "execution_count": null,
      "metadata": {
        "colab": {
          "base_uri": "https://localhost:8080/"
        },
        "id": "XLr_ie9-U0CZ",
        "outputId": "0605b874-27c8-4e80-c2bf-bd01713ea297"
      },
      "outputs": [
        {
          "data": {
            "text/plain": [
              "1.0"
            ]
          },
          "execution_count": 47,
          "metadata": {},
          "output_type": "execute_result"
        }
      ],
      "source": [
        "h.degreecentrality"
      ]
    },
    {
      "cell_type": "markdown",
      "metadata": {
        "id": "rnwT6ZsTSCLC"
      },
      "source": [
        "#### Example 2"
      ]
    },
    {
      "cell_type": "code",
      "execution_count": null,
      "metadata": {
        "colab": {
          "base_uri": "https://localhost:8080/"
        },
        "id": "3Nmc1caZSEz1",
        "outputId": "c469719c-f5e8-4c3d-85d7-c4c214870858"
      },
      "outputs": [
        {
          "data": {
            "text/plain": [
              "0.11765"
            ]
          },
          "execution_count": 76,
          "metadata": {},
          "output_type": "execute_result"
        }
      ],
      "source": [
        "h1 = GetFeature2(subgraph, '1676552347', 'citation subgraph')\n",
        "round(h1.closeness,5)\n"
      ]
    },
    {
      "cell_type": "code",
      "execution_count": null,
      "metadata": {
        "colab": {
          "base_uri": "https://localhost:8080/"
        },
        "id": "lit4APeOST7x",
        "outputId": "ac6dc6ae-45d5-4c7e-ef5d-80dd2fd16a03"
      },
      "outputs": [
        {
          "data": {
            "text/plain": [
              "0.03997"
            ]
          },
          "execution_count": 77,
          "metadata": {},
          "output_type": "execute_result"
        }
      ],
      "source": [
        "round(h1.pagerank,5)"
      ]
    },
    {
      "cell_type": "code",
      "execution_count": null,
      "metadata": {
        "colab": {
          "base_uri": "https://localhost:8080/"
        },
        "id": "9GSJE_8IST7z",
        "outputId": "d7b18201-8050-4327-c44d-049bf132c238"
      },
      "outputs": [
        {
          "data": {
            "text/plain": [
              "0.00123"
            ]
          },
          "execution_count": 80,
          "metadata": {},
          "output_type": "execute_result"
        }
      ],
      "source": [
        "round(h1.nodecentrality,5)"
      ]
    },
    {
      "cell_type": "code",
      "execution_count": null,
      "metadata": {
        "colab": {
          "base_uri": "https://localhost:8080/"
        },
        "id": "9ZSxpRBNST7z",
        "outputId": "06de149e-0027-42bb-c855-ec82130f0685"
      },
      "outputs": [
        {
          "data": {
            "text/plain": [
              "0.35294"
            ]
          },
          "execution_count": 82,
          "metadata": {},
          "output_type": "execute_result"
        }
      ],
      "source": [
        "round(h1.degreecentrality,5)"
      ]
    },
    {
      "cell_type": "markdown",
      "metadata": {
        "id": "Ueodzu9H9z2O"
      },
      "source": [
        "### **Functionality 3 - Shortest ordered walk**\n",
        "\n",
        "In this functionality we're asked to find the shortest orderd walks. We have in input: the graph data, a sequence of authors_a and initial and a final node and a number N. As output we want  to get from author a_1 to author a_n and the papers you need to cross to realize this walk.\n",
        "\n",
        "It returns a message when the graph is not fully connected neither exists a shortest path between two specified nodes.\n",
        "\n",
        "We decided to return the shortest path also when a list is not given.\n",
        "\n",
        "In the specific case of the **Collaboration graph**, as it is not so dense, we decide non to use this parameter for the sake of visualization as it would be of no interest.\n",
        "\n",
        "**N is a parameter to filter the first authors with respect to the number of papers they have written**. Furthermore the choice of weights in the collaboration graphs was free and we decided to pick the number of collaborations.\n",
        "\n",
        "So in order to choose the top N authors we decide to extract the exact number of papers for each author from the real dataset, and not approximated from the graph. Indeed summing the outgoing edges would at least exclude two hihgly probably cases:\n",
        "\n",
        "1. articles publishes solitarly\n",
        "2. the case in which an article was written by 3+ hands there would be 2 connections but the article would still be one\n",
        "\n",
        "\n",
        "You can find the selection of the top authors in the followings cell of code\n"
      ]
    },
    {
      "cell_type": "markdown",
      "metadata": {
        "id": "-SnkNg6oF6as"
      },
      "source": [
        "#### find the authors with the higher number of articles published"
      ]
    },
    {
      "cell_type": "code",
      "execution_count": null,
      "metadata": {
        "colab": {
          "base_uri": "https://localhost:8080/",
          "height": 424
        },
        "id": "1uvBGNeFGCfr",
        "outputId": "33f48776-d7c4-4617-e405-8e73103df250"
      },
      "outputs": [
        {
          "data": {
            "text/html": [
              "\n",
              "  <div id=\"df-67758018-0514-4753-950d-09efdcf6a4d6\" class=\"colab-df-container\">\n",
              "    <div>\n",
              "<style scoped>\n",
              "    .dataframe tbody tr th:only-of-type {\n",
              "        vertical-align: middle;\n",
              "    }\n",
              "\n",
              "    .dataframe tbody tr th {\n",
              "        vertical-align: top;\n",
              "    }\n",
              "\n",
              "    .dataframe thead th {\n",
              "        text-align: right;\n",
              "    }\n",
              "</style>\n",
              "<table border=\"1\" class=\"dataframe\">\n",
              "  <thead>\n",
              "    <tr style=\"text-align: right;\">\n",
              "      <th></th>\n",
              "      <th>id</th>\n",
              "      <th>authors</th>\n",
              "    </tr>\n",
              "  </thead>\n",
              "  <tbody>\n",
              "    <tr>\n",
              "      <th>2937610</th>\n",
              "      <td>2151103935</td>\n",
              "      <td>[{'name': 'David G. Lowe', 'org': 'Computer Sc...</td>\n",
              "    </tr>\n",
              "    <tr>\n",
              "      <th>4088311</th>\n",
              "      <td>2911964244</td>\n",
              "      <td>[{'name': 'Leo Breiman', 'org': 'Statistics De...</td>\n",
              "    </tr>\n",
              "    <tr>\n",
              "      <th>2691785</th>\n",
              "      <td>2153635508</td>\n",
              "      <td>[{'name': 'Chih-Chung Chang', 'org': 'National...</td>\n",
              "    </tr>\n",
              "    <tr>\n",
              "      <th>688041</th>\n",
              "      <td>1791587663</td>\n",
              "      <td>[{'name': 'Fred D. Davis', 'org': 'Computer an...</td>\n",
              "    </tr>\n",
              "    <tr>\n",
              "      <th>2313078</th>\n",
              "      <td>2119821739</td>\n",
              "      <td>[{'name': 'Corinna Cortes', 'org': 'AT&amp;T Bell ...</td>\n",
              "    </tr>\n",
              "    <tr>\n",
              "      <th>...</th>\n",
              "      <td>...</td>\n",
              "      <td>...</td>\n",
              "    </tr>\n",
              "    <tr>\n",
              "      <th>1443467</th>\n",
              "      <td>2032881500</td>\n",
              "      <td>[{'name': 'Tong Zhu', 'org': 'Dept. of Comput....</td>\n",
              "    </tr>\n",
              "    <tr>\n",
              "      <th>1443452</th>\n",
              "      <td>2032879541</td>\n",
              "      <td>[{'name': 'John Ayoade', 'org': 'American Univ...</td>\n",
              "    </tr>\n",
              "    <tr>\n",
              "      <th>1443458</th>\n",
              "      <td>2032880699</td>\n",
              "      <td>[{'name': 'Adrian Rusu', 'org': 'Dept. of Comp...</td>\n",
              "    </tr>\n",
              "    <tr>\n",
              "      <th>1443466</th>\n",
              "      <td>2032881482</td>\n",
              "      <td>[{'name': 'Óscar J. Rubio', 'org': 'Aragon In...</td>\n",
              "    </tr>\n",
              "    <tr>\n",
              "      <th>4894080</th>\n",
              "      <td>99956490</td>\n",
              "      <td>[{'name': 'Egon Börger', 'org': 'Institut für ...</td>\n",
              "    </tr>\n",
              "  </tbody>\n",
              "</table>\n",
              "<p>3777107 rows × 2 columns</p>\n",
              "</div>\n",
              "    <div class=\"colab-df-buttons\">\n",
              "\n",
              "  <div class=\"colab-df-container\">\n",
              "    <button class=\"colab-df-convert\" onclick=\"convertToInteractive('df-67758018-0514-4753-950d-09efdcf6a4d6')\"\n",
              "            title=\"Convert this dataframe to an interactive table.\"\n",
              "            style=\"display:none;\">\n",
              "\n",
              "  <svg xmlns=\"http://www.w3.org/2000/svg\" height=\"24px\" viewBox=\"0 -960 960 960\">\n",
              "    <path d=\"M120-120v-720h720v720H120Zm60-500h600v-160H180v160Zm220 220h160v-160H400v160Zm0 220h160v-160H400v160ZM180-400h160v-160H180v160Zm440 0h160v-160H620v160ZM180-180h160v-160H180v160Zm440 0h160v-160H620v160Z\"/>\n",
              "  </svg>\n",
              "    </button>\n",
              "\n",
              "  <style>\n",
              "    .colab-df-container {\n",
              "      display:flex;\n",
              "      gap: 12px;\n",
              "    }\n",
              "\n",
              "    .colab-df-convert {\n",
              "      background-color: #E8F0FE;\n",
              "      border: none;\n",
              "      border-radius: 50%;\n",
              "      cursor: pointer;\n",
              "      display: none;\n",
              "      fill: #1967D2;\n",
              "      height: 32px;\n",
              "      padding: 0 0 0 0;\n",
              "      width: 32px;\n",
              "    }\n",
              "\n",
              "    .colab-df-convert:hover {\n",
              "      background-color: #E2EBFA;\n",
              "      box-shadow: 0px 1px 2px rgba(60, 64, 67, 0.3), 0px 1px 3px 1px rgba(60, 64, 67, 0.15);\n",
              "      fill: #174EA6;\n",
              "    }\n",
              "\n",
              "    .colab-df-buttons div {\n",
              "      margin-bottom: 4px;\n",
              "    }\n",
              "\n",
              "    [theme=dark] .colab-df-convert {\n",
              "      background-color: #3B4455;\n",
              "      fill: #D2E3FC;\n",
              "    }\n",
              "\n",
              "    [theme=dark] .colab-df-convert:hover {\n",
              "      background-color: #434B5C;\n",
              "      box-shadow: 0px 1px 3px 1px rgba(0, 0, 0, 0.15);\n",
              "      filter: drop-shadow(0px 1px 2px rgba(0, 0, 0, 0.3));\n",
              "      fill: #FFFFFF;\n",
              "    }\n",
              "  </style>\n",
              "\n",
              "    <script>\n",
              "      const buttonEl =\n",
              "        document.querySelector('#df-67758018-0514-4753-950d-09efdcf6a4d6 button.colab-df-convert');\n",
              "      buttonEl.style.display =\n",
              "        google.colab.kernel.accessAllowed ? 'block' : 'none';\n",
              "\n",
              "      async function convertToInteractive(key) {\n",
              "        const element = document.querySelector('#df-67758018-0514-4753-950d-09efdcf6a4d6');\n",
              "        const dataTable =\n",
              "          await google.colab.kernel.invokeFunction('convertToInteractive',\n",
              "                                                    [key], {});\n",
              "        if (!dataTable) return;\n",
              "\n",
              "        const docLinkHtml = 'Like what you see? Visit the ' +\n",
              "          '<a target=\"_blank\" href=https://colab.research.google.com/notebooks/data_table.ipynb>data table notebook</a>'\n",
              "          + ' to learn more about interactive tables.';\n",
              "        element.innerHTML = '';\n",
              "        dataTable['output_type'] = 'display_data';\n",
              "        await google.colab.output.renderOutput(dataTable, element);\n",
              "        const docLink = document.createElement('div');\n",
              "        docLink.innerHTML = docLinkHtml;\n",
              "        element.appendChild(docLink);\n",
              "      }\n",
              "    </script>\n",
              "  </div>\n",
              "\n",
              "\n",
              "<div id=\"df-e0075b5b-fa7a-4cd0-b842-eb0a547c17e9\">\n",
              "  <button class=\"colab-df-quickchart\" onclick=\"quickchart('df-e0075b5b-fa7a-4cd0-b842-eb0a547c17e9')\"\n",
              "            title=\"Suggest charts\"\n",
              "            style=\"display:none;\">\n",
              "\n",
              "<svg xmlns=\"http://www.w3.org/2000/svg\" height=\"24px\"viewBox=\"0 0 24 24\"\n",
              "     width=\"24px\">\n",
              "    <g>\n",
              "        <path d=\"M19 3H5c-1.1 0-2 .9-2 2v14c0 1.1.9 2 2 2h14c1.1 0 2-.9 2-2V5c0-1.1-.9-2-2-2zM9 17H7v-7h2v7zm4 0h-2V7h2v10zm4 0h-2v-4h2v4z\"/>\n",
              "    </g>\n",
              "</svg>\n",
              "  </button>\n",
              "\n",
              "<style>\n",
              "  .colab-df-quickchart {\n",
              "      --bg-color: #E8F0FE;\n",
              "      --fill-color: #1967D2;\n",
              "      --hover-bg-color: #E2EBFA;\n",
              "      --hover-fill-color: #174EA6;\n",
              "      --disabled-fill-color: #AAA;\n",
              "      --disabled-bg-color: #DDD;\n",
              "  }\n",
              "\n",
              "  [theme=dark] .colab-df-quickchart {\n",
              "      --bg-color: #3B4455;\n",
              "      --fill-color: #D2E3FC;\n",
              "      --hover-bg-color: #434B5C;\n",
              "      --hover-fill-color: #FFFFFF;\n",
              "      --disabled-bg-color: #3B4455;\n",
              "      --disabled-fill-color: #666;\n",
              "  }\n",
              "\n",
              "  .colab-df-quickchart {\n",
              "    background-color: var(--bg-color);\n",
              "    border: none;\n",
              "    border-radius: 50%;\n",
              "    cursor: pointer;\n",
              "    display: none;\n",
              "    fill: var(--fill-color);\n",
              "    height: 32px;\n",
              "    padding: 0;\n",
              "    width: 32px;\n",
              "  }\n",
              "\n",
              "  .colab-df-quickchart:hover {\n",
              "    background-color: var(--hover-bg-color);\n",
              "    box-shadow: 0 1px 2px rgba(60, 64, 67, 0.3), 0 1px 3px 1px rgba(60, 64, 67, 0.15);\n",
              "    fill: var(--button-hover-fill-color);\n",
              "  }\n",
              "\n",
              "  .colab-df-quickchart-complete:disabled,\n",
              "  .colab-df-quickchart-complete:disabled:hover {\n",
              "    background-color: var(--disabled-bg-color);\n",
              "    fill: var(--disabled-fill-color);\n",
              "    box-shadow: none;\n",
              "  }\n",
              "\n",
              "  .colab-df-spinner {\n",
              "    border: 2px solid var(--fill-color);\n",
              "    border-color: transparent;\n",
              "    border-bottom-color: var(--fill-color);\n",
              "    animation:\n",
              "      spin 1s steps(1) infinite;\n",
              "  }\n",
              "\n",
              "  @keyframes spin {\n",
              "    0% {\n",
              "      border-color: transparent;\n",
              "      border-bottom-color: var(--fill-color);\n",
              "      border-left-color: var(--fill-color);\n",
              "    }\n",
              "    20% {\n",
              "      border-color: transparent;\n",
              "      border-left-color: var(--fill-color);\n",
              "      border-top-color: var(--fill-color);\n",
              "    }\n",
              "    30% {\n",
              "      border-color: transparent;\n",
              "      border-left-color: var(--fill-color);\n",
              "      border-top-color: var(--fill-color);\n",
              "      border-right-color: var(--fill-color);\n",
              "    }\n",
              "    40% {\n",
              "      border-color: transparent;\n",
              "      border-right-color: var(--fill-color);\n",
              "      border-top-color: var(--fill-color);\n",
              "    }\n",
              "    60% {\n",
              "      border-color: transparent;\n",
              "      border-right-color: var(--fill-color);\n",
              "    }\n",
              "    80% {\n",
              "      border-color: transparent;\n",
              "      border-right-color: var(--fill-color);\n",
              "      border-bottom-color: var(--fill-color);\n",
              "    }\n",
              "    90% {\n",
              "      border-color: transparent;\n",
              "      border-bottom-color: var(--fill-color);\n",
              "    }\n",
              "  }\n",
              "</style>\n",
              "\n",
              "  <script>\n",
              "    async function quickchart(key) {\n",
              "      const quickchartButtonEl =\n",
              "        document.querySelector('#' + key + ' button');\n",
              "      quickchartButtonEl.disabled = true;  // To prevent multiple clicks.\n",
              "      quickchartButtonEl.classList.add('colab-df-spinner');\n",
              "      try {\n",
              "        const charts = await google.colab.kernel.invokeFunction(\n",
              "            'suggestCharts', [key], {});\n",
              "      } catch (error) {\n",
              "        console.error('Error during call to suggestCharts:', error);\n",
              "      }\n",
              "      quickchartButtonEl.classList.remove('colab-df-spinner');\n",
              "      quickchartButtonEl.classList.add('colab-df-quickchart-complete');\n",
              "    }\n",
              "    (() => {\n",
              "      let quickchartButtonEl =\n",
              "        document.querySelector('#df-e0075b5b-fa7a-4cd0-b842-eb0a547c17e9 button');\n",
              "      quickchartButtonEl.style.display =\n",
              "        google.colab.kernel.accessAllowed ? 'block' : 'none';\n",
              "    })();\n",
              "  </script>\n",
              "</div>\n",
              "    </div>\n",
              "  </div>\n"
            ],
            "text/plain": [
              "                 id                                            authors\n",
              "2937610  2151103935  [{'name': 'David G. Lowe', 'org': 'Computer Sc...\n",
              "4088311  2911964244  [{'name': 'Leo Breiman', 'org': 'Statistics De...\n",
              "2691785  2153635508  [{'name': 'Chih-Chung Chang', 'org': 'National...\n",
              "688041   1791587663  [{'name': 'Fred D. Davis', 'org': 'Computer an...\n",
              "2313078  2119821739  [{'name': 'Corinna Cortes', 'org': 'AT&T Bell ...\n",
              "...             ...                                                ...\n",
              "1443467  2032881500  [{'name': 'Tong Zhu', 'org': 'Dept. of Comput....\n",
              "1443452  2032879541  [{'name': 'John Ayoade', 'org': 'American Univ...\n",
              "1443458  2032880699  [{'name': 'Adrian Rusu', 'org': 'Dept. of Comp...\n",
              "1443466  2032881482  [{'name': 'Óscar J. Rubio', 'org': 'Aragon In...\n",
              "4894080    99956490  [{'name': 'Egon Börger', 'org': 'Institut für ...\n",
              "\n",
              "[3777107 rows x 2 columns]"
            ]
          },
          "execution_count": 88,
          "metadata": {},
          "output_type": "execute_result"
        }
      ],
      "source": [
        "# We consider the original dataset to have the orginal number of total papers published\n",
        "top_authors= dataset[['id','authors']]\n",
        "top_authors"
      ]
    },
    {
      "cell_type": "code",
      "execution_count": null,
      "metadata": {
        "colab": {
          "base_uri": "https://localhost:8080/",
          "height": 91
        },
        "id": "O_Oi-um3Ix7T",
        "outputId": "a1ea91aa-cac2-471c-87d9-0fa42fe46d71"
      },
      "outputs": [
        {
          "data": {
            "application/vnd.google.colaboratory.intrinsic+json": {
              "type": "string"
            },
            "text/plain": [
              "\"[{'name': 'Makoto Satoh', 'org': 'Shinshu University', 'id': 2312688602}, {'name': 'Ryo Muramatsu', 'org': 'Shinshu University', 'id': 2482909946}, {'name': 'Mizue Kayama', 'org': 'Shinshu University', 'id': 2128134587}, {'name': 'Kazunori Itoh', 'org': 'Shinshu University', 'id': 2101782692}, {'name': 'Masami Hashimoto', 'org': 'Shinshu University', 'id': 2114054191}, {'name': 'Makoto Otani', 'org': 'Shinshu University', 'id': 1989208940}, {'name': 'Michio Shimizu', 'org': 'Nagano Prefectural College', 'id': 2134989941}, {'name': 'Masahiko Sugimoto', 'org': 'Takushoku University, Hokkaido Junior College', 'id': 2307479915}]\""
            ]
          },
          "execution_count": 89,
          "metadata": {},
          "output_type": "execute_result"
        }
      ],
      "source": [
        "# We see how our data is structured and how authors-ids are stored\n",
        "top_authors['authors'][0]"
      ]
    },
    {
      "cell_type": "code",
      "execution_count": null,
      "metadata": {
        "id": "Bvd6j34qK5Ov"
      },
      "outputs": [],
      "source": [
        "# We construct our counter as a dictionary\n",
        "authors_publishedict = defaultdict(int)\n",
        "\n",
        "# Iterating over each row\n",
        "for idx, row in top_authors.iterrows():\n",
        "    authors = row['authors']\n",
        "\n",
        "    # Iterate over author dictionaries in the 'authors' columns list\n",
        "    for auth_dict in ast.literal_eval(authors):\n",
        "        author_id = auth_dict.get('id')\n",
        "\n",
        "        # Count the occurrences of each author's id in authors_publishedict and\n",
        "        # update the counter of our own dicitonary\n",
        "        authors_publishedict[author_id] += 1\n",
        "\n"
      ]
    },
    {
      "cell_type": "code",
      "execution_count": null,
      "metadata": {
        "id": "oCZ4cdiap5GF"
      },
      "outputs": [],
      "source": [
        "# Add  a new column to the dataset so we can filter about top-N authors\n",
        "authors_publisheddf= pd.DataFrame(list(authors_publishedict.items()), columns=['id', 'PublicationCount'])"
      ]
    },
    {
      "cell_type": "code",
      "execution_count": null,
      "metadata": {
        "id": "0cXrLxGhaHL2"
      },
      "outputs": [],
      "source": [
        "# We save it so to call it in the function extract if we\n",
        "#wanted to exctract top-authors. As a matter of fact we we will\n",
        "#call connected_authors we won't apply the filtering selection though\n",
        "path_csv = '/content/authors_publisheddf.csv'\n",
        "authors_publisheddf.to_csv(path_csv, index=False)"
      ]
    },
    {
      "cell_type": "code",
      "execution_count": null,
      "metadata": {
        "colab": {
          "base_uri": "https://localhost:8080/",
          "height": 424
        },
        "id": "b-E_z5_YAgb2",
        "outputId": "09fdca1b-2a1b-472a-e05e-ec934f896b5e"
      },
      "outputs": [
        {
          "data": {
            "text/html": [
              "\n",
              "  <div id=\"df-d0fab353-386c-4de6-860d-bdee16e0ee40\" class=\"colab-df-container\">\n",
              "    <div>\n",
              "<style scoped>\n",
              "    .dataframe tbody tr th:only-of-type {\n",
              "        vertical-align: middle;\n",
              "    }\n",
              "\n",
              "    .dataframe tbody tr th {\n",
              "        vertical-align: top;\n",
              "    }\n",
              "\n",
              "    .dataframe thead th {\n",
              "        text-align: right;\n",
              "    }\n",
              "</style>\n",
              "<table border=\"1\" class=\"dataframe\">\n",
              "  <thead>\n",
              "    <tr style=\"text-align: right;\">\n",
              "      <th></th>\n",
              "      <th>id</th>\n",
              "      <th>PublicationCount</th>\n",
              "    </tr>\n",
              "  </thead>\n",
              "  <tbody>\n",
              "    <tr>\n",
              "      <th>4650</th>\n",
              "      <td>1976698169</td>\n",
              "      <td>1290</td>\n",
              "    </tr>\n",
              "    <tr>\n",
              "      <th>13109</th>\n",
              "      <td>703410400</td>\n",
              "      <td>1153</td>\n",
              "    </tr>\n",
              "    <tr>\n",
              "      <th>1919</th>\n",
              "      <td>2125104194</td>\n",
              "      <td>1135</td>\n",
              "    </tr>\n",
              "    <tr>\n",
              "      <th>5920</th>\n",
              "      <td>2029230138</td>\n",
              "      <td>1084</td>\n",
              "    </tr>\n",
              "    <tr>\n",
              "      <th>10259</th>\n",
              "      <td>688402840</td>\n",
              "      <td>1061</td>\n",
              "    </tr>\n",
              "    <tr>\n",
              "      <th>...</th>\n",
              "      <td>...</td>\n",
              "      <td>...</td>\n",
              "    </tr>\n",
              "    <tr>\n",
              "      <th>1667906</th>\n",
              "      <td>2529296952</td>\n",
              "      <td>1</td>\n",
              "    </tr>\n",
              "    <tr>\n",
              "      <th>1667905</th>\n",
              "      <td>2168883319</td>\n",
              "      <td>1</td>\n",
              "    </tr>\n",
              "    <tr>\n",
              "      <th>1667904</th>\n",
              "      <td>2974858411</td>\n",
              "      <td>1</td>\n",
              "    </tr>\n",
              "    <tr>\n",
              "      <th>1667901</th>\n",
              "      <td>2438493545</td>\n",
              "      <td>1</td>\n",
              "    </tr>\n",
              "    <tr>\n",
              "      <th>3272178</th>\n",
              "      <td>2973909829</td>\n",
              "      <td>1</td>\n",
              "    </tr>\n",
              "  </tbody>\n",
              "</table>\n",
              "<p>3272179 rows × 2 columns</p>\n",
              "</div>\n",
              "    <div class=\"colab-df-buttons\">\n",
              "\n",
              "  <div class=\"colab-df-container\">\n",
              "    <button class=\"colab-df-convert\" onclick=\"convertToInteractive('df-d0fab353-386c-4de6-860d-bdee16e0ee40')\"\n",
              "            title=\"Convert this dataframe to an interactive table.\"\n",
              "            style=\"display:none;\">\n",
              "\n",
              "  <svg xmlns=\"http://www.w3.org/2000/svg\" height=\"24px\" viewBox=\"0 -960 960 960\">\n",
              "    <path d=\"M120-120v-720h720v720H120Zm60-500h600v-160H180v160Zm220 220h160v-160H400v160Zm0 220h160v-160H400v160ZM180-400h160v-160H180v160Zm440 0h160v-160H620v160ZM180-180h160v-160H180v160Zm440 0h160v-160H620v160Z\"/>\n",
              "  </svg>\n",
              "    </button>\n",
              "\n",
              "  <style>\n",
              "    .colab-df-container {\n",
              "      display:flex;\n",
              "      gap: 12px;\n",
              "    }\n",
              "\n",
              "    .colab-df-convert {\n",
              "      background-color: #E8F0FE;\n",
              "      border: none;\n",
              "      border-radius: 50%;\n",
              "      cursor: pointer;\n",
              "      display: none;\n",
              "      fill: #1967D2;\n",
              "      height: 32px;\n",
              "      padding: 0 0 0 0;\n",
              "      width: 32px;\n",
              "    }\n",
              "\n",
              "    .colab-df-convert:hover {\n",
              "      background-color: #E2EBFA;\n",
              "      box-shadow: 0px 1px 2px rgba(60, 64, 67, 0.3), 0px 1px 3px 1px rgba(60, 64, 67, 0.15);\n",
              "      fill: #174EA6;\n",
              "    }\n",
              "\n",
              "    .colab-df-buttons div {\n",
              "      margin-bottom: 4px;\n",
              "    }\n",
              "\n",
              "    [theme=dark] .colab-df-convert {\n",
              "      background-color: #3B4455;\n",
              "      fill: #D2E3FC;\n",
              "    }\n",
              "\n",
              "    [theme=dark] .colab-df-convert:hover {\n",
              "      background-color: #434B5C;\n",
              "      box-shadow: 0px 1px 3px 1px rgba(0, 0, 0, 0.15);\n",
              "      filter: drop-shadow(0px 1px 2px rgba(0, 0, 0, 0.3));\n",
              "      fill: #FFFFFF;\n",
              "    }\n",
              "  </style>\n",
              "\n",
              "    <script>\n",
              "      const buttonEl =\n",
              "        document.querySelector('#df-d0fab353-386c-4de6-860d-bdee16e0ee40 button.colab-df-convert');\n",
              "      buttonEl.style.display =\n",
              "        google.colab.kernel.accessAllowed ? 'block' : 'none';\n",
              "\n",
              "      async function convertToInteractive(key) {\n",
              "        const element = document.querySelector('#df-d0fab353-386c-4de6-860d-bdee16e0ee40');\n",
              "        const dataTable =\n",
              "          await google.colab.kernel.invokeFunction('convertToInteractive',\n",
              "                                                    [key], {});\n",
              "        if (!dataTable) return;\n",
              "\n",
              "        const docLinkHtml = 'Like what you see? Visit the ' +\n",
              "          '<a target=\"_blank\" href=https://colab.research.google.com/notebooks/data_table.ipynb>data table notebook</a>'\n",
              "          + ' to learn more about interactive tables.';\n",
              "        element.innerHTML = '';\n",
              "        dataTable['output_type'] = 'display_data';\n",
              "        await google.colab.output.renderOutput(dataTable, element);\n",
              "        const docLink = document.createElement('div');\n",
              "        docLink.innerHTML = docLinkHtml;\n",
              "        element.appendChild(docLink);\n",
              "      }\n",
              "    </script>\n",
              "  </div>\n",
              "\n",
              "\n",
              "<div id=\"df-14e4d944-2956-4aad-ad05-f177f4e11bfa\">\n",
              "  <button class=\"colab-df-quickchart\" onclick=\"quickchart('df-14e4d944-2956-4aad-ad05-f177f4e11bfa')\"\n",
              "            title=\"Suggest charts\"\n",
              "            style=\"display:none;\">\n",
              "\n",
              "<svg xmlns=\"http://www.w3.org/2000/svg\" height=\"24px\"viewBox=\"0 0 24 24\"\n",
              "     width=\"24px\">\n",
              "    <g>\n",
              "        <path d=\"M19 3H5c-1.1 0-2 .9-2 2v14c0 1.1.9 2 2 2h14c1.1 0 2-.9 2-2V5c0-1.1-.9-2-2-2zM9 17H7v-7h2v7zm4 0h-2V7h2v10zm4 0h-2v-4h2v4z\"/>\n",
              "    </g>\n",
              "</svg>\n",
              "  </button>\n",
              "\n",
              "<style>\n",
              "  .colab-df-quickchart {\n",
              "      --bg-color: #E8F0FE;\n",
              "      --fill-color: #1967D2;\n",
              "      --hover-bg-color: #E2EBFA;\n",
              "      --hover-fill-color: #174EA6;\n",
              "      --disabled-fill-color: #AAA;\n",
              "      --disabled-bg-color: #DDD;\n",
              "  }\n",
              "\n",
              "  [theme=dark] .colab-df-quickchart {\n",
              "      --bg-color: #3B4455;\n",
              "      --fill-color: #D2E3FC;\n",
              "      --hover-bg-color: #434B5C;\n",
              "      --hover-fill-color: #FFFFFF;\n",
              "      --disabled-bg-color: #3B4455;\n",
              "      --disabled-fill-color: #666;\n",
              "  }\n",
              "\n",
              "  .colab-df-quickchart {\n",
              "    background-color: var(--bg-color);\n",
              "    border: none;\n",
              "    border-radius: 50%;\n",
              "    cursor: pointer;\n",
              "    display: none;\n",
              "    fill: var(--fill-color);\n",
              "    height: 32px;\n",
              "    padding: 0;\n",
              "    width: 32px;\n",
              "  }\n",
              "\n",
              "  .colab-df-quickchart:hover {\n",
              "    background-color: var(--hover-bg-color);\n",
              "    box-shadow: 0 1px 2px rgba(60, 64, 67, 0.3), 0 1px 3px 1px rgba(60, 64, 67, 0.15);\n",
              "    fill: var(--button-hover-fill-color);\n",
              "  }\n",
              "\n",
              "  .colab-df-quickchart-complete:disabled,\n",
              "  .colab-df-quickchart-complete:disabled:hover {\n",
              "    background-color: var(--disabled-bg-color);\n",
              "    fill: var(--disabled-fill-color);\n",
              "    box-shadow: none;\n",
              "  }\n",
              "\n",
              "  .colab-df-spinner {\n",
              "    border: 2px solid var(--fill-color);\n",
              "    border-color: transparent;\n",
              "    border-bottom-color: var(--fill-color);\n",
              "    animation:\n",
              "      spin 1s steps(1) infinite;\n",
              "  }\n",
              "\n",
              "  @keyframes spin {\n",
              "    0% {\n",
              "      border-color: transparent;\n",
              "      border-bottom-color: var(--fill-color);\n",
              "      border-left-color: var(--fill-color);\n",
              "    }\n",
              "    20% {\n",
              "      border-color: transparent;\n",
              "      border-left-color: var(--fill-color);\n",
              "      border-top-color: var(--fill-color);\n",
              "    }\n",
              "    30% {\n",
              "      border-color: transparent;\n",
              "      border-left-color: var(--fill-color);\n",
              "      border-top-color: var(--fill-color);\n",
              "      border-right-color: var(--fill-color);\n",
              "    }\n",
              "    40% {\n",
              "      border-color: transparent;\n",
              "      border-right-color: var(--fill-color);\n",
              "      border-top-color: var(--fill-color);\n",
              "    }\n",
              "    60% {\n",
              "      border-color: transparent;\n",
              "      border-right-color: var(--fill-color);\n",
              "    }\n",
              "    80% {\n",
              "      border-color: transparent;\n",
              "      border-right-color: var(--fill-color);\n",
              "      border-bottom-color: var(--fill-color);\n",
              "    }\n",
              "    90% {\n",
              "      border-color: transparent;\n",
              "      border-bottom-color: var(--fill-color);\n",
              "    }\n",
              "  }\n",
              "</style>\n",
              "\n",
              "  <script>\n",
              "    async function quickchart(key) {\n",
              "      const quickchartButtonEl =\n",
              "        document.querySelector('#' + key + ' button');\n",
              "      quickchartButtonEl.disabled = true;  // To prevent multiple clicks.\n",
              "      quickchartButtonEl.classList.add('colab-df-spinner');\n",
              "      try {\n",
              "        const charts = await google.colab.kernel.invokeFunction(\n",
              "            'suggestCharts', [key], {});\n",
              "      } catch (error) {\n",
              "        console.error('Error during call to suggestCharts:', error);\n",
              "      }\n",
              "      quickchartButtonEl.classList.remove('colab-df-spinner');\n",
              "      quickchartButtonEl.classList.add('colab-df-quickchart-complete');\n",
              "    }\n",
              "    (() => {\n",
              "      let quickchartButtonEl =\n",
              "        document.querySelector('#df-14e4d944-2956-4aad-ad05-f177f4e11bfa button');\n",
              "      quickchartButtonEl.style.display =\n",
              "        google.colab.kernel.accessAllowed ? 'block' : 'none';\n",
              "    })();\n",
              "  </script>\n",
              "</div>\n",
              "    </div>\n",
              "  </div>\n"
            ],
            "text/plain": [
              "                 id  PublicationCount\n",
              "4650     1976698169              1290\n",
              "13109     703410400              1153\n",
              "1919     2125104194              1135\n",
              "5920     2029230138              1084\n",
              "10259     688402840              1061\n",
              "...             ...               ...\n",
              "1667906  2529296952                 1\n",
              "1667905  2168883319                 1\n",
              "1667904  2974858411                 1\n",
              "1667901  2438493545                 1\n",
              "3272178  2973909829                 1\n",
              "\n",
              "[3272179 rows x 2 columns]"
            ]
          },
          "execution_count": 94,
          "metadata": {},
          "output_type": "execute_result"
        }
      ],
      "source": [
        "# Sorting according to the number of articles published\n",
        "new_df = authors_publisheddf.sort_values(by='PublicationCount', ascending=False)\n",
        "new_df"
      ]
    },
    {
      "cell_type": "markdown",
      "metadata": {
        "id": "mL5qDsXRPgjf"
      },
      "source": [
        "#### To implement the third feature we need some more functions which, for readibility, we stored in a python file. We check all details there: you will find\n",
        "\n",
        "> **extract (graph, N)**: the function that filters for the top N authors\n",
        "\n",
        "> **dijkstra (graph, start, stop)** : a function which finds the shortest path for a weighted graph between the first and the end node\n",
        "\n",
        "> **connectauthor (graph, start, end, list)**: a function that returns the shortest connected graph which considers visiting all the node in the list in that order."
      ]
    },
    {
      "cell_type": "code",
      "execution_count": null,
      "metadata": {
        "id": "T4j-vSCXVFOO"
      },
      "outputs": [],
      "source": [
        "# Importing our function\n",
        "import feature3file as f3"
      ]
    },
    {
      "cell_type": "markdown",
      "metadata": {
        "id": "FyCKKp5mVbRu"
      },
      "source": [
        "How is the subgraph? Is it enough dense to get some reasonable path? We visualize it leveraging the cited function `extract`"
      ]
    },
    {
      "cell_type": "code",
      "execution_count": null,
      "metadata": {
        "colab": {
          "base_uri": "https://localhost:8080/",
          "height": 516
        },
        "id": "AvDcHC7FViwm",
        "outputId": "7c394dc8-6d01-42c8-b614-3a2fb0456a49"
      },
      "outputs": [
        {
          "data": {
            "image/png": "[encoded data removed]",
            "text/plain": [
              "<Figure size 640x480 with 1 Axes>"
            ]
          },
          "metadata": {},
          "output_type": "display_data"
        }
      ],
      "source": [
        "# Selecting a subgraph with the top 120 authors\n",
        "subres =f3.extract(G_collaboration, 120)\n",
        "\n",
        "# See code in exercise1 for visuaization\n",
        "nodes_to_show_sub = list(subres.nodes())[:25]\n",
        "subgraph_collaboration = subres.subgraph(nodes_to_show_sub)\n",
        "pos = nx.spring_layout(subgraph_collaboration)\n",
        "nx.draw(subgraph_collaboration, pos, with_labels=True, font_weight='bold', node_size=700)\n",
        "edge_weights = {(i, j): subgraph_collaboration[i][j]['weight'] for i, j in subgraph_collaboration.edges()}\n",
        "nx.draw_networkx_edges(subgraph_collaboration, pos, width=[subgraph_collaboration[i][j]['weight'] for i, j in subgraph_collaboration.edges()])\n",
        "nx.draw_networkx_edge_labels(subgraph_collaboration, pos, edge_labels=edge_weights, font_color='red')\n",
        "\n",
        "plt.show()"
      ]
    },
    {
      "cell_type": "code",
      "execution_count": null,
      "metadata": {
        "colab": {
          "base_uri": "https://localhost:8080/"
        },
        "id": "yYPyFVYIgQZP",
        "outputId": "22ab00b0-1257-400c-932a-027c9ec5397f"
      },
      "outputs": [
        {
          "data": {
            "text/plain": [
              "82"
            ]
          },
          "execution_count": 130,
          "metadata": {},
          "output_type": "execute_result"
        }
      ],
      "source": [
        "# Getting number of nodes\n",
        "subres.number_of_nodes()"
      ]
    },
    {
      "cell_type": "code",
      "execution_count": null,
      "metadata": {
        "colab": {
          "base_uri": "https://localhost:8080/"
        },
        "id": "0Ff7LishgyXQ",
        "outputId": "d3da408a-3e49-48aa-d211-f0c60425fa6c"
      },
      "outputs": [
        {
          "data": {
            "text/plain": [
              "10"
            ]
          },
          "execution_count": 131,
          "metadata": {},
          "output_type": "execute_result"
        }
      ],
      "source": [
        "# Get number of edges\n",
        "subres.number_of_edges()"
      ]
    },
    {
      "cell_type": "code",
      "execution_count": null,
      "metadata": {
        "colab": {
          "base_uri": "https://localhost:8080/"
        },
        "id": "wUU2oi80f0ij",
        "outputId": "431d6a21-7c91-4cec-aadf-175f35828745"
      },
      "outputs": [
        {
          "data": {
            "text/plain": [
              "[2029230138, 2082044953]"
            ]
          },
          "execution_count": 129,
          "metadata": {},
          "output_type": "execute_result"
        }
      ],
      "source": [
        "# Filtered by top N author... really poor as initial and final node are the same\n",
        "f3.connectauthor(subres, 2029230138, 2082044953, 150)"
      ]
    },
    {
      "cell_type": "markdown",
      "metadata": {
        "id": "6K19uX96QpWn"
      },
      "source": [
        "#### As subgraph had only few edges (only 10!) we decide to plot with some different strategy w.r.t the one asked. We will proceed analogously for the fourth feature."
      ]
    },
    {
      "cell_type": "code",
      "execution_count": null,
      "metadata": {
        "colab": {
          "base_uri": "https://localhost:8080/"
        },
        "id": "kr0ORao8dnM6",
        "outputId": "f21fb9bd-eb38-4a19-f795-eaff603ed1b3"
      },
      "outputs": [
        {
          "data": {
            "text/plain": [
              "[2104401652,\n",
              " 351197510,\n",
              " 2435751034,\n",
              " 2128170596,\n",
              " 1978529654,\n",
              " 1973035492,\n",
              " 2159063947,\n",
              " 2007415138,\n",
              " 2027658599]"
            ]
          },
          "execution_count": 115,
          "metadata": {},
          "output_type": "execute_result"
        }
      ],
      "source": [
        "# An example without filtering operation\n",
        "f3.connectauthor(G_collaboration, 2104401652, 2027658599, 150, [2007415138] )"
      ]
    },
    {
      "cell_type": "markdown",
      "metadata": {
        "id": "4SoBxFsrRNbu"
      },
      "source": [
        "**Functionality 4 - Disconnecting Graphs**\n",
        "\n",
        "The functionality is designed to calculate the minimum number of edges (taking into account their weights) required to disconnect the original graph into two disconnected subgraphs, denoted as G_a and G_b.\n",
        "\n",
        "---\n",
        "\n",
        "**By definition getting a minim number of edges is just a number and does not depend on the weights.**\n",
        "\n",
        "\n",
        "Indeed if we have two possibility of having the same number of edges with different combination of edges such that they have differents cost, we will still get the same number of minimum number of edges.\n",
        "\n",
        "---\n",
        "\n",
        "We implement a variant of Karger algorithm to accomplish feature 4's aim.\n"
      ]
    },
    {
      "cell_type": "markdown",
      "metadata": {
        "id": "cMCAJ9BUe6AK"
      },
      "source": [
        "#### custumed karger randomized algorithm"
      ]
    },
    {
      "cell_type": "markdown",
      "metadata": {
        "id": "9m78zpTzNcCX"
      },
      "source": [
        "Yes, the **Karger**'s algorithm is a randomized algorithm, which means that its result can vary across different executions of the same input. Randomization is introduced in the choice of edges to contract during the graph contraction process. This randomness is used to achieve a higher probability of contracting edges that lead to the correct solution.\n",
        "\n",
        "Karger's algorithm works through a series of random contractions of graph edges until only two nodes remain, representing the remaining connected components. The randomness in the algorithm increases the probability of obtaining an approximate solution, but not necessarily the optimal one, in reasonable time."
      ]
    },
    {
      "cell_type": "code",
      "execution_count": null,
      "metadata": {
        "id": "Iu0iMn-f7ThV"
      },
      "outputs": [],
      "source": [
        "import feature4 as f4"
      ]
    },
    {
      "cell_type": "markdown",
      "metadata": {
        "id": "i3zQ_rQNeIwq"
      },
      "source": [
        "we interprete the sentence (considering weights) as follows"
      ]
    },
    {
      "cell_type": "markdown",
      "metadata": {
        "id": "Bon22Hi-ZUzZ"
      },
      "source": [
        "\n",
        "**AS IT IS A PROBABILISTIC ALGORITHIM WE THEN PERFORM THE OPERATION 10 TIMES BY DEFAULT AND TAKE THE NUMBER OF EDGES THAT MINIMIZES THE TOTAL COST**\n",
        "\n",
        "Moreover we implement the functionality such that it returns not only the minimum numbers of the edges but all the path as couples of edges as it is the correct format if we want to remove it from the original graph.\n",
        "We implent this in `weigthedmincut`.\n",
        "\n",
        "---\n",
        "\n",
        "**Also without this last step this would already be a solution that considers the weights**: if we define a function that equals one if two nodes are different and zero if we consider the same node; and choose this as `binary` distance.\n",
        "\n",
        "As the request has several possible interpretretations and **as it is a probabilistic algorithm, it might be useful to repeat the experiment several times and see the solution with the minimum weight**.\n",
        "\n",
        "#### this is the road we will follow\n",
        "\n",
        "\n"
      ]
    },
    {
      "cell_type": "markdown",
      "metadata": {
        "id": "duI75wmrNhN1"
      },
      "source": [
        "#### To implement the fourth feature we stor the following functions in a python file. You have all details there, where you will find:\n",
        "\n",
        "> **find_components_dfs (graph)**: the function that finds all connected components in a graph\n",
        "\n",
        "> **contract_edge (graph, node1, node2)** : a function which returns the new graph whith the contracted nodes and edges adjusted appropriatly\n",
        "\n",
        "> **custom_karger (graph, start, end, list)**: a function that returns the shortest minicut choosing randomly the edges to select\n",
        "\n",
        "> **considerweight(graph, start, end, it=10)**: Iterates to get the minicut $it$\n",
        "times\n",
        "\n",
        "> **weigthedmincut(list of the resulst)**: select the result with the minimum weight minicut"
      ]
    },
    {
      "cell_type": "markdown",
      "metadata": {
        "id": "Ymdx9kl0lNmc"
      },
      "source": [
        "We list which nodes will be removed"
      ]
    },
    {
      "cell_type": "code",
      "execution_count": null,
      "metadata": {
        "colab": {
          "base_uri": "https://localhost:8080/"
        },
        "id": "Q5WCQNxM4km4",
        "outputId": "e53b86a0-a338-442e-fc91-5c0971ff46c1"
      },
      "outputs": [
        {
          "data": {
            "text/plain": [
              "[(2104401652, 2027658599),\n",
              " (2104401652, 2084034853),\n",
              " (2104401652, 2559180283),\n",
              " (2104401652, 1932590790),\n",
              " (2104401652, 2874782720),\n",
              " (2104401652, 2105531243),\n",
              " (1969547113, 2027658599),\n",
              " (1969547113, 2084034853),\n",
              " (1969547113, 2559180283),\n",
              " (1969547113, 1932590790),\n",
              " (1969547113, 2874782720),\n",
              " (1969547113, 2105531243)]"
            ]
          },
          "execution_count": 26,
          "metadata": {},
          "output_type": "execute_result"
        }
      ],
      "source": [
        "f4.custom_karger(G_collaboration, 2104401652, 2027658599)"
      ]
    },
    {
      "cell_type": "code",
      "execution_count": null,
      "metadata": {
        "colab": {
          "base_uri": "https://localhost:8080/",
          "height": 337
        },
        "id": "tit0Fx4ykIy-",
        "outputId": "563cd9ab-397d-48d4-ebfe-627dd0a40d9d"
      },
      "outputs": [
        {
          "ename": "KeyboardInterrupt",
          "evalue": "",
          "output_type": "error",
          "traceback": [
            "\u001b[0;31m---------------------------------------------------------------------------\u001b[0m",
            "\u001b[0;31mKeyboardInterrupt\u001b[0m                         Traceback (most recent call last)",
            "\u001b[0;32m<ipython-input-16-3b8ab15031c4>\u001b[0m in \u001b[0;36m<cell line: 1>\u001b[0;34m()\u001b[0m\n\u001b[0;32m----> 1\u001b[0;31m \u001b[0mf4\u001b[0m\u001b[0;34m.\u001b[0m\u001b[0mcustom_karger\u001b[0m\u001b[0;34m(\u001b[0m\u001b[0mG_collaboration\u001b[0m\u001b[0;34m,\u001b[0m \u001b[0;36m2104401652\u001b[0m\u001b[0;34m,\u001b[0m \u001b[0;36m2027658599\u001b[0m\u001b[0;34m)\u001b[0m\u001b[0;34m\u001b[0m\u001b[0;34m\u001b[0m\u001b[0m\n\u001b[0m",
            "\u001b[0;32m/content/feature4.py\u001b[0m in \u001b[0;36mcustom_karger\u001b[0;34m(graph, node1, node2)\u001b[0m\n\u001b[1;32m     82\u001b[0m     \u001b[0;32mwhile\u001b[0m \u001b[0mlen\u001b[0m\u001b[0;34m(\u001b[0m\u001b[0mgr\u001b[0m\u001b[0;34m.\u001b[0m\u001b[0mnodes\u001b[0m\u001b[0;34m(\u001b[0m\u001b[0;34m)\u001b[0m\u001b[0;34m)\u001b[0m \u001b[0;34m>\u001b[0m \u001b[0;36m2\u001b[0m \u001b[0;32mand\u001b[0m \u001b[0mlen\u001b[0m\u001b[0;34m(\u001b[0m\u001b[0mgr\u001b[0m\u001b[0;34m.\u001b[0m\u001b[0medges\u001b[0m\u001b[0;34m(\u001b[0m\u001b[0;34m)\u001b[0m\u001b[0;34m)\u001b[0m \u001b[0;34m>\u001b[0m \u001b[0;36m0\u001b[0m\u001b[0;34m:\u001b[0m\u001b[0;34m\u001b[0m\u001b[0;34m\u001b[0m\u001b[0m\n\u001b[1;32m     83\u001b[0m         \u001b[0;31m# Select casually edges to contract\u001b[0m\u001b[0;34m\u001b[0m\u001b[0;34m\u001b[0m\u001b[0m\n\u001b[0;32m---> 84\u001b[0;31m         \u001b[0medge\u001b[0m \u001b[0;34m=\u001b[0m \u001b[0mrandom\u001b[0m\u001b[0;34m.\u001b[0m\u001b[0mchoice\u001b[0m\u001b[0;34m(\u001b[0m\u001b[0mlist\u001b[0m\u001b[0;34m(\u001b[0m\u001b[0mgr\u001b[0m\u001b[0;34m.\u001b[0m\u001b[0medges\u001b[0m\u001b[0;34m(\u001b[0m\u001b[0;34m)\u001b[0m\u001b[0;34m)\u001b[0m\u001b[0;34m)\u001b[0m\u001b[0;34m\u001b[0m\u001b[0;34m\u001b[0m\u001b[0m\n\u001b[0m\u001b[1;32m     85\u001b[0m         \u001b[0;31m# Identify the nodes incident on the edge\u001b[0m\u001b[0;34m\u001b[0m\u001b[0;34m\u001b[0m\u001b[0m\n\u001b[1;32m     86\u001b[0m         \u001b[0mu\u001b[0m\u001b[0;34m,\u001b[0m \u001b[0mv\u001b[0m \u001b[0;34m=\u001b[0m \u001b[0medge\u001b[0m\u001b[0;34m\u001b[0m\u001b[0;34m\u001b[0m\u001b[0m\n",
            "\u001b[0;32m/usr/local/lib/python3.10/dist-packages/networkx/classes/reportviews.py\u001b[0m in \u001b[0;36m__len__\u001b[0;34m(self)\u001b[0m\n\u001b[1;32m   1254\u001b[0m     \u001b[0;32mdef\u001b[0m \u001b[0m__len__\u001b[0m\u001b[0;34m(\u001b[0m\u001b[0mself\u001b[0m\u001b[0;34m)\u001b[0m\u001b[0;34m:\u001b[0m\u001b[0;34m\u001b[0m\u001b[0;34m\u001b[0m\u001b[0m\n\u001b[1;32m   1255\u001b[0m         \u001b[0mnum_nbrs\u001b[0m \u001b[0;34m=\u001b[0m \u001b[0;34m(\u001b[0m\u001b[0mlen\u001b[0m\u001b[0;34m(\u001b[0m\u001b[0mnbrs\u001b[0m\u001b[0;34m)\u001b[0m \u001b[0;34m+\u001b[0m \u001b[0;34m(\u001b[0m\u001b[0mn\u001b[0m \u001b[0;32min\u001b[0m \u001b[0mnbrs\u001b[0m\u001b[0;34m)\u001b[0m \u001b[0;32mfor\u001b[0m \u001b[0mn\u001b[0m\u001b[0;34m,\u001b[0m \u001b[0mnbrs\u001b[0m \u001b[0;32min\u001b[0m \u001b[0mself\u001b[0m\u001b[0;34m.\u001b[0m\u001b[0m_nodes_nbrs\u001b[0m\u001b[0;34m(\u001b[0m\u001b[0;34m)\u001b[0m\u001b[0;34m)\u001b[0m\u001b[0;34m\u001b[0m\u001b[0;34m\u001b[0m\u001b[0m\n\u001b[0;32m-> 1256\u001b[0;31m         \u001b[0;32mreturn\u001b[0m \u001b[0msum\u001b[0m\u001b[0;34m(\u001b[0m\u001b[0mnum_nbrs\u001b[0m\u001b[0;34m)\u001b[0m \u001b[0;34m//\u001b[0m \u001b[0;36m2\u001b[0m\u001b[0;34m\u001b[0m\u001b[0;34m\u001b[0m\u001b[0m\n\u001b[0m\u001b[1;32m   1257\u001b[0m \u001b[0;34m\u001b[0m\u001b[0m\n\u001b[1;32m   1258\u001b[0m     \u001b[0;32mdef\u001b[0m \u001b[0m__iter__\u001b[0m\u001b[0;34m(\u001b[0m\u001b[0mself\u001b[0m\u001b[0;34m)\u001b[0m\u001b[0;34m:\u001b[0m\u001b[0;34m\u001b[0m\u001b[0;34m\u001b[0m\u001b[0m\n",
            "\u001b[0;32m/usr/local/lib/python3.10/dist-packages/networkx/classes/reportviews.py\u001b[0m in \u001b[0;36m<genexpr>\u001b[0;34m(.0)\u001b[0m\n\u001b[1;32m   1253\u001b[0m \u001b[0;34m\u001b[0m\u001b[0m\n\u001b[1;32m   1254\u001b[0m     \u001b[0;32mdef\u001b[0m \u001b[0m__len__\u001b[0m\u001b[0;34m(\u001b[0m\u001b[0mself\u001b[0m\u001b[0;34m)\u001b[0m\u001b[0;34m:\u001b[0m\u001b[0;34m\u001b[0m\u001b[0;34m\u001b[0m\u001b[0m\n\u001b[0;32m-> 1255\u001b[0;31m         \u001b[0mnum_nbrs\u001b[0m \u001b[0;34m=\u001b[0m \u001b[0;34m(\u001b[0m\u001b[0mlen\u001b[0m\u001b[0;34m(\u001b[0m\u001b[0mnbrs\u001b[0m\u001b[0;34m)\u001b[0m \u001b[0;34m+\u001b[0m \u001b[0;34m(\u001b[0m\u001b[0mn\u001b[0m \u001b[0;32min\u001b[0m \u001b[0mnbrs\u001b[0m\u001b[0;34m)\u001b[0m \u001b[0;32mfor\u001b[0m \u001b[0mn\u001b[0m\u001b[0;34m,\u001b[0m \u001b[0mnbrs\u001b[0m \u001b[0;32min\u001b[0m \u001b[0mself\u001b[0m\u001b[0;34m.\u001b[0m\u001b[0m_nodes_nbrs\u001b[0m\u001b[0;34m(\u001b[0m\u001b[0;34m)\u001b[0m\u001b[0;34m)\u001b[0m\u001b[0;34m\u001b[0m\u001b[0;34m\u001b[0m\u001b[0m\n\u001b[0m\u001b[1;32m   1256\u001b[0m         \u001b[0;32mreturn\u001b[0m \u001b[0msum\u001b[0m\u001b[0;34m(\u001b[0m\u001b[0mnum_nbrs\u001b[0m\u001b[0;34m)\u001b[0m \u001b[0;34m//\u001b[0m \u001b[0;36m2\u001b[0m\u001b[0;34m\u001b[0m\u001b[0;34m\u001b[0m\u001b[0m\n\u001b[1;32m   1257\u001b[0m \u001b[0;34m\u001b[0m\u001b[0m\n",
            "\u001b[0;31mKeyboardInterrupt\u001b[0m: "
          ]
        }
      ],
      "source": [
        "f4.custom_karger(G_collaboration, 2104401652, 2027658599)"
      ]
    },
    {
      "cell_type": "code",
      "execution_count": null,
      "metadata": {
        "colab": {
          "base_uri": "https://localhost:8080/"
        },
        "id": "JeQh-pLillo9",
        "outputId": "ef3b2df5-06ba-4804-b6fc-fb332256610a"
      },
      "outputs": [
        {
          "data": {
            "text/plain": [
              "12"
            ]
          },
          "execution_count": 26,
          "metadata": {},
          "output_type": "execute_result"
        }
      ],
      "source": [
        "#We find the minimum number of edges through calculating the length\n",
        "minremove= len(f4.custom_karger(G_collaboration, 2104401652, 2027658599))\n",
        "minremove"
      ]
    },
    {
      "cell_type": "code",
      "execution_count": null,
      "metadata": {
        "colab": {
          "base_uri": "https://localhost:8080/"
        },
        "id": "jwTB8ddvp8sQ",
        "outputId": "53e4c1b1-999d-46a9-d741-383c76e67ee4"
      },
      "outputs": [
        {
          "data": {
            "text/plain": [
              "[(2145713909, 2151103935)]"
            ]
          },
          "execution_count": 81,
          "metadata": {},
          "output_type": "execute_result"
        }
      ],
      "source": [
        "# We prove an easy example of the subgraph, were only one edge should be cut\n",
        "# As it is indeed the only one that connect the two selected nodes.\n",
        "# You can double check by looking at plot of the citation subgraph in Q1\n",
        "f4.custom_karger(subgraph, 2145713909, 2151103935)"
      ]
    },
    {
      "cell_type": "code",
      "execution_count": 34,
      "metadata": {
        "id": "e4DZvtdrpa49"
      },
      "outputs": [],
      "source": [
        "import random\n",
        "import networkx as nx\n",
        "\n",
        "def find_components_dfs(graph):\n",
        "    visited = set()\n",
        "    components = []\n",
        "\n",
        "    def dfs(node, component):\n",
        "        '''\n",
        "        The inner function dfs performs a recursive depth-first search starting from a given node. It adds the current node to the visited set and the current connected component. Then, for each neighbor of the current node, if the neighbor has not been visited, it recursively calls the dfs function on that neighbor.\n",
        "        '''\n",
        "        # Adding the node to the visited\n",
        "        visited.add(node)\n",
        "        # Adding the node to the set of component new_component called\n",
        "        component.add(node)\n",
        "\n",
        "        for neighbor in graph[node]:\n",
        "            # Recursively calling dfs on the neighbours\n",
        "            if neighbor not in visited:\n",
        "                dfs(neighbor, component)\n",
        "\n",
        "    #for each unvisited node in the graph\n",
        "    for node in graph:\n",
        "        if node not in visited:\n",
        "            # we create a component - each node can be pontentially a component.\n",
        "            #We're initialiating the component\n",
        "            new_component = set()\n",
        "            # Adding the neighbour node to the visited nodes\n",
        "            dfs(node, new_component)\n",
        "            # and to the components initial list\n",
        "            components.append(new_component)\n",
        "\n",
        "    # The function returns a list of connected components.\n",
        "    return components\n",
        "\n",
        "\n",
        "def contract_edge(graphr, u, v):\n",
        "    '''\n",
        "    Performs a contraction : given two nodes and a graph it return a new graph\n",
        "    were the two nodes were joint and the edges appropriatly contracted\n",
        "    '''\n",
        "    # We create an edge we call in a name such that I can recognise the nodes from which the edge was conctracted\n",
        "    contracted_node = f\"{u}_{v}\"\n",
        "\n",
        "    # Add the new node to the graph\n",
        "    graphr.add_node(contracted_node)\n",
        "\n",
        "    # Dictionaries of nodes and his neighbours\n",
        "    nn = graphr.adj[v].items()\n",
        "    # Add the edges to new node which before were connected to u\n",
        "    for neighbor, edge_data in nn:\n",
        "        if neighbor != v:\n",
        "            # using ** to copy all attributes of the edges (weights or examples)\n",
        "            graphr.add_edge(contracted_node, neighbor, **edge_data)\n",
        "\n",
        "    # Add the edges to new node which before were connected to v\n",
        "    for neighbor, edge_data in nn:\n",
        "        if neighbor != u:\n",
        "            graphr.add_edge(contracted_node, neighbor, **edge_data)\n",
        "\n",
        "    # Remove u and v from the graph\n",
        "    graphr.remove_node(u)\n",
        "    graphr.remove_node(v)\n",
        "\n",
        "\n",
        "def custom_karger(graph, node1, node2):\n",
        "    '''\n",
        "    This function is a variation of the karger algorithm. Given two nodes it returns the edges we\n",
        "    need to cut so that minimizes the number of edges to be cut. It this edges are removed we should get\n",
        "    two connected component such that the first and second node beolngs to the first and second component\n",
        "    rispectivly. Does NOT return a optimal solution as selects the edges randomly. This approch performs\n",
        "    on average quite good and efficienty but sometimes may fail or return a non-optimal solution.\n",
        "    '''\n",
        "    # We create a copy of the original graph\n",
        "    graph_original=graph.copy()\n",
        "    # And one more to perform the contraction\n",
        "    gr = graph.copy()\n",
        "    # We keep contracting while\n",
        "    while len(gr.nodes()) > 2 and len(gr.edges()) > 0:\n",
        "        # Select casually edges to contract\n",
        "        edge = random.choice(list(gr.edges()))\n",
        "        # Identify the nodes incident on the edge\n",
        "        u, v = edge\n",
        "\n",
        "        #print('new iteration', gr.nodes())\n",
        "        # Contract the selected edge\n",
        "        contract_edge(gr, u, v)\n",
        "\n",
        "    # Returns the connected components\n",
        "    components = list(find_components_dfs(gr))\n",
        "\n",
        "    #creare a list for all connected components\n",
        "    first_elements = [[] for _ in range(len(components))]\n",
        "    # a counter to go through the list\n",
        "    i=0\n",
        "    # To store the mincut\n",
        "    res= []\n",
        "\n",
        "    # Apply conversion\n",
        "    for elem in components:\n",
        "        # first from set component I convert it to a ist\n",
        "        elements_list = list(elem)\n",
        "\n",
        "        # I extract all element from the, now, list\n",
        "        # Get all the original nodes from the list of contracted node, if a list\n",
        "        for element in elements_list:\n",
        "            if type(element)!=int:\n",
        "                node = element.split('_')\n",
        "                node = [int(elem) for elem in node]\n",
        "                try:\n",
        "                    first_elements[i]+=node\n",
        "                except IndexError:\n",
        "                     return (\"Retry\")\n",
        "            # If a component is a number because made up of a node only\n",
        "            else:\n",
        "                # append the elemnt to the list\n",
        "                first_elements[i].append(element)\n",
        "            i +=1\n",
        "\n",
        "\n",
        "    print('fe', first_elements)\n",
        "    # Select only the component with the two node of interest\n",
        "    f_elements = [elem for elem in first_elements if node1 in elem or node2 in elem]\n",
        "\n",
        "    # Initialize local variabile to store the minicut\n",
        "    #nmin = 0\n",
        "    # Andd the total weight of the mincut\n",
        "    #totw=0\n",
        "    if len(f_elements)==2:\n",
        "        for u in f_elements[0]:\n",
        "            for v in f_elements[1]:\n",
        "                # Check if edge which connect the contracted nodes exists\n",
        "                if graph_original.has_edge(str(u),str(v)) or graph_original.has_edge(str(v),str(u)):\n",
        "                #    nmin += 1\n",
        "                    # get informations about the edges\n",
        "                    #edge_data = graph.get_edge_data(u, v)\n",
        "                    #print('edge', edge_data)\n",
        "                    # Extract the weight if we want to take it into account\n",
        "                    #peso_arco = edge_data['weight']\n",
        "                    # adding the weight to store the total cost of that cut\n",
        "                    #totw += peso_arco\n",
        "                    # And add it to the result\n",
        "                    print(u,v)\n",
        "                    res.append((u,v))\n",
        "        # Eventually return the length of the shortest path directly\n",
        "        #res.append(nmin)\n",
        "        # Evenetually modify res so to store the total weight of the cut\n",
        "        #res.append(totw)\n",
        "        return(res)\n",
        "\n",
        "    # When something went wrong in the contraction\n",
        "    else:\n",
        "        return \"Are already two disconnected components\"\n",
        "\n",
        "\n",
        "\n",
        "def considerweight(GG,n1,n2, it=10):\n",
        "    res1=[[]]\n",
        "    j=0\n",
        "    while j<it:\n",
        "        # Iterates to get multiple cuts for sake of consistency\n",
        "        a= custom_karger(GG,n1, n2)\n",
        "        res1[0].append(a)\n",
        "        j+=1\n",
        "    return(res1)\n",
        "\n",
        "def weigthedmincut(listres1):\n",
        "    # Retrieves only the lists\n",
        "    edges_with_weights = [item[0] for item in listres1 if isinstance(item, list) and len(item) == 2 and item!=\"Retry\"]\n",
        "\n",
        "    if not edges_with_weights:\n",
        "        return \"Are already two disconnected components\"\n",
        "\n",
        "    # Get the edges with minimum weight\n",
        "    min_weight_edge = min(edges_with_weights, key=lambda x: x[1])\n",
        "\n",
        "    return(min_weight_edge)\n",
        "\n"
      ]
    },
    {
      "cell_type": "code",
      "execution_count": 36,
      "metadata": {
        "colab": {
          "base_uri": "https://localhost:8080/",
          "height": 465
        },
        "id": "K7GXMQYXi6q8",
        "outputId": "1ca302fc-3a21-4938-8b25-590e693a4185"
      },
      "outputs": [
        {
          "output_type": "error",
          "ename": "NetworkXError",
          "evalue": "The node 22 is not in the graph.",
          "traceback": [
            "\u001b[0;31m---------------------------------------------------------------------------\u001b[0m",
            "\u001b[0;31mKeyError\u001b[0m                                  Traceback (most recent call last)",
            "\u001b[0;32m/usr/local/lib/python3.10/dist-packages/networkx/classes/graph.py\u001b[0m in \u001b[0;36mremove_node\u001b[0;34m(self, n)\u001b[0m\n\u001b[1;32m    671\u001b[0m         \u001b[0;32mtry\u001b[0m\u001b[0;34m:\u001b[0m\u001b[0;34m\u001b[0m\u001b[0;34m\u001b[0m\u001b[0m\n\u001b[0;32m--> 672\u001b[0;31m             \u001b[0mnbrs\u001b[0m \u001b[0;34m=\u001b[0m \u001b[0mlist\u001b[0m\u001b[0;34m(\u001b[0m\u001b[0madj\u001b[0m\u001b[0;34m[\u001b[0m\u001b[0mn\u001b[0m\u001b[0;34m]\u001b[0m\u001b[0;34m)\u001b[0m  \u001b[0;31m# list handles self-loops (allows mutation)\u001b[0m\u001b[0;34m\u001b[0m\u001b[0;34m\u001b[0m\u001b[0m\n\u001b[0m\u001b[1;32m    673\u001b[0m             \u001b[0;32mdel\u001b[0m \u001b[0mself\u001b[0m\u001b[0;34m.\u001b[0m\u001b[0m_node\u001b[0m\u001b[0;34m[\u001b[0m\u001b[0mn\u001b[0m\u001b[0;34m]\u001b[0m\u001b[0;34m\u001b[0m\u001b[0;34m\u001b[0m\u001b[0m\n",
            "\u001b[0;31mKeyError\u001b[0m: 22",
            "\nThe above exception was the direct cause of the following exception:\n",
            "\u001b[0;31mNetworkXError\u001b[0m                             Traceback (most recent call last)",
            "\u001b[0;32m<ipython-input-36-5f0002c63eac>\u001b[0m in \u001b[0;36m<cell line: 1>\u001b[0;34m()\u001b[0m\n\u001b[0;32m----> 1\u001b[0;31m \u001b[0mcustom_karger\u001b[0m\u001b[0;34m(\u001b[0m\u001b[0mG_collaboration\u001b[0m\u001b[0;34m,\u001b[0m \u001b[0;36m2104401652\u001b[0m\u001b[0;34m,\u001b[0m \u001b[0;36m2027658599\u001b[0m\u001b[0;34m)\u001b[0m\u001b[0;34m\u001b[0m\u001b[0;34m\u001b[0m\u001b[0m\n\u001b[0m",
            "\u001b[0;32m<ipython-input-34-d9f0fd52b0d3>\u001b[0m in \u001b[0;36mcustom_karger\u001b[0;34m(graph, node1, node2)\u001b[0m\n\u001b[1;32m     85\u001b[0m         \u001b[0;31m#print('new iteration', gr.nodes())\u001b[0m\u001b[0;34m\u001b[0m\u001b[0;34m\u001b[0m\u001b[0m\n\u001b[1;32m     86\u001b[0m         \u001b[0;31m# Contract the selected edge\u001b[0m\u001b[0;34m\u001b[0m\u001b[0;34m\u001b[0m\u001b[0m\n\u001b[0;32m---> 87\u001b[0;31m         \u001b[0mcontract_edge\u001b[0m\u001b[0;34m(\u001b[0m\u001b[0mgr\u001b[0m\u001b[0;34m,\u001b[0m \u001b[0mu\u001b[0m\u001b[0;34m,\u001b[0m \u001b[0mv\u001b[0m\u001b[0;34m)\u001b[0m\u001b[0;34m\u001b[0m\u001b[0;34m\u001b[0m\u001b[0m\n\u001b[0m\u001b[1;32m     88\u001b[0m \u001b[0;34m\u001b[0m\u001b[0m\n\u001b[1;32m     89\u001b[0m     \u001b[0;31m# Returns the connected components\u001b[0m\u001b[0;34m\u001b[0m\u001b[0;34m\u001b[0m\u001b[0m\n",
            "\u001b[0;32m<ipython-input-34-d9f0fd52b0d3>\u001b[0m in \u001b[0;36mcontract_edge\u001b[0;34m(graphr, u, v)\u001b[0m\n\u001b[1;32m     61\u001b[0m     \u001b[0;31m# Remove u and v from the graph\u001b[0m\u001b[0;34m\u001b[0m\u001b[0;34m\u001b[0m\u001b[0m\n\u001b[1;32m     62\u001b[0m     \u001b[0mgraphr\u001b[0m\u001b[0;34m.\u001b[0m\u001b[0mremove_node\u001b[0m\u001b[0;34m(\u001b[0m\u001b[0mu\u001b[0m\u001b[0;34m)\u001b[0m\u001b[0;34m\u001b[0m\u001b[0;34m\u001b[0m\u001b[0m\n\u001b[0;32m---> 63\u001b[0;31m     \u001b[0mgraphr\u001b[0m\u001b[0;34m.\u001b[0m\u001b[0mremove_node\u001b[0m\u001b[0;34m(\u001b[0m\u001b[0mv\u001b[0m\u001b[0;34m)\u001b[0m\u001b[0;34m\u001b[0m\u001b[0;34m\u001b[0m\u001b[0m\n\u001b[0m\u001b[1;32m     64\u001b[0m \u001b[0;34m\u001b[0m\u001b[0m\n\u001b[1;32m     65\u001b[0m \u001b[0;34m\u001b[0m\u001b[0m\n",
            "\u001b[0;32m/usr/local/lib/python3.10/dist-packages/networkx/classes/graph.py\u001b[0m in \u001b[0;36mremove_node\u001b[0;34m(self, n)\u001b[0m\n\u001b[1;32m    673\u001b[0m             \u001b[0;32mdel\u001b[0m \u001b[0mself\u001b[0m\u001b[0;34m.\u001b[0m\u001b[0m_node\u001b[0m\u001b[0;34m[\u001b[0m\u001b[0mn\u001b[0m\u001b[0;34m]\u001b[0m\u001b[0;34m\u001b[0m\u001b[0;34m\u001b[0m\u001b[0m\n\u001b[1;32m    674\u001b[0m         \u001b[0;32mexcept\u001b[0m \u001b[0mKeyError\u001b[0m \u001b[0;32mas\u001b[0m \u001b[0merr\u001b[0m\u001b[0;34m:\u001b[0m  \u001b[0;31m# NetworkXError if n not in self\u001b[0m\u001b[0;34m\u001b[0m\u001b[0;34m\u001b[0m\u001b[0m\n\u001b[0;32m--> 675\u001b[0;31m             \u001b[0;32mraise\u001b[0m \u001b[0mNetworkXError\u001b[0m\u001b[0;34m(\u001b[0m\u001b[0;34mf\"The node {n} is not in the graph.\"\u001b[0m\u001b[0;34m)\u001b[0m \u001b[0;32mfrom\u001b[0m \u001b[0merr\u001b[0m\u001b[0;34m\u001b[0m\u001b[0;34m\u001b[0m\u001b[0m\n\u001b[0m\u001b[1;32m    676\u001b[0m         \u001b[0;32mfor\u001b[0m \u001b[0mu\u001b[0m \u001b[0;32min\u001b[0m \u001b[0mnbrs\u001b[0m\u001b[0;34m:\u001b[0m\u001b[0;34m\u001b[0m\u001b[0;34m\u001b[0m\u001b[0m\n\u001b[1;32m    677\u001b[0m             \u001b[0;32mdel\u001b[0m \u001b[0madj\u001b[0m\u001b[0;34m[\u001b[0m\u001b[0mu\u001b[0m\u001b[0;34m]\u001b[0m\u001b[0;34m[\u001b[0m\u001b[0mn\u001b[0m\u001b[0;34m]\u001b[0m  \u001b[0;31m# remove all edges n-u in graph\u001b[0m\u001b[0;34m\u001b[0m\u001b[0;34m\u001b[0m\u001b[0m\n",
            "\u001b[0;31mNetworkXError\u001b[0m: The node 22 is not in the graph."
          ]
        }
      ],
      "source": [
        "custom_karger(G_collaboration, 2104401652, 2027658599)"
      ]
    },
    {
      "cell_type": "markdown",
      "metadata": {
        "id": "w9VZf1SJzxnA"
      },
      "source": [
        "# Command Line"
      ]
    },
    {
      "cell_type": "markdown",
      "source": [
        "In this question we use command line tools to answer the following questions on Citation graph:\n",
        "\n",
        "[Q1.] Is there any node that acts as an important \"connector\" between the\n",
        "\n",
        "> **APPROCH**\n",
        "\n",
        "[Q2.] different parts of the graph?\n",
        "\n",
        "> **APPROCH**\n",
        "\n",
        "[Q3.] How does the degree of citation vary among the graph nodes?\n",
        "What is the average length of the shortest path among nodes?\n",
        "\n",
        "> **APPROCH**: use the library nx to get the shortest path, took the average and print the result with `echo`"
      ],
      "metadata": {
        "id": "NWyj8xShvDoK"
      }
    }
  ],
  "metadata": {
    "colab": {
      "provenance": []
    },
    "kernelspec": {
      "display_name": "Python 3",
      "language": "python",
      "name": "python3"
    },
    "language_info": {
      "codemirror_mode": {
        "name": "ipython",
        "version": 3
      },
      "file_extension": ".py",
      "mimetype": "text/x-python",
      "name": "python",
      "nbconvert_exporter": "python",
      "pygments_lexer": "ipython3",
      "version": "3.10.7"
    }
  },
  "nbformat": 4,
  "nbformat_minor": 0
}